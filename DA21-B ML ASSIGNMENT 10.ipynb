{
 "cells": [
  {
   "cell_type": "markdown",
   "metadata": {},
   "source": [
    "gini impurity of dataset"
   ]
  },
  {
   "cell_type": "code",
   "execution_count": 35,
   "metadata": {},
   "outputs": [
    {
     "name": "stdout",
     "output_type": "stream",
     "text": [
      "Gini Impurity for Dataset : 0.4592\n"
     ]
    }
   ],
   "source": [
    "total = 14\n",
    "yes_count = 9\n",
    "no_count = 5\n",
    "\n",
    "p_yes = yes_count / total\n",
    "p_no= no_count / total\n",
    "\n",
    "\n",
    "gini_impurity_dataset = 1 - (p_yes ** 2 + p_no ** 2)\n",
    "\n",
    "print(f\"Gini Impurity for Dataset : {gini_impurity_dataset:.4f}\")"
   ]
  },
  {
   "cell_type": "markdown",
   "metadata": {},
   "source": [
    "## Gini Impurity for Dataset : 0.4592"
   ]
  },
  {
   "cell_type": "markdown",
   "metadata": {},
   "source": [
    "- Outlook"
   ]
  },
  {
   "cell_type": "code",
   "execution_count": 36,
   "metadata": {},
   "outputs": [
    {
     "name": "stdout",
     "output_type": "stream",
     "text": [
      "Gini Impurity for Sunny : 0.4800\n"
     ]
    }
   ],
   "source": [
    "# Sunny\n",
    "total = 5\n",
    "yes_count = 2\n",
    "no_count = 3\n",
    "\n",
    "p_yes = yes_count / total\n",
    "p_no= no_count / total\n",
    "\n",
    "\n",
    "sunny_imp = 1 - (p_yes ** 2 + p_no ** 2)\n",
    "\n",
    "print(f\"Gini Impurity for Sunny : {sunny_imp:.4f}\")"
   ]
  },
  {
   "cell_type": "code",
   "execution_count": 37,
   "metadata": {},
   "outputs": [
    {
     "name": "stdout",
     "output_type": "stream",
     "text": [
      "Gini Impurity for overcast : 0.0000\n"
     ]
    }
   ],
   "source": [
    "# overcast\n",
    "total = 4\n",
    "yes_count = 4\n",
    "no_count = 0\n",
    "\n",
    "p_yes = yes_count / total\n",
    "p_no= no_count / total\n",
    "\n",
    "\n",
    "overcast_imp = 1 - (p_yes ** 2 + p_no ** 2)\n",
    "\n",
    "print(f\"Gini Impurity for overcast : {overcast_imp:.4f}\")"
   ]
  },
  {
   "cell_type": "code",
   "execution_count": 38,
   "metadata": {},
   "outputs": [
    {
     "name": "stdout",
     "output_type": "stream",
     "text": [
      "Gini Impurity for Rain : 0.4800\n"
     ]
    }
   ],
   "source": [
    "# Rain\n",
    "total = 5\n",
    "yes_count = 3\n",
    "no_count = 2\n",
    "\n",
    "p_yes = yes_count / total\n",
    "p_no= no_count / total\n",
    "\n",
    "\n",
    "Rain_imp = 1 - (p_yes ** 2 + p_no ** 2)\n",
    "\n",
    "print(f\"Gini Impurity for Rain : {Rain_imp:.4f}\")"
   ]
  },
  {
   "cell_type": "code",
   "execution_count": 39,
   "metadata": {},
   "outputs": [
    {
     "data": {
      "text/plain": [
       "0.34285714285714286"
      ]
     },
     "execution_count": 39,
     "metadata": {},
     "output_type": "execute_result"
    }
   ],
   "source": [
    "GI_outlook = (0.48*5+0.00*4+0.48*5)/14\n",
    "GI_outlook"
   ]
  },
  {
   "cell_type": "markdown",
   "metadata": {},
   "source": [
    "## Gini impurity for Outlook = 0.3428"
   ]
  },
  {
   "cell_type": "markdown",
   "metadata": {},
   "source": [
    "- Temperature\n"
   ]
  },
  {
   "cell_type": "code",
   "execution_count": 40,
   "metadata": {},
   "outputs": [
    {
     "name": "stdout",
     "output_type": "stream",
     "text": [
      "Gini Impurity for hot : 0.5000\n"
     ]
    }
   ],
   "source": [
    "# hot\n",
    "total = 4\n",
    "yes_count = 2\n",
    "no_count = 2\n",
    "\n",
    "p_yes = yes_count / total\n",
    "p_no= no_count / total\n",
    "\n",
    "\n",
    "hot_imp = 1 - (p_yes ** 2 + p_no ** 2)\n",
    "\n",
    "print(f\"Gini Impurity for hot : {hot_imp:.4f}\")"
   ]
  },
  {
   "cell_type": "code",
   "execution_count": 41,
   "metadata": {},
   "outputs": [
    {
     "name": "stdout",
     "output_type": "stream",
     "text": [
      "Gini Impurity for hot : 0.4444\n"
     ]
    }
   ],
   "source": [
    "# mild\n",
    "total = 6\n",
    "yes_count = 4\n",
    "no_count = 2\n",
    "\n",
    "p_yes = yes_count / total\n",
    "p_no= no_count / total\n",
    "\n",
    "\n",
    "mild_imp = 1 - (p_yes ** 2 + p_no ** 2)\n",
    "\n",
    "print(f\"Gini Impurity for hot : {mild_imp:.4f}\")"
   ]
  },
  {
   "cell_type": "code",
   "execution_count": 42,
   "metadata": {},
   "outputs": [
    {
     "name": "stdout",
     "output_type": "stream",
     "text": [
      "Gini Impurity for cool : 0.3750\n"
     ]
    }
   ],
   "source": [
    "# cool\n",
    "total = 4\n",
    "yes_count = 3\n",
    "no_count = 1\n",
    "\n",
    "p_yes = yes_count / total\n",
    "p_no= no_count / total\n",
    "\n",
    "\n",
    "mild_imp = 1 - (p_yes ** 2 + p_no ** 2)\n",
    "\n",
    "print(f\"Gini Impurity for cool : {mild_imp:.4f}\")"
   ]
  },
  {
   "cell_type": "code",
   "execution_count": 43,
   "metadata": {},
   "outputs": [
    {
     "data": {
      "text/plain": [
       "0.4371428571428572"
      ]
     },
     "execution_count": 43,
     "metadata": {},
     "output_type": "execute_result"
    }
   ],
   "source": [
    "GI_Temp = (0.50*4+0.44*6+0.37*4)/14\n",
    "GI_Temp"
   ]
  },
  {
   "cell_type": "markdown",
   "metadata": {},
   "source": [
    "## Gini impurity for Temperature = 0.4371"
   ]
  },
  {
   "cell_type": "markdown",
   "metadata": {},
   "source": [
    "- Humidity"
   ]
  },
  {
   "cell_type": "code",
   "execution_count": 44,
   "metadata": {},
   "outputs": [
    {
     "name": "stdout",
     "output_type": "stream",
     "text": [
      "Gini Impurity for High : 0.4898\n"
     ]
    }
   ],
   "source": [
    "# High\n",
    "total = 7\n",
    "yes_count = 3\n",
    "no_count = 4\n",
    "\n",
    "p_yes = yes_count / total\n",
    "p_no= no_count / total\n",
    "\n",
    "\n",
    "sunny_imp = 1 - (p_yes ** 2 + p_no ** 2)\n",
    "\n",
    "print(f\"Gini Impurity for High : {sunny_imp:.4f}\")"
   ]
  },
  {
   "cell_type": "code",
   "execution_count": 45,
   "metadata": {},
   "outputs": [
    {
     "name": "stdout",
     "output_type": "stream",
     "text": [
      "Gini Impurity for Normal : 0.2449\n"
     ]
    }
   ],
   "source": [
    "# Normal\n",
    "total = 7\n",
    "yes_count = 6\n",
    "no_count = 1\n",
    "\n",
    "p_yes = yes_count / total\n",
    "p_no= no_count / total\n",
    "\n",
    "\n",
    "sunny_imp = 1 - (p_yes ** 2 + p_no ** 2)\n",
    "\n",
    "print(f\"Gini Impurity for Normal : {sunny_imp:.4f}\")"
   ]
  },
  {
   "cell_type": "code",
   "execution_count": 46,
   "metadata": {},
   "outputs": [
    {
     "data": {
      "text/plain": [
       "0.36499999999999994"
      ]
     },
     "execution_count": 46,
     "metadata": {},
     "output_type": "execute_result"
    }
   ],
   "source": [
    "GI_Humidity = (0.49*7+0.24*7)/14\n",
    "GI_Humidity"
   ]
  },
  {
   "cell_type": "markdown",
   "metadata": {},
   "source": [
    "## GI impurity for Humidity = 0.365"
   ]
  },
  {
   "cell_type": "markdown",
   "metadata": {},
   "source": [
    "- wind"
   ]
  },
  {
   "cell_type": "code",
   "execution_count": 47,
   "metadata": {},
   "outputs": [
    {
     "name": "stdout",
     "output_type": "stream",
     "text": [
      "Gini Impurity for weak : 0.3750\n"
     ]
    }
   ],
   "source": [
    "# weak\n",
    "total = 8\n",
    "yes_count = 6\n",
    "no_count = 2\n",
    "\n",
    "p_yes = yes_count / total\n",
    "p_no= no_count / total\n",
    "\n",
    "\n",
    "sunny_imp = 1 - (p_yes ** 2 + p_no ** 2)\n",
    "\n",
    "print(f\"Gini Impurity for weak : {sunny_imp:.4f}\")"
   ]
  },
  {
   "cell_type": "code",
   "execution_count": 48,
   "metadata": {},
   "outputs": [
    {
     "name": "stdout",
     "output_type": "stream",
     "text": [
      "Gini Impurity for strong : 0.5000\n"
     ]
    }
   ],
   "source": [
    "# strong\n",
    "total = 6\n",
    "yes_count = 3\n",
    "no_count = 3\n",
    "\n",
    "p_yes = yes_count / total\n",
    "p_no= no_count / total\n",
    "\n",
    "\n",
    "sunny_imp = 1 - (p_yes ** 2 + p_no ** 2)\n",
    "\n",
    "print(f\"Gini Impurity for strong : {sunny_imp:.4f}\")"
   ]
  },
  {
   "cell_type": "code",
   "execution_count": 49,
   "metadata": {},
   "outputs": [
    {
     "data": {
      "text/plain": [
       "0.4257142857142857"
      ]
     },
     "execution_count": 49,
     "metadata": {},
     "output_type": "execute_result"
    }
   ],
   "source": [
    "GI_Wind = (0.37*8+0.50*6)/14\n",
    "GI_Wind"
   ]
  },
  {
   "cell_type": "markdown",
   "metadata": {},
   "source": [
    "## The gini impurity for wind is 0.426"
   ]
  },
  {
   "cell_type": "markdown",
   "metadata": {},
   "source": [
    "so the first nide will be outlook, and the second node will be humidity, and the third node will be wind"
   ]
  },
  {
   "cell_type": "markdown",
   "metadata": {},
   "source": [
    "Advantages of Decision Trees:\n",
    "\n",
    "Interpretability: Decision trees are easy to understand and interpret. They represent decisions and their consequences in a clear and intuitive manner, making them suitable for explaining the reasoning behind a prediction.\n",
    "\n",
    "No Assumptions about Data: Decision trees do not make assumptions about the data distribution, making them applicable to a wide range of data types, including categorical and numerical features.\n",
    "\n",
    "Handling Non-linearity: Decision trees can model complex, non-linear relationships in the data, which may not be captured by linear models.\n",
    "\n",
    "Feature Selection: Decision trees naturally perform feature selection by identifying the most important features at the top of the tree. This helps in identifying relevant features in the dataset.\n",
    "\n",
    "Robustness to Outliers: Decision trees are relatively robust to outliers, as they split the data based on thresholds and can isolate extreme values in separate branches.\n",
    "\n",
    "Ease of Handling Missing Data: Decision trees can handle missing data by using surrogate splits, which allow them to make predictions even when some values are missing.\n",
    "\n",
    "Scalability: Decision trees can handle large datasets efficiently and are relatively fast to train, especially when compared to complex algorithms like neural networks.\n",
    "\n",
    "Disadvantages of Decision Trees:\n",
    "\n",
    "Overfitting: Decision trees are prone to overfitting, especially when the tree is deep and overly complex. This can lead to poor generalization on unseen data.\n",
    "\n",
    "Instability: Small variations in the data can lead to different tree structures, making decision trees less stable compared to some other algorithms.\n",
    "\n",
    "Bias Towards Dominant Classes: Decision trees tend to favor features with more levels or values, which can lead to a bias toward dominant classes in classification problems.\n",
    "\n",
    "Difficulty in Modeling Some Relationships: Complex relationships may require very deep trees, which can be hard to interpret and prone to overfitting.\n",
    "\n",
    "Lack of Continuity: Decision trees create step-like boundaries, which can be problematic for problems where continuous predictions or smooth decision boundaries are required.\n",
    "\n",
    "Sensitive to Data Imbalance: If the classes in a classification problem are imbalanced, decision trees may not perform well, as they tend to favor the majority class.\n",
    "\n",
    "Greedy Nature: Decision trees use a greedy, top-down approach for splitting data, which may not always lead to the globally optimal tree structure.\n",
    "\n",
    "Difficulty with XOR-Like Problems: Decision trees struggle with problems like XOR, where the decision boundaries are more complex and involve combinations of features.\n",
    "\n",
    "High Memory Usage: Deep decision trees can be memory-intensive, especially when dealing with a large number of features and nodes."
   ]
  },
  {
   "cell_type": "markdown",
   "metadata": {},
   "source": [
    "### Consider a binary classification problem with two classes: \"spam\" and \"not spam\". You have a dataset of 500 emails, of which 200 are spam and 300 are not spam. Calculate the Gini index for this dataset."
   ]
  },
  {
   "cell_type": "code",
   "execution_count": 50,
   "metadata": {},
   "outputs": [
    {
     "name": "stdout",
     "output_type": "stream",
     "text": [
      "Gini Impurity for Dataset : 0.7347\n"
     ]
    }
   ],
   "source": [
    "total = 700\n",
    "yes_count = 200\n",
    "no_count = 300\n",
    "\n",
    "p_yes = yes_count / total\n",
    "p_no= no_count / total\n",
    "\n",
    "\n",
    "gini_impurity_dataset = 1 - (p_yes ** 2 + p_no ** 2)\n",
    "\n",
    "print(f\"Gini Impurity for Dataset : {gini_impurity_dataset:.4f}\")"
   ]
  },
  {
   "cell_type": "markdown",
   "metadata": {},
   "source": [
    "### You are training a decision tree model on a dataset of 1000 customer records, where each record has two features: age (in years) and income (in thousands of dollars), and the target variable is \"customer churn\" (yes or no). You decide to split the data on the age feature using a threshold of 30 years. After splitting the data, you have 600 records in the left subtree and 400 records in the right subtree. Of the 600 records in the left subtree, 400 are non-churners and 200 are churners. Of the 400 records in the right subtree, 150 are non-churners and 250 are churners. Calculate the Gini index for each of the two subtrees."
   ]
  },
  {
   "cell_type": "code",
   "execution_count": 51,
   "metadata": {},
   "outputs": [
    {
     "name": "stdout",
     "output_type": "stream",
     "text": [
      "Gini Impurity for left_sub_tree : 0.4444\n"
     ]
    }
   ],
   "source": [
    "left_subtree_tot = 600\n",
    "left_subtree_yes = 200\n",
    "left_subtree_no = 400\n",
    "p_yes = left_subtree_yes / left_subtree_tot\n",
    "p_no= left_subtree_no / left_subtree_tot\n",
    "\n",
    "\n",
    "gini_impurity_dataset = 1 - (p_yes ** 2 + p_no ** 2)\n",
    "\n",
    "print(f\"Gini Impurity for left_sub_tree : {gini_impurity_dataset:.4f}\")"
   ]
  },
  {
   "cell_type": "code",
   "execution_count": 52,
   "metadata": {},
   "outputs": [
    {
     "name": "stdout",
     "output_type": "stream",
     "text": [
      "Gini Impurity for right_sub_tree : 0.4688\n"
     ]
    }
   ],
   "source": [
    "right_subtree_tot = 400\n",
    "right_subtree_yes = 250\n",
    "right_subtree_no = 150\n",
    "p_yes = right_subtree_yes / right_subtree_tot\n",
    "p_no= right_subtree_no / right_subtree_tot\n",
    "\n",
    "\n",
    "gini_impurity_dataset = 1 - (p_yes ** 2 + p_no ** 2)\n",
    "\n",
    "print(f\"Gini Impurity for right_sub_tree : {gini_impurity_dataset:.4f}\")"
   ]
  },
  {
   "cell_type": "code",
   "execution_count": 60,
   "metadata": {},
   "outputs": [],
   "source": [
    "import numpy as np\n",
    "import pandas as pd\n",
    "from sklearn.tree import DecisionTreeClassifier\n",
    "from sklearn.model_selection import train_test_split"
   ]
  },
  {
   "cell_type": "markdown",
   "metadata": {},
   "source": [
    "### Given a dataset of children with kyphosis(a spinal condition) who underwent an operation. The dataset has the following columns:\n",
    "\n",
    "- Kyphosis: whether or not the kyphosis was present after the operation.\n",
    "- Age: age of children in months\n",
    "- Number: number of vertebrae involved in the operation\n",
    "- Start: the topmost vertebrae number involved in the operation.\n",
    "Use 70% of the data for training and the rest for testing. Use Decision Tree Classifier model and make predictions for the test data. Also, evaluate the model."
   ]
  },
  {
   "cell_type": "code",
   "execution_count": 61,
   "metadata": {},
   "outputs": [
    {
     "data": {
      "text/html": [
       "<div>\n",
       "<style scoped>\n",
       "    .dataframe tbody tr th:only-of-type {\n",
       "        vertical-align: middle;\n",
       "    }\n",
       "\n",
       "    .dataframe tbody tr th {\n",
       "        vertical-align: top;\n",
       "    }\n",
       "\n",
       "    .dataframe thead th {\n",
       "        text-align: right;\n",
       "    }\n",
       "</style>\n",
       "<table border=\"1\" class=\"dataframe\">\n",
       "  <thead>\n",
       "    <tr style=\"text-align: right;\">\n",
       "      <th></th>\n",
       "      <th>Kyphosis</th>\n",
       "      <th>Age</th>\n",
       "      <th>Number</th>\n",
       "      <th>Start</th>\n",
       "    </tr>\n",
       "  </thead>\n",
       "  <tbody>\n",
       "    <tr>\n",
       "      <th>0</th>\n",
       "      <td>absent</td>\n",
       "      <td>71</td>\n",
       "      <td>3</td>\n",
       "      <td>5</td>\n",
       "    </tr>\n",
       "    <tr>\n",
       "      <th>1</th>\n",
       "      <td>absent</td>\n",
       "      <td>158</td>\n",
       "      <td>3</td>\n",
       "      <td>14</td>\n",
       "    </tr>\n",
       "    <tr>\n",
       "      <th>2</th>\n",
       "      <td>present</td>\n",
       "      <td>128</td>\n",
       "      <td>4</td>\n",
       "      <td>5</td>\n",
       "    </tr>\n",
       "    <tr>\n",
       "      <th>3</th>\n",
       "      <td>absent</td>\n",
       "      <td>2</td>\n",
       "      <td>5</td>\n",
       "      <td>1</td>\n",
       "    </tr>\n",
       "    <tr>\n",
       "      <th>4</th>\n",
       "      <td>absent</td>\n",
       "      <td>1</td>\n",
       "      <td>4</td>\n",
       "      <td>15</td>\n",
       "    </tr>\n",
       "  </tbody>\n",
       "</table>\n",
       "</div>"
      ],
      "text/plain": [
       "  Kyphosis  Age  Number  Start\n",
       "0   absent   71       3      5\n",
       "1   absent  158       3     14\n",
       "2  present  128       4      5\n",
       "3   absent    2       5      1\n",
       "4   absent    1       4     15"
      ]
     },
     "execution_count": 61,
     "metadata": {},
     "output_type": "execute_result"
    }
   ],
   "source": [
    "df=pd.read_csv('datasets\\Assignment -10 dataset - Sheet1.csv')\n",
    "df.head()"
   ]
  },
  {
   "cell_type": "code",
   "execution_count": 62,
   "metadata": {},
   "outputs": [
    {
     "data": {
      "text/html": [
       "<div>\n",
       "<style scoped>\n",
       "    .dataframe tbody tr th:only-of-type {\n",
       "        vertical-align: middle;\n",
       "    }\n",
       "\n",
       "    .dataframe tbody tr th {\n",
       "        vertical-align: top;\n",
       "    }\n",
       "\n",
       "    .dataframe thead th {\n",
       "        text-align: right;\n",
       "    }\n",
       "</style>\n",
       "<table border=\"1\" class=\"dataframe\">\n",
       "  <thead>\n",
       "    <tr style=\"text-align: right;\">\n",
       "      <th></th>\n",
       "      <th>count</th>\n",
       "      <th>unique</th>\n",
       "      <th>null</th>\n",
       "      <th>dtype</th>\n",
       "      <th>count</th>\n",
       "      <th>mean</th>\n",
       "      <th>std</th>\n",
       "      <th>min</th>\n",
       "      <th>25%</th>\n",
       "      <th>50%</th>\n",
       "      <th>75%</th>\n",
       "      <th>max</th>\n",
       "    </tr>\n",
       "  </thead>\n",
       "  <tbody>\n",
       "    <tr>\n",
       "      <th>Kyphosis</th>\n",
       "      <td>81</td>\n",
       "      <td>2</td>\n",
       "      <td>0</td>\n",
       "      <td>object</td>\n",
       "      <td>NaN</td>\n",
       "      <td>NaN</td>\n",
       "      <td>NaN</td>\n",
       "      <td>NaN</td>\n",
       "      <td>NaN</td>\n",
       "      <td>NaN</td>\n",
       "      <td>NaN</td>\n",
       "      <td>NaN</td>\n",
       "    </tr>\n",
       "    <tr>\n",
       "      <th>Age</th>\n",
       "      <td>81</td>\n",
       "      <td>64</td>\n",
       "      <td>0</td>\n",
       "      <td>int64</td>\n",
       "      <td>81.0</td>\n",
       "      <td>83.654321</td>\n",
       "      <td>58.104251</td>\n",
       "      <td>1.0</td>\n",
       "      <td>26.0</td>\n",
       "      <td>87.0</td>\n",
       "      <td>130.0</td>\n",
       "      <td>206.0</td>\n",
       "    </tr>\n",
       "    <tr>\n",
       "      <th>Number</th>\n",
       "      <td>81</td>\n",
       "      <td>8</td>\n",
       "      <td>0</td>\n",
       "      <td>int64</td>\n",
       "      <td>81.0</td>\n",
       "      <td>4.049383</td>\n",
       "      <td>1.619423</td>\n",
       "      <td>2.0</td>\n",
       "      <td>3.0</td>\n",
       "      <td>4.0</td>\n",
       "      <td>5.0</td>\n",
       "      <td>10.0</td>\n",
       "    </tr>\n",
       "    <tr>\n",
       "      <th>Start</th>\n",
       "      <td>81</td>\n",
       "      <td>16</td>\n",
       "      <td>0</td>\n",
       "      <td>int64</td>\n",
       "      <td>81.0</td>\n",
       "      <td>11.493827</td>\n",
       "      <td>4.883962</td>\n",
       "      <td>1.0</td>\n",
       "      <td>9.0</td>\n",
       "      <td>13.0</td>\n",
       "      <td>16.0</td>\n",
       "      <td>18.0</td>\n",
       "    </tr>\n",
       "  </tbody>\n",
       "</table>\n",
       "</div>"
      ],
      "text/plain": [
       "          count  unique  null   dtype  count       mean        std  min   25%  \\\n",
       "Kyphosis     81       2     0  object    NaN        NaN        NaN  NaN   NaN   \n",
       "Age          81      64     0   int64   81.0  83.654321  58.104251  1.0  26.0   \n",
       "Number       81       8     0   int64   81.0   4.049383   1.619423  2.0   3.0   \n",
       "Start        81      16     0   int64   81.0  11.493827   4.883962  1.0   9.0   \n",
       "\n",
       "           50%    75%    max  \n",
       "Kyphosis   NaN    NaN    NaN  \n",
       "Age       87.0  130.0  206.0  \n",
       "Number     4.0    5.0   10.0  \n",
       "Start     13.0   16.0   18.0  "
      ]
     },
     "execution_count": 62,
     "metadata": {},
     "output_type": "execute_result"
    }
   ],
   "source": [
    "desc=pd.DataFrame(index=list(df))\n",
    "desc['count']=df.shape[0]\n",
    "desc['unique']=df.nunique()\n",
    "desc['null']=df.isnull().sum()\n",
    "desc['dtype']=df.dtypes\n",
    "desc = pd.concat([desc,df.describe().T],axis=1)\n",
    "desc"
   ]
  },
  {
   "cell_type": "code",
   "execution_count": 63,
   "metadata": {},
   "outputs": [
    {
     "name": "stdout",
     "output_type": "stream",
     "text": [
      "['absent' 'present']\n",
      "[ 71 158 128   2   1  61  37 113  59  82 148  18 168  78 175  80  27  22\n",
      " 105  96 131  15   9   8 100   4 151  31 125 130 112 140  93  52  20  91\n",
      "  73  35 143  97 139 136 121 177  68  72 120  51 102 114  81 118  17 195\n",
      " 159 127  87 206  11 178 157  26  42  36]\n",
      "[ 3  4  5  2  6  7  9 10]\n",
      "[ 5 14  1 15 16 17 12  2 18 13  9  3  6 11 10  8]\n"
     ]
    }
   ],
   "source": [
    "for i in df.columns:\n",
    "    print(df[i].unique())"
   ]
  },
  {
   "cell_type": "code",
   "execution_count": 64,
   "metadata": {},
   "outputs": [],
   "source": [
    "df['Kyphosis'] = df['Kyphosis'].map({'absent':0,'present':1})"
   ]
  },
  {
   "cell_type": "code",
   "execution_count": 65,
   "metadata": {},
   "outputs": [],
   "source": [
    "x=df.drop('Kyphosis',axis=1)\n",
    "y = df['Kyphosis']"
   ]
  },
  {
   "cell_type": "code",
   "execution_count": 66,
   "metadata": {},
   "outputs": [],
   "source": [
    "x_train,x_test,y_train,y_test=train_test_split(x,y,test_size=0.3,random_state=42)"
   ]
  },
  {
   "cell_type": "code",
   "execution_count": 67,
   "metadata": {},
   "outputs": [
    {
     "data": {
      "text/html": [
       "<style>#sk-container-id-1 {color: black;}#sk-container-id-1 pre{padding: 0;}#sk-container-id-1 div.sk-toggleable {background-color: white;}#sk-container-id-1 label.sk-toggleable__label {cursor: pointer;display: block;width: 100%;margin-bottom: 0;padding: 0.3em;box-sizing: border-box;text-align: center;}#sk-container-id-1 label.sk-toggleable__label-arrow:before {content: \"▸\";float: left;margin-right: 0.25em;color: #696969;}#sk-container-id-1 label.sk-toggleable__label-arrow:hover:before {color: black;}#sk-container-id-1 div.sk-estimator:hover label.sk-toggleable__label-arrow:before {color: black;}#sk-container-id-1 div.sk-toggleable__content {max-height: 0;max-width: 0;overflow: hidden;text-align: left;background-color: #f0f8ff;}#sk-container-id-1 div.sk-toggleable__content pre {margin: 0.2em;color: black;border-radius: 0.25em;background-color: #f0f8ff;}#sk-container-id-1 input.sk-toggleable__control:checked~div.sk-toggleable__content {max-height: 200px;max-width: 100%;overflow: auto;}#sk-container-id-1 input.sk-toggleable__control:checked~label.sk-toggleable__label-arrow:before {content: \"▾\";}#sk-container-id-1 div.sk-estimator input.sk-toggleable__control:checked~label.sk-toggleable__label {background-color: #d4ebff;}#sk-container-id-1 div.sk-label input.sk-toggleable__control:checked~label.sk-toggleable__label {background-color: #d4ebff;}#sk-container-id-1 input.sk-hidden--visually {border: 0;clip: rect(1px 1px 1px 1px);clip: rect(1px, 1px, 1px, 1px);height: 1px;margin: -1px;overflow: hidden;padding: 0;position: absolute;width: 1px;}#sk-container-id-1 div.sk-estimator {font-family: monospace;background-color: #f0f8ff;border: 1px dotted black;border-radius: 0.25em;box-sizing: border-box;margin-bottom: 0.5em;}#sk-container-id-1 div.sk-estimator:hover {background-color: #d4ebff;}#sk-container-id-1 div.sk-parallel-item::after {content: \"\";width: 100%;border-bottom: 1px solid gray;flex-grow: 1;}#sk-container-id-1 div.sk-label:hover label.sk-toggleable__label {background-color: #d4ebff;}#sk-container-id-1 div.sk-serial::before {content: \"\";position: absolute;border-left: 1px solid gray;box-sizing: border-box;top: 0;bottom: 0;left: 50%;z-index: 0;}#sk-container-id-1 div.sk-serial {display: flex;flex-direction: column;align-items: center;background-color: white;padding-right: 0.2em;padding-left: 0.2em;position: relative;}#sk-container-id-1 div.sk-item {position: relative;z-index: 1;}#sk-container-id-1 div.sk-parallel {display: flex;align-items: stretch;justify-content: center;background-color: white;position: relative;}#sk-container-id-1 div.sk-item::before, #sk-container-id-1 div.sk-parallel-item::before {content: \"\";position: absolute;border-left: 1px solid gray;box-sizing: border-box;top: 0;bottom: 0;left: 50%;z-index: -1;}#sk-container-id-1 div.sk-parallel-item {display: flex;flex-direction: column;z-index: 1;position: relative;background-color: white;}#sk-container-id-1 div.sk-parallel-item:first-child::after {align-self: flex-end;width: 50%;}#sk-container-id-1 div.sk-parallel-item:last-child::after {align-self: flex-start;width: 50%;}#sk-container-id-1 div.sk-parallel-item:only-child::after {width: 0;}#sk-container-id-1 div.sk-dashed-wrapped {border: 1px dashed gray;margin: 0 0.4em 0.5em 0.4em;box-sizing: border-box;padding-bottom: 0.4em;background-color: white;}#sk-container-id-1 div.sk-label label {font-family: monospace;font-weight: bold;display: inline-block;line-height: 1.2em;}#sk-container-id-1 div.sk-label-container {text-align: center;}#sk-container-id-1 div.sk-container {/* jupyter's `normalize.less` sets `[hidden] { display: none; }` but bootstrap.min.css set `[hidden] { display: none !important; }` so we also need the `!important` here to be able to override the default hidden behavior on the sphinx rendered scikit-learn.org. See: https://github.com/scikit-learn/scikit-learn/issues/21755 */display: inline-block !important;position: relative;}#sk-container-id-1 div.sk-text-repr-fallback {display: none;}</style><div id=\"sk-container-id-1\" class=\"sk-top-container\"><div class=\"sk-text-repr-fallback\"><pre>DecisionTreeClassifier()</pre><b>In a Jupyter environment, please rerun this cell to show the HTML representation or trust the notebook. <br />On GitHub, the HTML representation is unable to render, please try loading this page with nbviewer.org.</b></div><div class=\"sk-container\" hidden><div class=\"sk-item\"><div class=\"sk-estimator sk-toggleable\"><input class=\"sk-toggleable__control sk-hidden--visually\" id=\"sk-estimator-id-1\" type=\"checkbox\" checked><label for=\"sk-estimator-id-1\" class=\"sk-toggleable__label sk-toggleable__label-arrow\">DecisionTreeClassifier</label><div class=\"sk-toggleable__content\"><pre>DecisionTreeClassifier()</pre></div></div></div></div></div>"
      ],
      "text/plain": [
       "DecisionTreeClassifier()"
      ]
     },
     "execution_count": 67,
     "metadata": {},
     "output_type": "execute_result"
    }
   ],
   "source": [
    "model = DecisionTreeClassifier()\n",
    "model.fit(x_train,y_train)"
   ]
  },
  {
   "cell_type": "code",
   "execution_count": 68,
   "metadata": {},
   "outputs": [
    {
     "data": {
      "text/plain": [
       "array([0, 1, 0, 0, 0, 0, 0, 0, 0, 0, 0, 0, 1, 1, 0, 0, 1, 1, 0, 0, 0, 0,\n",
       "       0, 0, 0], dtype=int64)"
      ]
     },
     "execution_count": 68,
     "metadata": {},
     "output_type": "execute_result"
    }
   ],
   "source": [
    "y_pred = model.predict(x_test)\n",
    "y_pred"
   ]
  },
  {
   "cell_type": "code",
   "execution_count": 69,
   "metadata": {},
   "outputs": [],
   "source": [
    "from sklearn.metrics import accuracy_score,confusion_matrix,classification_report"
   ]
  },
  {
   "cell_type": "code",
   "execution_count": 74,
   "metadata": {},
   "outputs": [
    {
     "name": "stdout",
     "output_type": "stream",
     "text": [
      "15 1 4 5\n"
     ]
    }
   ],
   "source": [
    "cm = confusion_matrix(y_test,y_pred)\n",
    "TP = cm[0][0]\n",
    "TN = cm[1][1]\n",
    "FP = cm[0][1]\n",
    "FN = cm[1][0]\n",
    "print(TP,TN,FP,FN)"
   ]
  },
  {
   "cell_type": "code",
   "execution_count": 70,
   "metadata": {},
   "outputs": [
    {
     "data": {
      "text/plain": [
       "0.64"
      ]
     },
     "execution_count": 70,
     "metadata": {},
     "output_type": "execute_result"
    }
   ],
   "source": [
    "ac = accuracy_score(y_test,y_pred)\n",
    "ac"
   ]
  },
  {
   "cell_type": "code",
   "execution_count": 73,
   "metadata": {},
   "outputs": [
    {
     "name": "stdout",
     "output_type": "stream",
     "text": [
      "              precision    recall  f1-score   support\n",
      "\n",
      "           0       0.75      0.79      0.77        19\n",
      "           1       0.20      0.17      0.18         6\n",
      "\n",
      "    accuracy                           0.64        25\n",
      "   macro avg       0.47      0.48      0.48        25\n",
      "weighted avg       0.62      0.64      0.63        25\n",
      "\n"
     ]
    }
   ],
   "source": [
    "rprt = classification_report(y_test,y_pred)\n",
    "print(rprt)"
   ]
  },
  {
   "cell_type": "markdown",
   "metadata": {},
   "source": [
    "since false negatives are 5 and false positives are 4 the model is not good"
   ]
  },
  {
   "cell_type": "markdown",
   "metadata": {},
   "source": []
  }
 ],
 "metadata": {
  "kernelspec": {
   "display_name": "Python 3",
   "language": "python",
   "name": "python3"
  },
  "language_info": {
   "codemirror_mode": {
    "name": "ipython",
    "version": 3
   },
   "file_extension": ".py",
   "mimetype": "text/x-python",
   "name": "python",
   "nbconvert_exporter": "python",
   "pygments_lexer": "ipython3",
   "version": "3.9.13"
  },
  "orig_nbformat": 4
 },
 "nbformat": 4,
 "nbformat_minor": 2
}
