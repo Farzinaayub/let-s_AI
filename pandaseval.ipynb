{
  "cells": [
    {
      "cell_type": "code",
      "execution_count": 2,
      "metadata": {
        "id": "0uz-9auPJ4vt"
      },
      "outputs": [],
      "source": [
        "import numpy as np\n",
        "import pandas as pd"
      ]
    },
    {
      "cell_type": "code",
      "execution_count": 4,
      "metadata": {
        "colab": {
          "base_uri": "https://localhost:8080/",
          "height": 299
        },
        "id": "KrLjUrNHK0ve",
        "outputId": "ae931a4a-6a3b-41ed-f26c-c514bc6af2d3"
      },
      "outputs": [
        {
          "data": {
            "text/html": [
              "<div>\n",
              "<style scoped>\n",
              "    .dataframe tbody tr th:only-of-type {\n",
              "        vertical-align: middle;\n",
              "    }\n",
              "\n",
              "    .dataframe tbody tr th {\n",
              "        vertical-align: top;\n",
              "    }\n",
              "\n",
              "    .dataframe thead th {\n",
              "        text-align: right;\n",
              "    }\n",
              "</style>\n",
              "<table border=\"1\" class=\"dataframe\">\n",
              "  <thead>\n",
              "    <tr style=\"text-align: right;\">\n",
              "      <th></th>\n",
              "      <th>SUBS_KEY</th>\n",
              "      <th>TARGET</th>\n",
              "      <th>OG_MOU_F4</th>\n",
              "      <th>IC_MOU_F4</th>\n",
              "      <th>OG_CALLS_F4</th>\n",
              "      <th>IC_CALLS_F4</th>\n",
              "      <th>RCHG_AMOUNT_F4</th>\n",
              "      <th>CNT_RCHG_F4</th>\n",
              "      <th>AVG_MBL_F4</th>\n",
              "      <th>IC_OG_RATIO_F4</th>\n",
              "      <th>...</th>\n",
              "      <th>AVG_NIG_USG_F10</th>\n",
              "      <th>AVG_STD_USG_F4</th>\n",
              "      <th>AVG_STD_USG_F7</th>\n",
              "      <th>AVG_STD_USG_F10</th>\n",
              "      <th>DND</th>\n",
              "      <th>DND_INFO</th>\n",
              "      <th>CHG_IC_MOU_L5_F5</th>\n",
              "      <th>USAGE_SPREAD</th>\n",
              "      <th>SUM_RCHG_MRP_L10</th>\n",
              "      <th>TARGET_21_30</th>\n",
              "    </tr>\n",
              "  </thead>\n",
              "  <tbody>\n",
              "    <tr>\n",
              "      <th>0</th>\n",
              "      <td>623576580</td>\n",
              "      <td>1</td>\n",
              "      <td>2.93</td>\n",
              "      <td>0.00</td>\n",
              "      <td>1</td>\n",
              "      <td>0</td>\n",
              "      <td>0</td>\n",
              "      <td>0</td>\n",
              "      <td>9.12</td>\n",
              "      <td>0.00</td>\n",
              "      <td>...</td>\n",
              "      <td>0.00</td>\n",
              "      <td>0.00</td>\n",
              "      <td>0.00</td>\n",
              "      <td>0.00</td>\n",
              "      <td>0</td>\n",
              "      <td>0</td>\n",
              "      <td>0.00</td>\n",
              "      <td>0.04</td>\n",
              "      <td>0</td>\n",
              "      <td>1</td>\n",
              "    </tr>\n",
              "    <tr>\n",
              "      <th>1</th>\n",
              "      <td>623576616</td>\n",
              "      <td>0</td>\n",
              "      <td>23.03</td>\n",
              "      <td>59.03</td>\n",
              "      <td>6</td>\n",
              "      <td>14</td>\n",
              "      <td>0</td>\n",
              "      <td>0</td>\n",
              "      <td>1.33</td>\n",
              "      <td>2.56</td>\n",
              "      <td>...</td>\n",
              "      <td>0.00</td>\n",
              "      <td>1.88</td>\n",
              "      <td>0.51</td>\n",
              "      <td>0.58</td>\n",
              "      <td>0</td>\n",
              "      <td>0</td>\n",
              "      <td>-0.25</td>\n",
              "      <td>0.30</td>\n",
              "      <td>70</td>\n",
              "      <td>0</td>\n",
              "    </tr>\n",
              "    <tr>\n",
              "      <th>2</th>\n",
              "      <td>623576617</td>\n",
              "      <td>0</td>\n",
              "      <td>16.25</td>\n",
              "      <td>24.73</td>\n",
              "      <td>12</td>\n",
              "      <td>18</td>\n",
              "      <td>95</td>\n",
              "      <td>2</td>\n",
              "      <td>16.48</td>\n",
              "      <td>1.52</td>\n",
              "      <td>...</td>\n",
              "      <td>0.14</td>\n",
              "      <td>0.00</td>\n",
              "      <td>0.00</td>\n",
              "      <td>0.00</td>\n",
              "      <td>0</td>\n",
              "      <td>0</td>\n",
              "      <td>0.77</td>\n",
              "      <td>0.36</td>\n",
              "      <td>288</td>\n",
              "      <td>0</td>\n",
              "    </tr>\n",
              "    <tr>\n",
              "      <th>3</th>\n",
              "      <td>623576618</td>\n",
              "      <td>1</td>\n",
              "      <td>3.27</td>\n",
              "      <td>6.42</td>\n",
              "      <td>4</td>\n",
              "      <td>10</td>\n",
              "      <td>0</td>\n",
              "      <td>0</td>\n",
              "      <td>7.70</td>\n",
              "      <td>1.96</td>\n",
              "      <td>...</td>\n",
              "      <td>0.17</td>\n",
              "      <td>0.00</td>\n",
              "      <td>0.00</td>\n",
              "      <td>0.00</td>\n",
              "      <td>0</td>\n",
              "      <td>0</td>\n",
              "      <td>0.11</td>\n",
              "      <td>0.26</td>\n",
              "      <td>0</td>\n",
              "      <td>1</td>\n",
              "    </tr>\n",
              "    <tr>\n",
              "      <th>4</th>\n",
              "      <td>623576655</td>\n",
              "      <td>1</td>\n",
              "      <td>0.00</td>\n",
              "      <td>0.00</td>\n",
              "      <td>0</td>\n",
              "      <td>0</td>\n",
              "      <td>0</td>\n",
              "      <td>0</td>\n",
              "      <td>10.00</td>\n",
              "      <td>999.00</td>\n",
              "      <td>...</td>\n",
              "      <td>0.00</td>\n",
              "      <td>0.00</td>\n",
              "      <td>0.00</td>\n",
              "      <td>0.00</td>\n",
              "      <td>0</td>\n",
              "      <td>0</td>\n",
              "      <td>0.00</td>\n",
              "      <td>0.00</td>\n",
              "      <td>0</td>\n",
              "      <td>0</td>\n",
              "    </tr>\n",
              "  </tbody>\n",
              "</table>\n",
              "<p>5 rows × 109 columns</p>\n",
              "</div>"
            ],
            "text/plain": [
              "    SUBS_KEY  TARGET  OG_MOU_F4  IC_MOU_F4  OG_CALLS_F4  IC_CALLS_F4  \\\n",
              "0  623576580       1       2.93       0.00            1            0   \n",
              "1  623576616       0      23.03      59.03            6           14   \n",
              "2  623576617       0      16.25      24.73           12           18   \n",
              "3  623576618       1       3.27       6.42            4           10   \n",
              "4  623576655       1       0.00       0.00            0            0   \n",
              "\n",
              "   RCHG_AMOUNT_F4  CNT_RCHG_F4  AVG_MBL_F4  IC_OG_RATIO_F4  ...  \\\n",
              "0               0            0        9.12            0.00  ...   \n",
              "1               0            0        1.33            2.56  ...   \n",
              "2              95            2       16.48            1.52  ...   \n",
              "3               0            0        7.70            1.96  ...   \n",
              "4               0            0       10.00          999.00  ...   \n",
              "\n",
              "   AVG_NIG_USG_F10  AVG_STD_USG_F4  AVG_STD_USG_F7  AVG_STD_USG_F10  DND  \\\n",
              "0             0.00            0.00            0.00             0.00    0   \n",
              "1             0.00            1.88            0.51             0.58    0   \n",
              "2             0.14            0.00            0.00             0.00    0   \n",
              "3             0.17            0.00            0.00             0.00    0   \n",
              "4             0.00            0.00            0.00             0.00    0   \n",
              "\n",
              "   DND_INFO  CHG_IC_MOU_L5_F5  USAGE_SPREAD  SUM_RCHG_MRP_L10  TARGET_21_30  \n",
              "0         0              0.00          0.04                 0             1  \n",
              "1         0             -0.25          0.30                70             0  \n",
              "2         0              0.77          0.36               288             0  \n",
              "3         0              0.11          0.26                 0             1  \n",
              "4         0              0.00          0.00                 0             0  \n",
              "\n",
              "[5 rows x 109 columns]"
            ]
          },
          "execution_count": 4,
          "metadata": {},
          "output_type": "execute_result"
        }
      ],
      "source": [
        "df=pd.read_csv('Dataset- Telecom-1.xlsx - telecom_data_python.csv')\n",
        "df.head()"
      ]
    },
    {
      "cell_type": "code",
      "execution_count": 5,
      "metadata": {
        "colab": {
          "base_uri": "https://localhost:8080/"
        },
        "id": "RmOQrPUvK45q",
        "outputId": "7e04e49c-fd49-4b8f-ccb8-cc262fb8f98e"
      },
      "outputs": [
        {
          "data": {
            "text/plain": [
              "Index(['SUBS_KEY', 'TARGET', 'OG_MOU_F4', 'IC_MOU_F4', 'OG_CALLS_F4',\n",
              "       'IC_CALLS_F4', 'RCHG_AMOUNT_F4', 'CNT_RCHG_F4', 'AVG_MBL_F4',\n",
              "       'IC_OG_RATIO_F4',\n",
              "       ...\n",
              "       'AVG_NIG_USG_F10', 'AVG_STD_USG_F4', 'AVG_STD_USG_F7',\n",
              "       'AVG_STD_USG_F10', 'DND', 'DND_INFO', 'CHG_IC_MOU_L5_F5',\n",
              "       'USAGE_SPREAD', 'SUM_RCHG_MRP_L10', 'TARGET_21_30'],\n",
              "      dtype='object', length=109)"
            ]
          },
          "execution_count": 5,
          "metadata": {},
          "output_type": "execute_result"
        }
      ],
      "source": [
        "df.columns"
      ]
    },
    {
      "cell_type": "code",
      "execution_count": 6,
      "metadata": {
        "colab": {
          "base_uri": "https://localhost:8080/",
          "height": 423
        },
        "id": "TNsg0IWAMrsI",
        "outputId": "12934837-0e01-4ccf-bfdf-9687aaa23679"
      },
      "outputs": [
        {
          "data": {
            "text/html": [
              "<div>\n",
              "<style scoped>\n",
              "    .dataframe tbody tr th:only-of-type {\n",
              "        vertical-align: middle;\n",
              "    }\n",
              "\n",
              "    .dataframe tbody tr th {\n",
              "        vertical-align: top;\n",
              "    }\n",
              "\n",
              "    .dataframe thead th {\n",
              "        text-align: right;\n",
              "    }\n",
              "</style>\n",
              "<table border=\"1\" class=\"dataframe\">\n",
              "  <thead>\n",
              "    <tr style=\"text-align: right;\">\n",
              "      <th></th>\n",
              "      <th>Variable</th>\n",
              "      <th>Description</th>\n",
              "    </tr>\n",
              "  </thead>\n",
              "  <tbody>\n",
              "    <tr>\n",
              "      <th>0</th>\n",
              "      <td>ACTIVATION_DT</td>\n",
              "      <td>Day in the month on which activation is done</td>\n",
              "    </tr>\n",
              "    <tr>\n",
              "      <th>1</th>\n",
              "      <td>AVG_MBL_F10</td>\n",
              "      <td>Average main balance in first 10 days from act...</td>\n",
              "    </tr>\n",
              "    <tr>\n",
              "      <th>2</th>\n",
              "      <td>AVG_MBL_F4</td>\n",
              "      <td>Average main balance in first 4 days from acti...</td>\n",
              "    </tr>\n",
              "    <tr>\n",
              "      <th>3</th>\n",
              "      <td>AVG_MBL_F7</td>\n",
              "      <td>Average main balance in first 7 days from acti...</td>\n",
              "    </tr>\n",
              "    <tr>\n",
              "      <th>4</th>\n",
              "      <td>AVG_NIG_USG_F10</td>\n",
              "      <td>Average night usage in first 10 days from acti...</td>\n",
              "    </tr>\n",
              "    <tr>\n",
              "      <th>...</th>\n",
              "      <td>...</td>\n",
              "      <td>...</td>\n",
              "    </tr>\n",
              "    <tr>\n",
              "      <th>104</th>\n",
              "      <td>SUBS_KEY</td>\n",
              "      <td>Unique Identifier</td>\n",
              "    </tr>\n",
              "    <tr>\n",
              "      <th>105</th>\n",
              "      <td>SUM_RCHG_MRP_L10</td>\n",
              "      <td>Sum of recharge amount in first 10 days</td>\n",
              "    </tr>\n",
              "    <tr>\n",
              "      <th>106</th>\n",
              "      <td>TARGET</td>\n",
              "      <td>Churn in next month</td>\n",
              "    </tr>\n",
              "    <tr>\n",
              "      <th>107</th>\n",
              "      <td>TARGET_21_30</td>\n",
              "      <td>Churn in between 21 to 30 days</td>\n",
              "    </tr>\n",
              "    <tr>\n",
              "      <th>108</th>\n",
              "      <td>USAGE_SPREAD</td>\n",
              "      <td>Score on the uniform usage in first 10 days</td>\n",
              "    </tr>\n",
              "  </tbody>\n",
              "</table>\n",
              "<p>109 rows × 2 columns</p>\n",
              "</div>"
            ],
            "text/plain": [
              "             Variable                                        Description\n",
              "0       ACTIVATION_DT       Day in the month on which activation is done\n",
              "1         AVG_MBL_F10  Average main balance in first 10 days from act...\n",
              "2          AVG_MBL_F4  Average main balance in first 4 days from acti...\n",
              "3          AVG_MBL_F7  Average main balance in first 7 days from acti...\n",
              "4     AVG_NIG_USG_F10  Average night usage in first 10 days from acti...\n",
              "..                ...                                                ...\n",
              "104          SUBS_KEY                                  Unique Identifier\n",
              "105  SUM_RCHG_MRP_L10            Sum of recharge amount in first 10 days\n",
              "106            TARGET                                Churn in next month\n",
              "107      TARGET_21_30                     Churn in between 21 to 30 days\n",
              "108      USAGE_SPREAD        Score on the uniform usage in first 10 days\n",
              "\n",
              "[109 rows x 2 columns]"
            ]
          },
          "execution_count": 6,
          "metadata": {},
          "output_type": "execute_result"
        }
      ],
      "source": [
        "metadata=pd.read_csv('Metadata_telecom.csv')\n",
        "metadata"
      ]
    },
    {
      "cell_type": "code",
      "execution_count": 7,
      "metadata": {
        "colab": {
          "base_uri": "https://localhost:8080/",
          "height": 363
        },
        "id": "kCp6_sefNkiJ",
        "outputId": "77b4b295-f72f-4817-d64e-23da1ced4ed2"
      },
      "outputs": [
        {
          "data": {
            "text/html": [
              "<div>\n",
              "<style scoped>\n",
              "    .dataframe tbody tr th:only-of-type {\n",
              "        vertical-align: middle;\n",
              "    }\n",
              "\n",
              "    .dataframe tbody tr th {\n",
              "        vertical-align: top;\n",
              "    }\n",
              "\n",
              "    .dataframe thead th {\n",
              "        text-align: right;\n",
              "    }\n",
              "</style>\n",
              "<table border=\"1\" class=\"dataframe\">\n",
              "  <thead>\n",
              "    <tr style=\"text-align: right;\">\n",
              "      <th></th>\n",
              "      <th>Variable</th>\n",
              "      <th>Description</th>\n",
              "    </tr>\n",
              "  </thead>\n",
              "  <tbody>\n",
              "    <tr>\n",
              "      <th>1</th>\n",
              "      <td>AVG_MBL_F10</td>\n",
              "      <td>Average main balance in first 10 days from act...</td>\n",
              "    </tr>\n",
              "    <tr>\n",
              "      <th>2</th>\n",
              "      <td>AVG_MBL_F4</td>\n",
              "      <td>Average main balance in first 4 days from acti...</td>\n",
              "    </tr>\n",
              "    <tr>\n",
              "      <th>3</th>\n",
              "      <td>AVG_MBL_F7</td>\n",
              "      <td>Average main balance in first 7 days from acti...</td>\n",
              "    </tr>\n",
              "    <tr>\n",
              "      <th>4</th>\n",
              "      <td>AVG_NIG_USG_F10</td>\n",
              "      <td>Average night usage in first 10 days from acti...</td>\n",
              "    </tr>\n",
              "    <tr>\n",
              "      <th>5</th>\n",
              "      <td>AVG_NIG_USG_F4</td>\n",
              "      <td>Average night usage in first 4 days from activ...</td>\n",
              "    </tr>\n",
              "    <tr>\n",
              "      <th>6</th>\n",
              "      <td>AVG_NIG_USG_F7</td>\n",
              "      <td>Average night usage in first 7 days from activ...</td>\n",
              "    </tr>\n",
              "    <tr>\n",
              "      <th>7</th>\n",
              "      <td>AVG_STD_USG_F10</td>\n",
              "      <td>Average STD usage in first 10 days from activa...</td>\n",
              "    </tr>\n",
              "    <tr>\n",
              "      <th>8</th>\n",
              "      <td>AVG_STD_USG_F4</td>\n",
              "      <td>Average STD usage in first 4 days from activation</td>\n",
              "    </tr>\n",
              "    <tr>\n",
              "      <th>9</th>\n",
              "      <td>AVG_STD_USG_F7</td>\n",
              "      <td>Average STD usage in first 7 days from activation</td>\n",
              "    </tr>\n",
              "    <tr>\n",
              "      <th>10</th>\n",
              "      <td>CHG_IC_MOU_L5_F5</td>\n",
              "      <td>Percentage change in incoming minute of usage ...</td>\n",
              "    </tr>\n",
              "  </tbody>\n",
              "</table>\n",
              "</div>"
            ],
            "text/plain": [
              "            Variable                                        Description\n",
              "1        AVG_MBL_F10  Average main balance in first 10 days from act...\n",
              "2         AVG_MBL_F4  Average main balance in first 4 days from acti...\n",
              "3         AVG_MBL_F7  Average main balance in first 7 days from acti...\n",
              "4    AVG_NIG_USG_F10  Average night usage in first 10 days from acti...\n",
              "5     AVG_NIG_USG_F4  Average night usage in first 4 days from activ...\n",
              "6     AVG_NIG_USG_F7  Average night usage in first 7 days from activ...\n",
              "7    AVG_STD_USG_F10  Average STD usage in first 10 days from activa...\n",
              "8     AVG_STD_USG_F4  Average STD usage in first 4 days from activation\n",
              "9     AVG_STD_USG_F7  Average STD usage in first 7 days from activation\n",
              "10  CHG_IC_MOU_L5_F5  Percentage change in incoming minute of usage ..."
            ]
          },
          "execution_count": 7,
          "metadata": {},
          "output_type": "execute_result"
        }
      ],
      "source": [
        "metadata[1:11]"
      ]
    },
    {
      "cell_type": "code",
      "execution_count": 8,
      "metadata": {
        "colab": {
          "base_uri": "https://localhost:8080/",
          "height": 363
        },
        "id": "Eo55P8JxK87K",
        "outputId": "afc1776e-da63-4ddc-d5a7-73c68735e579"
      },
      "outputs": [
        {
          "data": {
            "text/html": [
              "<div>\n",
              "<style scoped>\n",
              "    .dataframe tbody tr th:only-of-type {\n",
              "        vertical-align: middle;\n",
              "    }\n",
              "\n",
              "    .dataframe tbody tr th {\n",
              "        vertical-align: top;\n",
              "    }\n",
              "\n",
              "    .dataframe thead th {\n",
              "        text-align: right;\n",
              "    }\n",
              "</style>\n",
              "<table border=\"1\" class=\"dataframe\">\n",
              "  <thead>\n",
              "    <tr style=\"text-align: right;\">\n",
              "      <th></th>\n",
              "      <th>Variable</th>\n",
              "      <th>Description</th>\n",
              "    </tr>\n",
              "  </thead>\n",
              "  <tbody>\n",
              "    <tr>\n",
              "      <th>11</th>\n",
              "      <td>CNT_DEC_INS_F10</td>\n",
              "      <td>Count of days where balance is deducted in fir...</td>\n",
              "    </tr>\n",
              "    <tr>\n",
              "      <th>12</th>\n",
              "      <td>CNT_DEC_INS_F4</td>\n",
              "      <td>Count of days where balance is deducted in fir...</td>\n",
              "    </tr>\n",
              "    <tr>\n",
              "      <th>13</th>\n",
              "      <td>CNT_DEC_INS_F7</td>\n",
              "      <td>Count of days where balance is deducted in fir...</td>\n",
              "    </tr>\n",
              "    <tr>\n",
              "      <th>14</th>\n",
              "      <td>CNT_RCHG_F10</td>\n",
              "      <td>Count of recharge in first 10 days</td>\n",
              "    </tr>\n",
              "    <tr>\n",
              "      <th>15</th>\n",
              "      <td>CNT_RCHG_F4</td>\n",
              "      <td>Count of recharge in first 4 days</td>\n",
              "    </tr>\n",
              "    <tr>\n",
              "      <th>16</th>\n",
              "      <td>CNT_RCHG_F7</td>\n",
              "      <td>Count of recharge in first 7 days</td>\n",
              "    </tr>\n",
              "    <tr>\n",
              "      <th>17</th>\n",
              "      <td>CNT_ROAM_INS_F10</td>\n",
              "      <td>Count of days customer is in roaming zone in f...</td>\n",
              "    </tr>\n",
              "    <tr>\n",
              "      <th>18</th>\n",
              "      <td>CNT_ROAM_INS_F4</td>\n",
              "      <td>Count of days customer is in roaming zone in f...</td>\n",
              "    </tr>\n",
              "    <tr>\n",
              "      <th>19</th>\n",
              "      <td>CNT_ROAM_INS_F7</td>\n",
              "      <td>Count of days customer is in roaming zone in f...</td>\n",
              "    </tr>\n",
              "    <tr>\n",
              "      <th>20</th>\n",
              "      <td>CNT_SMS_INS_F10</td>\n",
              "      <td>Count of SMS instance in first 10 days</td>\n",
              "    </tr>\n",
              "  </tbody>\n",
              "</table>\n",
              "</div>"
            ],
            "text/plain": [
              "            Variable                                        Description\n",
              "11   CNT_DEC_INS_F10  Count of days where balance is deducted in fir...\n",
              "12    CNT_DEC_INS_F4  Count of days where balance is deducted in fir...\n",
              "13    CNT_DEC_INS_F7  Count of days where balance is deducted in fir...\n",
              "14      CNT_RCHG_F10                 Count of recharge in first 10 days\n",
              "15       CNT_RCHG_F4                  Count of recharge in first 4 days\n",
              "16       CNT_RCHG_F7                  Count of recharge in first 7 days\n",
              "17  CNT_ROAM_INS_F10  Count of days customer is in roaming zone in f...\n",
              "18   CNT_ROAM_INS_F4  Count of days customer is in roaming zone in f...\n",
              "19   CNT_ROAM_INS_F7  Count of days customer is in roaming zone in f...\n",
              "20   CNT_SMS_INS_F10             Count of SMS instance in first 10 days"
            ]
          },
          "execution_count": 8,
          "metadata": {},
          "output_type": "execute_result"
        }
      ],
      "source": [
        "metadata[11:21]"
      ]
    },
    {
      "cell_type": "code",
      "execution_count": 9,
      "metadata": {
        "colab": {
          "base_uri": "https://localhost:8080/",
          "height": 363
        },
        "id": "oPY4mDArNtUU",
        "outputId": "95edcce2-c67e-470b-d596-a2187d84689c"
      },
      "outputs": [
        {
          "data": {
            "text/html": [
              "<div>\n",
              "<style scoped>\n",
              "    .dataframe tbody tr th:only-of-type {\n",
              "        vertical-align: middle;\n",
              "    }\n",
              "\n",
              "    .dataframe tbody tr th {\n",
              "        vertical-align: top;\n",
              "    }\n",
              "\n",
              "    .dataframe thead th {\n",
              "        text-align: right;\n",
              "    }\n",
              "</style>\n",
              "<table border=\"1\" class=\"dataframe\">\n",
              "  <thead>\n",
              "    <tr style=\"text-align: right;\">\n",
              "      <th></th>\n",
              "      <th>Variable</th>\n",
              "      <th>Description</th>\n",
              "    </tr>\n",
              "  </thead>\n",
              "  <tbody>\n",
              "    <tr>\n",
              "      <th>21</th>\n",
              "      <td>CNT_SMS_INS_F4</td>\n",
              "      <td>Count of SMS instance in first 4 days</td>\n",
              "    </tr>\n",
              "    <tr>\n",
              "      <th>22</th>\n",
              "      <td>CNT_SMS_INS_F7</td>\n",
              "      <td>Count of SMS instance in first 7 days</td>\n",
              "    </tr>\n",
              "    <tr>\n",
              "      <th>23</th>\n",
              "      <td>CNT_STD_IC_INS_F10</td>\n",
              "      <td>Count of incoming STD instance in first 10 days</td>\n",
              "    </tr>\n",
              "    <tr>\n",
              "      <th>24</th>\n",
              "      <td>CNT_STD_IC_INS_F4</td>\n",
              "      <td>Count of incoming STD instance in first 4 days</td>\n",
              "    </tr>\n",
              "    <tr>\n",
              "      <th>25</th>\n",
              "      <td>CNT_STD_IC_INS_F7</td>\n",
              "      <td>Count of incoming STD instance in first 7 days</td>\n",
              "    </tr>\n",
              "    <tr>\n",
              "      <th>26</th>\n",
              "      <td>CNT_STD_INS_F10</td>\n",
              "      <td>Count of STD instance in first 10 days</td>\n",
              "    </tr>\n",
              "    <tr>\n",
              "      <th>27</th>\n",
              "      <td>CNT_STD_INS_F4</td>\n",
              "      <td>Count of STD instance in first 4 days</td>\n",
              "    </tr>\n",
              "    <tr>\n",
              "      <th>28</th>\n",
              "      <td>CNT_STD_INS_F7</td>\n",
              "      <td>Count of STD instance in first 7 days</td>\n",
              "    </tr>\n",
              "    <tr>\n",
              "      <th>29</th>\n",
              "      <td>CNT_STD_OG_INS_F10</td>\n",
              "      <td>Count of outgoing STD instance in first 10 days</td>\n",
              "    </tr>\n",
              "    <tr>\n",
              "      <th>30</th>\n",
              "      <td>CNT_STD_OG_INS_F4</td>\n",
              "      <td>Count of outgoing STD instance in first 4 days</td>\n",
              "    </tr>\n",
              "  </tbody>\n",
              "</table>\n",
              "</div>"
            ],
            "text/plain": [
              "              Variable                                      Description\n",
              "21      CNT_SMS_INS_F4            Count of SMS instance in first 4 days\n",
              "22      CNT_SMS_INS_F7            Count of SMS instance in first 7 days\n",
              "23  CNT_STD_IC_INS_F10  Count of incoming STD instance in first 10 days\n",
              "24   CNT_STD_IC_INS_F4   Count of incoming STD instance in first 4 days\n",
              "25   CNT_STD_IC_INS_F7   Count of incoming STD instance in first 7 days\n",
              "26     CNT_STD_INS_F10           Count of STD instance in first 10 days\n",
              "27      CNT_STD_INS_F4            Count of STD instance in first 4 days\n",
              "28      CNT_STD_INS_F7            Count of STD instance in first 7 days\n",
              "29  CNT_STD_OG_INS_F10  Count of outgoing STD instance in first 10 days\n",
              "30   CNT_STD_OG_INS_F4   Count of outgoing STD instance in first 4 days"
            ]
          },
          "execution_count": 9,
          "metadata": {},
          "output_type": "execute_result"
        }
      ],
      "source": [
        "metadata[21:31]"
      ]
    },
    {
      "cell_type": "code",
      "execution_count": 10,
      "metadata": {
        "colab": {
          "base_uri": "https://localhost:8080/",
          "height": 363
        },
        "id": "DHql9bQyNtRv",
        "outputId": "bbff40da-0d20-4466-87e3-a14bc7fc68e2"
      },
      "outputs": [
        {
          "data": {
            "text/html": [
              "<div>\n",
              "<style scoped>\n",
              "    .dataframe tbody tr th:only-of-type {\n",
              "        vertical-align: middle;\n",
              "    }\n",
              "\n",
              "    .dataframe tbody tr th {\n",
              "        vertical-align: top;\n",
              "    }\n",
              "\n",
              "    .dataframe thead th {\n",
              "        text-align: right;\n",
              "    }\n",
              "</style>\n",
              "<table border=\"1\" class=\"dataframe\">\n",
              "  <thead>\n",
              "    <tr style=\"text-align: right;\">\n",
              "      <th></th>\n",
              "      <th>Variable</th>\n",
              "      <th>Description</th>\n",
              "    </tr>\n",
              "  </thead>\n",
              "  <tbody>\n",
              "    <tr>\n",
              "      <th>31</th>\n",
              "      <td>CNT_STD_OG_INS_F7</td>\n",
              "      <td>Count of outgoing STD instance in first 7 days</td>\n",
              "    </tr>\n",
              "    <tr>\n",
              "      <th>32</th>\n",
              "      <td>CNT_VLR_INS_F10</td>\n",
              "      <td>Count of days customer is latching on network ...</td>\n",
              "    </tr>\n",
              "    <tr>\n",
              "      <th>33</th>\n",
              "      <td>CNT_VLR_INS_F4</td>\n",
              "      <td>Count of days customer is latching on network ...</td>\n",
              "    </tr>\n",
              "    <tr>\n",
              "      <th>34</th>\n",
              "      <td>CNT_VLR_INS_F7</td>\n",
              "      <td>Count of days customer is latching on network ...</td>\n",
              "    </tr>\n",
              "    <tr>\n",
              "      <th>35</th>\n",
              "      <td>DAY_END_MBL_F10</td>\n",
              "      <td>End of day balance on 10th day</td>\n",
              "    </tr>\n",
              "    <tr>\n",
              "      <th>36</th>\n",
              "      <td>DAY_END_MBL_F4</td>\n",
              "      <td>End of balance on 4th day</td>\n",
              "    </tr>\n",
              "    <tr>\n",
              "      <th>37</th>\n",
              "      <td>DAY_END_MBL_F7</td>\n",
              "      <td>End of balance on 7th day</td>\n",
              "    </tr>\n",
              "    <tr>\n",
              "      <th>38</th>\n",
              "      <td>DND</td>\n",
              "      <td>Promotional call received inspite of DND</td>\n",
              "    </tr>\n",
              "    <tr>\n",
              "      <th>39</th>\n",
              "      <td>DND_INFO</td>\n",
              "      <td>Do not disturb flag</td>\n",
              "    </tr>\n",
              "    <tr>\n",
              "      <th>40</th>\n",
              "      <td>DS_IC_CALLS_F10</td>\n",
              "      <td>Day since incoming call come in first 10 days</td>\n",
              "    </tr>\n",
              "  </tbody>\n",
              "</table>\n",
              "</div>"
            ],
            "text/plain": [
              "             Variable                                        Description\n",
              "31  CNT_STD_OG_INS_F7     Count of outgoing STD instance in first 7 days\n",
              "32    CNT_VLR_INS_F10  Count of days customer is latching on network ...\n",
              "33     CNT_VLR_INS_F4  Count of days customer is latching on network ...\n",
              "34     CNT_VLR_INS_F7  Count of days customer is latching on network ...\n",
              "35    DAY_END_MBL_F10                     End of day balance on 10th day\n",
              "36     DAY_END_MBL_F4                          End of balance on 4th day\n",
              "37     DAY_END_MBL_F7                          End of balance on 7th day\n",
              "38                DND           Promotional call received inspite of DND\n",
              "39           DND_INFO                                Do not disturb flag\n",
              "40    DS_IC_CALLS_F10      Day since incoming call come in first 10 days"
            ]
          },
          "execution_count": 10,
          "metadata": {},
          "output_type": "execute_result"
        }
      ],
      "source": [
        "metadata[31:41]"
      ]
    },
    {
      "cell_type": "code",
      "execution_count": 11,
      "metadata": {
        "colab": {
          "base_uri": "https://localhost:8080/",
          "height": 363
        },
        "id": "KYval-VFNtPE",
        "outputId": "a7ed2603-f549-483f-9c04-7632d8b69e6a"
      },
      "outputs": [
        {
          "data": {
            "text/html": [
              "<div>\n",
              "<style scoped>\n",
              "    .dataframe tbody tr th:only-of-type {\n",
              "        vertical-align: middle;\n",
              "    }\n",
              "\n",
              "    .dataframe tbody tr th {\n",
              "        vertical-align: top;\n",
              "    }\n",
              "\n",
              "    .dataframe thead th {\n",
              "        text-align: right;\n",
              "    }\n",
              "</style>\n",
              "<table border=\"1\" class=\"dataframe\">\n",
              "  <thead>\n",
              "    <tr style=\"text-align: right;\">\n",
              "      <th></th>\n",
              "      <th>Variable</th>\n",
              "      <th>Description</th>\n",
              "    </tr>\n",
              "  </thead>\n",
              "  <tbody>\n",
              "    <tr>\n",
              "      <th>41</th>\n",
              "      <td>DS_IC_CALLS_F4</td>\n",
              "      <td>Day since incoming call come in first 4 days</td>\n",
              "    </tr>\n",
              "    <tr>\n",
              "      <th>42</th>\n",
              "      <td>DS_IC_CALLS_F7</td>\n",
              "      <td>Day since incoming call come in first 7 days</td>\n",
              "    </tr>\n",
              "    <tr>\n",
              "      <th>43</th>\n",
              "      <td>DS_IC_MOU_F10</td>\n",
              "      <td>Day since incoming minute of usage come in fir...</td>\n",
              "    </tr>\n",
              "    <tr>\n",
              "      <th>44</th>\n",
              "      <td>DS_IC_MOU_F4</td>\n",
              "      <td>Day since incoming minute of usage come in fir...</td>\n",
              "    </tr>\n",
              "    <tr>\n",
              "      <th>45</th>\n",
              "      <td>DS_IC_MOU_F7</td>\n",
              "      <td>Day since incoming minute of usage come in fir...</td>\n",
              "    </tr>\n",
              "    <tr>\n",
              "      <th>46</th>\n",
              "      <td>DS_OG_CALLS_F10</td>\n",
              "      <td>Day since outgoing call done in first 10 days</td>\n",
              "    </tr>\n",
              "    <tr>\n",
              "      <th>47</th>\n",
              "      <td>DS_OG_CALLS_F4</td>\n",
              "      <td>Day since outgoing call done in first 4 days</td>\n",
              "    </tr>\n",
              "    <tr>\n",
              "      <th>48</th>\n",
              "      <td>DS_OG_CALLS_F7</td>\n",
              "      <td>Day since outgoing call done in first 7 days</td>\n",
              "    </tr>\n",
              "    <tr>\n",
              "      <th>49</th>\n",
              "      <td>DS_OG_MOU_F10</td>\n",
              "      <td>Day since outgoing minute of usage come in fir...</td>\n",
              "    </tr>\n",
              "    <tr>\n",
              "      <th>50</th>\n",
              "      <td>DS_OG_MOU_F4</td>\n",
              "      <td>Day since outgoing minute of usage come in fir...</td>\n",
              "    </tr>\n",
              "  </tbody>\n",
              "</table>\n",
              "</div>"
            ],
            "text/plain": [
              "           Variable                                        Description\n",
              "41   DS_IC_CALLS_F4       Day since incoming call come in first 4 days\n",
              "42   DS_IC_CALLS_F7       Day since incoming call come in first 7 days\n",
              "43    DS_IC_MOU_F10  Day since incoming minute of usage come in fir...\n",
              "44     DS_IC_MOU_F4  Day since incoming minute of usage come in fir...\n",
              "45     DS_IC_MOU_F7  Day since incoming minute of usage come in fir...\n",
              "46  DS_OG_CALLS_F10      Day since outgoing call done in first 10 days\n",
              "47   DS_OG_CALLS_F4       Day since outgoing call done in first 4 days\n",
              "48   DS_OG_CALLS_F7       Day since outgoing call done in first 7 days\n",
              "49    DS_OG_MOU_F10  Day since outgoing minute of usage come in fir...\n",
              "50     DS_OG_MOU_F4  Day since outgoing minute of usage come in fir..."
            ]
          },
          "execution_count": 11,
          "metadata": {},
          "output_type": "execute_result"
        }
      ],
      "source": [
        "metadata[41:51]"
      ]
    },
    {
      "cell_type": "code",
      "execution_count": 12,
      "metadata": {
        "colab": {
          "base_uri": "https://localhost:8080/",
          "height": 363
        },
        "id": "wxNhSOAkNtLo",
        "outputId": "c8d9c9b1-8f6e-4ea2-b429-514d5eaa9df7"
      },
      "outputs": [
        {
          "data": {
            "text/html": [
              "<div>\n",
              "<style scoped>\n",
              "    .dataframe tbody tr th:only-of-type {\n",
              "        vertical-align: middle;\n",
              "    }\n",
              "\n",
              "    .dataframe tbody tr th {\n",
              "        vertical-align: top;\n",
              "    }\n",
              "\n",
              "    .dataframe thead th {\n",
              "        text-align: right;\n",
              "    }\n",
              "</style>\n",
              "<table border=\"1\" class=\"dataframe\">\n",
              "  <thead>\n",
              "    <tr style=\"text-align: right;\">\n",
              "      <th></th>\n",
              "      <th>Variable</th>\n",
              "      <th>Description</th>\n",
              "    </tr>\n",
              "  </thead>\n",
              "  <tbody>\n",
              "    <tr>\n",
              "      <th>51</th>\n",
              "      <td>DS_OG_MOU_F7</td>\n",
              "      <td>Day since outgoing minute of usage come in fir...</td>\n",
              "    </tr>\n",
              "    <tr>\n",
              "      <th>52</th>\n",
              "      <td>DS_RCHG_MRP_F10</td>\n",
              "      <td>Day since recharge in first 10 days</td>\n",
              "    </tr>\n",
              "    <tr>\n",
              "      <th>53</th>\n",
              "      <td>DS_RCHG_MRP_F10_EX1</td>\n",
              "      <td>Day since recharge in first 10 days excluding ...</td>\n",
              "    </tr>\n",
              "    <tr>\n",
              "      <th>54</th>\n",
              "      <td>DS_RCHG_MRP_F4</td>\n",
              "      <td>Day since recharge in first 4 days</td>\n",
              "    </tr>\n",
              "    <tr>\n",
              "      <th>55</th>\n",
              "      <td>DS_RCHG_MRP_F4_EX1</td>\n",
              "      <td>Day since recharge in first 4 days excluding 1...</td>\n",
              "    </tr>\n",
              "    <tr>\n",
              "      <th>56</th>\n",
              "      <td>DS_RCHG_MRP_F7</td>\n",
              "      <td>Day since recharge in first 7 days</td>\n",
              "    </tr>\n",
              "    <tr>\n",
              "      <th>57</th>\n",
              "      <td>DS_RCHG_MRP_F7_EX1</td>\n",
              "      <td>Day since recharge in first 7 days excluding 1...</td>\n",
              "    </tr>\n",
              "    <tr>\n",
              "      <th>58</th>\n",
              "      <td>IC_CALLS_F10</td>\n",
              "      <td>Incoming calls in first 10 days</td>\n",
              "    </tr>\n",
              "    <tr>\n",
              "      <th>59</th>\n",
              "      <td>IC_CALLS_F4</td>\n",
              "      <td>Incoming calls in first 4 days</td>\n",
              "    </tr>\n",
              "    <tr>\n",
              "      <th>60</th>\n",
              "      <td>IC_CALLS_F7</td>\n",
              "      <td>Incoming calls in first 7 days</td>\n",
              "    </tr>\n",
              "  </tbody>\n",
              "</table>\n",
              "</div>"
            ],
            "text/plain": [
              "               Variable                                        Description\n",
              "51         DS_OG_MOU_F7  Day since outgoing minute of usage come in fir...\n",
              "52      DS_RCHG_MRP_F10                Day since recharge in first 10 days\n",
              "53  DS_RCHG_MRP_F10_EX1  Day since recharge in first 10 days excluding ...\n",
              "54       DS_RCHG_MRP_F4                 Day since recharge in first 4 days\n",
              "55   DS_RCHG_MRP_F4_EX1  Day since recharge in first 4 days excluding 1...\n",
              "56       DS_RCHG_MRP_F7                 Day since recharge in first 7 days\n",
              "57   DS_RCHG_MRP_F7_EX1  Day since recharge in first 7 days excluding 1...\n",
              "58         IC_CALLS_F10                    Incoming calls in first 10 days\n",
              "59          IC_CALLS_F4                     Incoming calls in first 4 days\n",
              "60          IC_CALLS_F7                     Incoming calls in first 7 days"
            ]
          },
          "execution_count": 12,
          "metadata": {},
          "output_type": "execute_result"
        }
      ],
      "source": [
        "metadata[51:61]"
      ]
    },
    {
      "cell_type": "code",
      "execution_count": 13,
      "metadata": {
        "colab": {
          "base_uri": "https://localhost:8080/",
          "height": 363
        },
        "id": "qZiuzWv0NtJG",
        "outputId": "3f6b35b5-0046-4072-bd7d-2d3bc9f8ed22"
      },
      "outputs": [
        {
          "data": {
            "text/html": [
              "<div>\n",
              "<style scoped>\n",
              "    .dataframe tbody tr th:only-of-type {\n",
              "        vertical-align: middle;\n",
              "    }\n",
              "\n",
              "    .dataframe tbody tr th {\n",
              "        vertical-align: top;\n",
              "    }\n",
              "\n",
              "    .dataframe thead th {\n",
              "        text-align: right;\n",
              "    }\n",
              "</style>\n",
              "<table border=\"1\" class=\"dataframe\">\n",
              "  <thead>\n",
              "    <tr style=\"text-align: right;\">\n",
              "      <th></th>\n",
              "      <th>Variable</th>\n",
              "      <th>Description</th>\n",
              "    </tr>\n",
              "  </thead>\n",
              "  <tbody>\n",
              "    <tr>\n",
              "      <th>61</th>\n",
              "      <td>IC_MOU_F10</td>\n",
              "      <td>Incoming minute of usage in first 10 days</td>\n",
              "    </tr>\n",
              "    <tr>\n",
              "      <th>62</th>\n",
              "      <td>IC_MOU_F4</td>\n",
              "      <td>Incoming minute of usage in first 4 days</td>\n",
              "    </tr>\n",
              "    <tr>\n",
              "      <th>63</th>\n",
              "      <td>IC_MOU_F7</td>\n",
              "      <td>Incoming minute of usage in first 7 days</td>\n",
              "    </tr>\n",
              "    <tr>\n",
              "      <th>64</th>\n",
              "      <td>IC_OG_RATIO_F10</td>\n",
              "      <td>Incoming to Outgoing ration in first 10 days</td>\n",
              "    </tr>\n",
              "    <tr>\n",
              "      <th>65</th>\n",
              "      <td>IC_OG_RATIO_F4</td>\n",
              "      <td>Incoming to Outgoing ration in first 4 days</td>\n",
              "    </tr>\n",
              "    <tr>\n",
              "      <th>66</th>\n",
              "      <td>IC_OG_RATIO_F7</td>\n",
              "      <td>Incoming to Outgoing ration in first 7 days</td>\n",
              "    </tr>\n",
              "    <tr>\n",
              "      <th>67</th>\n",
              "      <td>MAX_MBL_F10</td>\n",
              "      <td>Max main balance in first 10 days</td>\n",
              "    </tr>\n",
              "    <tr>\n",
              "      <th>68</th>\n",
              "      <td>MAX_MBL_F10_EX1</td>\n",
              "      <td>Max main balance in first 10 days excluding 1s...</td>\n",
              "    </tr>\n",
              "    <tr>\n",
              "      <th>69</th>\n",
              "      <td>MAX_MBL_F4</td>\n",
              "      <td>Max main balance in first 4 days</td>\n",
              "    </tr>\n",
              "    <tr>\n",
              "      <th>70</th>\n",
              "      <td>MAX_MBL_F4_EX1</td>\n",
              "      <td>Max main balance in first 4 days excluding 1st...</td>\n",
              "    </tr>\n",
              "  </tbody>\n",
              "</table>\n",
              "</div>"
            ],
            "text/plain": [
              "           Variable                                        Description\n",
              "61       IC_MOU_F10          Incoming minute of usage in first 10 days\n",
              "62        IC_MOU_F4           Incoming minute of usage in first 4 days\n",
              "63        IC_MOU_F7           Incoming minute of usage in first 7 days\n",
              "64  IC_OG_RATIO_F10       Incoming to Outgoing ration in first 10 days\n",
              "65   IC_OG_RATIO_F4        Incoming to Outgoing ration in first 4 days\n",
              "66   IC_OG_RATIO_F7        Incoming to Outgoing ration in first 7 days\n",
              "67      MAX_MBL_F10                  Max main balance in first 10 days\n",
              "68  MAX_MBL_F10_EX1  Max main balance in first 10 days excluding 1s...\n",
              "69       MAX_MBL_F4                   Max main balance in first 4 days\n",
              "70   MAX_MBL_F4_EX1  Max main balance in first 4 days excluding 1st..."
            ]
          },
          "execution_count": 13,
          "metadata": {},
          "output_type": "execute_result"
        }
      ],
      "source": [
        "metadata[61:71]"
      ]
    },
    {
      "cell_type": "code",
      "execution_count": 14,
      "metadata": {
        "colab": {
          "base_uri": "https://localhost:8080/",
          "height": 363
        },
        "id": "eO8DyzR6NtGA",
        "outputId": "8750e9b0-3b76-4311-a3bb-c5c7e91249de"
      },
      "outputs": [
        {
          "data": {
            "text/html": [
              "<div>\n",
              "<style scoped>\n",
              "    .dataframe tbody tr th:only-of-type {\n",
              "        vertical-align: middle;\n",
              "    }\n",
              "\n",
              "    .dataframe tbody tr th {\n",
              "        vertical-align: top;\n",
              "    }\n",
              "\n",
              "    .dataframe thead th {\n",
              "        text-align: right;\n",
              "    }\n",
              "</style>\n",
              "<table border=\"1\" class=\"dataframe\">\n",
              "  <thead>\n",
              "    <tr style=\"text-align: right;\">\n",
              "      <th></th>\n",
              "      <th>Variable</th>\n",
              "      <th>Description</th>\n",
              "    </tr>\n",
              "  </thead>\n",
              "  <tbody>\n",
              "    <tr>\n",
              "      <th>71</th>\n",
              "      <td>MAX_MBL_F7</td>\n",
              "      <td>Max main balance in first 7 days</td>\n",
              "    </tr>\n",
              "    <tr>\n",
              "      <th>72</th>\n",
              "      <td>MAX_MBL_F7_EX1</td>\n",
              "      <td>Max main balance in first 7 days excluding 1st...</td>\n",
              "    </tr>\n",
              "    <tr>\n",
              "      <th>73</th>\n",
              "      <td>MAX_MRP_HIGH_AMT_F10</td>\n",
              "      <td>Max amount of recharge in first 10 days</td>\n",
              "    </tr>\n",
              "    <tr>\n",
              "      <th>74</th>\n",
              "      <td>MAX_MRP_HIGH_AMT_F4</td>\n",
              "      <td>Max amount of recharge in first 4 days</td>\n",
              "    </tr>\n",
              "    <tr>\n",
              "      <th>75</th>\n",
              "      <td>MAX_MRP_HIGH_AMT_F7</td>\n",
              "      <td>Max amount of recharge in first 7 days</td>\n",
              "    </tr>\n",
              "    <tr>\n",
              "      <th>76</th>\n",
              "      <td>OG_CALLS_F10</td>\n",
              "      <td>Outgoing calls in first 10 days</td>\n",
              "    </tr>\n",
              "    <tr>\n",
              "      <th>77</th>\n",
              "      <td>OG_CALLS_F4</td>\n",
              "      <td>Outgoing calls in first 4 days</td>\n",
              "    </tr>\n",
              "    <tr>\n",
              "      <th>78</th>\n",
              "      <td>OG_CALLS_F7</td>\n",
              "      <td>Outgoing calls in first 7 days</td>\n",
              "    </tr>\n",
              "    <tr>\n",
              "      <th>79</th>\n",
              "      <td>OG_MOU_F10</td>\n",
              "      <td>Outgoing minute of usage in first 10 days</td>\n",
              "    </tr>\n",
              "    <tr>\n",
              "      <th>80</th>\n",
              "      <td>OG_MOU_F4</td>\n",
              "      <td>Outgoing minute of usage in first 4 days</td>\n",
              "    </tr>\n",
              "  </tbody>\n",
              "</table>\n",
              "</div>"
            ],
            "text/plain": [
              "                Variable                                        Description\n",
              "71            MAX_MBL_F7                   Max main balance in first 7 days\n",
              "72        MAX_MBL_F7_EX1  Max main balance in first 7 days excluding 1st...\n",
              "73  MAX_MRP_HIGH_AMT_F10            Max amount of recharge in first 10 days\n",
              "74   MAX_MRP_HIGH_AMT_F4             Max amount of recharge in first 4 days\n",
              "75   MAX_MRP_HIGH_AMT_F7             Max amount of recharge in first 7 days\n",
              "76          OG_CALLS_F10                    Outgoing calls in first 10 days\n",
              "77           OG_CALLS_F4                     Outgoing calls in first 4 days\n",
              "78           OG_CALLS_F7                     Outgoing calls in first 7 days\n",
              "79            OG_MOU_F10          Outgoing minute of usage in first 10 days\n",
              "80             OG_MOU_F4           Outgoing minute of usage in first 4 days"
            ]
          },
          "execution_count": 14,
          "metadata": {},
          "output_type": "execute_result"
        }
      ],
      "source": [
        "metadata[71:81]"
      ]
    },
    {
      "cell_type": "code",
      "execution_count": 15,
      "metadata": {
        "colab": {
          "base_uri": "https://localhost:8080/",
          "height": 363
        },
        "id": "XZ2nn8qNNtCj",
        "outputId": "7e0453a2-6b9b-4236-cce7-93fcbe1885c5"
      },
      "outputs": [
        {
          "data": {
            "text/html": [
              "<div>\n",
              "<style scoped>\n",
              "    .dataframe tbody tr th:only-of-type {\n",
              "        vertical-align: middle;\n",
              "    }\n",
              "\n",
              "    .dataframe tbody tr th {\n",
              "        vertical-align: top;\n",
              "    }\n",
              "\n",
              "    .dataframe thead th {\n",
              "        text-align: right;\n",
              "    }\n",
              "</style>\n",
              "<table border=\"1\" class=\"dataframe\">\n",
              "  <thead>\n",
              "    <tr style=\"text-align: right;\">\n",
              "      <th></th>\n",
              "      <th>Variable</th>\n",
              "      <th>Description</th>\n",
              "    </tr>\n",
              "  </thead>\n",
              "  <tbody>\n",
              "    <tr>\n",
              "      <th>81</th>\n",
              "      <td>OG_MOU_F7</td>\n",
              "      <td>Outgoing minute of usage in first 7 days</td>\n",
              "    </tr>\n",
              "    <tr>\n",
              "      <th>82</th>\n",
              "      <td>RCHG_AMOUNT_F10</td>\n",
              "      <td>Total recharge amount in first 10 days</td>\n",
              "    </tr>\n",
              "    <tr>\n",
              "      <th>83</th>\n",
              "      <td>RCHG_AMOUNT_F4</td>\n",
              "      <td>Total recharge amount in first 4 days</td>\n",
              "    </tr>\n",
              "    <tr>\n",
              "      <th>84</th>\n",
              "      <td>RCHG_AMOUNT_F7</td>\n",
              "      <td>Total recharge amount in first 7 days</td>\n",
              "    </tr>\n",
              "    <tr>\n",
              "      <th>85</th>\n",
              "      <td>SD_ICMOU_F10</td>\n",
              "      <td>Standard deviation of incoming minute of usage...</td>\n",
              "    </tr>\n",
              "    <tr>\n",
              "      <th>86</th>\n",
              "      <td>SD_ICMOU_F4</td>\n",
              "      <td>Standard deviation of incoming minute of usage...</td>\n",
              "    </tr>\n",
              "    <tr>\n",
              "      <th>87</th>\n",
              "      <td>SD_ICMOU_F7</td>\n",
              "      <td>Standard deviation of incoming minute of usage...</td>\n",
              "    </tr>\n",
              "    <tr>\n",
              "      <th>88</th>\n",
              "      <td>SD_MBL_F10</td>\n",
              "      <td>Standard deviation of main balance in first 10...</td>\n",
              "    </tr>\n",
              "    <tr>\n",
              "      <th>89</th>\n",
              "      <td>SD_MBL_F4</td>\n",
              "      <td>Standard deviation of main balance in first 4 ...</td>\n",
              "    </tr>\n",
              "    <tr>\n",
              "      <th>90</th>\n",
              "      <td>SD_MBL_F7</td>\n",
              "      <td>Standard deviation of main balance in first 7 ...</td>\n",
              "    </tr>\n",
              "  </tbody>\n",
              "</table>\n",
              "</div>"
            ],
            "text/plain": [
              "           Variable                                        Description\n",
              "81        OG_MOU_F7           Outgoing minute of usage in first 7 days\n",
              "82  RCHG_AMOUNT_F10             Total recharge amount in first 10 days\n",
              "83   RCHG_AMOUNT_F4              Total recharge amount in first 4 days\n",
              "84   RCHG_AMOUNT_F7              Total recharge amount in first 7 days\n",
              "85     SD_ICMOU_F10  Standard deviation of incoming minute of usage...\n",
              "86      SD_ICMOU_F4  Standard deviation of incoming minute of usage...\n",
              "87      SD_ICMOU_F7  Standard deviation of incoming minute of usage...\n",
              "88       SD_MBL_F10  Standard deviation of main balance in first 10...\n",
              "89        SD_MBL_F4  Standard deviation of main balance in first 4 ...\n",
              "90        SD_MBL_F7  Standard deviation of main balance in first 7 ..."
            ]
          },
          "execution_count": 15,
          "metadata": {},
          "output_type": "execute_result"
        }
      ],
      "source": [
        "metadata[81:91]"
      ]
    },
    {
      "cell_type": "code",
      "execution_count": 16,
      "metadata": {
        "colab": {
          "base_uri": "https://localhost:8080/",
          "height": 613
        },
        "id": "ZD4QUFx3Ns_l",
        "outputId": "58f2b09c-c815-4611-dc7f-5031c86c4067"
      },
      "outputs": [
        {
          "data": {
            "text/html": [
              "<div>\n",
              "<style scoped>\n",
              "    .dataframe tbody tr th:only-of-type {\n",
              "        vertical-align: middle;\n",
              "    }\n",
              "\n",
              "    .dataframe tbody tr th {\n",
              "        vertical-align: top;\n",
              "    }\n",
              "\n",
              "    .dataframe thead th {\n",
              "        text-align: right;\n",
              "    }\n",
              "</style>\n",
              "<table border=\"1\" class=\"dataframe\">\n",
              "  <thead>\n",
              "    <tr style=\"text-align: right;\">\n",
              "      <th></th>\n",
              "      <th>Variable</th>\n",
              "      <th>Description</th>\n",
              "    </tr>\n",
              "  </thead>\n",
              "  <tbody>\n",
              "    <tr>\n",
              "      <th>91</th>\n",
              "      <td>SD_OGMOU_F10</td>\n",
              "      <td>Standard deviation of outgoing minute of usage...</td>\n",
              "    </tr>\n",
              "    <tr>\n",
              "      <th>92</th>\n",
              "      <td>SD_OGMOU_F4</td>\n",
              "      <td>Standard deviation of outgoing minute of usage...</td>\n",
              "    </tr>\n",
              "    <tr>\n",
              "      <th>93</th>\n",
              "      <td>SD_OGMOU_F7</td>\n",
              "      <td>Standard deviation of outgoing minute of usage...</td>\n",
              "    </tr>\n",
              "    <tr>\n",
              "      <th>94</th>\n",
              "      <td>SLP_ICMOU_F10</td>\n",
              "      <td>Slope of incoming minute of usage in first 10 ...</td>\n",
              "    </tr>\n",
              "    <tr>\n",
              "      <th>95</th>\n",
              "      <td>SLP_ICMOU_F4</td>\n",
              "      <td>Slope of incoming minute of usage in first 4 days</td>\n",
              "    </tr>\n",
              "    <tr>\n",
              "      <th>96</th>\n",
              "      <td>SLP_ICMOU_F7</td>\n",
              "      <td>Slope of incoming minute of usage in first 7 days</td>\n",
              "    </tr>\n",
              "    <tr>\n",
              "      <th>97</th>\n",
              "      <td>SLP_MBL_F10</td>\n",
              "      <td>Slope of main balance in first 10 days</td>\n",
              "    </tr>\n",
              "    <tr>\n",
              "      <th>98</th>\n",
              "      <td>SLP_MBL_F4</td>\n",
              "      <td>Slope of main balance in first 4 days</td>\n",
              "    </tr>\n",
              "    <tr>\n",
              "      <th>99</th>\n",
              "      <td>SLP_MBL_F7</td>\n",
              "      <td>Slope of main balance in first 7days</td>\n",
              "    </tr>\n",
              "    <tr>\n",
              "      <th>100</th>\n",
              "      <td>SLP_OGMOU_F10</td>\n",
              "      <td>Slope of outgoing minute of usage in first 10 ...</td>\n",
              "    </tr>\n",
              "    <tr>\n",
              "      <th>101</th>\n",
              "      <td>SLP_OGMOU_F4</td>\n",
              "      <td>Slope of outgoing minute of usage in first 4 days</td>\n",
              "    </tr>\n",
              "    <tr>\n",
              "      <th>102</th>\n",
              "      <td>SLP_OGMOU_F7</td>\n",
              "      <td>Slope of outgoing minute of usage in first 7 days</td>\n",
              "    </tr>\n",
              "    <tr>\n",
              "      <th>103</th>\n",
              "      <td>SUBS_ACTIVATION_DT</td>\n",
              "      <td>Date of Activation</td>\n",
              "    </tr>\n",
              "    <tr>\n",
              "      <th>104</th>\n",
              "      <td>SUBS_KEY</td>\n",
              "      <td>Unique Identifier</td>\n",
              "    </tr>\n",
              "    <tr>\n",
              "      <th>105</th>\n",
              "      <td>SUM_RCHG_MRP_L10</td>\n",
              "      <td>Sum of recharge amount in first 10 days</td>\n",
              "    </tr>\n",
              "    <tr>\n",
              "      <th>106</th>\n",
              "      <td>TARGET</td>\n",
              "      <td>Churn in next month</td>\n",
              "    </tr>\n",
              "    <tr>\n",
              "      <th>107</th>\n",
              "      <td>TARGET_21_30</td>\n",
              "      <td>Churn in between 21 to 30 days</td>\n",
              "    </tr>\n",
              "    <tr>\n",
              "      <th>108</th>\n",
              "      <td>USAGE_SPREAD</td>\n",
              "      <td>Score on the uniform usage in first 10 days</td>\n",
              "    </tr>\n",
              "  </tbody>\n",
              "</table>\n",
              "</div>"
            ],
            "text/plain": [
              "               Variable                                        Description\n",
              "91         SD_OGMOU_F10  Standard deviation of outgoing minute of usage...\n",
              "92          SD_OGMOU_F4  Standard deviation of outgoing minute of usage...\n",
              "93          SD_OGMOU_F7  Standard deviation of outgoing minute of usage...\n",
              "94        SLP_ICMOU_F10  Slope of incoming minute of usage in first 10 ...\n",
              "95         SLP_ICMOU_F4  Slope of incoming minute of usage in first 4 days\n",
              "96         SLP_ICMOU_F7  Slope of incoming minute of usage in first 7 days\n",
              "97          SLP_MBL_F10             Slope of main balance in first 10 days\n",
              "98           SLP_MBL_F4              Slope of main balance in first 4 days\n",
              "99           SLP_MBL_F7               Slope of main balance in first 7days\n",
              "100       SLP_OGMOU_F10  Slope of outgoing minute of usage in first 10 ...\n",
              "101        SLP_OGMOU_F4  Slope of outgoing minute of usage in first 4 days\n",
              "102        SLP_OGMOU_F7  Slope of outgoing minute of usage in first 7 days\n",
              "103  SUBS_ACTIVATION_DT                                 Date of Activation\n",
              "104            SUBS_KEY                                  Unique Identifier\n",
              "105    SUM_RCHG_MRP_L10            Sum of recharge amount in first 10 days\n",
              "106              TARGET                                Churn in next month\n",
              "107        TARGET_21_30                     Churn in between 21 to 30 days\n",
              "108        USAGE_SPREAD        Score on the uniform usage in first 10 days"
            ]
          },
          "execution_count": 16,
          "metadata": {},
          "output_type": "execute_result"
        }
      ],
      "source": [
        "metadata[91:]"
      ]
    },
    {
      "cell_type": "code",
      "execution_count": 17,
      "metadata": {
        "colab": {
          "base_uri": "https://localhost:8080/",
          "height": 487
        },
        "id": "xN5FtbgZPjxg",
        "outputId": "805b2614-1655-4c1b-e4f0-bca7a2296788"
      },
      "outputs": [
        {
          "data": {
            "text/html": [
              "<div>\n",
              "<style scoped>\n",
              "    .dataframe tbody tr th:only-of-type {\n",
              "        vertical-align: middle;\n",
              "    }\n",
              "\n",
              "    .dataframe tbody tr th {\n",
              "        vertical-align: top;\n",
              "    }\n",
              "\n",
              "    .dataframe thead th {\n",
              "        text-align: right;\n",
              "    }\n",
              "</style>\n",
              "<table border=\"1\" class=\"dataframe\">\n",
              "  <thead>\n",
              "    <tr style=\"text-align: right;\">\n",
              "      <th></th>\n",
              "      <th>SUBS_KEY</th>\n",
              "      <th>TARGET</th>\n",
              "      <th>OG_MOU_F4</th>\n",
              "      <th>IC_MOU_F4</th>\n",
              "      <th>OG_CALLS_F4</th>\n",
              "      <th>IC_CALLS_F4</th>\n",
              "      <th>RCHG_AMOUNT_F4</th>\n",
              "      <th>CNT_RCHG_F4</th>\n",
              "      <th>AVG_MBL_F4</th>\n",
              "      <th>IC_OG_RATIO_F4</th>\n",
              "      <th>...</th>\n",
              "      <th>AVG_NIG_USG_F10</th>\n",
              "      <th>AVG_STD_USG_F4</th>\n",
              "      <th>AVG_STD_USG_F7</th>\n",
              "      <th>AVG_STD_USG_F10</th>\n",
              "      <th>DND</th>\n",
              "      <th>DND_INFO</th>\n",
              "      <th>CHG_IC_MOU_L5_F5</th>\n",
              "      <th>USAGE_SPREAD</th>\n",
              "      <th>SUM_RCHG_MRP_L10</th>\n",
              "      <th>TARGET_21_30</th>\n",
              "    </tr>\n",
              "  </thead>\n",
              "  <tbody>\n",
              "    <tr>\n",
              "      <th>0</th>\n",
              "      <td>623576580</td>\n",
              "      <td>1</td>\n",
              "      <td>2.93</td>\n",
              "      <td>0.00</td>\n",
              "      <td>1</td>\n",
              "      <td>0</td>\n",
              "      <td>0</td>\n",
              "      <td>0</td>\n",
              "      <td>9.12</td>\n",
              "      <td>0.00</td>\n",
              "      <td>...</td>\n",
              "      <td>0.00</td>\n",
              "      <td>0.00</td>\n",
              "      <td>0.00</td>\n",
              "      <td>0.00</td>\n",
              "      <td>0</td>\n",
              "      <td>0</td>\n",
              "      <td>0.00</td>\n",
              "      <td>0.04</td>\n",
              "      <td>0</td>\n",
              "      <td>1</td>\n",
              "    </tr>\n",
              "    <tr>\n",
              "      <th>1</th>\n",
              "      <td>623576616</td>\n",
              "      <td>0</td>\n",
              "      <td>23.03</td>\n",
              "      <td>59.03</td>\n",
              "      <td>6</td>\n",
              "      <td>14</td>\n",
              "      <td>0</td>\n",
              "      <td>0</td>\n",
              "      <td>1.33</td>\n",
              "      <td>2.56</td>\n",
              "      <td>...</td>\n",
              "      <td>0.00</td>\n",
              "      <td>1.88</td>\n",
              "      <td>0.51</td>\n",
              "      <td>0.58</td>\n",
              "      <td>0</td>\n",
              "      <td>0</td>\n",
              "      <td>-0.25</td>\n",
              "      <td>0.30</td>\n",
              "      <td>70</td>\n",
              "      <td>0</td>\n",
              "    </tr>\n",
              "    <tr>\n",
              "      <th>2</th>\n",
              "      <td>623576617</td>\n",
              "      <td>0</td>\n",
              "      <td>16.25</td>\n",
              "      <td>24.73</td>\n",
              "      <td>12</td>\n",
              "      <td>18</td>\n",
              "      <td>95</td>\n",
              "      <td>2</td>\n",
              "      <td>16.48</td>\n",
              "      <td>1.52</td>\n",
              "      <td>...</td>\n",
              "      <td>0.14</td>\n",
              "      <td>0.00</td>\n",
              "      <td>0.00</td>\n",
              "      <td>0.00</td>\n",
              "      <td>0</td>\n",
              "      <td>0</td>\n",
              "      <td>0.77</td>\n",
              "      <td>0.36</td>\n",
              "      <td>288</td>\n",
              "      <td>0</td>\n",
              "    </tr>\n",
              "    <tr>\n",
              "      <th>3</th>\n",
              "      <td>623576618</td>\n",
              "      <td>1</td>\n",
              "      <td>3.27</td>\n",
              "      <td>6.42</td>\n",
              "      <td>4</td>\n",
              "      <td>10</td>\n",
              "      <td>0</td>\n",
              "      <td>0</td>\n",
              "      <td>7.70</td>\n",
              "      <td>1.96</td>\n",
              "      <td>...</td>\n",
              "      <td>0.17</td>\n",
              "      <td>0.00</td>\n",
              "      <td>0.00</td>\n",
              "      <td>0.00</td>\n",
              "      <td>0</td>\n",
              "      <td>0</td>\n",
              "      <td>0.11</td>\n",
              "      <td>0.26</td>\n",
              "      <td>0</td>\n",
              "      <td>1</td>\n",
              "    </tr>\n",
              "    <tr>\n",
              "      <th>4</th>\n",
              "      <td>623576655</td>\n",
              "      <td>1</td>\n",
              "      <td>0.00</td>\n",
              "      <td>0.00</td>\n",
              "      <td>0</td>\n",
              "      <td>0</td>\n",
              "      <td>0</td>\n",
              "      <td>0</td>\n",
              "      <td>10.00</td>\n",
              "      <td>999.00</td>\n",
              "      <td>...</td>\n",
              "      <td>0.00</td>\n",
              "      <td>0.00</td>\n",
              "      <td>0.00</td>\n",
              "      <td>0.00</td>\n",
              "      <td>0</td>\n",
              "      <td>0</td>\n",
              "      <td>0.00</td>\n",
              "      <td>0.00</td>\n",
              "      <td>0</td>\n",
              "      <td>0</td>\n",
              "    </tr>\n",
              "    <tr>\n",
              "      <th>...</th>\n",
              "      <td>...</td>\n",
              "      <td>...</td>\n",
              "      <td>...</td>\n",
              "      <td>...</td>\n",
              "      <td>...</td>\n",
              "      <td>...</td>\n",
              "      <td>...</td>\n",
              "      <td>...</td>\n",
              "      <td>...</td>\n",
              "      <td>...</td>\n",
              "      <td>...</td>\n",
              "      <td>...</td>\n",
              "      <td>...</td>\n",
              "      <td>...</td>\n",
              "      <td>...</td>\n",
              "      <td>...</td>\n",
              "      <td>...</td>\n",
              "      <td>...</td>\n",
              "      <td>...</td>\n",
              "      <td>...</td>\n",
              "      <td>...</td>\n",
              "    </tr>\n",
              "    <tr>\n",
              "      <th>4995</th>\n",
              "      <td>623614881</td>\n",
              "      <td>1</td>\n",
              "      <td>0.00</td>\n",
              "      <td>0.97</td>\n",
              "      <td>1</td>\n",
              "      <td>3</td>\n",
              "      <td>58</td>\n",
              "      <td>1</td>\n",
              "      <td>67.40</td>\n",
              "      <td>999.00</td>\n",
              "      <td>...</td>\n",
              "      <td>0.00</td>\n",
              "      <td>0.00</td>\n",
              "      <td>0.00</td>\n",
              "      <td>0.00</td>\n",
              "      <td>0</td>\n",
              "      <td>0</td>\n",
              "      <td>-0.52</td>\n",
              "      <td>0.08</td>\n",
              "      <td>58</td>\n",
              "      <td>1</td>\n",
              "    </tr>\n",
              "    <tr>\n",
              "      <th>4996</th>\n",
              "      <td>623614882</td>\n",
              "      <td>0</td>\n",
              "      <td>3.63</td>\n",
              "      <td>9.70</td>\n",
              "      <td>6</td>\n",
              "      <td>9</td>\n",
              "      <td>0</td>\n",
              "      <td>0</td>\n",
              "      <td>6.85</td>\n",
              "      <td>2.67</td>\n",
              "      <td>...</td>\n",
              "      <td>0.00</td>\n",
              "      <td>0.00</td>\n",
              "      <td>0.00</td>\n",
              "      <td>0.00</td>\n",
              "      <td>0</td>\n",
              "      <td>0</td>\n",
              "      <td>1.21</td>\n",
              "      <td>0.18</td>\n",
              "      <td>20</td>\n",
              "      <td>0</td>\n",
              "    </tr>\n",
              "    <tr>\n",
              "      <th>4997</th>\n",
              "      <td>623614883</td>\n",
              "      <td>1</td>\n",
              "      <td>0.00</td>\n",
              "      <td>0.00</td>\n",
              "      <td>0</td>\n",
              "      <td>0</td>\n",
              "      <td>198</td>\n",
              "      <td>1</td>\n",
              "      <td>10.00</td>\n",
              "      <td>999.00</td>\n",
              "      <td>...</td>\n",
              "      <td>0.00</td>\n",
              "      <td>0.00</td>\n",
              "      <td>0.00</td>\n",
              "      <td>0.00</td>\n",
              "      <td>0</td>\n",
              "      <td>0</td>\n",
              "      <td>0.00</td>\n",
              "      <td>0.04</td>\n",
              "      <td>198</td>\n",
              "      <td>0</td>\n",
              "    </tr>\n",
              "    <tr>\n",
              "      <th>4998</th>\n",
              "      <td>623614884</td>\n",
              "      <td>0</td>\n",
              "      <td>11.02</td>\n",
              "      <td>1.97</td>\n",
              "      <td>8</td>\n",
              "      <td>2</td>\n",
              "      <td>48</td>\n",
              "      <td>1</td>\n",
              "      <td>55.00</td>\n",
              "      <td>0.18</td>\n",
              "      <td>...</td>\n",
              "      <td>0.00</td>\n",
              "      <td>0.24</td>\n",
              "      <td>0.14</td>\n",
              "      <td>0.08</td>\n",
              "      <td>0</td>\n",
              "      <td>0</td>\n",
              "      <td>-1.00</td>\n",
              "      <td>0.18</td>\n",
              "      <td>48</td>\n",
              "      <td>0</td>\n",
              "    </tr>\n",
              "    <tr>\n",
              "      <th>4999</th>\n",
              "      <td>623614885</td>\n",
              "      <td>1</td>\n",
              "      <td>0.00</td>\n",
              "      <td>0.37</td>\n",
              "      <td>0</td>\n",
              "      <td>1</td>\n",
              "      <td>18</td>\n",
              "      <td>1</td>\n",
              "      <td>22.33</td>\n",
              "      <td>999.00</td>\n",
              "      <td>...</td>\n",
              "      <td>0.00</td>\n",
              "      <td>0.00</td>\n",
              "      <td>0.00</td>\n",
              "      <td>0.00</td>\n",
              "      <td>0</td>\n",
              "      <td>0</td>\n",
              "      <td>-1.00</td>\n",
              "      <td>0.08</td>\n",
              "      <td>49</td>\n",
              "      <td>1</td>\n",
              "    </tr>\n",
              "  </tbody>\n",
              "</table>\n",
              "<p>5000 rows × 109 columns</p>\n",
              "</div>"
            ],
            "text/plain": [
              "       SUBS_KEY  TARGET  OG_MOU_F4  IC_MOU_F4  OG_CALLS_F4  IC_CALLS_F4  \\\n",
              "0     623576580       1       2.93       0.00            1            0   \n",
              "1     623576616       0      23.03      59.03            6           14   \n",
              "2     623576617       0      16.25      24.73           12           18   \n",
              "3     623576618       1       3.27       6.42            4           10   \n",
              "4     623576655       1       0.00       0.00            0            0   \n",
              "...         ...     ...        ...        ...          ...          ...   \n",
              "4995  623614881       1       0.00       0.97            1            3   \n",
              "4996  623614882       0       3.63       9.70            6            9   \n",
              "4997  623614883       1       0.00       0.00            0            0   \n",
              "4998  623614884       0      11.02       1.97            8            2   \n",
              "4999  623614885       1       0.00       0.37            0            1   \n",
              "\n",
              "      RCHG_AMOUNT_F4  CNT_RCHG_F4  AVG_MBL_F4  IC_OG_RATIO_F4  ...  \\\n",
              "0                  0            0        9.12            0.00  ...   \n",
              "1                  0            0        1.33            2.56  ...   \n",
              "2                 95            2       16.48            1.52  ...   \n",
              "3                  0            0        7.70            1.96  ...   \n",
              "4                  0            0       10.00          999.00  ...   \n",
              "...              ...          ...         ...             ...  ...   \n",
              "4995              58            1       67.40          999.00  ...   \n",
              "4996               0            0        6.85            2.67  ...   \n",
              "4997             198            1       10.00          999.00  ...   \n",
              "4998              48            1       55.00            0.18  ...   \n",
              "4999              18            1       22.33          999.00  ...   \n",
              "\n",
              "      AVG_NIG_USG_F10  AVG_STD_USG_F4  AVG_STD_USG_F7  AVG_STD_USG_F10  DND  \\\n",
              "0                0.00            0.00            0.00             0.00    0   \n",
              "1                0.00            1.88            0.51             0.58    0   \n",
              "2                0.14            0.00            0.00             0.00    0   \n",
              "3                0.17            0.00            0.00             0.00    0   \n",
              "4                0.00            0.00            0.00             0.00    0   \n",
              "...               ...             ...             ...              ...  ...   \n",
              "4995             0.00            0.00            0.00             0.00    0   \n",
              "4996             0.00            0.00            0.00             0.00    0   \n",
              "4997             0.00            0.00            0.00             0.00    0   \n",
              "4998             0.00            0.24            0.14             0.08    0   \n",
              "4999             0.00            0.00            0.00             0.00    0   \n",
              "\n",
              "      DND_INFO  CHG_IC_MOU_L5_F5  USAGE_SPREAD  SUM_RCHG_MRP_L10  TARGET_21_30  \n",
              "0            0              0.00          0.04                 0             1  \n",
              "1            0             -0.25          0.30                70             0  \n",
              "2            0              0.77          0.36               288             0  \n",
              "3            0              0.11          0.26                 0             1  \n",
              "4            0              0.00          0.00                 0             0  \n",
              "...        ...               ...           ...               ...           ...  \n",
              "4995         0             -0.52          0.08                58             1  \n",
              "4996         0              1.21          0.18                20             0  \n",
              "4997         0              0.00          0.04               198             0  \n",
              "4998         0             -1.00          0.18                48             0  \n",
              "4999         0             -1.00          0.08                49             1  \n",
              "\n",
              "[5000 rows x 109 columns]"
            ]
          },
          "execution_count": 17,
          "metadata": {},
          "output_type": "execute_result"
        }
      ],
      "source": [
        "df"
      ]
    },
    {
      "cell_type": "code",
      "execution_count": 18,
      "metadata": {
        "colab": {
          "base_uri": "https://localhost:8080/"
        },
        "id": "kDW--fGYPwAo",
        "outputId": "ce22f40b-befe-46e0-d7b0-e5194809cde9"
      },
      "outputs": [
        {
          "data": {
            "text/plain": [
              "0         0\n",
              "1        70\n",
              "2       288\n",
              "3         0\n",
              "4         0\n",
              "       ... \n",
              "4995     58\n",
              "4996      0\n",
              "4997    198\n",
              "4998     48\n",
              "4999     49\n",
              "Name: RCHG_AMOUNT_F7, Length: 5000, dtype: int64"
            ]
          },
          "execution_count": 18,
          "metadata": {},
          "output_type": "execute_result"
        }
      ],
      "source": [
        "df['RCHG_AMOUNT_F7']"
      ]
    },
    {
      "cell_type": "code",
      "execution_count": 19,
      "metadata": {
        "colab": {
          "base_uri": "https://localhost:8080/",
          "height": 174
        },
        "id": "SWuBdBy4Pw_3",
        "outputId": "a57fc6b4-11e3-49bd-c80e-b331a5ab3745"
      },
      "outputs": [
        {
          "data": {
            "text/html": [
              "<div>\n",
              "<style scoped>\n",
              "    .dataframe tbody tr th:only-of-type {\n",
              "        vertical-align: middle;\n",
              "    }\n",
              "\n",
              "    .dataframe tbody tr th {\n",
              "        vertical-align: top;\n",
              "    }\n",
              "\n",
              "    .dataframe thead th {\n",
              "        text-align: right;\n",
              "    }\n",
              "</style>\n",
              "<table border=\"1\" class=\"dataframe\">\n",
              "  <thead>\n",
              "    <tr style=\"text-align: right;\">\n",
              "      <th></th>\n",
              "      <th>SUBS_KEY</th>\n",
              "      <th>TARGET</th>\n",
              "      <th>OG_MOU_F4</th>\n",
              "      <th>IC_MOU_F4</th>\n",
              "      <th>OG_CALLS_F4</th>\n",
              "      <th>IC_CALLS_F4</th>\n",
              "      <th>RCHG_AMOUNT_F4</th>\n",
              "      <th>CNT_RCHG_F4</th>\n",
              "      <th>AVG_MBL_F4</th>\n",
              "      <th>IC_OG_RATIO_F4</th>\n",
              "      <th>...</th>\n",
              "      <th>AVG_NIG_USG_F10</th>\n",
              "      <th>AVG_STD_USG_F4</th>\n",
              "      <th>AVG_STD_USG_F7</th>\n",
              "      <th>AVG_STD_USG_F10</th>\n",
              "      <th>DND</th>\n",
              "      <th>DND_INFO</th>\n",
              "      <th>CHG_IC_MOU_L5_F5</th>\n",
              "      <th>USAGE_SPREAD</th>\n",
              "      <th>SUM_RCHG_MRP_L10</th>\n",
              "      <th>TARGET_21_30</th>\n",
              "    </tr>\n",
              "  </thead>\n",
              "  <tbody>\n",
              "    <tr>\n",
              "      <th>33</th>\n",
              "      <td>623576823</td>\n",
              "      <td>1</td>\n",
              "      <td>0.98</td>\n",
              "      <td>0.83</td>\n",
              "      <td>1</td>\n",
              "      <td>1</td>\n",
              "      <td>1920</td>\n",
              "      <td>3</td>\n",
              "      <td>227.56</td>\n",
              "      <td>0.85</td>\n",
              "      <td>...</td>\n",
              "      <td>0.0</td>\n",
              "      <td>0.0</td>\n",
              "      <td>0.0</td>\n",
              "      <td>0.0</td>\n",
              "      <td>0</td>\n",
              "      <td>0</td>\n",
              "      <td>-1.0</td>\n",
              "      <td>0.04</td>\n",
              "      <td>1920</td>\n",
              "      <td>0</td>\n",
              "    </tr>\n",
              "  </tbody>\n",
              "</table>\n",
              "<p>1 rows × 109 columns</p>\n",
              "</div>"
            ],
            "text/plain": [
              "     SUBS_KEY  TARGET  OG_MOU_F4  IC_MOU_F4  OG_CALLS_F4  IC_CALLS_F4  \\\n",
              "33  623576823       1       0.98       0.83            1            1   \n",
              "\n",
              "    RCHG_AMOUNT_F4  CNT_RCHG_F4  AVG_MBL_F4  IC_OG_RATIO_F4  ...  \\\n",
              "33            1920            3      227.56            0.85  ...   \n",
              "\n",
              "    AVG_NIG_USG_F10  AVG_STD_USG_F4  AVG_STD_USG_F7  AVG_STD_USG_F10  DND  \\\n",
              "33              0.0             0.0             0.0              0.0    0   \n",
              "\n",
              "    DND_INFO  CHG_IC_MOU_L5_F5  USAGE_SPREAD  SUM_RCHG_MRP_L10  TARGET_21_30  \n",
              "33         0              -1.0          0.04              1920             0  \n",
              "\n",
              "[1 rows x 109 columns]"
            ]
          },
          "execution_count": 19,
          "metadata": {},
          "output_type": "execute_result"
        }
      ],
      "source": [
        "df[df['MAX_MRP_HIGH_AMT_F7']==df['MAX_MRP_HIGH_AMT_F7'].max()]"
      ]
    },
    {
      "cell_type": "code",
      "execution_count": 20,
      "metadata": {
        "colab": {
          "base_uri": "https://localhost:8080/",
          "height": 81
        },
        "id": "TSxPnzUcQfIJ",
        "outputId": "093e9034-aff4-4e54-d7e7-6cbdef295459"
      },
      "outputs": [
        {
          "data": {
            "text/html": [
              "<div>\n",
              "<style scoped>\n",
              "    .dataframe tbody tr th:only-of-type {\n",
              "        vertical-align: middle;\n",
              "    }\n",
              "\n",
              "    .dataframe tbody tr th {\n",
              "        vertical-align: top;\n",
              "    }\n",
              "\n",
              "    .dataframe thead th {\n",
              "        text-align: right;\n",
              "    }\n",
              "</style>\n",
              "<table border=\"1\" class=\"dataframe\">\n",
              "  <thead>\n",
              "    <tr style=\"text-align: right;\">\n",
              "      <th></th>\n",
              "      <th>MAX_MRP_HIGH_AMT_F7</th>\n",
              "      <th>CNT_VLR_INS_F10</th>\n",
              "    </tr>\n",
              "  </thead>\n",
              "  <tbody>\n",
              "    <tr>\n",
              "      <th>33</th>\n",
              "      <td>1495</td>\n",
              "      <td>10</td>\n",
              "    </tr>\n",
              "  </tbody>\n",
              "</table>\n",
              "</div>"
            ],
            "text/plain": [
              "    MAX_MRP_HIGH_AMT_F7  CNT_VLR_INS_F10\n",
              "33                 1495               10"
            ]
          },
          "execution_count": 20,
          "metadata": {},
          "output_type": "execute_result"
        }
      ],
      "source": [
        "df[df['MAX_MRP_HIGH_AMT_F7']==df['MAX_MRP_HIGH_AMT_F7'].max()][['MAX_MRP_HIGH_AMT_F7','CNT_VLR_INS_F10']]"
      ]
    },
    {
      "cell_type": "markdown",
      "metadata": {
        "id": "4gS6iKbrLQt_"
      },
      "source": [
        "# 1. The sales manager wants to know about a customer who has the highest recharge in the first 7 days and how many days that customer is on VLR (being on the network) in the first 10 days?"
      ]
    },
    {
      "cell_type": "code",
      "execution_count": 21,
      "metadata": {
        "colab": {
          "base_uri": "https://localhost:8080/",
          "height": 174
        },
        "id": "7HB3mZitQ5eG",
        "outputId": "096a27c5-3332-423d-90ec-370f7cdfd365"
      },
      "outputs": [
        {
          "data": {
            "text/html": [
              "<div>\n",
              "<style scoped>\n",
              "    .dataframe tbody tr th:only-of-type {\n",
              "        vertical-align: middle;\n",
              "    }\n",
              "\n",
              "    .dataframe tbody tr th {\n",
              "        vertical-align: top;\n",
              "    }\n",
              "\n",
              "    .dataframe thead th {\n",
              "        text-align: right;\n",
              "    }\n",
              "</style>\n",
              "<table border=\"1\" class=\"dataframe\">\n",
              "  <thead>\n",
              "    <tr style=\"text-align: right;\">\n",
              "      <th></th>\n",
              "      <th>SUBS_KEY</th>\n",
              "      <th>TARGET</th>\n",
              "      <th>OG_MOU_F4</th>\n",
              "      <th>IC_MOU_F4</th>\n",
              "      <th>OG_CALLS_F4</th>\n",
              "      <th>IC_CALLS_F4</th>\n",
              "      <th>RCHG_AMOUNT_F4</th>\n",
              "      <th>CNT_RCHG_F4</th>\n",
              "      <th>AVG_MBL_F4</th>\n",
              "      <th>IC_OG_RATIO_F4</th>\n",
              "      <th>...</th>\n",
              "      <th>AVG_NIG_USG_F10</th>\n",
              "      <th>AVG_STD_USG_F4</th>\n",
              "      <th>AVG_STD_USG_F7</th>\n",
              "      <th>AVG_STD_USG_F10</th>\n",
              "      <th>DND</th>\n",
              "      <th>DND_INFO</th>\n",
              "      <th>CHG_IC_MOU_L5_F5</th>\n",
              "      <th>USAGE_SPREAD</th>\n",
              "      <th>SUM_RCHG_MRP_L10</th>\n",
              "      <th>TARGET_21_30</th>\n",
              "    </tr>\n",
              "  </thead>\n",
              "  <tbody>\n",
              "    <tr>\n",
              "      <th>33</th>\n",
              "      <td>623576823</td>\n",
              "      <td>1</td>\n",
              "      <td>0.98</td>\n",
              "      <td>0.83</td>\n",
              "      <td>1</td>\n",
              "      <td>1</td>\n",
              "      <td>1920</td>\n",
              "      <td>3</td>\n",
              "      <td>227.56</td>\n",
              "      <td>0.85</td>\n",
              "      <td>...</td>\n",
              "      <td>0.0</td>\n",
              "      <td>0.0</td>\n",
              "      <td>0.0</td>\n",
              "      <td>0.0</td>\n",
              "      <td>0</td>\n",
              "      <td>0</td>\n",
              "      <td>-1.0</td>\n",
              "      <td>0.04</td>\n",
              "      <td>1920</td>\n",
              "      <td>0</td>\n",
              "    </tr>\n",
              "  </tbody>\n",
              "</table>\n",
              "<p>1 rows × 109 columns</p>\n",
              "</div>"
            ],
            "text/plain": [
              "     SUBS_KEY  TARGET  OG_MOU_F4  IC_MOU_F4  OG_CALLS_F4  IC_CALLS_F4  \\\n",
              "33  623576823       1       0.98       0.83            1            1   \n",
              "\n",
              "    RCHG_AMOUNT_F4  CNT_RCHG_F4  AVG_MBL_F4  IC_OG_RATIO_F4  ...  \\\n",
              "33            1920            3      227.56            0.85  ...   \n",
              "\n",
              "    AVG_NIG_USG_F10  AVG_STD_USG_F4  AVG_STD_USG_F7  AVG_STD_USG_F10  DND  \\\n",
              "33              0.0             0.0             0.0              0.0    0   \n",
              "\n",
              "    DND_INFO  CHG_IC_MOU_L5_F5  USAGE_SPREAD  SUM_RCHG_MRP_L10  TARGET_21_30  \n",
              "33         0              -1.0          0.04              1920             0  \n",
              "\n",
              "[1 rows x 109 columns]"
            ]
          },
          "execution_count": 21,
          "metadata": {},
          "output_type": "execute_result"
        }
      ],
      "source": [
        "df[df['MAX_MRP_HIGH_AMT_F7']==df['MAX_MRP_HIGH_AMT_F7'].max()]"
      ]
    },
    {
      "cell_type": "markdown",
      "metadata": {
        "id": "NWfwRhpeTIzb"
      },
      "source": [
        "# 2. The marketing manager wants to know the average SLP IC MOU (slope ofIncoming call minute of usage) in the first 7 days of churned customers between 21to 30 days, so he can plan a marketing campaign accordingly.\n"
      ]
    },
    {
      "cell_type": "code",
      "execution_count": 22,
      "metadata": {
        "colab": {
          "base_uri": "https://localhost:8080/"
        },
        "id": "R6XwAOSRS5gO",
        "outputId": "f2b45242-84ed-4b67-94de-a3ff51e3f825"
      },
      "outputs": [
        {
          "data": {
            "text/plain": [
              "array([1, 0], dtype=int64)"
            ]
          },
          "execution_count": 22,
          "metadata": {},
          "output_type": "execute_result"
        }
      ],
      "source": [
        "df['TARGET_21_30'].unique()"
      ]
    },
    {
      "cell_type": "code",
      "execution_count": 49,
      "metadata": {
        "colab": {
          "base_uri": "https://localhost:8080/"
        },
        "id": "_DIJE70ETcyQ",
        "outputId": "3dadef86-2b72-44a9-d5e6-7f8e37b76ba2"
      },
      "outputs": [
        {
          "data": {
            "text/plain": [
              "0.18823757763975155"
            ]
          },
          "execution_count": 49,
          "metadata": {},
          "output_type": "execute_result"
        }
      ],
      "source": [
        "df[df['TARGET_21_30']==1]['SLP_ICMOU_F7'].mean()"
      ]
    },
    {
      "cell_type": "markdown",
      "metadata": {
        "id": "tTFXvguTTyu2"
      },
      "source": [
        "#3. Management is planning to launch an offer where they are offering the first 7 daysof free calling services. So, they must identify the customer who has churnedbetween 21 to 30 days and has not made any OG (outgoing) and IC (incoming call)calls in the first seven days. How many such customers are present in the data?"
      ]
    },
    {
      "cell_type": "code",
      "execution_count": 51,
      "metadata": {
        "colab": {
          "base_uri": "https://localhost:8080/"
        },
        "id": "8hzmphJVURdY",
        "outputId": "ecd0ff5a-e26d-45c4-cf3d-2769bf697752"
      },
      "outputs": [
        {
          "data": {
            "text/plain": [
              "array([19,  0,  1,  5,  2,  3,  4,  6])"
            ]
          },
          "execution_count": 51,
          "metadata": {},
          "output_type": "execute_result"
        }
      ],
      "source": [
        "df['DS_IC_CALLS_F7'].unique()"
      ]
    },
    {
      "cell_type": "code",
      "execution_count": 52,
      "metadata": {
        "colab": {
          "base_uri": "https://localhost:8080/"
        },
        "id": "H2_8uj0fUYxP",
        "outputId": "36e5a2a3-9d7b-4407-82a8-0235ea444717"
      },
      "outputs": [
        {
          "data": {
            "text/plain": [
              "array([ 3,  0,  2, 19,  5,  1,  6,  4])"
            ]
          },
          "execution_count": 52,
          "metadata": {},
          "output_type": "execute_result"
        }
      ],
      "source": [
        "df['DS_OG_CALLS_F7'].unique()"
      ]
    },
    {
      "cell_type": "code",
      "execution_count": 53,
      "metadata": {
        "colab": {
          "base_uri": "https://localhost:8080/"
        },
        "id": "bCCpUnPpTo1y",
        "outputId": "509dc1c1-320d-4aff-e5e7-1ffcc026bde9"
      },
      "outputs": [
        {
          "data": {
            "text/plain": [
              "759"
            ]
          },
          "execution_count": 53,
          "metadata": {},
          "output_type": "execute_result"
        }
      ],
      "source": [
        "df[(df['TARGET_21_30']==0)&(df['DS_IC_CALLS_F7']==0)&(df['DS_OG_CALLS_F7']==0)].shape[0]"
      ]
    },
    {
      "cell_type": "markdown",
      "metadata": {
        "id": "lBOHA0tHUmvP"
      },
      "source": [
        "# 4. In telecom, DND customers are more stable as compared to non-DND customers.Management is more concerned about the churn of DND customers after a month.What is the churn rate of the DND customer?\n"
      ]
    },
    {
      "cell_type": "code",
      "execution_count": 54,
      "metadata": {
        "colab": {
          "base_uri": "https://localhost:8080/"
        },
        "id": "nXELqph1UCOS",
        "outputId": "fa665f45-8694-4143-b597-814c9a3f7688"
      },
      "outputs": [
        {
          "data": {
            "text/plain": [
              "array([0, 1])"
            ]
          },
          "execution_count": 54,
          "metadata": {},
          "output_type": "execute_result"
        }
      ],
      "source": [
        "df['DND_INFO'].unique()"
      ]
    },
    {
      "cell_type": "code",
      "execution_count": 55,
      "metadata": {
        "colab": {
          "base_uri": "https://localhost:8080/"
        },
        "id": "UXomPPc_VAyJ",
        "outputId": "820eac44-2672-4eba-e039-2d0e25c8e7f5"
      },
      "outputs": [
        {
          "data": {
            "text/plain": [
              "array([  0,  29,  61,  58, 203,  90,  87, 174])"
            ]
          },
          "execution_count": 55,
          "metadata": {},
          "output_type": "execute_result"
        }
      ],
      "source": [
        "df['DND'].unique()"
      ]
    },
    {
      "cell_type": "code",
      "execution_count": 62,
      "metadata": {
        "colab": {
          "base_uri": "https://localhost:8080/",
          "height": 81
        },
        "id": "1GtFUciuVDbg",
        "outputId": "d6f3cda5-5438-4c2d-d0ee-9c2bc8d0f53b"
      },
      "outputs": [
        {
          "data": {
            "text/html": [
              "\n",
              "  <div id=\"df-b551c7ea-bf5f-40b0-8d23-5a3935d734e5\">\n",
              "    <div class=\"colab-df-container\">\n",
              "      <div>\n",
              "<style scoped>\n",
              "    .dataframe tbody tr th:only-of-type {\n",
              "        vertical-align: middle;\n",
              "    }\n",
              "\n",
              "    .dataframe tbody tr th {\n",
              "        vertical-align: top;\n",
              "    }\n",
              "\n",
              "    .dataframe thead th {\n",
              "        text-align: right;\n",
              "    }\n",
              "</style>\n",
              "<table border=\"1\" class=\"dataframe\">\n",
              "  <thead>\n",
              "    <tr style=\"text-align: right;\">\n",
              "      <th></th>\n",
              "      <th>Variable</th>\n",
              "      <th>Description</th>\n",
              "    </tr>\n",
              "  </thead>\n",
              "  <tbody>\n",
              "    <tr>\n",
              "      <th>38</th>\n",
              "      <td>DND</td>\n",
              "      <td>Promotional call received inspite of DND</td>\n",
              "    </tr>\n",
              "  </tbody>\n",
              "</table>\n",
              "</div>\n",
              "      <button class=\"colab-df-convert\" onclick=\"convertToInteractive('df-b551c7ea-bf5f-40b0-8d23-5a3935d734e5')\"\n",
              "              title=\"Convert this dataframe to an interactive table.\"\n",
              "              style=\"display:none;\">\n",
              "        \n",
              "  <svg xmlns=\"http://www.w3.org/2000/svg\" height=\"24px\"viewBox=\"0 0 24 24\"\n",
              "       width=\"24px\">\n",
              "    <path d=\"M0 0h24v24H0V0z\" fill=\"none\"/>\n",
              "    <path d=\"M18.56 5.44l.94 2.06.94-2.06 2.06-.94-2.06-.94-.94-2.06-.94 2.06-2.06.94zm-11 1L8.5 8.5l.94-2.06 2.06-.94-2.06-.94L8.5 2.5l-.94 2.06-2.06.94zm10 10l.94 2.06.94-2.06 2.06-.94-2.06-.94-.94-2.06-.94 2.06-2.06.94z\"/><path d=\"M17.41 7.96l-1.37-1.37c-.4-.4-.92-.59-1.43-.59-.52 0-1.04.2-1.43.59L10.3 9.45l-7.72 7.72c-.78.78-.78 2.05 0 2.83L4 21.41c.39.39.9.59 1.41.59.51 0 1.02-.2 1.41-.59l7.78-7.78 2.81-2.81c.8-.78.8-2.07 0-2.86zM5.41 20L4 18.59l7.72-7.72 1.47 1.35L5.41 20z\"/>\n",
              "  </svg>\n",
              "      </button>\n",
              "      \n",
              "  <style>\n",
              "    .colab-df-container {\n",
              "      display:flex;\n",
              "      flex-wrap:wrap;\n",
              "      gap: 12px;\n",
              "    }\n",
              "\n",
              "    .colab-df-convert {\n",
              "      background-color: #E8F0FE;\n",
              "      border: none;\n",
              "      border-radius: 50%;\n",
              "      cursor: pointer;\n",
              "      display: none;\n",
              "      fill: #1967D2;\n",
              "      height: 32px;\n",
              "      padding: 0 0 0 0;\n",
              "      width: 32px;\n",
              "    }\n",
              "\n",
              "    .colab-df-convert:hover {\n",
              "      background-color: #E2EBFA;\n",
              "      box-shadow: 0px 1px 2px rgba(60, 64, 67, 0.3), 0px 1px 3px 1px rgba(60, 64, 67, 0.15);\n",
              "      fill: #174EA6;\n",
              "    }\n",
              "\n",
              "    [theme=dark] .colab-df-convert {\n",
              "      background-color: #3B4455;\n",
              "      fill: #D2E3FC;\n",
              "    }\n",
              "\n",
              "    [theme=dark] .colab-df-convert:hover {\n",
              "      background-color: #434B5C;\n",
              "      box-shadow: 0px 1px 3px 1px rgba(0, 0, 0, 0.15);\n",
              "      filter: drop-shadow(0px 1px 2px rgba(0, 0, 0, 0.3));\n",
              "      fill: #FFFFFF;\n",
              "    }\n",
              "  </style>\n",
              "\n",
              "      <script>\n",
              "        const buttonEl =\n",
              "          document.querySelector('#df-b551c7ea-bf5f-40b0-8d23-5a3935d734e5 button.colab-df-convert');\n",
              "        buttonEl.style.display =\n",
              "          google.colab.kernel.accessAllowed ? 'block' : 'none';\n",
              "\n",
              "        async function convertToInteractive(key) {\n",
              "          const element = document.querySelector('#df-b551c7ea-bf5f-40b0-8d23-5a3935d734e5');\n",
              "          const dataTable =\n",
              "            await google.colab.kernel.invokeFunction('convertToInteractive',\n",
              "                                                     [key], {});\n",
              "          if (!dataTable) return;\n",
              "\n",
              "          const docLinkHtml = 'Like what you see? Visit the ' +\n",
              "            '<a target=\"_blank\" href=https://colab.research.google.com/notebooks/data_table.ipynb>data table notebook</a>'\n",
              "            + ' to learn more about interactive tables.';\n",
              "          element.innerHTML = '';\n",
              "          dataTable['output_type'] = 'display_data';\n",
              "          await google.colab.output.renderOutput(dataTable, element);\n",
              "          const docLink = document.createElement('div');\n",
              "          docLink.innerHTML = docLinkHtml;\n",
              "          element.appendChild(docLink);\n",
              "        }\n",
              "      </script>\n",
              "    </div>\n",
              "  </div>\n",
              "  "
            ],
            "text/plain": [
              "   Variable                               Description\n",
              "38      DND  Promotional call received inspite of DND"
            ]
          },
          "execution_count": 62,
          "metadata": {},
          "output_type": "execute_result"
        }
      ],
      "source": [
        "metadata[metadata['Variable']=='DND']"
      ]
    },
    {
      "cell_type": "code",
      "execution_count": 64,
      "metadata": {
        "colab": {
          "base_uri": "https://localhost:8080/",
          "height": 81
        },
        "id": "KlUrK6tEV2TQ",
        "outputId": "fc07c771-410a-4fe3-f5c7-4306776e0023"
      },
      "outputs": [
        {
          "data": {
            "text/html": [
              "\n",
              "  <div id=\"df-3a412400-b38a-46d1-a4cd-7212692db1ab\">\n",
              "    <div class=\"colab-df-container\">\n",
              "      <div>\n",
              "<style scoped>\n",
              "    .dataframe tbody tr th:only-of-type {\n",
              "        vertical-align: middle;\n",
              "    }\n",
              "\n",
              "    .dataframe tbody tr th {\n",
              "        vertical-align: top;\n",
              "    }\n",
              "\n",
              "    .dataframe thead th {\n",
              "        text-align: right;\n",
              "    }\n",
              "</style>\n",
              "<table border=\"1\" class=\"dataframe\">\n",
              "  <thead>\n",
              "    <tr style=\"text-align: right;\">\n",
              "      <th></th>\n",
              "      <th>Variable</th>\n",
              "      <th>Description</th>\n",
              "    </tr>\n",
              "  </thead>\n",
              "  <tbody>\n",
              "    <tr>\n",
              "      <th>39</th>\n",
              "      <td>DND_INFO</td>\n",
              "      <td>Do not disturb flag</td>\n",
              "    </tr>\n",
              "  </tbody>\n",
              "</table>\n",
              "</div>\n",
              "      <button class=\"colab-df-convert\" onclick=\"convertToInteractive('df-3a412400-b38a-46d1-a4cd-7212692db1ab')\"\n",
              "              title=\"Convert this dataframe to an interactive table.\"\n",
              "              style=\"display:none;\">\n",
              "        \n",
              "  <svg xmlns=\"http://www.w3.org/2000/svg\" height=\"24px\"viewBox=\"0 0 24 24\"\n",
              "       width=\"24px\">\n",
              "    <path d=\"M0 0h24v24H0V0z\" fill=\"none\"/>\n",
              "    <path d=\"M18.56 5.44l.94 2.06.94-2.06 2.06-.94-2.06-.94-.94-2.06-.94 2.06-2.06.94zm-11 1L8.5 8.5l.94-2.06 2.06-.94-2.06-.94L8.5 2.5l-.94 2.06-2.06.94zm10 10l.94 2.06.94-2.06 2.06-.94-2.06-.94-.94-2.06-.94 2.06-2.06.94z\"/><path d=\"M17.41 7.96l-1.37-1.37c-.4-.4-.92-.59-1.43-.59-.52 0-1.04.2-1.43.59L10.3 9.45l-7.72 7.72c-.78.78-.78 2.05 0 2.83L4 21.41c.39.39.9.59 1.41.59.51 0 1.02-.2 1.41-.59l7.78-7.78 2.81-2.81c.8-.78.8-2.07 0-2.86zM5.41 20L4 18.59l7.72-7.72 1.47 1.35L5.41 20z\"/>\n",
              "  </svg>\n",
              "      </button>\n",
              "      \n",
              "  <style>\n",
              "    .colab-df-container {\n",
              "      display:flex;\n",
              "      flex-wrap:wrap;\n",
              "      gap: 12px;\n",
              "    }\n",
              "\n",
              "    .colab-df-convert {\n",
              "      background-color: #E8F0FE;\n",
              "      border: none;\n",
              "      border-radius: 50%;\n",
              "      cursor: pointer;\n",
              "      display: none;\n",
              "      fill: #1967D2;\n",
              "      height: 32px;\n",
              "      padding: 0 0 0 0;\n",
              "      width: 32px;\n",
              "    }\n",
              "\n",
              "    .colab-df-convert:hover {\n",
              "      background-color: #E2EBFA;\n",
              "      box-shadow: 0px 1px 2px rgba(60, 64, 67, 0.3), 0px 1px 3px 1px rgba(60, 64, 67, 0.15);\n",
              "      fill: #174EA6;\n",
              "    }\n",
              "\n",
              "    [theme=dark] .colab-df-convert {\n",
              "      background-color: #3B4455;\n",
              "      fill: #D2E3FC;\n",
              "    }\n",
              "\n",
              "    [theme=dark] .colab-df-convert:hover {\n",
              "      background-color: #434B5C;\n",
              "      box-shadow: 0px 1px 3px 1px rgba(0, 0, 0, 0.15);\n",
              "      filter: drop-shadow(0px 1px 2px rgba(0, 0, 0, 0.3));\n",
              "      fill: #FFFFFF;\n",
              "    }\n",
              "  </style>\n",
              "\n",
              "      <script>\n",
              "        const buttonEl =\n",
              "          document.querySelector('#df-3a412400-b38a-46d1-a4cd-7212692db1ab button.colab-df-convert');\n",
              "        buttonEl.style.display =\n",
              "          google.colab.kernel.accessAllowed ? 'block' : 'none';\n",
              "\n",
              "        async function convertToInteractive(key) {\n",
              "          const element = document.querySelector('#df-3a412400-b38a-46d1-a4cd-7212692db1ab');\n",
              "          const dataTable =\n",
              "            await google.colab.kernel.invokeFunction('convertToInteractive',\n",
              "                                                     [key], {});\n",
              "          if (!dataTable) return;\n",
              "\n",
              "          const docLinkHtml = 'Like what you see? Visit the ' +\n",
              "            '<a target=\"_blank\" href=https://colab.research.google.com/notebooks/data_table.ipynb>data table notebook</a>'\n",
              "            + ' to learn more about interactive tables.';\n",
              "          element.innerHTML = '';\n",
              "          dataTable['output_type'] = 'display_data';\n",
              "          await google.colab.output.renderOutput(dataTable, element);\n",
              "          const docLink = document.createElement('div');\n",
              "          docLink.innerHTML = docLinkHtml;\n",
              "          element.appendChild(docLink);\n",
              "        }\n",
              "      </script>\n",
              "    </div>\n",
              "  </div>\n",
              "  "
            ],
            "text/plain": [
              "    Variable          Description\n",
              "39  DND_INFO  Do not disturb flag"
            ]
          },
          "execution_count": 64,
          "metadata": {},
          "output_type": "execute_result"
        }
      ],
      "source": [
        "metadata[metadata['Variable']=='DND_INFO']"
      ]
    },
    {
      "cell_type": "code",
      "execution_count": 70,
      "metadata": {
        "colab": {
          "base_uri": "https://localhost:8080/"
        },
        "id": "A-nwEoKIV8-L",
        "outputId": "1d5b0ec7-e14e-4849-a560-fb01a815d5a4"
      },
      "outputs": [
        {
          "data": {
            "text/plain": [
              "array([0, 1])"
            ]
          },
          "execution_count": 70,
          "metadata": {},
          "output_type": "execute_result"
        }
      ],
      "source": [
        "df[df['DND_INFO']==1]['TARGET_21_30'].unique()"
      ]
    },
    {
      "cell_type": "code",
      "execution_count": 71,
      "metadata": {
        "colab": {
          "base_uri": "https://localhost:8080/"
        },
        "id": "-h38OS_dWGaM",
        "outputId": "e50fac08-8cf7-4ba4-bab4-f86fa7ebbdd4"
      },
      "outputs": [
        {
          "data": {
            "text/plain": [
              "array([1, 0])"
            ]
          },
          "execution_count": 71,
          "metadata": {},
          "output_type": "execute_result"
        }
      ],
      "source": [
        "df[df['DND_INFO']==1]['TARGET'].unique()"
      ]
    },
    {
      "cell_type": "markdown",
      "metadata": {
        "id": "hdpKxsliXrAU"
      },
      "source": [
        "#5. The product manager wants to know the best-selling recharge. Which is the most common total recharge amount in the first 10 days?\n"
      ]
    },
    {
      "cell_type": "code",
      "execution_count": 75,
      "metadata": {
        "colab": {
          "base_uri": "https://localhost:8080/"
        },
        "id": "_HH12bw3W5bO",
        "outputId": "25742f77-a568-43d2-dcd3-3df0b3b8e083"
      },
      "outputs": [
        {
          "data": {
            "text/plain": [
              "0         0\n",
              "1        70\n",
              "2       123\n",
              "3         0\n",
              "4         0\n",
              "       ... \n",
              "4995     58\n",
              "4996     20\n",
              "4997    198\n",
              "4998     48\n",
              "4999     31\n",
              "Name: MAX_MRP_HIGH_AMT_F10, Length: 5000, dtype: int64"
            ]
          },
          "execution_count": 75,
          "metadata": {},
          "output_type": "execute_result"
        }
      ],
      "source": [
        "df['MAX_MRP_HIGH_AMT_F10']"
      ]
    },
    {
      "cell_type": "code",
      "execution_count": 79,
      "metadata": {
        "id": "pg_SQWA2YVNv"
      },
      "outputs": [],
      "source": [
        "chg_10=df['RCHG_AMOUNT_F10']"
      ]
    },
    {
      "cell_type": "code",
      "execution_count": 80,
      "metadata": {
        "colab": {
          "base_uri": "https://localhost:8080/"
        },
        "id": "CrDG5vcYaL35",
        "outputId": "af6b36b4-ce45-40d4-9543-4318458b7a5a"
      },
      "outputs": [
        {
          "data": {
            "text/plain": [
              "0         0\n",
              "1        70\n",
              "2       288\n",
              "3         0\n",
              "4         0\n",
              "       ... \n",
              "4995     58\n",
              "4996     20\n",
              "4997    198\n",
              "4998     48\n",
              "4999     49\n",
              "Name: RCHG_AMOUNT_F10, Length: 5000, dtype: int64"
            ]
          },
          "execution_count": 80,
          "metadata": {},
          "output_type": "execute_result"
        }
      ],
      "source": [
        "chg_10"
      ]
    },
    {
      "cell_type": "markdown",
      "metadata": {
        "id": "PFvgQYsfarya"
      },
      "source": [
        "#6. The product manager wants to know how many customers have used the balance in the first 10 days. (HINT: They have constant balance in the first 4 and 10 days)\n"
      ]
    },
    {
      "cell_type": "code",
      "execution_count": 85,
      "metadata": {
        "colab": {
          "base_uri": "https://localhost:8080/",
          "height": 81
        },
        "id": "vDmLHXFnbKb2",
        "outputId": "46462036-82aa-41d8-da3e-e169bb31eb8b"
      },
      "outputs": [
        {
          "data": {
            "text/html": [
              "\n",
              "  <div id=\"df-e3d92f13-d765-4ce1-9d48-885ca1270c78\">\n",
              "    <div class=\"colab-df-container\">\n",
              "      <div>\n",
              "<style scoped>\n",
              "    .dataframe tbody tr th:only-of-type {\n",
              "        vertical-align: middle;\n",
              "    }\n",
              "\n",
              "    .dataframe tbody tr th {\n",
              "        vertical-align: top;\n",
              "    }\n",
              "\n",
              "    .dataframe thead th {\n",
              "        text-align: right;\n",
              "    }\n",
              "</style>\n",
              "<table border=\"1\" class=\"dataframe\">\n",
              "  <thead>\n",
              "    <tr style=\"text-align: right;\">\n",
              "      <th></th>\n",
              "      <th>Variable</th>\n",
              "      <th>Description</th>\n",
              "    </tr>\n",
              "  </thead>\n",
              "  <tbody>\n",
              "    <tr>\n",
              "      <th>67</th>\n",
              "      <td>MAX_MBL_F10</td>\n",
              "      <td>Max main balance in first 10 days</td>\n",
              "    </tr>\n",
              "  </tbody>\n",
              "</table>\n",
              "</div>\n",
              "      <button class=\"colab-df-convert\" onclick=\"convertToInteractive('df-e3d92f13-d765-4ce1-9d48-885ca1270c78')\"\n",
              "              title=\"Convert this dataframe to an interactive table.\"\n",
              "              style=\"display:none;\">\n",
              "        \n",
              "  <svg xmlns=\"http://www.w3.org/2000/svg\" height=\"24px\"viewBox=\"0 0 24 24\"\n",
              "       width=\"24px\">\n",
              "    <path d=\"M0 0h24v24H0V0z\" fill=\"none\"/>\n",
              "    <path d=\"M18.56 5.44l.94 2.06.94-2.06 2.06-.94-2.06-.94-.94-2.06-.94 2.06-2.06.94zm-11 1L8.5 8.5l.94-2.06 2.06-.94-2.06-.94L8.5 2.5l-.94 2.06-2.06.94zm10 10l.94 2.06.94-2.06 2.06-.94-2.06-.94-.94-2.06-.94 2.06-2.06.94z\"/><path d=\"M17.41 7.96l-1.37-1.37c-.4-.4-.92-.59-1.43-.59-.52 0-1.04.2-1.43.59L10.3 9.45l-7.72 7.72c-.78.78-.78 2.05 0 2.83L4 21.41c.39.39.9.59 1.41.59.51 0 1.02-.2 1.41-.59l7.78-7.78 2.81-2.81c.8-.78.8-2.07 0-2.86zM5.41 20L4 18.59l7.72-7.72 1.47 1.35L5.41 20z\"/>\n",
              "  </svg>\n",
              "      </button>\n",
              "      \n",
              "  <style>\n",
              "    .colab-df-container {\n",
              "      display:flex;\n",
              "      flex-wrap:wrap;\n",
              "      gap: 12px;\n",
              "    }\n",
              "\n",
              "    .colab-df-convert {\n",
              "      background-color: #E8F0FE;\n",
              "      border: none;\n",
              "      border-radius: 50%;\n",
              "      cursor: pointer;\n",
              "      display: none;\n",
              "      fill: #1967D2;\n",
              "      height: 32px;\n",
              "      padding: 0 0 0 0;\n",
              "      width: 32px;\n",
              "    }\n",
              "\n",
              "    .colab-df-convert:hover {\n",
              "      background-color: #E2EBFA;\n",
              "      box-shadow: 0px 1px 2px rgba(60, 64, 67, 0.3), 0px 1px 3px 1px rgba(60, 64, 67, 0.15);\n",
              "      fill: #174EA6;\n",
              "    }\n",
              "\n",
              "    [theme=dark] .colab-df-convert {\n",
              "      background-color: #3B4455;\n",
              "      fill: #D2E3FC;\n",
              "    }\n",
              "\n",
              "    [theme=dark] .colab-df-convert:hover {\n",
              "      background-color: #434B5C;\n",
              "      box-shadow: 0px 1px 3px 1px rgba(0, 0, 0, 0.15);\n",
              "      filter: drop-shadow(0px 1px 2px rgba(0, 0, 0, 0.3));\n",
              "      fill: #FFFFFF;\n",
              "    }\n",
              "  </style>\n",
              "\n",
              "      <script>\n",
              "        const buttonEl =\n",
              "          document.querySelector('#df-e3d92f13-d765-4ce1-9d48-885ca1270c78 button.colab-df-convert');\n",
              "        buttonEl.style.display =\n",
              "          google.colab.kernel.accessAllowed ? 'block' : 'none';\n",
              "\n",
              "        async function convertToInteractive(key) {\n",
              "          const element = document.querySelector('#df-e3d92f13-d765-4ce1-9d48-885ca1270c78');\n",
              "          const dataTable =\n",
              "            await google.colab.kernel.invokeFunction('convertToInteractive',\n",
              "                                                     [key], {});\n",
              "          if (!dataTable) return;\n",
              "\n",
              "          const docLinkHtml = 'Like what you see? Visit the ' +\n",
              "            '<a target=\"_blank\" href=https://colab.research.google.com/notebooks/data_table.ipynb>data table notebook</a>'\n",
              "            + ' to learn more about interactive tables.';\n",
              "          element.innerHTML = '';\n",
              "          dataTable['output_type'] = 'display_data';\n",
              "          await google.colab.output.renderOutput(dataTable, element);\n",
              "          const docLink = document.createElement('div');\n",
              "          docLink.innerHTML = docLinkHtml;\n",
              "          element.appendChild(docLink);\n",
              "        }\n",
              "      </script>\n",
              "    </div>\n",
              "  </div>\n",
              "  "
            ],
            "text/plain": [
              "       Variable                        Description\n",
              "67  MAX_MBL_F10  Max main balance in first 10 days"
            ]
          },
          "execution_count": 85,
          "metadata": {},
          "output_type": "execute_result"
        }
      ],
      "source": [
        "metadata[metadata['Variable']=='MAX_MBL_F10']"
      ]
    },
    {
      "cell_type": "code",
      "execution_count": 86,
      "metadata": {
        "colab": {
          "base_uri": "https://localhost:8080/",
          "height": 81
        },
        "id": "_qa2PbdfbcZB",
        "outputId": "2c4a211f-b0fe-46aa-eb21-0781939e3a8f"
      },
      "outputs": [
        {
          "data": {
            "text/html": [
              "\n",
              "  <div id=\"df-1a70874a-2913-4920-8f64-dcf6585b5827\">\n",
              "    <div class=\"colab-df-container\">\n",
              "      <div>\n",
              "<style scoped>\n",
              "    .dataframe tbody tr th:only-of-type {\n",
              "        vertical-align: middle;\n",
              "    }\n",
              "\n",
              "    .dataframe tbody tr th {\n",
              "        vertical-align: top;\n",
              "    }\n",
              "\n",
              "    .dataframe thead th {\n",
              "        text-align: right;\n",
              "    }\n",
              "</style>\n",
              "<table border=\"1\" class=\"dataframe\">\n",
              "  <thead>\n",
              "    <tr style=\"text-align: right;\">\n",
              "      <th></th>\n",
              "      <th>Variable</th>\n",
              "      <th>Description</th>\n",
              "    </tr>\n",
              "  </thead>\n",
              "  <tbody>\n",
              "    <tr>\n",
              "      <th>69</th>\n",
              "      <td>MAX_MBL_F4</td>\n",
              "      <td>Max main balance in first 4 days</td>\n",
              "    </tr>\n",
              "  </tbody>\n",
              "</table>\n",
              "</div>\n",
              "      <button class=\"colab-df-convert\" onclick=\"convertToInteractive('df-1a70874a-2913-4920-8f64-dcf6585b5827')\"\n",
              "              title=\"Convert this dataframe to an interactive table.\"\n",
              "              style=\"display:none;\">\n",
              "        \n",
              "  <svg xmlns=\"http://www.w3.org/2000/svg\" height=\"24px\"viewBox=\"0 0 24 24\"\n",
              "       width=\"24px\">\n",
              "    <path d=\"M0 0h24v24H0V0z\" fill=\"none\"/>\n",
              "    <path d=\"M18.56 5.44l.94 2.06.94-2.06 2.06-.94-2.06-.94-.94-2.06-.94 2.06-2.06.94zm-11 1L8.5 8.5l.94-2.06 2.06-.94-2.06-.94L8.5 2.5l-.94 2.06-2.06.94zm10 10l.94 2.06.94-2.06 2.06-.94-2.06-.94-.94-2.06-.94 2.06-2.06.94z\"/><path d=\"M17.41 7.96l-1.37-1.37c-.4-.4-.92-.59-1.43-.59-.52 0-1.04.2-1.43.59L10.3 9.45l-7.72 7.72c-.78.78-.78 2.05 0 2.83L4 21.41c.39.39.9.59 1.41.59.51 0 1.02-.2 1.41-.59l7.78-7.78 2.81-2.81c.8-.78.8-2.07 0-2.86zM5.41 20L4 18.59l7.72-7.72 1.47 1.35L5.41 20z\"/>\n",
              "  </svg>\n",
              "      </button>\n",
              "      \n",
              "  <style>\n",
              "    .colab-df-container {\n",
              "      display:flex;\n",
              "      flex-wrap:wrap;\n",
              "      gap: 12px;\n",
              "    }\n",
              "\n",
              "    .colab-df-convert {\n",
              "      background-color: #E8F0FE;\n",
              "      border: none;\n",
              "      border-radius: 50%;\n",
              "      cursor: pointer;\n",
              "      display: none;\n",
              "      fill: #1967D2;\n",
              "      height: 32px;\n",
              "      padding: 0 0 0 0;\n",
              "      width: 32px;\n",
              "    }\n",
              "\n",
              "    .colab-df-convert:hover {\n",
              "      background-color: #E2EBFA;\n",
              "      box-shadow: 0px 1px 2px rgba(60, 64, 67, 0.3), 0px 1px 3px 1px rgba(60, 64, 67, 0.15);\n",
              "      fill: #174EA6;\n",
              "    }\n",
              "\n",
              "    [theme=dark] .colab-df-convert {\n",
              "      background-color: #3B4455;\n",
              "      fill: #D2E3FC;\n",
              "    }\n",
              "\n",
              "    [theme=dark] .colab-df-convert:hover {\n",
              "      background-color: #434B5C;\n",
              "      box-shadow: 0px 1px 3px 1px rgba(0, 0, 0, 0.15);\n",
              "      filter: drop-shadow(0px 1px 2px rgba(0, 0, 0, 0.3));\n",
              "      fill: #FFFFFF;\n",
              "    }\n",
              "  </style>\n",
              "\n",
              "      <script>\n",
              "        const buttonEl =\n",
              "          document.querySelector('#df-1a70874a-2913-4920-8f64-dcf6585b5827 button.colab-df-convert');\n",
              "        buttonEl.style.display =\n",
              "          google.colab.kernel.accessAllowed ? 'block' : 'none';\n",
              "\n",
              "        async function convertToInteractive(key) {\n",
              "          const element = document.querySelector('#df-1a70874a-2913-4920-8f64-dcf6585b5827');\n",
              "          const dataTable =\n",
              "            await google.colab.kernel.invokeFunction('convertToInteractive',\n",
              "                                                     [key], {});\n",
              "          if (!dataTable) return;\n",
              "\n",
              "          const docLinkHtml = 'Like what you see? Visit the ' +\n",
              "            '<a target=\"_blank\" href=https://colab.research.google.com/notebooks/data_table.ipynb>data table notebook</a>'\n",
              "            + ' to learn more about interactive tables.';\n",
              "          element.innerHTML = '';\n",
              "          dataTable['output_type'] = 'display_data';\n",
              "          await google.colab.output.renderOutput(dataTable, element);\n",
              "          const docLink = document.createElement('div');\n",
              "          docLink.innerHTML = docLinkHtml;\n",
              "          element.appendChild(docLink);\n",
              "        }\n",
              "      </script>\n",
              "    </div>\n",
              "  </div>\n",
              "  "
            ],
            "text/plain": [
              "      Variable                       Description\n",
              "69  MAX_MBL_F4  Max main balance in first 4 days"
            ]
          },
          "execution_count": 86,
          "metadata": {},
          "output_type": "execute_result"
        }
      ],
      "source": [
        "metadata[metadata['Variable']=='MAX_MBL_F4']"
      ]
    },
    {
      "cell_type": "code",
      "execution_count": 90,
      "metadata": {
        "id": "adKfw8hQbiO3"
      },
      "outputs": [],
      "source": [
        "df1=df[df['MAX_MBL_F4']==df['MAX_MBL_F10']]"
      ]
    },
    {
      "cell_type": "code",
      "execution_count": 91,
      "metadata": {
        "colab": {
          "base_uri": "https://localhost:8080/"
        },
        "id": "p3whnhFkbqMY",
        "outputId": "337c080b-10a3-4d03-ca84-2dd092aa9320"
      },
      "outputs": [
        {
          "data": {
            "text/plain": [
              "4440"
            ]
          },
          "execution_count": 91,
          "metadata": {},
          "output_type": "execute_result"
        }
      ],
      "source": [
        "df1.shape[0]"
      ]
    },
    {
      "cell_type": "markdown",
      "metadata": {
        "id": "yvdSZknlcgiY"
      },
      "source": [
        "# 1. Create a 3D NumPy array having the values mentioned below in picture."
      ]
    },
    {
      "cell_type": "code",
      "execution_count": 23,
      "metadata": {
        "id": "WIM0jvIvcLpN"
      },
      "outputs": [],
      "source": [
        "arr1=np.array([10,0,10]*3).reshape(3,3)"
      ]
    },
    {
      "cell_type": "code",
      "execution_count": 24,
      "metadata": {
        "colab": {
          "base_uri": "https://localhost:8080/"
        },
        "id": "g3zjncozc0ih",
        "outputId": "501c7db0-a0ac-4287-c27c-53cc731a0a29"
      },
      "outputs": [
        {
          "data": {
            "text/plain": [
              "array([[10,  0, 10],\n",
              "       [10,  0, 10],\n",
              "       [10,  0, 10]])"
            ]
          },
          "execution_count": 24,
          "metadata": {},
          "output_type": "execute_result"
        }
      ],
      "source": [
        "arr1"
      ]
    },
    {
      "cell_type": "code",
      "execution_count": 25,
      "metadata": {
        "colab": {
          "base_uri": "https://localhost:8080/"
        },
        "id": "TsOrbh0Gc1W5",
        "outputId": "e33c8bd5-a26b-4216-a1ba-37649ecd3b37"
      },
      "outputs": [
        {
          "data": {
            "text/plain": [
              "array([[0., 0., 0.],\n",
              "       [0., 0., 0.],\n",
              "       [0., 0., 0.]])"
            ]
          },
          "execution_count": 25,
          "metadata": {},
          "output_type": "execute_result"
        }
      ],
      "source": [
        "arr2=np.zeros((3,3))\n",
        "arr2"
      ]
    },
    {
      "cell_type": "code",
      "execution_count": 26,
      "metadata": {
        "id": "oh-M5gt-dCof"
      },
      "outputs": [],
      "source": [
        "np.fill_diagonal(arr2,[10,0,10])"
      ]
    },
    {
      "cell_type": "code",
      "execution_count": 27,
      "metadata": {
        "id": "8DFQago9dLHi"
      },
      "outputs": [],
      "source": [
        "np.fill_diagonal(np.fliplr(arr2),[10,0,10])"
      ]
    },
    {
      "cell_type": "code",
      "execution_count": 28,
      "metadata": {
        "colab": {
          "base_uri": "https://localhost:8080/"
        },
        "id": "2_B4X60RdRf7",
        "outputId": "df7c53e1-71a4-4b51-a765-11d90e9a1912"
      },
      "outputs": [
        {
          "data": {
            "text/plain": [
              "array([[10.,  0., 10.],\n",
              "       [ 0.,  0.,  0.],\n",
              "       [10.,  0., 10.]])"
            ]
          },
          "execution_count": 28,
          "metadata": {},
          "output_type": "execute_result"
        }
      ],
      "source": [
        "arr2"
      ]
    },
    {
      "cell_type": "code",
      "execution_count": 29,
      "metadata": {
        "colab": {
          "base_uri": "https://localhost:8080/"
        },
        "id": "aYwh1mYIeM1j",
        "outputId": "52bdfa84-4917-4131-fa4b-2ae434c6f049"
      },
      "outputs": [
        {
          "data": {
            "text/plain": [
              "array([[10,  0, 10],\n",
              "       [10,  0, 10],\n",
              "       [10,  0, 10]])"
            ]
          },
          "execution_count": 29,
          "metadata": {},
          "output_type": "execute_result"
        }
      ],
      "source": [
        "arr1"
      ]
    },
    {
      "cell_type": "code",
      "execution_count": 30,
      "metadata": {
        "colab": {
          "base_uri": "https://localhost:8080/"
        },
        "id": "NReFrPyPePgb",
        "outputId": "c41b0874-e1dc-48e9-d322-1441b1f453a6"
      },
      "outputs": [
        {
          "data": {
            "text/plain": [
              "array([[10.,  0., 10.],\n",
              "       [ 0.,  0.,  0.],\n",
              "       [10.,  0., 10.]])"
            ]
          },
          "execution_count": 30,
          "metadata": {},
          "output_type": "execute_result"
        }
      ],
      "source": [
        "arr2"
      ]
    },
    {
      "cell_type": "code",
      "execution_count": 37,
      "metadata": {
        "id": "boAcMM2GeWTB"
      },
      "outputs": [
        {
          "data": {
            "text/plain": [
              "array([[[10.,  0., 10.],\n",
              "        [10.,  0., 10.],\n",
              "        [10.,  0., 10.]],\n",
              "\n",
              "       [[10.,  0., 10.],\n",
              "        [ 0.,  0.,  0.],\n",
              "        [10.,  0., 10.]],\n",
              "\n",
              "       [[10.,  0., 10.],\n",
              "        [10.,  0., 10.],\n",
              "        [10.,  0., 10.]]])"
            ]
          },
          "execution_count": 37,
          "metadata": {},
          "output_type": "execute_result"
        }
      ],
      "source": [
        "np.concatenate((arr1,arr2,arr1),axis=0).reshape(3,3,3)"
      ]
    },
    {
      "cell_type": "code",
      "execution_count": null,
      "metadata": {},
      "outputs": [],
      "source": []
    }
  ],
  "metadata": {
    "colab": {
      "provenance": []
    },
    "kernelspec": {
      "display_name": "Python 3",
      "name": "python3"
    },
    "language_info": {
      "codemirror_mode": {
        "name": "ipython",
        "version": 3
      },
      "file_extension": ".py",
      "mimetype": "text/x-python",
      "name": "python",
      "nbconvert_exporter": "python",
      "pygments_lexer": "ipython3",
      "version": "3.9.13"
    }
  },
  "nbformat": 4,
  "nbformat_minor": 0
}
