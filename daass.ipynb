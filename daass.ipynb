{
  "cells": [
    {
      "cell_type": "code",
      "execution_count": 2,
      "metadata": {
        "id": "QHKnRmLQHeYl"
      },
      "outputs": [],
      "source": [
        "import numpy as np"
      ]
    },
    {
      "cell_type": "code",
      "execution_count": 3,
      "metadata": {
        "id": "iLYrY9yLWNS0"
      },
      "outputs": [],
      "source": [
        "import pandas as pd"
      ]
    },
    {
      "cell_type": "code",
      "execution_count": 6,
      "metadata": {
        "colab": {
          "base_uri": "https://localhost:8080/",
          "height": 537
        },
        "id": "xyekxbpSHe-N",
        "outputId": "9a4db04c-8dbd-4bcf-d77b-a62b3019b6cc"
      },
      "outputs": [
        {
          "data": {
            "text/html": [
              "<div>\n",
              "<style scoped>\n",
              "    .dataframe tbody tr th:only-of-type {\n",
              "        vertical-align: middle;\n",
              "    }\n",
              "\n",
              "    .dataframe tbody tr th {\n",
              "        vertical-align: top;\n",
              "    }\n",
              "\n",
              "    .dataframe thead th {\n",
              "        text-align: right;\n",
              "    }\n",
              "</style>\n",
              "<table border=\"1\" class=\"dataframe\">\n",
              "  <thead>\n",
              "    <tr style=\"text-align: right;\">\n",
              "      <th></th>\n",
              "      <th>CustID</th>\n",
              "      <th>Premium</th>\n",
              "      <th>Model_Year</th>\n",
              "      <th>Owner_Type</th>\n",
              "      <th>Road side addon</th>\n",
              "      <th>No Claim bonus discount</th>\n",
              "      <th>Electric add on rate</th>\n",
              "      <th>Company</th>\n",
              "      <th>Car Type</th>\n",
              "      <th>RTO</th>\n",
              "      <th>CNGkit</th>\n",
              "      <th>Paymentmode</th>\n",
              "      <th>Total IDV</th>\n",
              "      <th>Seats</th>\n",
              "      <th>Acquisition Channel</th>\n",
              "    </tr>\n",
              "  </thead>\n",
              "  <tbody>\n",
              "    <tr>\n",
              "      <th>0</th>\n",
              "      <td>10000</td>\n",
              "      <td>33,249</td>\n",
              "      <td>2011</td>\n",
              "      <td>1</td>\n",
              "      <td>1</td>\n",
              "      <td>1,523</td>\n",
              "      <td>384</td>\n",
              "      <td>Hyundai</td>\n",
              "      <td>Sedan</td>\n",
              "      <td>Pen</td>\n",
              "      <td>0</td>\n",
              "      <td>Digital Wallet</td>\n",
              "      <td>714,966</td>\n",
              "      <td>8</td>\n",
              "      <td>Direct</td>\n",
              "    </tr>\n",
              "    <tr>\n",
              "      <th>1</th>\n",
              "      <td>10001</td>\n",
              "      <td>28,102</td>\n",
              "      <td>2013</td>\n",
              "      <td>2</td>\n",
              "      <td>0</td>\n",
              "      <td>1,452</td>\n",
              "      <td>411</td>\n",
              "      <td>Hyundai</td>\n",
              "      <td>Sedan</td>\n",
              "      <td>Navi Mumbai</td>\n",
              "      <td>1</td>\n",
              "      <td>Digital Wallet</td>\n",
              "      <td>718,209</td>\n",
              "      <td>6</td>\n",
              "      <td>Direct</td>\n",
              "    </tr>\n",
              "    <tr>\n",
              "      <th>2</th>\n",
              "      <td>10002</td>\n",
              "      <td>30,271</td>\n",
              "      <td>2008</td>\n",
              "      <td>1</td>\n",
              "      <td>0</td>\n",
              "      <td>1,367</td>\n",
              "      <td>317</td>\n",
              "      <td>Hyundai</td>\n",
              "      <td>Sedan</td>\n",
              "      <td>Thane</td>\n",
              "      <td>1</td>\n",
              "      <td>Digital Wallet</td>\n",
              "      <td>640,333</td>\n",
              "      <td>5</td>\n",
              "      <td>In Direct</td>\n",
              "    </tr>\n",
              "    <tr>\n",
              "      <th>3</th>\n",
              "      <td>10003</td>\n",
              "      <td>26,247</td>\n",
              "      <td>2014</td>\n",
              "      <td>2</td>\n",
              "      <td>0</td>\n",
              "      <td>1,249</td>\n",
              "      <td>496</td>\n",
              "      <td>Honda</td>\n",
              "      <td>Sedan</td>\n",
              "      <td>Mumbai</td>\n",
              "      <td>1</td>\n",
              "      <td>Net Banking</td>\n",
              "      <td>617,561</td>\n",
              "      <td>7</td>\n",
              "      <td>In Direct</td>\n",
              "    </tr>\n",
              "    <tr>\n",
              "      <th>4</th>\n",
              "      <td>10004</td>\n",
              "      <td>29,665</td>\n",
              "      <td>2005</td>\n",
              "      <td>1</td>\n",
              "      <td>0</td>\n",
              "      <td>1,310</td>\n",
              "      <td>447</td>\n",
              "      <td>Hyundai</td>\n",
              "      <td>Sedan</td>\n",
              "      <td>Thane</td>\n",
              "      <td>1</td>\n",
              "      <td>Credit Card</td>\n",
              "      <td>706,606</td>\n",
              "      <td>7</td>\n",
              "      <td>In Direct</td>\n",
              "    </tr>\n",
              "    <tr>\n",
              "      <th>...</th>\n",
              "      <td>...</td>\n",
              "      <td>...</td>\n",
              "      <td>...</td>\n",
              "      <td>...</td>\n",
              "      <td>...</td>\n",
              "      <td>...</td>\n",
              "      <td>...</td>\n",
              "      <td>...</td>\n",
              "      <td>...</td>\n",
              "      <td>...</td>\n",
              "      <td>...</td>\n",
              "      <td>...</td>\n",
              "      <td>...</td>\n",
              "      <td>...</td>\n",
              "      <td>...</td>\n",
              "    </tr>\n",
              "    <tr>\n",
              "      <th>17253</th>\n",
              "      <td>27253</td>\n",
              "      <td>33,305</td>\n",
              "      <td>2005</td>\n",
              "      <td>1</td>\n",
              "      <td>0</td>\n",
              "      <td>1,370</td>\n",
              "      <td>361</td>\n",
              "      <td>Hyundai</td>\n",
              "      <td>Sedan</td>\n",
              "      <td>Mumbai</td>\n",
              "      <td>1</td>\n",
              "      <td>Credit Card</td>\n",
              "      <td>650,455</td>\n",
              "      <td>6</td>\n",
              "      <td>In Direct</td>\n",
              "    </tr>\n",
              "    <tr>\n",
              "      <th>17254</th>\n",
              "      <td>27254</td>\n",
              "      <td>29,035</td>\n",
              "      <td>2018</td>\n",
              "      <td>1</td>\n",
              "      <td>0</td>\n",
              "      <td>1,342</td>\n",
              "      <td>554</td>\n",
              "      <td>Mahindra</td>\n",
              "      <td>HatchBack</td>\n",
              "      <td>Pen</td>\n",
              "      <td>1</td>\n",
              "      <td>Net Banking</td>\n",
              "      <td>763,506</td>\n",
              "      <td>8</td>\n",
              "      <td>In Direct</td>\n",
              "    </tr>\n",
              "    <tr>\n",
              "      <th>17255</th>\n",
              "      <td>27255</td>\n",
              "      <td>25,230</td>\n",
              "      <td>2018</td>\n",
              "      <td>2</td>\n",
              "      <td>0</td>\n",
              "      <td>1,246</td>\n",
              "      <td>594</td>\n",
              "      <td>Mahindra</td>\n",
              "      <td>Sedan</td>\n",
              "      <td>Navi Mumbai</td>\n",
              "      <td>1</td>\n",
              "      <td>Digital Wallet</td>\n",
              "      <td>697,297</td>\n",
              "      <td>7</td>\n",
              "      <td>Direct</td>\n",
              "    </tr>\n",
              "    <tr>\n",
              "      <th>17256</th>\n",
              "      <td>27256</td>\n",
              "      <td>32,652</td>\n",
              "      <td>2011</td>\n",
              "      <td>2</td>\n",
              "      <td>1</td>\n",
              "      <td>1,386</td>\n",
              "      <td>492</td>\n",
              "      <td>Maruti</td>\n",
              "      <td>Sedan</td>\n",
              "      <td>Mumbai</td>\n",
              "      <td>0</td>\n",
              "      <td>Digital Wallet</td>\n",
              "      <td>664,094</td>\n",
              "      <td>6</td>\n",
              "      <td>In Direct</td>\n",
              "    </tr>\n",
              "    <tr>\n",
              "      <th>17257</th>\n",
              "      <td>27257</td>\n",
              "      <td>28,774</td>\n",
              "      <td>2010</td>\n",
              "      <td>1</td>\n",
              "      <td>1</td>\n",
              "      <td>1,520</td>\n",
              "      <td>583</td>\n",
              "      <td>Hyundai</td>\n",
              "      <td>Sedan</td>\n",
              "      <td>Thane</td>\n",
              "      <td>0</td>\n",
              "      <td>Net Banking</td>\n",
              "      <td>792,785</td>\n",
              "      <td>7</td>\n",
              "      <td>Direct</td>\n",
              "    </tr>\n",
              "  </tbody>\n",
              "</table>\n",
              "<p>17258 rows × 15 columns</p>\n",
              "</div>"
            ],
            "text/plain": [
              "       CustID Premium  Model_Year  Owner_Type  Road side addon  \\\n",
              "0       10000  33,249        2011           1                1   \n",
              "1       10001  28,102        2013           2                0   \n",
              "2       10002  30,271        2008           1                0   \n",
              "3       10003  26,247        2014           2                0   \n",
              "4       10004  29,665        2005           1                0   \n",
              "...       ...     ...         ...         ...              ...   \n",
              "17253   27253  33,305        2005           1                0   \n",
              "17254   27254  29,035        2018           1                0   \n",
              "17255   27255  25,230        2018           2                0   \n",
              "17256   27256  32,652        2011           2                1   \n",
              "17257   27257  28,774        2010           1                1   \n",
              "\n",
              "      No Claim bonus discount  Electric add on rate   Company   Car Type  \\\n",
              "0                       1,523                   384   Hyundai      Sedan   \n",
              "1                       1,452                   411   Hyundai      Sedan   \n",
              "2                       1,367                   317   Hyundai      Sedan   \n",
              "3                       1,249                   496     Honda      Sedan   \n",
              "4                       1,310                   447   Hyundai      Sedan   \n",
              "...                       ...                   ...       ...        ...   \n",
              "17253                   1,370                   361   Hyundai      Sedan   \n",
              "17254                   1,342                   554  Mahindra  HatchBack   \n",
              "17255                   1,246                   594  Mahindra      Sedan   \n",
              "17256                   1,386                   492    Maruti      Sedan   \n",
              "17257                   1,520                   583   Hyundai      Sedan   \n",
              "\n",
              "               RTO  CNGkit     Paymentmode Total IDV  Seats  \\\n",
              "0              Pen       0  Digital Wallet   714,966      8   \n",
              "1      Navi Mumbai       1  Digital Wallet   718,209      6   \n",
              "2            Thane       1  Digital Wallet   640,333      5   \n",
              "3           Mumbai       1     Net Banking   617,561      7   \n",
              "4            Thane       1     Credit Card   706,606      7   \n",
              "...            ...     ...             ...       ...    ...   \n",
              "17253       Mumbai       1     Credit Card   650,455      6   \n",
              "17254          Pen       1     Net Banking   763,506      8   \n",
              "17255  Navi Mumbai       1  Digital Wallet   697,297      7   \n",
              "17256       Mumbai       0  Digital Wallet   664,094      6   \n",
              "17257        Thane       0     Net Banking   792,785      7   \n",
              "\n",
              "      Acquisition Channel  \n",
              "0                  Direct  \n",
              "1                  Direct  \n",
              "2               In Direct  \n",
              "3               In Direct  \n",
              "4               In Direct  \n",
              "...                   ...  \n",
              "17253           In Direct  \n",
              "17254           In Direct  \n",
              "17255              Direct  \n",
              "17256           In Direct  \n",
              "17257              Direct  \n",
              "\n",
              "[17258 rows x 15 columns]"
            ]
          },
          "execution_count": 6,
          "metadata": {},
          "output_type": "execute_result"
        }
      ],
      "source": [
        "df=pd.read_csv('DA-21 Pandas Assignment  - Pandas Assignment - 3.csv')\n",
        "df"
      ]
    },
    {
      "cell_type": "code",
      "execution_count": 7,
      "metadata": {
        "id": "IRaOugH6uIMo"
      },
      "outputs": [],
      "source": [
        "import numpy as np"
      ]
    },
    {
      "cell_type": "code",
      "execution_count": 8,
      "metadata": {
        "id": "o-bPbJjVhK1F"
      },
      "outputs": [],
      "source": [
        "# 1.Because of some high fraud rate, the company has decided not to give insurance\n",
        "# to cars with RTO as Pen with CNG kit installed and older than 2005 (inclusive 2005).\n",
        "# How much premium loss they will face because of this decision?\n"
      ]
    },
    {
      "cell_type": "code",
      "execution_count": 9,
      "metadata": {
        "colab": {
          "base_uri": "https://localhost:8080/",
          "height": 285
        },
        "id": "DPjeOIePhw2m",
        "outputId": "199435a3-3600-4535-d3d0-e824ab34a6c0"
      },
      "outputs": [
        {
          "data": {
            "text/html": [
              "<div>\n",
              "<style scoped>\n",
              "    .dataframe tbody tr th:only-of-type {\n",
              "        vertical-align: middle;\n",
              "    }\n",
              "\n",
              "    .dataframe tbody tr th {\n",
              "        vertical-align: top;\n",
              "    }\n",
              "\n",
              "    .dataframe thead th {\n",
              "        text-align: right;\n",
              "    }\n",
              "</style>\n",
              "<table border=\"1\" class=\"dataframe\">\n",
              "  <thead>\n",
              "    <tr style=\"text-align: right;\">\n",
              "      <th></th>\n",
              "      <th>CustID</th>\n",
              "      <th>Premium</th>\n",
              "      <th>Model_Year</th>\n",
              "      <th>Owner_Type</th>\n",
              "      <th>Road side addon</th>\n",
              "      <th>No Claim bonus discount</th>\n",
              "      <th>Electric add on rate</th>\n",
              "      <th>Company</th>\n",
              "      <th>Car Type</th>\n",
              "      <th>RTO</th>\n",
              "      <th>CNGkit</th>\n",
              "      <th>Paymentmode</th>\n",
              "      <th>Total IDV</th>\n",
              "      <th>Seats</th>\n",
              "      <th>Acquisition Channel</th>\n",
              "    </tr>\n",
              "  </thead>\n",
              "  <tbody>\n",
              "    <tr>\n",
              "      <th>0</th>\n",
              "      <td>10000</td>\n",
              "      <td>33,249</td>\n",
              "      <td>2011</td>\n",
              "      <td>1</td>\n",
              "      <td>1</td>\n",
              "      <td>1,523</td>\n",
              "      <td>384</td>\n",
              "      <td>Hyundai</td>\n",
              "      <td>Sedan</td>\n",
              "      <td>Pen</td>\n",
              "      <td>0</td>\n",
              "      <td>Digital Wallet</td>\n",
              "      <td>714,966</td>\n",
              "      <td>8</td>\n",
              "      <td>Direct</td>\n",
              "    </tr>\n",
              "    <tr>\n",
              "      <th>1</th>\n",
              "      <td>10001</td>\n",
              "      <td>28,102</td>\n",
              "      <td>2013</td>\n",
              "      <td>2</td>\n",
              "      <td>0</td>\n",
              "      <td>1,452</td>\n",
              "      <td>411</td>\n",
              "      <td>Hyundai</td>\n",
              "      <td>Sedan</td>\n",
              "      <td>Navi Mumbai</td>\n",
              "      <td>1</td>\n",
              "      <td>Digital Wallet</td>\n",
              "      <td>718,209</td>\n",
              "      <td>6</td>\n",
              "      <td>Direct</td>\n",
              "    </tr>\n",
              "    <tr>\n",
              "      <th>2</th>\n",
              "      <td>10002</td>\n",
              "      <td>30,271</td>\n",
              "      <td>2008</td>\n",
              "      <td>1</td>\n",
              "      <td>0</td>\n",
              "      <td>1,367</td>\n",
              "      <td>317</td>\n",
              "      <td>Hyundai</td>\n",
              "      <td>Sedan</td>\n",
              "      <td>Thane</td>\n",
              "      <td>1</td>\n",
              "      <td>Digital Wallet</td>\n",
              "      <td>640,333</td>\n",
              "      <td>5</td>\n",
              "      <td>In Direct</td>\n",
              "    </tr>\n",
              "    <tr>\n",
              "      <th>3</th>\n",
              "      <td>10003</td>\n",
              "      <td>26,247</td>\n",
              "      <td>2014</td>\n",
              "      <td>2</td>\n",
              "      <td>0</td>\n",
              "      <td>1,249</td>\n",
              "      <td>496</td>\n",
              "      <td>Honda</td>\n",
              "      <td>Sedan</td>\n",
              "      <td>Mumbai</td>\n",
              "      <td>1</td>\n",
              "      <td>Net Banking</td>\n",
              "      <td>617,561</td>\n",
              "      <td>7</td>\n",
              "      <td>In Direct</td>\n",
              "    </tr>\n",
              "    <tr>\n",
              "      <th>4</th>\n",
              "      <td>10004</td>\n",
              "      <td>29,665</td>\n",
              "      <td>2005</td>\n",
              "      <td>1</td>\n",
              "      <td>0</td>\n",
              "      <td>1,310</td>\n",
              "      <td>447</td>\n",
              "      <td>Hyundai</td>\n",
              "      <td>Sedan</td>\n",
              "      <td>Thane</td>\n",
              "      <td>1</td>\n",
              "      <td>Credit Card</td>\n",
              "      <td>706,606</td>\n",
              "      <td>7</td>\n",
              "      <td>In Direct</td>\n",
              "    </tr>\n",
              "  </tbody>\n",
              "</table>\n",
              "</div>"
            ],
            "text/plain": [
              "   CustID Premium  Model_Year  Owner_Type  Road side addon  \\\n",
              "0   10000  33,249        2011           1                1   \n",
              "1   10001  28,102        2013           2                0   \n",
              "2   10002  30,271        2008           1                0   \n",
              "3   10003  26,247        2014           2                0   \n",
              "4   10004  29,665        2005           1                0   \n",
              "\n",
              "  No Claim bonus discount  Electric add on rate  Company Car Type  \\\n",
              "0                   1,523                   384  Hyundai    Sedan   \n",
              "1                   1,452                   411  Hyundai    Sedan   \n",
              "2                   1,367                   317  Hyundai    Sedan   \n",
              "3                   1,249                   496    Honda    Sedan   \n",
              "4                   1,310                   447  Hyundai    Sedan   \n",
              "\n",
              "           RTO  CNGkit     Paymentmode Total IDV  Seats Acquisition Channel  \n",
              "0          Pen       0  Digital Wallet   714,966      8              Direct  \n",
              "1  Navi Mumbai       1  Digital Wallet   718,209      6              Direct  \n",
              "2        Thane       1  Digital Wallet   640,333      5           In Direct  \n",
              "3       Mumbai       1     Net Banking   617,561      7           In Direct  \n",
              "4        Thane       1     Credit Card   706,606      7           In Direct  "
            ]
          },
          "execution_count": 9,
          "metadata": {},
          "output_type": "execute_result"
        }
      ],
      "source": [
        "df.head()"
      ]
    },
    {
      "cell_type": "code",
      "execution_count": 10,
      "metadata": {
        "colab": {
          "base_uri": "https://localhost:8080/"
        },
        "id": "FQO0CK-0mQIL",
        "outputId": "905b292d-65d7-401d-f427-52d9d3d0bdd5"
      },
      "outputs": [
        {
          "data": {
            "text/plain": [
              "Index(['CustID', 'Premium', 'Model_Year', 'Owner_Type', 'Road side addon',\n",
              "       'No Claim bonus discount', 'Electric add on rate', 'Company',\n",
              "       'Car Type', 'RTO', 'CNGkit', 'Paymentmode', 'Total IDV', 'Seats',\n",
              "       'Acquisition Channel'],\n",
              "      dtype='object')"
            ]
          },
          "execution_count": 10,
          "metadata": {},
          "output_type": "execute_result"
        }
      ],
      "source": [
        "\n",
        "df.columns"
      ]
    },
    {
      "cell_type": "code",
      "execution_count": 11,
      "metadata": {
        "colab": {
          "base_uri": "https://localhost:8080/"
        },
        "id": "-k8_MKHrnLGF",
        "outputId": "bbd13c6a-d402-46c0-c7cf-d0eb2fe9374b"
      },
      "outputs": [
        {
          "data": {
            "text/plain": [
              "<bound method NDFrame.describe of 0        33,249\n",
              "1        28,102\n",
              "2        30,271\n",
              "3        26,247\n",
              "4        29,665\n",
              "          ...  \n",
              "17253    33,305\n",
              "17254    29,035\n",
              "17255    25,230\n",
              "17256    32,652\n",
              "17257    28,774\n",
              "Name: Premium, Length: 17258, dtype: object>"
            ]
          },
          "execution_count": 11,
          "metadata": {},
          "output_type": "execute_result"
        }
      ],
      "source": [
        "df['Premium'].describe"
      ]
    },
    {
      "cell_type": "code",
      "execution_count": 12,
      "metadata": {
        "id": "yp8DKcEnnTba"
      },
      "outputs": [],
      "source": [
        "df['Premium']=df['Premium'].str.replace(',','')"
      ]
    },
    {
      "cell_type": "code",
      "execution_count": 13,
      "metadata": {
        "colab": {
          "base_uri": "https://localhost:8080/"
        },
        "id": "5JSMzmdqn0SM",
        "outputId": "f45f8af1-f567-4f25-8b2d-feb7f7af2fa2"
      },
      "outputs": [
        {
          "data": {
            "text/plain": [
              "<bound method NDFrame.describe of 0        33249\n",
              "1        28102\n",
              "2        30271\n",
              "3        26247\n",
              "4        29665\n",
              "         ...  \n",
              "17253    33305\n",
              "17254    29035\n",
              "17255    25230\n",
              "17256    32652\n",
              "17257    28774\n",
              "Name: Premium, Length: 17258, dtype: object>"
            ]
          },
          "execution_count": 13,
          "metadata": {},
          "output_type": "execute_result"
        }
      ],
      "source": [
        "df['Premium'].describe"
      ]
    },
    {
      "cell_type": "code",
      "execution_count": 14,
      "metadata": {
        "colab": {
          "base_uri": "https://localhost:8080/"
        },
        "id": "UXQqlfckn2Vj",
        "outputId": "0cd8723a-92e3-45f9-9cea-fa78327c092e"
      },
      "outputs": [
        {
          "data": {
            "text/plain": [
              "0        33249\n",
              "1        28102\n",
              "2        30271\n",
              "3        26247\n",
              "4        29665\n",
              "         ...  \n",
              "17253    33305\n",
              "17254    29035\n",
              "17255    25230\n",
              "17256    32652\n",
              "17257    28774\n",
              "Name: Premium, Length: 17258, dtype: int32"
            ]
          },
          "execution_count": 14,
          "metadata": {},
          "output_type": "execute_result"
        }
      ],
      "source": [
        "df['Premium'].astype(int)"
      ]
    },
    {
      "cell_type": "code",
      "execution_count": 15,
      "metadata": {
        "id": "10ZC8HTYoFyZ"
      },
      "outputs": [],
      "source": [
        "df['Premium'] = pd.to_numeric(df['Premium'], errors='coerce')"
      ]
    },
    {
      "cell_type": "code",
      "execution_count": 16,
      "metadata": {
        "colab": {
          "base_uri": "https://localhost:8080/"
        },
        "id": "Rh_9xPhPrOKE",
        "outputId": "69b43e6f-2b12-4a52-eb32-a562c885fe3e"
      },
      "outputs": [
        {
          "data": {
            "text/plain": [
              "array(['Hyundai', 'Honda', 'Mahindra', 'Maruti'], dtype=object)"
            ]
          },
          "execution_count": 16,
          "metadata": {},
          "output_type": "execute_result"
        }
      ],
      "source": [
        "df.Company.unique()"
      ]
    },
    {
      "cell_type": "code",
      "execution_count": 17,
      "metadata": {
        "colab": {
          "base_uri": "https://localhost:8080/",
          "height": 554
        },
        "id": "X6fq8yFIrpEo",
        "outputId": "4307f2db-9bd4-4caa-a5e3-48cf52dbb3ff"
      },
      "outputs": [
        {
          "data": {
            "text/html": [
              "<div>\n",
              "<style scoped>\n",
              "    .dataframe tbody tr th:only-of-type {\n",
              "        vertical-align: middle;\n",
              "    }\n",
              "\n",
              "    .dataframe tbody tr th {\n",
              "        vertical-align: top;\n",
              "    }\n",
              "\n",
              "    .dataframe thead th {\n",
              "        text-align: right;\n",
              "    }\n",
              "</style>\n",
              "<table border=\"1\" class=\"dataframe\">\n",
              "  <thead>\n",
              "    <tr style=\"text-align: right;\">\n",
              "      <th></th>\n",
              "      <th>CustID</th>\n",
              "      <th>Premium</th>\n",
              "      <th>Model_Year</th>\n",
              "      <th>Owner_Type</th>\n",
              "      <th>Road side addon</th>\n",
              "      <th>No Claim bonus discount</th>\n",
              "      <th>Electric add on rate</th>\n",
              "      <th>Company</th>\n",
              "      <th>Car Type</th>\n",
              "      <th>RTO</th>\n",
              "      <th>CNGkit</th>\n",
              "      <th>Paymentmode</th>\n",
              "      <th>Total IDV</th>\n",
              "      <th>Seats</th>\n",
              "      <th>Acquisition Channel</th>\n",
              "    </tr>\n",
              "  </thead>\n",
              "  <tbody>\n",
              "    <tr>\n",
              "      <th>8</th>\n",
              "      <td>10008</td>\n",
              "      <td>34008</td>\n",
              "      <td>2015</td>\n",
              "      <td>2</td>\n",
              "      <td>1</td>\n",
              "      <td>1,330</td>\n",
              "      <td>364</td>\n",
              "      <td>Maruti</td>\n",
              "      <td>HatchBack</td>\n",
              "      <td>Navi Mumbai</td>\n",
              "      <td>0</td>\n",
              "      <td>UPI</td>\n",
              "      <td>649,902</td>\n",
              "      <td>6</td>\n",
              "      <td>In Direct</td>\n",
              "    </tr>\n",
              "    <tr>\n",
              "      <th>11</th>\n",
              "      <td>10011</td>\n",
              "      <td>29843</td>\n",
              "      <td>2009</td>\n",
              "      <td>2</td>\n",
              "      <td>0</td>\n",
              "      <td>1,549</td>\n",
              "      <td>404</td>\n",
              "      <td>Maruti</td>\n",
              "      <td>Sedan</td>\n",
              "      <td>Navi Mumbai</td>\n",
              "      <td>1</td>\n",
              "      <td>Digital Wallet</td>\n",
              "      <td>675,050</td>\n",
              "      <td>5</td>\n",
              "      <td>In Direct</td>\n",
              "    </tr>\n",
              "    <tr>\n",
              "      <th>15</th>\n",
              "      <td>10015</td>\n",
              "      <td>34697</td>\n",
              "      <td>2015</td>\n",
              "      <td>2</td>\n",
              "      <td>0</td>\n",
              "      <td>1,241</td>\n",
              "      <td>315</td>\n",
              "      <td>Maruti</td>\n",
              "      <td>HatchBack</td>\n",
              "      <td>Thane</td>\n",
              "      <td>0</td>\n",
              "      <td>Net Banking</td>\n",
              "      <td>665,525</td>\n",
              "      <td>6</td>\n",
              "      <td>In Direct</td>\n",
              "    </tr>\n",
              "    <tr>\n",
              "      <th>19</th>\n",
              "      <td>10019</td>\n",
              "      <td>33586</td>\n",
              "      <td>2013</td>\n",
              "      <td>1</td>\n",
              "      <td>0</td>\n",
              "      <td>1,565</td>\n",
              "      <td>407</td>\n",
              "      <td>Maruti</td>\n",
              "      <td>HatchBack</td>\n",
              "      <td>Navi Mumbai</td>\n",
              "      <td>0</td>\n",
              "      <td>Net Banking</td>\n",
              "      <td>801,612</td>\n",
              "      <td>6</td>\n",
              "      <td>In Direct</td>\n",
              "    </tr>\n",
              "    <tr>\n",
              "      <th>23</th>\n",
              "      <td>10023</td>\n",
              "      <td>31041</td>\n",
              "      <td>2015</td>\n",
              "      <td>1</td>\n",
              "      <td>1</td>\n",
              "      <td>1,320</td>\n",
              "      <td>363</td>\n",
              "      <td>Maruti</td>\n",
              "      <td>Sedan</td>\n",
              "      <td>Mumbai</td>\n",
              "      <td>0</td>\n",
              "      <td>Digital Wallet</td>\n",
              "      <td>837,678</td>\n",
              "      <td>5</td>\n",
              "      <td>Direct</td>\n",
              "    </tr>\n",
              "    <tr>\n",
              "      <th>...</th>\n",
              "      <td>...</td>\n",
              "      <td>...</td>\n",
              "      <td>...</td>\n",
              "      <td>...</td>\n",
              "      <td>...</td>\n",
              "      <td>...</td>\n",
              "      <td>...</td>\n",
              "      <td>...</td>\n",
              "      <td>...</td>\n",
              "      <td>...</td>\n",
              "      <td>...</td>\n",
              "      <td>...</td>\n",
              "      <td>...</td>\n",
              "      <td>...</td>\n",
              "      <td>...</td>\n",
              "    </tr>\n",
              "    <tr>\n",
              "      <th>17236</th>\n",
              "      <td>27236</td>\n",
              "      <td>29020</td>\n",
              "      <td>2003</td>\n",
              "      <td>2</td>\n",
              "      <td>0</td>\n",
              "      <td>1,417</td>\n",
              "      <td>518</td>\n",
              "      <td>Maruti</td>\n",
              "      <td>HatchBack</td>\n",
              "      <td>Mumbai</td>\n",
              "      <td>1</td>\n",
              "      <td>Credit Card</td>\n",
              "      <td>584,918</td>\n",
              "      <td>8</td>\n",
              "      <td>In Direct</td>\n",
              "    </tr>\n",
              "    <tr>\n",
              "      <th>17242</th>\n",
              "      <td>27242</td>\n",
              "      <td>26514</td>\n",
              "      <td>2010</td>\n",
              "      <td>1</td>\n",
              "      <td>1</td>\n",
              "      <td>1,508</td>\n",
              "      <td>515</td>\n",
              "      <td>Maruti</td>\n",
              "      <td>Sedan</td>\n",
              "      <td>Mumbai</td>\n",
              "      <td>1</td>\n",
              "      <td>Net Banking</td>\n",
              "      <td>696,554</td>\n",
              "      <td>7</td>\n",
              "      <td>Direct</td>\n",
              "    </tr>\n",
              "    <tr>\n",
              "      <th>17246</th>\n",
              "      <td>27246</td>\n",
              "      <td>26798</td>\n",
              "      <td>2003</td>\n",
              "      <td>1</td>\n",
              "      <td>1</td>\n",
              "      <td>1,285</td>\n",
              "      <td>423</td>\n",
              "      <td>Maruti</td>\n",
              "      <td>HatchBack</td>\n",
              "      <td>Thane</td>\n",
              "      <td>0</td>\n",
              "      <td>Net Banking</td>\n",
              "      <td>687,471</td>\n",
              "      <td>5</td>\n",
              "      <td>Direct</td>\n",
              "    </tr>\n",
              "    <tr>\n",
              "      <th>17251</th>\n",
              "      <td>27251</td>\n",
              "      <td>27962</td>\n",
              "      <td>2009</td>\n",
              "      <td>1</td>\n",
              "      <td>1</td>\n",
              "      <td>1,492</td>\n",
              "      <td>465</td>\n",
              "      <td>Maruti</td>\n",
              "      <td>Sedan</td>\n",
              "      <td>Pen</td>\n",
              "      <td>0</td>\n",
              "      <td>Net Banking</td>\n",
              "      <td>611,526</td>\n",
              "      <td>8</td>\n",
              "      <td>In Direct</td>\n",
              "    </tr>\n",
              "    <tr>\n",
              "      <th>17256</th>\n",
              "      <td>27256</td>\n",
              "      <td>32652</td>\n",
              "      <td>2011</td>\n",
              "      <td>2</td>\n",
              "      <td>1</td>\n",
              "      <td>1,386</td>\n",
              "      <td>492</td>\n",
              "      <td>Maruti</td>\n",
              "      <td>Sedan</td>\n",
              "      <td>Mumbai</td>\n",
              "      <td>0</td>\n",
              "      <td>Digital Wallet</td>\n",
              "      <td>664,094</td>\n",
              "      <td>6</td>\n",
              "      <td>In Direct</td>\n",
              "    </tr>\n",
              "  </tbody>\n",
              "</table>\n",
              "<p>4261 rows × 15 columns</p>\n",
              "</div>"
            ],
            "text/plain": [
              "       CustID  Premium  Model_Year  Owner_Type  Road side addon  \\\n",
              "8       10008    34008        2015           2                1   \n",
              "11      10011    29843        2009           2                0   \n",
              "15      10015    34697        2015           2                0   \n",
              "19      10019    33586        2013           1                0   \n",
              "23      10023    31041        2015           1                1   \n",
              "...       ...      ...         ...         ...              ...   \n",
              "17236   27236    29020        2003           2                0   \n",
              "17242   27242    26514        2010           1                1   \n",
              "17246   27246    26798        2003           1                1   \n",
              "17251   27251    27962        2009           1                1   \n",
              "17256   27256    32652        2011           2                1   \n",
              "\n",
              "      No Claim bonus discount  Electric add on rate Company   Car Type  \\\n",
              "8                       1,330                   364  Maruti  HatchBack   \n",
              "11                      1,549                   404  Maruti      Sedan   \n",
              "15                      1,241                   315  Maruti  HatchBack   \n",
              "19                      1,565                   407  Maruti  HatchBack   \n",
              "23                      1,320                   363  Maruti      Sedan   \n",
              "...                       ...                   ...     ...        ...   \n",
              "17236                   1,417                   518  Maruti  HatchBack   \n",
              "17242                   1,508                   515  Maruti      Sedan   \n",
              "17246                   1,285                   423  Maruti  HatchBack   \n",
              "17251                   1,492                   465  Maruti      Sedan   \n",
              "17256                   1,386                   492  Maruti      Sedan   \n",
              "\n",
              "               RTO  CNGkit     Paymentmode Total IDV  Seats  \\\n",
              "8      Navi Mumbai       0             UPI   649,902      6   \n",
              "11     Navi Mumbai       1  Digital Wallet   675,050      5   \n",
              "15           Thane       0     Net Banking   665,525      6   \n",
              "19     Navi Mumbai       0     Net Banking   801,612      6   \n",
              "23          Mumbai       0  Digital Wallet   837,678      5   \n",
              "...            ...     ...             ...       ...    ...   \n",
              "17236       Mumbai       1     Credit Card   584,918      8   \n",
              "17242       Mumbai       1     Net Banking   696,554      7   \n",
              "17246        Thane       0     Net Banking   687,471      5   \n",
              "17251          Pen       0     Net Banking   611,526      8   \n",
              "17256       Mumbai       0  Digital Wallet   664,094      6   \n",
              "\n",
              "      Acquisition Channel  \n",
              "8               In Direct  \n",
              "11              In Direct  \n",
              "15              In Direct  \n",
              "19              In Direct  \n",
              "23                 Direct  \n",
              "...                   ...  \n",
              "17236           In Direct  \n",
              "17242              Direct  \n",
              "17246              Direct  \n",
              "17251           In Direct  \n",
              "17256           In Direct  \n",
              "\n",
              "[4261 rows x 15 columns]"
            ]
          },
          "execution_count": 17,
          "metadata": {},
          "output_type": "execute_result"
        }
      ],
      "source": [
        "mardf=df[df['Company']=='Maruti']\n",
        "mardf"
      ]
    },
    {
      "cell_type": "code",
      "execution_count": 18,
      "metadata": {
        "colab": {
          "base_uri": "https://localhost:8080/",
          "height": 589
        },
        "id": "iAH2HtHwrgem",
        "outputId": "58dbff1f-4b6b-4432-8e37-165a85219ebe"
      },
      "outputs": [
        {
          "data": {
            "text/html": [
              "<div>\n",
              "<style scoped>\n",
              "    .dataframe tbody tr th:only-of-type {\n",
              "        vertical-align: middle;\n",
              "    }\n",
              "\n",
              "    .dataframe tbody tr th {\n",
              "        vertical-align: top;\n",
              "    }\n",
              "\n",
              "    .dataframe thead th {\n",
              "        text-align: right;\n",
              "    }\n",
              "</style>\n",
              "<table border=\"1\" class=\"dataframe\">\n",
              "  <thead>\n",
              "    <tr style=\"text-align: right;\">\n",
              "      <th></th>\n",
              "      <th>CustID</th>\n",
              "      <th>Premium</th>\n",
              "      <th>Model_Year</th>\n",
              "      <th>Owner_Type</th>\n",
              "      <th>Road side addon</th>\n",
              "      <th>No Claim bonus discount</th>\n",
              "      <th>Electric add on rate</th>\n",
              "      <th>Company</th>\n",
              "      <th>Car Type</th>\n",
              "      <th>RTO</th>\n",
              "      <th>CNGkit</th>\n",
              "      <th>Paymentmode</th>\n",
              "      <th>Total IDV</th>\n",
              "      <th>Seats</th>\n",
              "      <th>Acquisition Channel</th>\n",
              "    </tr>\n",
              "  </thead>\n",
              "  <tbody>\n",
              "    <tr>\n",
              "      <th>6</th>\n",
              "      <td>10006</td>\n",
              "      <td>30070</td>\n",
              "      <td>2005</td>\n",
              "      <td>2</td>\n",
              "      <td>0</td>\n",
              "      <td>1,228</td>\n",
              "      <td>556</td>\n",
              "      <td>Mahindra</td>\n",
              "      <td>Sedan</td>\n",
              "      <td>Pen</td>\n",
              "      <td>0</td>\n",
              "      <td>Net Banking</td>\n",
              "      <td>659,122</td>\n",
              "      <td>6</td>\n",
              "      <td>In Direct</td>\n",
              "    </tr>\n",
              "    <tr>\n",
              "      <th>9</th>\n",
              "      <td>10009</td>\n",
              "      <td>29810</td>\n",
              "      <td>2002</td>\n",
              "      <td>1</td>\n",
              "      <td>0</td>\n",
              "      <td>1,344</td>\n",
              "      <td>544</td>\n",
              "      <td>Mahindra</td>\n",
              "      <td>Sedan</td>\n",
              "      <td>Navi Mumbai</td>\n",
              "      <td>1</td>\n",
              "      <td>Net Banking</td>\n",
              "      <td>737,568</td>\n",
              "      <td>5</td>\n",
              "      <td>Direct</td>\n",
              "    </tr>\n",
              "    <tr>\n",
              "      <th>16</th>\n",
              "      <td>10016</td>\n",
              "      <td>34512</td>\n",
              "      <td>2003</td>\n",
              "      <td>2</td>\n",
              "      <td>1</td>\n",
              "      <td>1,249</td>\n",
              "      <td>378</td>\n",
              "      <td>Mahindra</td>\n",
              "      <td>Sedan</td>\n",
              "      <td>Navi Mumbai</td>\n",
              "      <td>0</td>\n",
              "      <td>Net Banking</td>\n",
              "      <td>730,863</td>\n",
              "      <td>7</td>\n",
              "      <td>In Direct</td>\n",
              "    </tr>\n",
              "    <tr>\n",
              "      <th>28</th>\n",
              "      <td>10028</td>\n",
              "      <td>26114</td>\n",
              "      <td>2009</td>\n",
              "      <td>1</td>\n",
              "      <td>0</td>\n",
              "      <td>1,490</td>\n",
              "      <td>398</td>\n",
              "      <td>Mahindra</td>\n",
              "      <td>Sedan</td>\n",
              "      <td>Pen</td>\n",
              "      <td>0</td>\n",
              "      <td>Net Banking</td>\n",
              "      <td>655,094</td>\n",
              "      <td>5</td>\n",
              "      <td>In Direct</td>\n",
              "    </tr>\n",
              "    <tr>\n",
              "      <th>30</th>\n",
              "      <td>10030</td>\n",
              "      <td>27549</td>\n",
              "      <td>2000</td>\n",
              "      <td>2</td>\n",
              "      <td>1</td>\n",
              "      <td>1,584</td>\n",
              "      <td>502</td>\n",
              "      <td>Mahindra</td>\n",
              "      <td>HatchBack</td>\n",
              "      <td>Mumbai</td>\n",
              "      <td>1</td>\n",
              "      <td>Net Banking</td>\n",
              "      <td>801,669</td>\n",
              "      <td>6</td>\n",
              "      <td>Direct</td>\n",
              "    </tr>\n",
              "    <tr>\n",
              "      <th>...</th>\n",
              "      <td>...</td>\n",
              "      <td>...</td>\n",
              "      <td>...</td>\n",
              "      <td>...</td>\n",
              "      <td>...</td>\n",
              "      <td>...</td>\n",
              "      <td>...</td>\n",
              "      <td>...</td>\n",
              "      <td>...</td>\n",
              "      <td>...</td>\n",
              "      <td>...</td>\n",
              "      <td>...</td>\n",
              "      <td>...</td>\n",
              "      <td>...</td>\n",
              "      <td>...</td>\n",
              "    </tr>\n",
              "    <tr>\n",
              "      <th>17243</th>\n",
              "      <td>27243</td>\n",
              "      <td>34233</td>\n",
              "      <td>2013</td>\n",
              "      <td>1</td>\n",
              "      <td>0</td>\n",
              "      <td>1,554</td>\n",
              "      <td>338</td>\n",
              "      <td>Mahindra</td>\n",
              "      <td>Sedan</td>\n",
              "      <td>Navi Mumbai</td>\n",
              "      <td>0</td>\n",
              "      <td>Net Banking</td>\n",
              "      <td>726,055</td>\n",
              "      <td>5</td>\n",
              "      <td>Direct</td>\n",
              "    </tr>\n",
              "    <tr>\n",
              "      <th>17248</th>\n",
              "      <td>27248</td>\n",
              "      <td>34425</td>\n",
              "      <td>2018</td>\n",
              "      <td>1</td>\n",
              "      <td>1</td>\n",
              "      <td>1,352</td>\n",
              "      <td>307</td>\n",
              "      <td>Mahindra</td>\n",
              "      <td>Sedan</td>\n",
              "      <td>Navi Mumbai</td>\n",
              "      <td>0</td>\n",
              "      <td>Digital Wallet</td>\n",
              "      <td>696,438</td>\n",
              "      <td>8</td>\n",
              "      <td>Direct</td>\n",
              "    </tr>\n",
              "    <tr>\n",
              "      <th>17249</th>\n",
              "      <td>27249</td>\n",
              "      <td>32514</td>\n",
              "      <td>2015</td>\n",
              "      <td>1</td>\n",
              "      <td>0</td>\n",
              "      <td>1,201</td>\n",
              "      <td>541</td>\n",
              "      <td>Mahindra</td>\n",
              "      <td>Sedan</td>\n",
              "      <td>Mumbai</td>\n",
              "      <td>0</td>\n",
              "      <td>Digital Wallet</td>\n",
              "      <td>742,570</td>\n",
              "      <td>5</td>\n",
              "      <td>In Direct</td>\n",
              "    </tr>\n",
              "    <tr>\n",
              "      <th>17254</th>\n",
              "      <td>27254</td>\n",
              "      <td>29035</td>\n",
              "      <td>2018</td>\n",
              "      <td>1</td>\n",
              "      <td>0</td>\n",
              "      <td>1,342</td>\n",
              "      <td>554</td>\n",
              "      <td>Mahindra</td>\n",
              "      <td>HatchBack</td>\n",
              "      <td>Pen</td>\n",
              "      <td>1</td>\n",
              "      <td>Net Banking</td>\n",
              "      <td>763,506</td>\n",
              "      <td>8</td>\n",
              "      <td>In Direct</td>\n",
              "    </tr>\n",
              "    <tr>\n",
              "      <th>17255</th>\n",
              "      <td>27255</td>\n",
              "      <td>25230</td>\n",
              "      <td>2018</td>\n",
              "      <td>2</td>\n",
              "      <td>0</td>\n",
              "      <td>1,246</td>\n",
              "      <td>594</td>\n",
              "      <td>Mahindra</td>\n",
              "      <td>Sedan</td>\n",
              "      <td>Navi Mumbai</td>\n",
              "      <td>1</td>\n",
              "      <td>Digital Wallet</td>\n",
              "      <td>697,297</td>\n",
              "      <td>7</td>\n",
              "      <td>Direct</td>\n",
              "    </tr>\n",
              "  </tbody>\n",
              "</table>\n",
              "<p>4353 rows × 15 columns</p>\n",
              "</div>"
            ],
            "text/plain": [
              "       CustID  Premium  Model_Year  Owner_Type  Road side addon  \\\n",
              "6       10006    30070        2005           2                0   \n",
              "9       10009    29810        2002           1                0   \n",
              "16      10016    34512        2003           2                1   \n",
              "28      10028    26114        2009           1                0   \n",
              "30      10030    27549        2000           2                1   \n",
              "...       ...      ...         ...         ...              ...   \n",
              "17243   27243    34233        2013           1                0   \n",
              "17248   27248    34425        2018           1                1   \n",
              "17249   27249    32514        2015           1                0   \n",
              "17254   27254    29035        2018           1                0   \n",
              "17255   27255    25230        2018           2                0   \n",
              "\n",
              "      No Claim bonus discount  Electric add on rate   Company   Car Type  \\\n",
              "6                       1,228                   556  Mahindra      Sedan   \n",
              "9                       1,344                   544  Mahindra      Sedan   \n",
              "16                      1,249                   378  Mahindra      Sedan   \n",
              "28                      1,490                   398  Mahindra      Sedan   \n",
              "30                      1,584                   502  Mahindra  HatchBack   \n",
              "...                       ...                   ...       ...        ...   \n",
              "17243                   1,554                   338  Mahindra      Sedan   \n",
              "17248                   1,352                   307  Mahindra      Sedan   \n",
              "17249                   1,201                   541  Mahindra      Sedan   \n",
              "17254                   1,342                   554  Mahindra  HatchBack   \n",
              "17255                   1,246                   594  Mahindra      Sedan   \n",
              "\n",
              "               RTO  CNGkit     Paymentmode Total IDV  Seats  \\\n",
              "6              Pen       0     Net Banking   659,122      6   \n",
              "9      Navi Mumbai       1     Net Banking   737,568      5   \n",
              "16     Navi Mumbai       0     Net Banking   730,863      7   \n",
              "28             Pen       0     Net Banking   655,094      5   \n",
              "30          Mumbai       1     Net Banking   801,669      6   \n",
              "...            ...     ...             ...       ...    ...   \n",
              "17243  Navi Mumbai       0     Net Banking   726,055      5   \n",
              "17248  Navi Mumbai       0  Digital Wallet   696,438      8   \n",
              "17249       Mumbai       0  Digital Wallet   742,570      5   \n",
              "17254          Pen       1     Net Banking   763,506      8   \n",
              "17255  Navi Mumbai       1  Digital Wallet   697,297      7   \n",
              "\n",
              "      Acquisition Channel  \n",
              "6               In Direct  \n",
              "9                  Direct  \n",
              "16              In Direct  \n",
              "28              In Direct  \n",
              "30                 Direct  \n",
              "...                   ...  \n",
              "17243              Direct  \n",
              "17248              Direct  \n",
              "17249           In Direct  \n",
              "17254           In Direct  \n",
              "17255              Direct  \n",
              "\n",
              "[4353 rows x 15 columns]"
            ]
          },
          "execution_count": 18,
          "metadata": {},
          "output_type": "execute_result"
        }
      ],
      "source": [
        "mahidf=df[df['Company']=='Mahindra']\n",
        "mahidf"
      ]
    },
    {
      "cell_type": "code",
      "execution_count": 19,
      "metadata": {
        "colab": {
          "base_uri": "https://localhost:8080/",
          "height": 554
        },
        "id": "1XFFG7LqrL4F",
        "outputId": "e997543c-f816-416f-b05d-060b8096ec6d"
      },
      "outputs": [
        {
          "data": {
            "text/html": [
              "<div>\n",
              "<style scoped>\n",
              "    .dataframe tbody tr th:only-of-type {\n",
              "        vertical-align: middle;\n",
              "    }\n",
              "\n",
              "    .dataframe tbody tr th {\n",
              "        vertical-align: top;\n",
              "    }\n",
              "\n",
              "    .dataframe thead th {\n",
              "        text-align: right;\n",
              "    }\n",
              "</style>\n",
              "<table border=\"1\" class=\"dataframe\">\n",
              "  <thead>\n",
              "    <tr style=\"text-align: right;\">\n",
              "      <th></th>\n",
              "      <th>CustID</th>\n",
              "      <th>Premium</th>\n",
              "      <th>Model_Year</th>\n",
              "      <th>Owner_Type</th>\n",
              "      <th>Road side addon</th>\n",
              "      <th>No Claim bonus discount</th>\n",
              "      <th>Electric add on rate</th>\n",
              "      <th>Company</th>\n",
              "      <th>Car Type</th>\n",
              "      <th>RTO</th>\n",
              "      <th>CNGkit</th>\n",
              "      <th>Paymentmode</th>\n",
              "      <th>Total IDV</th>\n",
              "      <th>Seats</th>\n",
              "      <th>Acquisition Channel</th>\n",
              "    </tr>\n",
              "  </thead>\n",
              "  <tbody>\n",
              "    <tr>\n",
              "      <th>3</th>\n",
              "      <td>10003</td>\n",
              "      <td>26247</td>\n",
              "      <td>2014</td>\n",
              "      <td>2</td>\n",
              "      <td>0</td>\n",
              "      <td>1,249</td>\n",
              "      <td>496</td>\n",
              "      <td>Honda</td>\n",
              "      <td>Sedan</td>\n",
              "      <td>Mumbai</td>\n",
              "      <td>1</td>\n",
              "      <td>Net Banking</td>\n",
              "      <td>617,561</td>\n",
              "      <td>7</td>\n",
              "      <td>In Direct</td>\n",
              "    </tr>\n",
              "    <tr>\n",
              "      <th>5</th>\n",
              "      <td>10005</td>\n",
              "      <td>27637</td>\n",
              "      <td>2009</td>\n",
              "      <td>1</td>\n",
              "      <td>0</td>\n",
              "      <td>1,467</td>\n",
              "      <td>558</td>\n",
              "      <td>Honda</td>\n",
              "      <td>HatchBack</td>\n",
              "      <td>Navi Mumbai</td>\n",
              "      <td>1</td>\n",
              "      <td>Credit Card</td>\n",
              "      <td>671,020</td>\n",
              "      <td>7</td>\n",
              "      <td>In Direct</td>\n",
              "    </tr>\n",
              "    <tr>\n",
              "      <th>20</th>\n",
              "      <td>10020</td>\n",
              "      <td>31872</td>\n",
              "      <td>2003</td>\n",
              "      <td>1</td>\n",
              "      <td>1</td>\n",
              "      <td>1,477</td>\n",
              "      <td>469</td>\n",
              "      <td>Honda</td>\n",
              "      <td>HatchBack</td>\n",
              "      <td>Pen</td>\n",
              "      <td>1</td>\n",
              "      <td>UPI</td>\n",
              "      <td>579,927</td>\n",
              "      <td>8</td>\n",
              "      <td>Direct</td>\n",
              "    </tr>\n",
              "    <tr>\n",
              "      <th>21</th>\n",
              "      <td>10021</td>\n",
              "      <td>30838</td>\n",
              "      <td>2018</td>\n",
              "      <td>1</td>\n",
              "      <td>1</td>\n",
              "      <td>1,466</td>\n",
              "      <td>409</td>\n",
              "      <td>Honda</td>\n",
              "      <td>HatchBack</td>\n",
              "      <td>Navi Mumbai</td>\n",
              "      <td>1</td>\n",
              "      <td>Digital Wallet</td>\n",
              "      <td>693,287</td>\n",
              "      <td>6</td>\n",
              "      <td>In Direct</td>\n",
              "    </tr>\n",
              "    <tr>\n",
              "      <th>22</th>\n",
              "      <td>10022</td>\n",
              "      <td>29471</td>\n",
              "      <td>2000</td>\n",
              "      <td>1</td>\n",
              "      <td>0</td>\n",
              "      <td>1,224</td>\n",
              "      <td>466</td>\n",
              "      <td>Honda</td>\n",
              "      <td>Sedan</td>\n",
              "      <td>Pen</td>\n",
              "      <td>1</td>\n",
              "      <td>Net Banking</td>\n",
              "      <td>697,330</td>\n",
              "      <td>8</td>\n",
              "      <td>In Direct</td>\n",
              "    </tr>\n",
              "    <tr>\n",
              "      <th>...</th>\n",
              "      <td>...</td>\n",
              "      <td>...</td>\n",
              "      <td>...</td>\n",
              "      <td>...</td>\n",
              "      <td>...</td>\n",
              "      <td>...</td>\n",
              "      <td>...</td>\n",
              "      <td>...</td>\n",
              "      <td>...</td>\n",
              "      <td>...</td>\n",
              "      <td>...</td>\n",
              "      <td>...</td>\n",
              "      <td>...</td>\n",
              "      <td>...</td>\n",
              "      <td>...</td>\n",
              "    </tr>\n",
              "    <tr>\n",
              "      <th>17239</th>\n",
              "      <td>27239</td>\n",
              "      <td>32556</td>\n",
              "      <td>2006</td>\n",
              "      <td>1</td>\n",
              "      <td>0</td>\n",
              "      <td>1,281</td>\n",
              "      <td>444</td>\n",
              "      <td>Honda</td>\n",
              "      <td>Sedan</td>\n",
              "      <td>Mumbai</td>\n",
              "      <td>0</td>\n",
              "      <td>Credit Card</td>\n",
              "      <td>802,582</td>\n",
              "      <td>6</td>\n",
              "      <td>Direct</td>\n",
              "    </tr>\n",
              "    <tr>\n",
              "      <th>17240</th>\n",
              "      <td>27240</td>\n",
              "      <td>26758</td>\n",
              "      <td>2010</td>\n",
              "      <td>2</td>\n",
              "      <td>1</td>\n",
              "      <td>1,379</td>\n",
              "      <td>565</td>\n",
              "      <td>Honda</td>\n",
              "      <td>Sedan</td>\n",
              "      <td>Mumbai</td>\n",
              "      <td>0</td>\n",
              "      <td>Net Banking</td>\n",
              "      <td>646,525</td>\n",
              "      <td>7</td>\n",
              "      <td>In Direct</td>\n",
              "    </tr>\n",
              "    <tr>\n",
              "      <th>17241</th>\n",
              "      <td>27241</td>\n",
              "      <td>34448</td>\n",
              "      <td>2000</td>\n",
              "      <td>1</td>\n",
              "      <td>0</td>\n",
              "      <td>1,328</td>\n",
              "      <td>597</td>\n",
              "      <td>Honda</td>\n",
              "      <td>HatchBack</td>\n",
              "      <td>Mumbai</td>\n",
              "      <td>1</td>\n",
              "      <td>UPI</td>\n",
              "      <td>799,008</td>\n",
              "      <td>7</td>\n",
              "      <td>Direct</td>\n",
              "    </tr>\n",
              "    <tr>\n",
              "      <th>17244</th>\n",
              "      <td>27244</td>\n",
              "      <td>25194</td>\n",
              "      <td>2004</td>\n",
              "      <td>1</td>\n",
              "      <td>1</td>\n",
              "      <td>1,519</td>\n",
              "      <td>491</td>\n",
              "      <td>Honda</td>\n",
              "      <td>HatchBack</td>\n",
              "      <td>Navi Mumbai</td>\n",
              "      <td>0</td>\n",
              "      <td>Digital Wallet</td>\n",
              "      <td>627,403</td>\n",
              "      <td>5</td>\n",
              "      <td>In Direct</td>\n",
              "    </tr>\n",
              "    <tr>\n",
              "      <th>17245</th>\n",
              "      <td>27245</td>\n",
              "      <td>25602</td>\n",
              "      <td>2000</td>\n",
              "      <td>2</td>\n",
              "      <td>0</td>\n",
              "      <td>1,217</td>\n",
              "      <td>431</td>\n",
              "      <td>Honda</td>\n",
              "      <td>HatchBack</td>\n",
              "      <td>Pen</td>\n",
              "      <td>1</td>\n",
              "      <td>UPI</td>\n",
              "      <td>742,696</td>\n",
              "      <td>7</td>\n",
              "      <td>Direct</td>\n",
              "    </tr>\n",
              "  </tbody>\n",
              "</table>\n",
              "<p>4331 rows × 15 columns</p>\n",
              "</div>"
            ],
            "text/plain": [
              "       CustID  Premium  Model_Year  Owner_Type  Road side addon  \\\n",
              "3       10003    26247        2014           2                0   \n",
              "5       10005    27637        2009           1                0   \n",
              "20      10020    31872        2003           1                1   \n",
              "21      10021    30838        2018           1                1   \n",
              "22      10022    29471        2000           1                0   \n",
              "...       ...      ...         ...         ...              ...   \n",
              "17239   27239    32556        2006           1                0   \n",
              "17240   27240    26758        2010           2                1   \n",
              "17241   27241    34448        2000           1                0   \n",
              "17244   27244    25194        2004           1                1   \n",
              "17245   27245    25602        2000           2                0   \n",
              "\n",
              "      No Claim bonus discount  Electric add on rate Company   Car Type  \\\n",
              "3                       1,249                   496   Honda      Sedan   \n",
              "5                       1,467                   558   Honda  HatchBack   \n",
              "20                      1,477                   469   Honda  HatchBack   \n",
              "21                      1,466                   409   Honda  HatchBack   \n",
              "22                      1,224                   466   Honda      Sedan   \n",
              "...                       ...                   ...     ...        ...   \n",
              "17239                   1,281                   444   Honda      Sedan   \n",
              "17240                   1,379                   565   Honda      Sedan   \n",
              "17241                   1,328                   597   Honda  HatchBack   \n",
              "17244                   1,519                   491   Honda  HatchBack   \n",
              "17245                   1,217                   431   Honda  HatchBack   \n",
              "\n",
              "               RTO  CNGkit     Paymentmode Total IDV  Seats  \\\n",
              "3           Mumbai       1     Net Banking   617,561      7   \n",
              "5      Navi Mumbai       1     Credit Card   671,020      7   \n",
              "20             Pen       1             UPI   579,927      8   \n",
              "21     Navi Mumbai       1  Digital Wallet   693,287      6   \n",
              "22             Pen       1     Net Banking   697,330      8   \n",
              "...            ...     ...             ...       ...    ...   \n",
              "17239       Mumbai       0     Credit Card   802,582      6   \n",
              "17240       Mumbai       0     Net Banking   646,525      7   \n",
              "17241       Mumbai       1             UPI   799,008      7   \n",
              "17244  Navi Mumbai       0  Digital Wallet   627,403      5   \n",
              "17245          Pen       1             UPI   742,696      7   \n",
              "\n",
              "      Acquisition Channel  \n",
              "3               In Direct  \n",
              "5               In Direct  \n",
              "20                 Direct  \n",
              "21              In Direct  \n",
              "22              In Direct  \n",
              "...                   ...  \n",
              "17239              Direct  \n",
              "17240           In Direct  \n",
              "17241              Direct  \n",
              "17244           In Direct  \n",
              "17245              Direct  \n",
              "\n",
              "[4331 rows x 15 columns]"
            ]
          },
          "execution_count": 19,
          "metadata": {},
          "output_type": "execute_result"
        }
      ],
      "source": [
        "hondadf=df[df['Company']=='Honda']\n",
        "hondadf"
      ]
    },
    {
      "cell_type": "code",
      "execution_count": 20,
      "metadata": {
        "colab": {
          "base_uri": "https://localhost:8080/",
          "height": 571
        },
        "id": "5BjtrQSbmTtJ",
        "outputId": "692528de-d087-4821-e657-42f93a7b7158"
      },
      "outputs": [
        {
          "data": {
            "text/html": [
              "<div>\n",
              "<style scoped>\n",
              "    .dataframe tbody tr th:only-of-type {\n",
              "        vertical-align: middle;\n",
              "    }\n",
              "\n",
              "    .dataframe tbody tr th {\n",
              "        vertical-align: top;\n",
              "    }\n",
              "\n",
              "    .dataframe thead th {\n",
              "        text-align: right;\n",
              "    }\n",
              "</style>\n",
              "<table border=\"1\" class=\"dataframe\">\n",
              "  <thead>\n",
              "    <tr style=\"text-align: right;\">\n",
              "      <th></th>\n",
              "      <th>CustID</th>\n",
              "      <th>Premium</th>\n",
              "      <th>Model_Year</th>\n",
              "      <th>Owner_Type</th>\n",
              "      <th>Road side addon</th>\n",
              "      <th>No Claim bonus discount</th>\n",
              "      <th>Electric add on rate</th>\n",
              "      <th>Company</th>\n",
              "      <th>Car Type</th>\n",
              "      <th>RTO</th>\n",
              "      <th>CNGkit</th>\n",
              "      <th>Paymentmode</th>\n",
              "      <th>Total IDV</th>\n",
              "      <th>Seats</th>\n",
              "      <th>Acquisition Channel</th>\n",
              "    </tr>\n",
              "  </thead>\n",
              "  <tbody>\n",
              "    <tr>\n",
              "      <th>0</th>\n",
              "      <td>10000</td>\n",
              "      <td>33249</td>\n",
              "      <td>2011</td>\n",
              "      <td>1</td>\n",
              "      <td>1</td>\n",
              "      <td>1,523</td>\n",
              "      <td>384</td>\n",
              "      <td>Hyundai</td>\n",
              "      <td>Sedan</td>\n",
              "      <td>Pen</td>\n",
              "      <td>0</td>\n",
              "      <td>Digital Wallet</td>\n",
              "      <td>714,966</td>\n",
              "      <td>8</td>\n",
              "      <td>Direct</td>\n",
              "    </tr>\n",
              "    <tr>\n",
              "      <th>1</th>\n",
              "      <td>10001</td>\n",
              "      <td>28102</td>\n",
              "      <td>2013</td>\n",
              "      <td>2</td>\n",
              "      <td>0</td>\n",
              "      <td>1,452</td>\n",
              "      <td>411</td>\n",
              "      <td>Hyundai</td>\n",
              "      <td>Sedan</td>\n",
              "      <td>Navi Mumbai</td>\n",
              "      <td>1</td>\n",
              "      <td>Digital Wallet</td>\n",
              "      <td>718,209</td>\n",
              "      <td>6</td>\n",
              "      <td>Direct</td>\n",
              "    </tr>\n",
              "    <tr>\n",
              "      <th>2</th>\n",
              "      <td>10002</td>\n",
              "      <td>30271</td>\n",
              "      <td>2008</td>\n",
              "      <td>1</td>\n",
              "      <td>0</td>\n",
              "      <td>1,367</td>\n",
              "      <td>317</td>\n",
              "      <td>Hyundai</td>\n",
              "      <td>Sedan</td>\n",
              "      <td>Thane</td>\n",
              "      <td>1</td>\n",
              "      <td>Digital Wallet</td>\n",
              "      <td>640,333</td>\n",
              "      <td>5</td>\n",
              "      <td>In Direct</td>\n",
              "    </tr>\n",
              "    <tr>\n",
              "      <th>4</th>\n",
              "      <td>10004</td>\n",
              "      <td>29665</td>\n",
              "      <td>2005</td>\n",
              "      <td>1</td>\n",
              "      <td>0</td>\n",
              "      <td>1,310</td>\n",
              "      <td>447</td>\n",
              "      <td>Hyundai</td>\n",
              "      <td>Sedan</td>\n",
              "      <td>Thane</td>\n",
              "      <td>1</td>\n",
              "      <td>Credit Card</td>\n",
              "      <td>706,606</td>\n",
              "      <td>7</td>\n",
              "      <td>In Direct</td>\n",
              "    </tr>\n",
              "    <tr>\n",
              "      <th>7</th>\n",
              "      <td>10007</td>\n",
              "      <td>29859</td>\n",
              "      <td>2013</td>\n",
              "      <td>2</td>\n",
              "      <td>1</td>\n",
              "      <td>1,442</td>\n",
              "      <td>476</td>\n",
              "      <td>Hyundai</td>\n",
              "      <td>HatchBack</td>\n",
              "      <td>Navi Mumbai</td>\n",
              "      <td>0</td>\n",
              "      <td>Net Banking</td>\n",
              "      <td>703,277</td>\n",
              "      <td>6</td>\n",
              "      <td>In Direct</td>\n",
              "    </tr>\n",
              "    <tr>\n",
              "      <th>...</th>\n",
              "      <td>...</td>\n",
              "      <td>...</td>\n",
              "      <td>...</td>\n",
              "      <td>...</td>\n",
              "      <td>...</td>\n",
              "      <td>...</td>\n",
              "      <td>...</td>\n",
              "      <td>...</td>\n",
              "      <td>...</td>\n",
              "      <td>...</td>\n",
              "      <td>...</td>\n",
              "      <td>...</td>\n",
              "      <td>...</td>\n",
              "      <td>...</td>\n",
              "      <td>...</td>\n",
              "    </tr>\n",
              "    <tr>\n",
              "      <th>17247</th>\n",
              "      <td>27247</td>\n",
              "      <td>30517</td>\n",
              "      <td>2012</td>\n",
              "      <td>1</td>\n",
              "      <td>1</td>\n",
              "      <td>1,257</td>\n",
              "      <td>339</td>\n",
              "      <td>Hyundai</td>\n",
              "      <td>Sedan</td>\n",
              "      <td>Mumbai</td>\n",
              "      <td>1</td>\n",
              "      <td>Net Banking</td>\n",
              "      <td>598,387</td>\n",
              "      <td>8</td>\n",
              "      <td>In Direct</td>\n",
              "    </tr>\n",
              "    <tr>\n",
              "      <th>17250</th>\n",
              "      <td>27250</td>\n",
              "      <td>27348</td>\n",
              "      <td>2009</td>\n",
              "      <td>2</td>\n",
              "      <td>0</td>\n",
              "      <td>1,564</td>\n",
              "      <td>585</td>\n",
              "      <td>Hyundai</td>\n",
              "      <td>HatchBack</td>\n",
              "      <td>Navi Mumbai</td>\n",
              "      <td>1</td>\n",
              "      <td>Digital Wallet</td>\n",
              "      <td>747,020</td>\n",
              "      <td>5</td>\n",
              "      <td>Direct</td>\n",
              "    </tr>\n",
              "    <tr>\n",
              "      <th>17252</th>\n",
              "      <td>27252</td>\n",
              "      <td>33519</td>\n",
              "      <td>2011</td>\n",
              "      <td>2</td>\n",
              "      <td>1</td>\n",
              "      <td>1,425</td>\n",
              "      <td>530</td>\n",
              "      <td>Hyundai</td>\n",
              "      <td>Sedan</td>\n",
              "      <td>Navi Mumbai</td>\n",
              "      <td>1</td>\n",
              "      <td>Net Banking</td>\n",
              "      <td>726,098</td>\n",
              "      <td>5</td>\n",
              "      <td>Direct</td>\n",
              "    </tr>\n",
              "    <tr>\n",
              "      <th>17253</th>\n",
              "      <td>27253</td>\n",
              "      <td>33305</td>\n",
              "      <td>2005</td>\n",
              "      <td>1</td>\n",
              "      <td>0</td>\n",
              "      <td>1,370</td>\n",
              "      <td>361</td>\n",
              "      <td>Hyundai</td>\n",
              "      <td>Sedan</td>\n",
              "      <td>Mumbai</td>\n",
              "      <td>1</td>\n",
              "      <td>Credit Card</td>\n",
              "      <td>650,455</td>\n",
              "      <td>6</td>\n",
              "      <td>In Direct</td>\n",
              "    </tr>\n",
              "    <tr>\n",
              "      <th>17257</th>\n",
              "      <td>27257</td>\n",
              "      <td>28774</td>\n",
              "      <td>2010</td>\n",
              "      <td>1</td>\n",
              "      <td>1</td>\n",
              "      <td>1,520</td>\n",
              "      <td>583</td>\n",
              "      <td>Hyundai</td>\n",
              "      <td>Sedan</td>\n",
              "      <td>Thane</td>\n",
              "      <td>0</td>\n",
              "      <td>Net Banking</td>\n",
              "      <td>792,785</td>\n",
              "      <td>7</td>\n",
              "      <td>Direct</td>\n",
              "    </tr>\n",
              "  </tbody>\n",
              "</table>\n",
              "<p>4313 rows × 15 columns</p>\n",
              "</div>"
            ],
            "text/plain": [
              "       CustID  Premium  Model_Year  Owner_Type  Road side addon  \\\n",
              "0       10000    33249        2011           1                1   \n",
              "1       10001    28102        2013           2                0   \n",
              "2       10002    30271        2008           1                0   \n",
              "4       10004    29665        2005           1                0   \n",
              "7       10007    29859        2013           2                1   \n",
              "...       ...      ...         ...         ...              ...   \n",
              "17247   27247    30517        2012           1                1   \n",
              "17250   27250    27348        2009           2                0   \n",
              "17252   27252    33519        2011           2                1   \n",
              "17253   27253    33305        2005           1                0   \n",
              "17257   27257    28774        2010           1                1   \n",
              "\n",
              "      No Claim bonus discount  Electric add on rate  Company   Car Type  \\\n",
              "0                       1,523                   384  Hyundai      Sedan   \n",
              "1                       1,452                   411  Hyundai      Sedan   \n",
              "2                       1,367                   317  Hyundai      Sedan   \n",
              "4                       1,310                   447  Hyundai      Sedan   \n",
              "7                       1,442                   476  Hyundai  HatchBack   \n",
              "...                       ...                   ...      ...        ...   \n",
              "17247                   1,257                   339  Hyundai      Sedan   \n",
              "17250                   1,564                   585  Hyundai  HatchBack   \n",
              "17252                   1,425                   530  Hyundai      Sedan   \n",
              "17253                   1,370                   361  Hyundai      Sedan   \n",
              "17257                   1,520                   583  Hyundai      Sedan   \n",
              "\n",
              "               RTO  CNGkit     Paymentmode Total IDV  Seats  \\\n",
              "0              Pen       0  Digital Wallet   714,966      8   \n",
              "1      Navi Mumbai       1  Digital Wallet   718,209      6   \n",
              "2            Thane       1  Digital Wallet   640,333      5   \n",
              "4            Thane       1     Credit Card   706,606      7   \n",
              "7      Navi Mumbai       0     Net Banking   703,277      6   \n",
              "...            ...     ...             ...       ...    ...   \n",
              "17247       Mumbai       1     Net Banking   598,387      8   \n",
              "17250  Navi Mumbai       1  Digital Wallet   747,020      5   \n",
              "17252  Navi Mumbai       1     Net Banking   726,098      5   \n",
              "17253       Mumbai       1     Credit Card   650,455      6   \n",
              "17257        Thane       0     Net Banking   792,785      7   \n",
              "\n",
              "      Acquisition Channel  \n",
              "0                  Direct  \n",
              "1                  Direct  \n",
              "2               In Direct  \n",
              "4               In Direct  \n",
              "7               In Direct  \n",
              "...                   ...  \n",
              "17247           In Direct  \n",
              "17250              Direct  \n",
              "17252              Direct  \n",
              "17253           In Direct  \n",
              "17257              Direct  \n",
              "\n",
              "[4313 rows x 15 columns]"
            ]
          },
          "execution_count": 20,
          "metadata": {},
          "output_type": "execute_result"
        }
      ],
      "source": [
        "hyundaidf=df[df['Company']=='Hyundai']\n",
        "hyundaidf"
      ]
    },
    {
      "cell_type": "code",
      "execution_count": 21,
      "metadata": {
        "colab": {
          "base_uri": "https://localhost:8080/"
        },
        "id": "u_MOKSGRoKlc",
        "outputId": "99d80d96-4d97-4ca6-9642-ad1a052235d2"
      },
      "outputs": [
        {
          "data": {
            "text/plain": [
              "129459065"
            ]
          },
          "execution_count": 21,
          "metadata": {},
          "output_type": "execute_result"
        }
      ],
      "source": [
        "hdtotal=hyundaidf['Premium'].sum()\n",
        "hdtotal"
      ]
    },
    {
      "cell_type": "code",
      "execution_count": 22,
      "metadata": {
        "colab": {
          "base_uri": "https://localhost:8080/"
        },
        "id": "f7F_B8RiryGc",
        "outputId": "a398dc4d-a814-4c28-9ca1-b9b8d8a90453"
      },
      "outputs": [
        {
          "data": {
            "text/plain": [
              "129793158"
            ]
          },
          "execution_count": 22,
          "metadata": {},
          "output_type": "execute_result"
        }
      ],
      "source": [
        "hondatotal=hondadf['Premium'].sum()\n",
        "hondatotal"
      ]
    },
    {
      "cell_type": "code",
      "execution_count": 23,
      "metadata": {
        "colab": {
          "base_uri": "https://localhost:8080/"
        },
        "id": "o9DLgtH3r574",
        "outputId": "490c3b46-6846-4fe4-893a-f10773416602"
      },
      "outputs": [
        {
          "data": {
            "text/plain": [
              "130283861"
            ]
          },
          "execution_count": 23,
          "metadata": {},
          "output_type": "execute_result"
        }
      ],
      "source": [
        "mahitotal=mahidf['Premium'].sum()\n",
        "mahitotal"
      ]
    },
    {
      "cell_type": "code",
      "execution_count": 24,
      "metadata": {
        "colab": {
          "base_uri": "https://localhost:8080/"
        },
        "id": "MG4S-P4ysAbt",
        "outputId": "0057602f-28a4-4f42-ecfd-700c50441c45"
      },
      "outputs": [
        {
          "data": {
            "text/plain": [
              "127648967"
            ]
          },
          "execution_count": 24,
          "metadata": {},
          "output_type": "execute_result"
        }
      ],
      "source": [
        "\n",
        "maruthitotal=mardf['Premium'].sum()\n",
        "maruthitotal"
      ]
    },
    {
      "cell_type": "code",
      "execution_count": 25,
      "metadata": {
        "colab": {
          "base_uri": "https://localhost:8080/"
        },
        "id": "1PaGy8U3pFcq",
        "outputId": "c1d6c114-3cfb-4e40-d65e-44e96b84e333"
      },
      "outputs": [
        {
          "data": {
            "text/plain": [
              "array(['Pen', 'Navi Mumbai', 'Thane', 'Mumbai'], dtype=object)"
            ]
          },
          "execution_count": 25,
          "metadata": {},
          "output_type": "execute_result"
        }
      ],
      "source": [
        "hyundaidf.RTO.unique()"
      ]
    },
    {
      "cell_type": "code",
      "execution_count": 26,
      "metadata": {
        "colab": {
          "base_uri": "https://localhost:8080/"
        },
        "id": "bun4qAd9pifJ",
        "outputId": "c2c2b8f3-7d7f-4065-dceb-9d763f87bd78"
      },
      "outputs": [
        {
          "data": {
            "text/plain": [
              "array([0, 1], dtype=int64)"
            ]
          },
          "execution_count": 26,
          "metadata": {},
          "output_type": "execute_result"
        }
      ],
      "source": [
        "hyundaidf.CNGkit.unique()"
      ]
    },
    {
      "cell_type": "code",
      "execution_count": 27,
      "metadata": {
        "colab": {
          "base_uri": "https://localhost:8080/"
        },
        "id": "J6vNnJz8pdAA",
        "outputId": "6afc5043-82cf-4cfb-a748-4d6eac9c8332"
      },
      "outputs": [
        {
          "data": {
            "text/plain": [
              "Index(['CustID', 'Premium', 'Model_Year', 'Owner_Type', 'Road side addon',\n",
              "       'No Claim bonus discount', 'Electric add on rate', 'Company',\n",
              "       'Car Type', 'RTO', 'CNGkit', 'Paymentmode', 'Total IDV', 'Seats',\n",
              "       'Acquisition Channel'],\n",
              "      dtype='object')"
            ]
          },
          "execution_count": 27,
          "metadata": {},
          "output_type": "execute_result"
        }
      ],
      "source": [
        "hyundaidf.columns"
      ]
    },
    {
      "cell_type": "code",
      "execution_count": 28,
      "metadata": {
        "id": "yGZ3e_I4opUw"
      },
      "outputs": [],
      "source": [
        "hddf=hyundaidf[(hyundaidf['RTO']=='Pen')&(hyundaidf['CNGkit']==1)&(hyundaidf['Model_Year']<=2005)]"
      ]
    },
    {
      "cell_type": "code",
      "execution_count": 29,
      "metadata": {
        "id": "PYN1J-Pts74v"
      },
      "outputs": [],
      "source": [
        "hondf=hondadf[(hondadf['RTO']=='Pen')&(hondadf['CNGkit']==1)&(hondadf['Model_Year']<=2005)]"
      ]
    },
    {
      "cell_type": "code",
      "execution_count": 30,
      "metadata": {
        "id": "yidCVPm0s87E"
      },
      "outputs": [],
      "source": [
        "mhdf=mahidf[(mahidf['RTO']=='Pen')&(mahidf['CNGkit']==1)&(mahidf['Model_Year']<=2005)]"
      ]
    },
    {
      "cell_type": "code",
      "execution_count": 31,
      "metadata": {
        "id": "hk0oIBJIs9ev"
      },
      "outputs": [],
      "source": [
        "mrdf=mardf[(mardf['RTO']=='Pen')&(mardf['CNGkit']==1)&(mardf['Model_Year']<=2005)]"
      ]
    },
    {
      "cell_type": "code",
      "execution_count": 32,
      "metadata": {
        "colab": {
          "base_uri": "https://localhost:8080/"
        },
        "id": "KYnYxp-7po7I",
        "outputId": "1f75de2e-868d-4d45-8332-85ceb40414f3"
      },
      "outputs": [
        {
          "data": {
            "text/plain": [
              "4442815"
            ]
          },
          "execution_count": 32,
          "metadata": {},
          "output_type": "execute_result"
        }
      ],
      "source": [
        "hdlast=hddf['Premium'].sum()\n",
        "hdlast"
      ]
    },
    {
      "cell_type": "code",
      "execution_count": 33,
      "metadata": {
        "colab": {
          "base_uri": "https://localhost:8080/"
        },
        "id": "WqBeBgFEtRT8",
        "outputId": "1eabdec5-54c2-42fb-898d-8411b4f1c3dc"
      },
      "outputs": [
        {
          "data": {
            "text/plain": [
              "5272311"
            ]
          },
          "execution_count": 33,
          "metadata": {},
          "output_type": "execute_result"
        }
      ],
      "source": [
        "hondalast=hondf['Premium'].sum()\n",
        "hondalast"
      ]
    },
    {
      "cell_type": "code",
      "execution_count": 34,
      "metadata": {
        "colab": {
          "base_uri": "https://localhost:8080/"
        },
        "id": "ejFCHDegtRAY",
        "outputId": "b64511fe-800e-4e8f-f762-345b4ba8dd56"
      },
      "outputs": [
        {
          "data": {
            "text/plain": [
              "5449118"
            ]
          },
          "execution_count": 34,
          "metadata": {},
          "output_type": "execute_result"
        }
      ],
      "source": [
        "mhhlast=mhdf['Premium'].sum()\n",
        "mhhlast"
      ]
    },
    {
      "cell_type": "code",
      "execution_count": 35,
      "metadata": {
        "colab": {
          "base_uri": "https://localhost:8080/"
        },
        "id": "dB4xjC_qtQ2e",
        "outputId": "8dc90c00-b2a1-42d2-d331-e1640a87c40e"
      },
      "outputs": [
        {
          "data": {
            "text/plain": [
              "4565960"
            ]
          },
          "execution_count": 35,
          "metadata": {},
          "output_type": "execute_result"
        }
      ],
      "source": [
        "mrrlast=mrdf['Premium'].sum()\n",
        "mrrlast"
      ]
    },
    {
      "cell_type": "code",
      "execution_count": 36,
      "metadata": {
        "colab": {
          "base_uri": "https://localhost:8080/"
        },
        "id": "sZ0WDrWGp-sG",
        "outputId": "988ff40c-3552-4752-a3bd-2763895b8281"
      },
      "outputs": [
        {
          "data": {
            "text/plain": [
              "125016250"
            ]
          },
          "execution_count": 36,
          "metadata": {},
          "output_type": "execute_result"
        }
      ],
      "source": [
        "hdloss=hdtotal-hdlast\n",
        "hdloss"
      ]
    },
    {
      "cell_type": "code",
      "execution_count": 37,
      "metadata": {
        "colab": {
          "base_uri": "https://localhost:8080/"
        },
        "id": "bgwttJGYqNZT",
        "outputId": "16bfecf8-29a1-46c8-e1bc-67ccc85a8436"
      },
      "outputs": [
        {
          "data": {
            "text/plain": [
              "124520847"
            ]
          },
          "execution_count": 37,
          "metadata": {},
          "output_type": "execute_result"
        }
      ],
      "source": [
        "hondaloss=hondatotal-hondalast\n",
        "hondaloss"
      ]
    },
    {
      "cell_type": "code",
      "execution_count": 38,
      "metadata": {
        "colab": {
          "base_uri": "https://localhost:8080/"
        },
        "id": "EZCkUCRLxbEq",
        "outputId": "cc7ecb16-7a9f-4b8f-83ed-302c50b5dd0e"
      },
      "outputs": [
        {
          "data": {
            "text/plain": [
              "124834743"
            ]
          },
          "execution_count": 38,
          "metadata": {},
          "output_type": "execute_result"
        }
      ],
      "source": [
        "mahloss=mahitotal-mhhlast\n",
        "mahloss"
      ]
    },
    {
      "cell_type": "code",
      "execution_count": 39,
      "metadata": {
        "colab": {
          "base_uri": "https://localhost:8080/"
        },
        "id": "qhLXeeE5xahu",
        "outputId": "1637d5a1-179a-41cb-d938-165a84adbc3c"
      },
      "outputs": [
        {
          "data": {
            "text/plain": [
              "123083007"
            ]
          },
          "execution_count": 39,
          "metadata": {},
          "output_type": "execute_result"
        }
      ],
      "source": [
        "mrloss=maruthitotal-mrrlast\n",
        "mrloss"
      ]
    },
    {
      "cell_type": "code",
      "execution_count": 40,
      "metadata": {
        "colab": {
          "base_uri": "https://localhost:8080/"
        },
        "id": "3pLteS2ktQqA",
        "outputId": "fad86cd2-12a6-4fc0-8966-9ef2d5f7f1fd"
      },
      "outputs": [
        {
          "data": {
            "text/plain": [
              "array(['Hyundai', 'Honda', 'Mahindra', 'Maruti'], dtype=object)"
            ]
          },
          "execution_count": 40,
          "metadata": {},
          "output_type": "execute_result"
        }
      ],
      "source": [
        "Comp=np.array(df['Company'].unique())\n",
        "Comp"
      ]
    },
    {
      "cell_type": "code",
      "execution_count": 41,
      "metadata": {
        "colab": {
          "base_uri": "https://localhost:8080/"
        },
        "id": "zota0MehxzKy",
        "outputId": "e757e5b4-519b-45f2-9c5d-e7ba1c01849d"
      },
      "outputs": [
        {
          "data": {
            "text/plain": [
              "array([125016250, 124520847, 124834743, 123083007], dtype=int64)"
            ]
          },
          "execution_count": 41,
          "metadata": {},
          "output_type": "execute_result"
        }
      ],
      "source": [
        "loss=np.array([hdloss,hondaloss,mahloss,mrloss])\n",
        "loss"
      ]
    },
    {
      "cell_type": "code",
      "execution_count": 42,
      "metadata": {
        "colab": {
          "base_uri": "https://localhost:8080/",
          "height": 175
        },
        "id": "NNOMb7cjx60p",
        "outputId": "1b5a8008-f34e-40b1-ec8c-15eceae73e10"
      },
      "outputs": [
        {
          "data": {
            "text/html": [
              "<div>\n",
              "<style scoped>\n",
              "    .dataframe tbody tr th:only-of-type {\n",
              "        vertical-align: middle;\n",
              "    }\n",
              "\n",
              "    .dataframe tbody tr th {\n",
              "        vertical-align: top;\n",
              "    }\n",
              "\n",
              "    .dataframe thead th {\n",
              "        text-align: right;\n",
              "    }\n",
              "</style>\n",
              "<table border=\"1\" class=\"dataframe\">\n",
              "  <thead>\n",
              "    <tr style=\"text-align: right;\">\n",
              "      <th></th>\n",
              "      <th>Company</th>\n",
              "      <th>Loss</th>\n",
              "    </tr>\n",
              "  </thead>\n",
              "  <tbody>\n",
              "    <tr>\n",
              "      <th>0</th>\n",
              "      <td>Hyundai</td>\n",
              "      <td>125016250</td>\n",
              "    </tr>\n",
              "    <tr>\n",
              "      <th>1</th>\n",
              "      <td>Honda</td>\n",
              "      <td>124520847</td>\n",
              "    </tr>\n",
              "    <tr>\n",
              "      <th>2</th>\n",
              "      <td>Mahindra</td>\n",
              "      <td>124834743</td>\n",
              "    </tr>\n",
              "    <tr>\n",
              "      <th>3</th>\n",
              "      <td>Maruti</td>\n",
              "      <td>123083007</td>\n",
              "    </tr>\n",
              "  </tbody>\n",
              "</table>\n",
              "</div>"
            ],
            "text/plain": [
              "    Company       Loss\n",
              "0   Hyundai  125016250\n",
              "1     Honda  124520847\n",
              "2  Mahindra  124834743\n",
              "3    Maruti  123083007"
            ]
          },
          "execution_count": 42,
          "metadata": {},
          "output_type": "execute_result"
        }
      ],
      "source": [
        "output=pd.DataFrame({'Company':Comp,'Loss':loss})\n",
        "output"
      ]
    },
    {
      "cell_type": "code",
      "execution_count": 43,
      "metadata": {
        "id": "6WmOpO-xyIX3"
      },
      "outputs": [],
      "source": [
        "# Which car manufacture company has major percentage in overall policy count in\n",
        "# 2019?."
      ]
    },
    {
      "cell_type": "code",
      "execution_count": 44,
      "metadata": {
        "colab": {
          "base_uri": "https://localhost:8080/",
          "height": 285
        },
        "id": "21axLpd03a-x",
        "outputId": "c77ba553-7456-45fe-863b-7069b0ddf359"
      },
      "outputs": [
        {
          "data": {
            "text/html": [
              "<div>\n",
              "<style scoped>\n",
              "    .dataframe tbody tr th:only-of-type {\n",
              "        vertical-align: middle;\n",
              "    }\n",
              "\n",
              "    .dataframe tbody tr th {\n",
              "        vertical-align: top;\n",
              "    }\n",
              "\n",
              "    .dataframe thead th {\n",
              "        text-align: right;\n",
              "    }\n",
              "</style>\n",
              "<table border=\"1\" class=\"dataframe\">\n",
              "  <thead>\n",
              "    <tr style=\"text-align: right;\">\n",
              "      <th></th>\n",
              "      <th>CustID</th>\n",
              "      <th>Premium</th>\n",
              "      <th>Model_Year</th>\n",
              "      <th>Owner_Type</th>\n",
              "      <th>Road side addon</th>\n",
              "      <th>No Claim bonus discount</th>\n",
              "      <th>Electric add on rate</th>\n",
              "      <th>Company</th>\n",
              "      <th>Car Type</th>\n",
              "      <th>RTO</th>\n",
              "      <th>CNGkit</th>\n",
              "      <th>Paymentmode</th>\n",
              "      <th>Total IDV</th>\n",
              "      <th>Seats</th>\n",
              "      <th>Acquisition Channel</th>\n",
              "    </tr>\n",
              "  </thead>\n",
              "  <tbody>\n",
              "    <tr>\n",
              "      <th>0</th>\n",
              "      <td>10000</td>\n",
              "      <td>33249</td>\n",
              "      <td>2011</td>\n",
              "      <td>1</td>\n",
              "      <td>1</td>\n",
              "      <td>1,523</td>\n",
              "      <td>384</td>\n",
              "      <td>Hyundai</td>\n",
              "      <td>Sedan</td>\n",
              "      <td>Pen</td>\n",
              "      <td>0</td>\n",
              "      <td>Digital Wallet</td>\n",
              "      <td>714,966</td>\n",
              "      <td>8</td>\n",
              "      <td>Direct</td>\n",
              "    </tr>\n",
              "    <tr>\n",
              "      <th>1</th>\n",
              "      <td>10001</td>\n",
              "      <td>28102</td>\n",
              "      <td>2013</td>\n",
              "      <td>2</td>\n",
              "      <td>0</td>\n",
              "      <td>1,452</td>\n",
              "      <td>411</td>\n",
              "      <td>Hyundai</td>\n",
              "      <td>Sedan</td>\n",
              "      <td>Navi Mumbai</td>\n",
              "      <td>1</td>\n",
              "      <td>Digital Wallet</td>\n",
              "      <td>718,209</td>\n",
              "      <td>6</td>\n",
              "      <td>Direct</td>\n",
              "    </tr>\n",
              "    <tr>\n",
              "      <th>2</th>\n",
              "      <td>10002</td>\n",
              "      <td>30271</td>\n",
              "      <td>2008</td>\n",
              "      <td>1</td>\n",
              "      <td>0</td>\n",
              "      <td>1,367</td>\n",
              "      <td>317</td>\n",
              "      <td>Hyundai</td>\n",
              "      <td>Sedan</td>\n",
              "      <td>Thane</td>\n",
              "      <td>1</td>\n",
              "      <td>Digital Wallet</td>\n",
              "      <td>640,333</td>\n",
              "      <td>5</td>\n",
              "      <td>In Direct</td>\n",
              "    </tr>\n",
              "    <tr>\n",
              "      <th>3</th>\n",
              "      <td>10003</td>\n",
              "      <td>26247</td>\n",
              "      <td>2014</td>\n",
              "      <td>2</td>\n",
              "      <td>0</td>\n",
              "      <td>1,249</td>\n",
              "      <td>496</td>\n",
              "      <td>Honda</td>\n",
              "      <td>Sedan</td>\n",
              "      <td>Mumbai</td>\n",
              "      <td>1</td>\n",
              "      <td>Net Banking</td>\n",
              "      <td>617,561</td>\n",
              "      <td>7</td>\n",
              "      <td>In Direct</td>\n",
              "    </tr>\n",
              "    <tr>\n",
              "      <th>4</th>\n",
              "      <td>10004</td>\n",
              "      <td>29665</td>\n",
              "      <td>2005</td>\n",
              "      <td>1</td>\n",
              "      <td>0</td>\n",
              "      <td>1,310</td>\n",
              "      <td>447</td>\n",
              "      <td>Hyundai</td>\n",
              "      <td>Sedan</td>\n",
              "      <td>Thane</td>\n",
              "      <td>1</td>\n",
              "      <td>Credit Card</td>\n",
              "      <td>706,606</td>\n",
              "      <td>7</td>\n",
              "      <td>In Direct</td>\n",
              "    </tr>\n",
              "  </tbody>\n",
              "</table>\n",
              "</div>"
            ],
            "text/plain": [
              "   CustID  Premium  Model_Year  Owner_Type  Road side addon  \\\n",
              "0   10000    33249        2011           1                1   \n",
              "1   10001    28102        2013           2                0   \n",
              "2   10002    30271        2008           1                0   \n",
              "3   10003    26247        2014           2                0   \n",
              "4   10004    29665        2005           1                0   \n",
              "\n",
              "  No Claim bonus discount  Electric add on rate  Company Car Type  \\\n",
              "0                   1,523                   384  Hyundai    Sedan   \n",
              "1                   1,452                   411  Hyundai    Sedan   \n",
              "2                   1,367                   317  Hyundai    Sedan   \n",
              "3                   1,249                   496    Honda    Sedan   \n",
              "4                   1,310                   447  Hyundai    Sedan   \n",
              "\n",
              "           RTO  CNGkit     Paymentmode Total IDV  Seats Acquisition Channel  \n",
              "0          Pen       0  Digital Wallet   714,966      8              Direct  \n",
              "1  Navi Mumbai       1  Digital Wallet   718,209      6              Direct  \n",
              "2        Thane       1  Digital Wallet   640,333      5           In Direct  \n",
              "3       Mumbai       1     Net Banking   617,561      7           In Direct  \n",
              "4        Thane       1     Credit Card   706,606      7           In Direct  "
            ]
          },
          "execution_count": 44,
          "metadata": {},
          "output_type": "execute_result"
        }
      ],
      "source": [
        "df.head()"
      ]
    },
    {
      "cell_type": "code",
      "execution_count": 45,
      "metadata": {
        "colab": {
          "base_uri": "https://localhost:8080/"
        },
        "id": "94CfSHxC8oJ1",
        "outputId": "0760d451-1393-4c8f-e1ec-4b8edf9607ec"
      },
      "outputs": [
        {
          "data": {
            "text/plain": [
              "Index(['CustID', 'Premium', 'Model_Year', 'Owner_Type', 'Road side addon',\n",
              "       'No Claim bonus discount', 'Electric add on rate', 'Company',\n",
              "       'Car Type', 'RTO', 'CNGkit', 'Paymentmode', 'Total IDV', 'Seats',\n",
              "       'Acquisition Channel'],\n",
              "      dtype='object')"
            ]
          },
          "execution_count": 45,
          "metadata": {},
          "output_type": "execute_result"
        }
      ],
      "source": [
        "df.columns"
      ]
    },
    {
      "cell_type": "code",
      "execution_count": 46,
      "metadata": {
        "colab": {
          "base_uri": "https://localhost:8080/"
        },
        "id": "4kdWhTEd8pYR",
        "outputId": "aeecf9a3-a7d6-431c-80c8-578cb7358e85"
      },
      "outputs": [
        {
          "data": {
            "text/plain": [
              "CustID                      int64\n",
              "Premium                     int64\n",
              "Model_Year                  int64\n",
              "Owner_Type                  int64\n",
              "Road side addon             int64\n",
              "No Claim bonus discount    object\n",
              "Electric add on rate        int64\n",
              "Company                    object\n",
              "Car Type                   object\n",
              "RTO                        object\n",
              "CNGkit                      int64\n",
              "Paymentmode                object\n",
              "Total IDV                  object\n",
              "Seats                       int64\n",
              "Acquisition Channel        object\n",
              "dtype: object"
            ]
          },
          "execution_count": 46,
          "metadata": {},
          "output_type": "execute_result"
        }
      ],
      "source": [
        "df.dtypes"
      ]
    },
    {
      "cell_type": "code",
      "execution_count": 47,
      "metadata": {
        "id": "CzUtW7A79IyY"
      },
      "outputs": [],
      "source": [
        "df2=df[df['Model_Year']==2019]"
      ]
    },
    {
      "cell_type": "code",
      "execution_count": 48,
      "metadata": {
        "colab": {
          "base_uri": "https://localhost:8080/"
        },
        "id": "3EZD_2gBAs3M",
        "outputId": "6f1b1539-f4c4-4357-eb07-530afd769a18"
      },
      "outputs": [
        {
          "data": {
            "text/plain": [
              "array(['Hyundai', 'Honda', 'Mahindra', 'Maruti'], dtype=object)"
            ]
          },
          "execution_count": 48,
          "metadata": {},
          "output_type": "execute_result"
        }
      ],
      "source": [
        "df.Company.unique()"
      ]
    },
    {
      "cell_type": "code",
      "execution_count": 49,
      "metadata": {
        "id": "qDTe1-RCAAc4"
      },
      "outputs": [],
      "source": [
        "tot=df2.Premium.shape[0]"
      ]
    },
    {
      "cell_type": "code",
      "execution_count": 50,
      "metadata": {
        "id": "WqZfh9CnAHDt"
      },
      "outputs": [],
      "source": [
        "Hyundai=(df2[df2['Company']=='Hyundai'].Premium.shape[0]/tot)*100\n",
        "Honda=(df2[df2['Company']=='Honda'].Premium.shape[0]/tot)*100\n",
        "Mahindra=(df2[df2['Company']=='Mahindra'].Premium.shape[0]/tot)*100\n",
        "Maruti=(df2[df2['Company']=='Maruti'].Premium.shape[0]/tot)*100"
      ]
    },
    {
      "cell_type": "code",
      "execution_count": 51,
      "metadata": {
        "colab": {
          "base_uri": "https://localhost:8080/",
          "height": 175
        },
        "id": "AeRDos9PAdte",
        "outputId": "8887f677-da7b-43e1-e1ab-2ecc25af2845"
      },
      "outputs": [
        {
          "data": {
            "text/html": [
              "<div>\n",
              "<style scoped>\n",
              "    .dataframe tbody tr th:only-of-type {\n",
              "        vertical-align: middle;\n",
              "    }\n",
              "\n",
              "    .dataframe tbody tr th {\n",
              "        vertical-align: top;\n",
              "    }\n",
              "\n",
              "    .dataframe thead th {\n",
              "        text-align: right;\n",
              "    }\n",
              "</style>\n",
              "<table border=\"1\" class=\"dataframe\">\n",
              "  <thead>\n",
              "    <tr style=\"text-align: right;\">\n",
              "      <th></th>\n",
              "      <th>Company</th>\n",
              "      <th>count_per</th>\n",
              "    </tr>\n",
              "  </thead>\n",
              "  <tbody>\n",
              "    <tr>\n",
              "      <th>3</th>\n",
              "      <td>Maruti</td>\n",
              "      <td>26.918536</td>\n",
              "    </tr>\n",
              "    <tr>\n",
              "      <th>2</th>\n",
              "      <td>Mahindra</td>\n",
              "      <td>26.092090</td>\n",
              "    </tr>\n",
              "    <tr>\n",
              "      <th>0</th>\n",
              "      <td>Hyundai</td>\n",
              "      <td>25.147580</td>\n",
              "    </tr>\n",
              "    <tr>\n",
              "      <th>1</th>\n",
              "      <td>Honda</td>\n",
              "      <td>21.841795</td>\n",
              "    </tr>\n",
              "  </tbody>\n",
              "</table>\n",
              "</div>"
            ],
            "text/plain": [
              "    Company  count_per\n",
              "3    Maruti  26.918536\n",
              "2  Mahindra  26.092090\n",
              "0   Hyundai  25.147580\n",
              "1     Honda  21.841795"
            ]
          },
          "execution_count": 51,
          "metadata": {},
          "output_type": "execute_result"
        }
      ],
      "source": [
        "df2out=pd.DataFrame({'Company':df.Company.unique(),\n",
        "              'count_per':np.array([Hyundai,Honda,Mahindra,Maruti])})\n",
        "df2out=df2out.sort_values('count_per',ascending=False)\n",
        "df2out"
      ]
    },
    {
      "cell_type": "code",
      "execution_count": 52,
      "metadata": {
        "colab": {
          "base_uri": "https://localhost:8080/"
        },
        "id": "hYOL9a55BnL8",
        "outputId": "cc688b54-94bb-405b-f8fb-d622b2861e82"
      },
      "outputs": [
        {
          "data": {
            "text/plain": [
              "Company         Maruti\n",
              "count_per    26.918536\n",
              "Name: 3, dtype: object"
            ]
          },
          "execution_count": 52,
          "metadata": {},
          "output_type": "execute_result"
        }
      ],
      "source": [
        "df2out.iloc[0]"
      ]
    },
    {
      "cell_type": "code",
      "execution_count": 53,
      "metadata": {
        "id": "MUGMj2vKCTjw"
      },
      "outputs": [],
      "source": [
        "# 3. What is the correlation of premium and No Claim bonus discount for Maruti\n",
        "# hatchback?"
      ]
    },
    {
      "cell_type": "code",
      "execution_count": 54,
      "metadata": {
        "colab": {
          "base_uri": "https://localhost:8080/",
          "height": 36
        },
        "id": "2cDJBJDJEQTN",
        "outputId": "68572453-aa6c-4aab-fb5c-e3690da62fd9"
      },
      "outputs": [
        {
          "data": {
            "text/plain": [
              "'1,523'"
            ]
          },
          "execution_count": 54,
          "metadata": {},
          "output_type": "execute_result"
        }
      ],
      "source": [
        "df['No Claim bonus discount'].iloc[0]"
      ]
    },
    {
      "cell_type": "code",
      "execution_count": 55,
      "metadata": {
        "id": "Q73Edr6wEbY8"
      },
      "outputs": [],
      "source": [
        "df['No Claim bonus discount']=df['No Claim bonus discount'].str.replace(',','')"
      ]
    },
    {
      "cell_type": "code",
      "execution_count": 56,
      "metadata": {
        "colab": {
          "base_uri": "https://localhost:8080/"
        },
        "id": "5ZdYMAsqEvoM",
        "outputId": "56cb9d48-e032-4917-f26c-92ea239d44a0"
      },
      "outputs": [
        {
          "data": {
            "text/plain": [
              "0        1523\n",
              "1        1452\n",
              "2        1367\n",
              "3        1249\n",
              "4        1310\n",
              "         ... \n",
              "17253    1370\n",
              "17254    1342\n",
              "17255    1246\n",
              "17256    1386\n",
              "17257    1520\n",
              "Name: No Claim bonus discount, Length: 17258, dtype: int32"
            ]
          },
          "execution_count": 56,
          "metadata": {},
          "output_type": "execute_result"
        }
      ],
      "source": [
        "df['No Claim bonus discount'].astype(int)"
      ]
    },
    {
      "cell_type": "code",
      "execution_count": 57,
      "metadata": {
        "id": "qW_rvh9xDum-"
      },
      "outputs": [],
      "source": [
        "df['No Claim bonus discount']=pd.to_numeric(df['No Claim bonus discount'],errors='coerce')"
      ]
    },
    {
      "cell_type": "code",
      "execution_count": 58,
      "metadata": {
        "colab": {
          "base_uri": "https://localhost:8080/",
          "height": 285
        },
        "id": "rm-E6UllFHm2",
        "outputId": "85d9a320-c87a-4bda-e465-23a5160c1766"
      },
      "outputs": [
        {
          "data": {
            "text/html": [
              "<div>\n",
              "<style scoped>\n",
              "    .dataframe tbody tr th:only-of-type {\n",
              "        vertical-align: middle;\n",
              "    }\n",
              "\n",
              "    .dataframe tbody tr th {\n",
              "        vertical-align: top;\n",
              "    }\n",
              "\n",
              "    .dataframe thead th {\n",
              "        text-align: right;\n",
              "    }\n",
              "</style>\n",
              "<table border=\"1\" class=\"dataframe\">\n",
              "  <thead>\n",
              "    <tr style=\"text-align: right;\">\n",
              "      <th></th>\n",
              "      <th>CustID</th>\n",
              "      <th>Premium</th>\n",
              "      <th>Model_Year</th>\n",
              "      <th>Owner_Type</th>\n",
              "      <th>Road side addon</th>\n",
              "      <th>No Claim bonus discount</th>\n",
              "      <th>Electric add on rate</th>\n",
              "      <th>Company</th>\n",
              "      <th>Car Type</th>\n",
              "      <th>RTO</th>\n",
              "      <th>CNGkit</th>\n",
              "      <th>Paymentmode</th>\n",
              "      <th>Total IDV</th>\n",
              "      <th>Seats</th>\n",
              "      <th>Acquisition Channel</th>\n",
              "    </tr>\n",
              "  </thead>\n",
              "  <tbody>\n",
              "    <tr>\n",
              "      <th>0</th>\n",
              "      <td>10000</td>\n",
              "      <td>33249</td>\n",
              "      <td>2011</td>\n",
              "      <td>1</td>\n",
              "      <td>1</td>\n",
              "      <td>1523</td>\n",
              "      <td>384</td>\n",
              "      <td>Hyundai</td>\n",
              "      <td>Sedan</td>\n",
              "      <td>Pen</td>\n",
              "      <td>0</td>\n",
              "      <td>Digital Wallet</td>\n",
              "      <td>714,966</td>\n",
              "      <td>8</td>\n",
              "      <td>Direct</td>\n",
              "    </tr>\n",
              "    <tr>\n",
              "      <th>1</th>\n",
              "      <td>10001</td>\n",
              "      <td>28102</td>\n",
              "      <td>2013</td>\n",
              "      <td>2</td>\n",
              "      <td>0</td>\n",
              "      <td>1452</td>\n",
              "      <td>411</td>\n",
              "      <td>Hyundai</td>\n",
              "      <td>Sedan</td>\n",
              "      <td>Navi Mumbai</td>\n",
              "      <td>1</td>\n",
              "      <td>Digital Wallet</td>\n",
              "      <td>718,209</td>\n",
              "      <td>6</td>\n",
              "      <td>Direct</td>\n",
              "    </tr>\n",
              "    <tr>\n",
              "      <th>2</th>\n",
              "      <td>10002</td>\n",
              "      <td>30271</td>\n",
              "      <td>2008</td>\n",
              "      <td>1</td>\n",
              "      <td>0</td>\n",
              "      <td>1367</td>\n",
              "      <td>317</td>\n",
              "      <td>Hyundai</td>\n",
              "      <td>Sedan</td>\n",
              "      <td>Thane</td>\n",
              "      <td>1</td>\n",
              "      <td>Digital Wallet</td>\n",
              "      <td>640,333</td>\n",
              "      <td>5</td>\n",
              "      <td>In Direct</td>\n",
              "    </tr>\n",
              "    <tr>\n",
              "      <th>3</th>\n",
              "      <td>10003</td>\n",
              "      <td>26247</td>\n",
              "      <td>2014</td>\n",
              "      <td>2</td>\n",
              "      <td>0</td>\n",
              "      <td>1249</td>\n",
              "      <td>496</td>\n",
              "      <td>Honda</td>\n",
              "      <td>Sedan</td>\n",
              "      <td>Mumbai</td>\n",
              "      <td>1</td>\n",
              "      <td>Net Banking</td>\n",
              "      <td>617,561</td>\n",
              "      <td>7</td>\n",
              "      <td>In Direct</td>\n",
              "    </tr>\n",
              "    <tr>\n",
              "      <th>4</th>\n",
              "      <td>10004</td>\n",
              "      <td>29665</td>\n",
              "      <td>2005</td>\n",
              "      <td>1</td>\n",
              "      <td>0</td>\n",
              "      <td>1310</td>\n",
              "      <td>447</td>\n",
              "      <td>Hyundai</td>\n",
              "      <td>Sedan</td>\n",
              "      <td>Thane</td>\n",
              "      <td>1</td>\n",
              "      <td>Credit Card</td>\n",
              "      <td>706,606</td>\n",
              "      <td>7</td>\n",
              "      <td>In Direct</td>\n",
              "    </tr>\n",
              "  </tbody>\n",
              "</table>\n",
              "</div>"
            ],
            "text/plain": [
              "   CustID  Premium  Model_Year  Owner_Type  Road side addon  \\\n",
              "0   10000    33249        2011           1                1   \n",
              "1   10001    28102        2013           2                0   \n",
              "2   10002    30271        2008           1                0   \n",
              "3   10003    26247        2014           2                0   \n",
              "4   10004    29665        2005           1                0   \n",
              "\n",
              "   No Claim bonus discount  Electric add on rate  Company Car Type  \\\n",
              "0                     1523                   384  Hyundai    Sedan   \n",
              "1                     1452                   411  Hyundai    Sedan   \n",
              "2                     1367                   317  Hyundai    Sedan   \n",
              "3                     1249                   496    Honda    Sedan   \n",
              "4                     1310                   447  Hyundai    Sedan   \n",
              "\n",
              "           RTO  CNGkit     Paymentmode Total IDV  Seats Acquisition Channel  \n",
              "0          Pen       0  Digital Wallet   714,966      8              Direct  \n",
              "1  Navi Mumbai       1  Digital Wallet   718,209      6              Direct  \n",
              "2        Thane       1  Digital Wallet   640,333      5           In Direct  \n",
              "3       Mumbai       1     Net Banking   617,561      7           In Direct  \n",
              "4        Thane       1     Credit Card   706,606      7           In Direct  "
            ]
          },
          "execution_count": 58,
          "metadata": {},
          "output_type": "execute_result"
        }
      ],
      "source": [
        "df.head()"
      ]
    },
    {
      "cell_type": "code",
      "execution_count": 59,
      "metadata": {
        "colab": {
          "base_uri": "https://localhost:8080/"
        },
        "id": "gz_dGX4FFL-R",
        "outputId": "1c193c53-5078-4c85-9759-52b9cbbe6014"
      },
      "outputs": [
        {
          "data": {
            "text/plain": [
              "array(['Sedan', 'HatchBack'], dtype=object)"
            ]
          },
          "execution_count": 59,
          "metadata": {},
          "output_type": "execute_result"
        }
      ],
      "source": [
        "df['Car Type'].unique()"
      ]
    },
    {
      "cell_type": "code",
      "execution_count": 60,
      "metadata": {
        "id": "ELeJpuyzFB2n"
      },
      "outputs": [],
      "source": [
        "df3=df[df['Car Type']=='HatchBack']"
      ]
    },
    {
      "cell_type": "code",
      "execution_count": 61,
      "metadata": {
        "colab": {
          "base_uri": "https://localhost:8080/"
        },
        "id": "jILf-lOgDAOU",
        "outputId": "142d69f6-0301-48b1-fc0b-7fc35788c159"
      },
      "outputs": [
        {
          "data": {
            "text/plain": [
              "0.0037893483109075945"
            ]
          },
          "execution_count": 61,
          "metadata": {},
          "output_type": "execute_result"
        }
      ],
      "source": [
        "df3['Premium'].corr(df3['No Claim bonus discount'])"
      ]
    },
    {
      "cell_type": "code",
      "execution_count": 62,
      "metadata": {
        "id": "aT7mRvI4DMRZ"
      },
      "outputs": [],
      "source": [
        "# 4. What is the percentage of hatchback Cars with CNG kit in Mumbai RTO?"
      ]
    },
    {
      "cell_type": "code",
      "execution_count": 65,
      "metadata": {
        "id": "ZDEjVb1wFaxU"
      },
      "outputs": [],
      "source": [
        "import numpy as np\n",
        "import pandas as pd\n",
        "df=pd.read_csv('DA-21 Pandas Assignment  - Pandas Assignment - 3.csv')"
      ]
    },
    {
      "cell_type": "code",
      "execution_count": 66,
      "metadata": {
        "colab": {
          "base_uri": "https://localhost:8080/",
          "height": 285
        },
        "id": "64eE3VgCgjIm",
        "outputId": "3333c456-43f1-455f-eba9-d8cefdf9d5a4"
      },
      "outputs": [
        {
          "data": {
            "text/html": [
              "<div>\n",
              "<style scoped>\n",
              "    .dataframe tbody tr th:only-of-type {\n",
              "        vertical-align: middle;\n",
              "    }\n",
              "\n",
              "    .dataframe tbody tr th {\n",
              "        vertical-align: top;\n",
              "    }\n",
              "\n",
              "    .dataframe thead th {\n",
              "        text-align: right;\n",
              "    }\n",
              "</style>\n",
              "<table border=\"1\" class=\"dataframe\">\n",
              "  <thead>\n",
              "    <tr style=\"text-align: right;\">\n",
              "      <th></th>\n",
              "      <th>CustID</th>\n",
              "      <th>Premium</th>\n",
              "      <th>Model_Year</th>\n",
              "      <th>Owner_Type</th>\n",
              "      <th>Road side addon</th>\n",
              "      <th>No Claim bonus discount</th>\n",
              "      <th>Electric add on rate</th>\n",
              "      <th>Company</th>\n",
              "      <th>Car Type</th>\n",
              "      <th>RTO</th>\n",
              "      <th>CNGkit</th>\n",
              "      <th>Paymentmode</th>\n",
              "      <th>Total IDV</th>\n",
              "      <th>Seats</th>\n",
              "      <th>Acquisition Channel</th>\n",
              "    </tr>\n",
              "  </thead>\n",
              "  <tbody>\n",
              "    <tr>\n",
              "      <th>0</th>\n",
              "      <td>10000</td>\n",
              "      <td>33,249</td>\n",
              "      <td>2011</td>\n",
              "      <td>1</td>\n",
              "      <td>1</td>\n",
              "      <td>1,523</td>\n",
              "      <td>384</td>\n",
              "      <td>Hyundai</td>\n",
              "      <td>Sedan</td>\n",
              "      <td>Pen</td>\n",
              "      <td>0</td>\n",
              "      <td>Digital Wallet</td>\n",
              "      <td>714,966</td>\n",
              "      <td>8</td>\n",
              "      <td>Direct</td>\n",
              "    </tr>\n",
              "    <tr>\n",
              "      <th>1</th>\n",
              "      <td>10001</td>\n",
              "      <td>28,102</td>\n",
              "      <td>2013</td>\n",
              "      <td>2</td>\n",
              "      <td>0</td>\n",
              "      <td>1,452</td>\n",
              "      <td>411</td>\n",
              "      <td>Hyundai</td>\n",
              "      <td>Sedan</td>\n",
              "      <td>Navi Mumbai</td>\n",
              "      <td>1</td>\n",
              "      <td>Digital Wallet</td>\n",
              "      <td>718,209</td>\n",
              "      <td>6</td>\n",
              "      <td>Direct</td>\n",
              "    </tr>\n",
              "    <tr>\n",
              "      <th>2</th>\n",
              "      <td>10002</td>\n",
              "      <td>30,271</td>\n",
              "      <td>2008</td>\n",
              "      <td>1</td>\n",
              "      <td>0</td>\n",
              "      <td>1,367</td>\n",
              "      <td>317</td>\n",
              "      <td>Hyundai</td>\n",
              "      <td>Sedan</td>\n",
              "      <td>Thane</td>\n",
              "      <td>1</td>\n",
              "      <td>Digital Wallet</td>\n",
              "      <td>640,333</td>\n",
              "      <td>5</td>\n",
              "      <td>In Direct</td>\n",
              "    </tr>\n",
              "    <tr>\n",
              "      <th>3</th>\n",
              "      <td>10003</td>\n",
              "      <td>26,247</td>\n",
              "      <td>2014</td>\n",
              "      <td>2</td>\n",
              "      <td>0</td>\n",
              "      <td>1,249</td>\n",
              "      <td>496</td>\n",
              "      <td>Honda</td>\n",
              "      <td>Sedan</td>\n",
              "      <td>Mumbai</td>\n",
              "      <td>1</td>\n",
              "      <td>Net Banking</td>\n",
              "      <td>617,561</td>\n",
              "      <td>7</td>\n",
              "      <td>In Direct</td>\n",
              "    </tr>\n",
              "    <tr>\n",
              "      <th>4</th>\n",
              "      <td>10004</td>\n",
              "      <td>29,665</td>\n",
              "      <td>2005</td>\n",
              "      <td>1</td>\n",
              "      <td>0</td>\n",
              "      <td>1,310</td>\n",
              "      <td>447</td>\n",
              "      <td>Hyundai</td>\n",
              "      <td>Sedan</td>\n",
              "      <td>Thane</td>\n",
              "      <td>1</td>\n",
              "      <td>Credit Card</td>\n",
              "      <td>706,606</td>\n",
              "      <td>7</td>\n",
              "      <td>In Direct</td>\n",
              "    </tr>\n",
              "  </tbody>\n",
              "</table>\n",
              "</div>"
            ],
            "text/plain": [
              "   CustID Premium  Model_Year  Owner_Type  Road side addon  \\\n",
              "0   10000  33,249        2011           1                1   \n",
              "1   10001  28,102        2013           2                0   \n",
              "2   10002  30,271        2008           1                0   \n",
              "3   10003  26,247        2014           2                0   \n",
              "4   10004  29,665        2005           1                0   \n",
              "\n",
              "  No Claim bonus discount  Electric add on rate  Company Car Type  \\\n",
              "0                   1,523                   384  Hyundai    Sedan   \n",
              "1                   1,452                   411  Hyundai    Sedan   \n",
              "2                   1,367                   317  Hyundai    Sedan   \n",
              "3                   1,249                   496    Honda    Sedan   \n",
              "4                   1,310                   447  Hyundai    Sedan   \n",
              "\n",
              "           RTO  CNGkit     Paymentmode Total IDV  Seats Acquisition Channel  \n",
              "0          Pen       0  Digital Wallet   714,966      8              Direct  \n",
              "1  Navi Mumbai       1  Digital Wallet   718,209      6              Direct  \n",
              "2        Thane       1  Digital Wallet   640,333      5           In Direct  \n",
              "3       Mumbai       1     Net Banking   617,561      7           In Direct  \n",
              "4        Thane       1     Credit Card   706,606      7           In Direct  "
            ]
          },
          "execution_count": 66,
          "metadata": {},
          "output_type": "execute_result"
        }
      ],
      "source": [
        "df.head()"
      ]
    },
    {
      "cell_type": "code",
      "execution_count": 67,
      "metadata": {
        "colab": {
          "base_uri": "https://localhost:8080/",
          "height": 267
        },
        "id": "fCF0tm2qgtyi",
        "outputId": "9d7a7e22-b3dc-4356-9922-5e5af4731e1c"
      },
      "outputs": [
        {
          "data": {
            "text/html": [
              "<div>\n",
              "<style scoped>\n",
              "    .dataframe tbody tr th:only-of-type {\n",
              "        vertical-align: middle;\n",
              "    }\n",
              "\n",
              "    .dataframe tbody tr th {\n",
              "        vertical-align: top;\n",
              "    }\n",
              "\n",
              "    .dataframe thead th {\n",
              "        text-align: right;\n",
              "    }\n",
              "</style>\n",
              "<table border=\"1\" class=\"dataframe\">\n",
              "  <thead>\n",
              "    <tr style=\"text-align: right;\">\n",
              "      <th></th>\n",
              "      <th>CustID</th>\n",
              "      <th>Premium</th>\n",
              "      <th>Model_Year</th>\n",
              "      <th>Owner_Type</th>\n",
              "      <th>Road side addon</th>\n",
              "      <th>No Claim bonus discount</th>\n",
              "      <th>Electric add on rate</th>\n",
              "      <th>Company</th>\n",
              "      <th>Car Type</th>\n",
              "      <th>RTO</th>\n",
              "      <th>CNGkit</th>\n",
              "      <th>Paymentmode</th>\n",
              "      <th>Total IDV</th>\n",
              "      <th>Seats</th>\n",
              "      <th>Acquisition Channel</th>\n",
              "    </tr>\n",
              "  </thead>\n",
              "  <tbody>\n",
              "    <tr>\n",
              "      <th>3</th>\n",
              "      <td>10003</td>\n",
              "      <td>26,247</td>\n",
              "      <td>2014</td>\n",
              "      <td>2</td>\n",
              "      <td>0</td>\n",
              "      <td>1,249</td>\n",
              "      <td>496</td>\n",
              "      <td>Honda</td>\n",
              "      <td>Sedan</td>\n",
              "      <td>Mumbai</td>\n",
              "      <td>1</td>\n",
              "      <td>Net Banking</td>\n",
              "      <td>617,561</td>\n",
              "      <td>7</td>\n",
              "      <td>In Direct</td>\n",
              "    </tr>\n",
              "    <tr>\n",
              "      <th>24</th>\n",
              "      <td>10024</td>\n",
              "      <td>25,326</td>\n",
              "      <td>2008</td>\n",
              "      <td>2</td>\n",
              "      <td>0</td>\n",
              "      <td>1,410</td>\n",
              "      <td>490</td>\n",
              "      <td>Honda</td>\n",
              "      <td>HatchBack</td>\n",
              "      <td>Mumbai</td>\n",
              "      <td>1</td>\n",
              "      <td>UPI</td>\n",
              "      <td>557,742</td>\n",
              "      <td>7</td>\n",
              "      <td>In Direct</td>\n",
              "    </tr>\n",
              "    <tr>\n",
              "      <th>27</th>\n",
              "      <td>10027</td>\n",
              "      <td>27,570</td>\n",
              "      <td>2014</td>\n",
              "      <td>1</td>\n",
              "      <td>1</td>\n",
              "      <td>1,321</td>\n",
              "      <td>428</td>\n",
              "      <td>Honda</td>\n",
              "      <td>Sedan</td>\n",
              "      <td>Mumbai</td>\n",
              "      <td>1</td>\n",
              "      <td>Digital Wallet</td>\n",
              "      <td>711,178</td>\n",
              "      <td>8</td>\n",
              "      <td>In Direct</td>\n",
              "    </tr>\n",
              "    <tr>\n",
              "      <th>30</th>\n",
              "      <td>10030</td>\n",
              "      <td>27,549</td>\n",
              "      <td>2000</td>\n",
              "      <td>2</td>\n",
              "      <td>1</td>\n",
              "      <td>1,584</td>\n",
              "      <td>502</td>\n",
              "      <td>Mahindra</td>\n",
              "      <td>HatchBack</td>\n",
              "      <td>Mumbai</td>\n",
              "      <td>1</td>\n",
              "      <td>Net Banking</td>\n",
              "      <td>801,669</td>\n",
              "      <td>6</td>\n",
              "      <td>Direct</td>\n",
              "    </tr>\n",
              "    <tr>\n",
              "      <th>46</th>\n",
              "      <td>10046</td>\n",
              "      <td>31,476</td>\n",
              "      <td>2002</td>\n",
              "      <td>2</td>\n",
              "      <td>0</td>\n",
              "      <td>1,556</td>\n",
              "      <td>401</td>\n",
              "      <td>Maruti</td>\n",
              "      <td>Sedan</td>\n",
              "      <td>Mumbai</td>\n",
              "      <td>1</td>\n",
              "      <td>Credit Card</td>\n",
              "      <td>822,658</td>\n",
              "      <td>8</td>\n",
              "      <td>Direct</td>\n",
              "    </tr>\n",
              "  </tbody>\n",
              "</table>\n",
              "</div>"
            ],
            "text/plain": [
              "    CustID Premium  Model_Year  Owner_Type  Road side addon  \\\n",
              "3    10003  26,247        2014           2                0   \n",
              "24   10024  25,326        2008           2                0   \n",
              "27   10027  27,570        2014           1                1   \n",
              "30   10030  27,549        2000           2                1   \n",
              "46   10046  31,476        2002           2                0   \n",
              "\n",
              "   No Claim bonus discount  Electric add on rate   Company   Car Type     RTO  \\\n",
              "3                    1,249                   496     Honda      Sedan  Mumbai   \n",
              "24                   1,410                   490     Honda  HatchBack  Mumbai   \n",
              "27                   1,321                   428     Honda      Sedan  Mumbai   \n",
              "30                   1,584                   502  Mahindra  HatchBack  Mumbai   \n",
              "46                   1,556                   401    Maruti      Sedan  Mumbai   \n",
              "\n",
              "    CNGkit     Paymentmode Total IDV  Seats Acquisition Channel  \n",
              "3        1     Net Banking   617,561      7           In Direct  \n",
              "24       1             UPI   557,742      7           In Direct  \n",
              "27       1  Digital Wallet   711,178      8           In Direct  \n",
              "30       1     Net Banking   801,669      6              Direct  \n",
              "46       1     Credit Card   822,658      8              Direct  "
            ]
          },
          "execution_count": 67,
          "metadata": {},
          "output_type": "execute_result"
        }
      ],
      "source": [
        "df4=df[(df.CNGkit==1)&(df.RTO=='Mumbai')]\n",
        "df4.head()"
      ]
    },
    {
      "cell_type": "code",
      "execution_count": 68,
      "metadata": {
        "colab": {
          "base_uri": "https://localhost:8080/",
          "height": 81
        },
        "id": "5DbBUr5qhJZL",
        "outputId": "c3ddf5ec-23cc-431f-8c3c-f8ebada76cf2"
      },
      "outputs": [
        {
          "data": {
            "text/html": [
              "<div>\n",
              "<style scoped>\n",
              "    .dataframe tbody tr th:only-of-type {\n",
              "        vertical-align: middle;\n",
              "    }\n",
              "\n",
              "    .dataframe tbody tr th {\n",
              "        vertical-align: top;\n",
              "    }\n",
              "\n",
              "    .dataframe thead th {\n",
              "        text-align: right;\n",
              "    }\n",
              "</style>\n",
              "<table border=\"1\" class=\"dataframe\">\n",
              "  <thead>\n",
              "    <tr style=\"text-align: right;\">\n",
              "      <th></th>\n",
              "      <th>Cartype</th>\n",
              "      <th>Percentage</th>\n",
              "    </tr>\n",
              "  </thead>\n",
              "  <tbody>\n",
              "    <tr>\n",
              "      <th>1</th>\n",
              "      <td>HatchBack</td>\n",
              "      <td>50.023485</td>\n",
              "    </tr>\n",
              "  </tbody>\n",
              "</table>\n",
              "</div>"
            ],
            "text/plain": [
              "     Cartype  Percentage\n",
              "1  HatchBack   50.023485"
            ]
          },
          "execution_count": 68,
          "metadata": {},
          "output_type": "execute_result"
        }
      ],
      "source": [
        "tot=df4.shape[0]\n",
        "hb=(df4[df4['Car Type']=='HatchBack'].shape[0]/tot)*100\n",
        "sd=(df4[df4['Car Type']=='Sedan'].shape[0]/tot)*100\n",
        "df4out=pd.DataFrame({'Cartype':df4['Car Type'].unique(),'Percentage':np.array([hb,sd])})\n",
        "df4out[df4out['Cartype']=='HatchBack']"
      ]
    },
    {
      "cell_type": "code",
      "execution_count": 69,
      "metadata": {
        "id": "12U86sXLhg-h"
      },
      "outputs": [],
      "source": [
        "# 5. What is the median of premium for sedan cars for the latest year?"
      ]
    },
    {
      "cell_type": "code",
      "execution_count": 70,
      "metadata": {
        "colab": {
          "base_uri": "https://localhost:8080/"
        },
        "id": "WXOSr8idi3oz",
        "outputId": "4575e1ac-b087-49fe-c315-21d48a764037"
      },
      "outputs": [
        {
          "data": {
            "text/plain": [
              "2019"
            ]
          },
          "execution_count": 70,
          "metadata": {},
          "output_type": "execute_result"
        }
      ],
      "source": [
        "lat_yr=df['Model_Year'].max()\n",
        "lat_yr"
      ]
    },
    {
      "cell_type": "code",
      "execution_count": 71,
      "metadata": {
        "colab": {
          "base_uri": "https://localhost:8080/"
        },
        "id": "V2rXqHyfjIDh",
        "outputId": "b65e0116-4a62-4d69-98ba-277b9ee5aff3"
      },
      "outputs": [
        {
          "data": {
            "text/plain": [
              "CustID                      int64\n",
              "Premium                    object\n",
              "Model_Year                  int64\n",
              "Owner_Type                  int64\n",
              "Road side addon             int64\n",
              "No Claim bonus discount    object\n",
              "Electric add on rate        int64\n",
              "Company                    object\n",
              "Car Type                   object\n",
              "RTO                        object\n",
              "CNGkit                      int64\n",
              "Paymentmode                object\n",
              "Total IDV                  object\n",
              "Seats                       int64\n",
              "Acquisition Channel        object\n",
              "dtype: object"
            ]
          },
          "execution_count": 71,
          "metadata": {},
          "output_type": "execute_result"
        }
      ],
      "source": [
        "df.dtypes"
      ]
    },
    {
      "cell_type": "code",
      "execution_count": 72,
      "metadata": {
        "colab": {
          "base_uri": "https://localhost:8080/"
        },
        "id": "DdZ4knKijNJY",
        "outputId": "0bd1f0f9-327f-42e0-f02f-4f247304a638"
      },
      "outputs": [
        {
          "data": {
            "text/plain": [
              "0        33,249\n",
              "1        28,102\n",
              "2        30,271\n",
              "3        26,247\n",
              "4        29,665\n",
              "          ...  \n",
              "17253    33,305\n",
              "17254    29,035\n",
              "17255    25,230\n",
              "17256    32,652\n",
              "17257    28,774\n",
              "Name: Premium, Length: 17258, dtype: object"
            ]
          },
          "execution_count": 72,
          "metadata": {},
          "output_type": "execute_result"
        }
      ],
      "source": [
        "df['Premium']"
      ]
    },
    {
      "cell_type": "code",
      "execution_count": 73,
      "metadata": {
        "id": "QReJB1hGjRAE"
      },
      "outputs": [],
      "source": [
        "df['Premium']=df['Premium'].str.replace(',','')"
      ]
    },
    {
      "cell_type": "code",
      "execution_count": 74,
      "metadata": {
        "colab": {
          "base_uri": "https://localhost:8080/"
        },
        "id": "oAjt53wbjYB8",
        "outputId": "56f69080-d3eb-4a22-c6b3-9a8f4debbf5d"
      },
      "outputs": [
        {
          "data": {
            "text/plain": [
              "0        33249\n",
              "1        28102\n",
              "2        30271\n",
              "3        26247\n",
              "4        29665\n",
              "         ...  \n",
              "17253    33305\n",
              "17254    29035\n",
              "17255    25230\n",
              "17256    32652\n",
              "17257    28774\n",
              "Name: Premium, Length: 17258, dtype: object"
            ]
          },
          "execution_count": 74,
          "metadata": {},
          "output_type": "execute_result"
        }
      ],
      "source": [
        "df['Premium']"
      ]
    },
    {
      "cell_type": "code",
      "execution_count": 75,
      "metadata": {
        "id": "aFeZTIyYjYtX"
      },
      "outputs": [],
      "source": [
        "df['Premium']=df['Premium'].astype(int)"
      ]
    },
    {
      "cell_type": "code",
      "execution_count": 76,
      "metadata": {
        "colab": {
          "base_uri": "https://localhost:8080/"
        },
        "id": "bAbQAfGOjcjt",
        "outputId": "942d5495-237c-41da-89aa-c8d45e5a2452"
      },
      "outputs": [
        {
          "data": {
            "text/plain": [
              "0        33249\n",
              "1        28102\n",
              "2        30271\n",
              "3        26247\n",
              "4        29665\n",
              "         ...  \n",
              "17253    33305\n",
              "17254    29035\n",
              "17255    25230\n",
              "17256    32652\n",
              "17257    28774\n",
              "Name: Premium, Length: 17258, dtype: int32"
            ]
          },
          "execution_count": 76,
          "metadata": {},
          "output_type": "execute_result"
        }
      ],
      "source": [
        "df['Premium']"
      ]
    },
    {
      "cell_type": "code",
      "execution_count": 77,
      "metadata": {
        "id": "S5ArLAjvjeGo"
      },
      "outputs": [],
      "source": [
        "df['Premium']=pd.to_numeric(df['Premium'],errors='coerce')"
      ]
    },
    {
      "cell_type": "code",
      "execution_count": 78,
      "metadata": {
        "colab": {
          "base_uri": "https://localhost:8080/"
        },
        "id": "TUogSIuGjlPr",
        "outputId": "0c71a8ca-9608-4d2b-83e3-a8b57ff1450b"
      },
      "outputs": [
        {
          "data": {
            "text/plain": [
              "0        33249\n",
              "1        28102\n",
              "2        30271\n",
              "3        26247\n",
              "4        29665\n",
              "         ...  \n",
              "17253    33305\n",
              "17254    29035\n",
              "17255    25230\n",
              "17256    32652\n",
              "17257    28774\n",
              "Name: Premium, Length: 17258, dtype: int32"
            ]
          },
          "execution_count": 78,
          "metadata": {},
          "output_type": "execute_result"
        }
      ],
      "source": [
        "df['Premium']"
      ]
    },
    {
      "cell_type": "code",
      "execution_count": 79,
      "metadata": {
        "colab": {
          "base_uri": "https://localhost:8080/"
        },
        "id": "jwi_544fjmA7",
        "outputId": "588811d3-ef3f-4ad3-d1b1-deb48c23aa2f"
      },
      "outputs": [
        {
          "data": {
            "text/plain": [
              "29415.0"
            ]
          },
          "execution_count": 79,
          "metadata": {},
          "output_type": "execute_result"
        }
      ],
      "source": [
        "df[(df['Model_Year']==lat_yr)&(df['Car Type']=='Sedan')].Premium.median()"
      ]
    },
    {
      "cell_type": "code",
      "execution_count": 80,
      "metadata": {
        "id": "edB9enA2j0um"
      },
      "outputs": [],
      "source": [
        "# 6. What is the change percentage of the premium from 2018 to 2019 model for Pen\n",
        "# RTO where IDV is more than 8 lakh?\n"
      ]
    },
    {
      "cell_type": "code",
      "execution_count": 81,
      "metadata": {
        "colab": {
          "base_uri": "https://localhost:8080/",
          "height": 285
        },
        "id": "4Q18NwyxkEWE",
        "outputId": "8c803d1a-29f7-4274-a44c-7251bfa04481"
      },
      "outputs": [
        {
          "data": {
            "text/html": [
              "<div>\n",
              "<style scoped>\n",
              "    .dataframe tbody tr th:only-of-type {\n",
              "        vertical-align: middle;\n",
              "    }\n",
              "\n",
              "    .dataframe tbody tr th {\n",
              "        vertical-align: top;\n",
              "    }\n",
              "\n",
              "    .dataframe thead th {\n",
              "        text-align: right;\n",
              "    }\n",
              "</style>\n",
              "<table border=\"1\" class=\"dataframe\">\n",
              "  <thead>\n",
              "    <tr style=\"text-align: right;\">\n",
              "      <th></th>\n",
              "      <th>CustID</th>\n",
              "      <th>Premium</th>\n",
              "      <th>Model_Year</th>\n",
              "      <th>Owner_Type</th>\n",
              "      <th>Road side addon</th>\n",
              "      <th>No Claim bonus discount</th>\n",
              "      <th>Electric add on rate</th>\n",
              "      <th>Company</th>\n",
              "      <th>Car Type</th>\n",
              "      <th>RTO</th>\n",
              "      <th>CNGkit</th>\n",
              "      <th>Paymentmode</th>\n",
              "      <th>Total IDV</th>\n",
              "      <th>Seats</th>\n",
              "      <th>Acquisition Channel</th>\n",
              "    </tr>\n",
              "  </thead>\n",
              "  <tbody>\n",
              "    <tr>\n",
              "      <th>0</th>\n",
              "      <td>10000</td>\n",
              "      <td>33249</td>\n",
              "      <td>2011</td>\n",
              "      <td>1</td>\n",
              "      <td>1</td>\n",
              "      <td>1,523</td>\n",
              "      <td>384</td>\n",
              "      <td>Hyundai</td>\n",
              "      <td>Sedan</td>\n",
              "      <td>Pen</td>\n",
              "      <td>0</td>\n",
              "      <td>Digital Wallet</td>\n",
              "      <td>714,966</td>\n",
              "      <td>8</td>\n",
              "      <td>Direct</td>\n",
              "    </tr>\n",
              "    <tr>\n",
              "      <th>1</th>\n",
              "      <td>10001</td>\n",
              "      <td>28102</td>\n",
              "      <td>2013</td>\n",
              "      <td>2</td>\n",
              "      <td>0</td>\n",
              "      <td>1,452</td>\n",
              "      <td>411</td>\n",
              "      <td>Hyundai</td>\n",
              "      <td>Sedan</td>\n",
              "      <td>Navi Mumbai</td>\n",
              "      <td>1</td>\n",
              "      <td>Digital Wallet</td>\n",
              "      <td>718,209</td>\n",
              "      <td>6</td>\n",
              "      <td>Direct</td>\n",
              "    </tr>\n",
              "    <tr>\n",
              "      <th>2</th>\n",
              "      <td>10002</td>\n",
              "      <td>30271</td>\n",
              "      <td>2008</td>\n",
              "      <td>1</td>\n",
              "      <td>0</td>\n",
              "      <td>1,367</td>\n",
              "      <td>317</td>\n",
              "      <td>Hyundai</td>\n",
              "      <td>Sedan</td>\n",
              "      <td>Thane</td>\n",
              "      <td>1</td>\n",
              "      <td>Digital Wallet</td>\n",
              "      <td>640,333</td>\n",
              "      <td>5</td>\n",
              "      <td>In Direct</td>\n",
              "    </tr>\n",
              "    <tr>\n",
              "      <th>3</th>\n",
              "      <td>10003</td>\n",
              "      <td>26247</td>\n",
              "      <td>2014</td>\n",
              "      <td>2</td>\n",
              "      <td>0</td>\n",
              "      <td>1,249</td>\n",
              "      <td>496</td>\n",
              "      <td>Honda</td>\n",
              "      <td>Sedan</td>\n",
              "      <td>Mumbai</td>\n",
              "      <td>1</td>\n",
              "      <td>Net Banking</td>\n",
              "      <td>617,561</td>\n",
              "      <td>7</td>\n",
              "      <td>In Direct</td>\n",
              "    </tr>\n",
              "    <tr>\n",
              "      <th>4</th>\n",
              "      <td>10004</td>\n",
              "      <td>29665</td>\n",
              "      <td>2005</td>\n",
              "      <td>1</td>\n",
              "      <td>0</td>\n",
              "      <td>1,310</td>\n",
              "      <td>447</td>\n",
              "      <td>Hyundai</td>\n",
              "      <td>Sedan</td>\n",
              "      <td>Thane</td>\n",
              "      <td>1</td>\n",
              "      <td>Credit Card</td>\n",
              "      <td>706,606</td>\n",
              "      <td>7</td>\n",
              "      <td>In Direct</td>\n",
              "    </tr>\n",
              "  </tbody>\n",
              "</table>\n",
              "</div>"
            ],
            "text/plain": [
              "   CustID  Premium  Model_Year  Owner_Type  Road side addon  \\\n",
              "0   10000    33249        2011           1                1   \n",
              "1   10001    28102        2013           2                0   \n",
              "2   10002    30271        2008           1                0   \n",
              "3   10003    26247        2014           2                0   \n",
              "4   10004    29665        2005           1                0   \n",
              "\n",
              "  No Claim bonus discount  Electric add on rate  Company Car Type  \\\n",
              "0                   1,523                   384  Hyundai    Sedan   \n",
              "1                   1,452                   411  Hyundai    Sedan   \n",
              "2                   1,367                   317  Hyundai    Sedan   \n",
              "3                   1,249                   496    Honda    Sedan   \n",
              "4                   1,310                   447  Hyundai    Sedan   \n",
              "\n",
              "           RTO  CNGkit     Paymentmode Total IDV  Seats Acquisition Channel  \n",
              "0          Pen       0  Digital Wallet   714,966      8              Direct  \n",
              "1  Navi Mumbai       1  Digital Wallet   718,209      6              Direct  \n",
              "2        Thane       1  Digital Wallet   640,333      5           In Direct  \n",
              "3       Mumbai       1     Net Banking   617,561      7           In Direct  \n",
              "4        Thane       1     Credit Card   706,606      7           In Direct  "
            ]
          },
          "execution_count": 81,
          "metadata": {},
          "output_type": "execute_result"
        }
      ],
      "source": [
        "df.head()"
      ]
    },
    {
      "cell_type": "code",
      "execution_count": 82,
      "metadata": {
        "colab": {
          "base_uri": "https://localhost:8080/"
        },
        "id": "2moNYclZkPy9",
        "outputId": "5ddb499a-b257-4b7f-fac4-f95e7ce4804a"
      },
      "outputs": [
        {
          "data": {
            "text/plain": [
              "CustID                      int64\n",
              "Premium                     int32\n",
              "Model_Year                  int64\n",
              "Owner_Type                  int64\n",
              "Road side addon             int64\n",
              "No Claim bonus discount    object\n",
              "Electric add on rate        int64\n",
              "Company                    object\n",
              "Car Type                   object\n",
              "RTO                        object\n",
              "CNGkit                      int64\n",
              "Paymentmode                object\n",
              "Total IDV                  object\n",
              "Seats                       int64\n",
              "Acquisition Channel        object\n",
              "dtype: object"
            ]
          },
          "execution_count": 82,
          "metadata": {},
          "output_type": "execute_result"
        }
      ],
      "source": [
        "df.dtypes"
      ]
    },
    {
      "cell_type": "code",
      "execution_count": 83,
      "metadata": {
        "colab": {
          "base_uri": "https://localhost:8080/"
        },
        "id": "6MINn3D9kS4g",
        "outputId": "11c41c25-c9fe-438e-afc8-52aa62d6189c"
      },
      "outputs": [
        {
          "data": {
            "text/plain": [
              "0        714,966\n",
              "1        718,209\n",
              "2        640,333\n",
              "3        617,561\n",
              "4        706,606\n",
              "          ...   \n",
              "17253    650,455\n",
              "17254    763,506\n",
              "17255    697,297\n",
              "17256    664,094\n",
              "17257    792,785\n",
              "Name: Total IDV, Length: 17258, dtype: object"
            ]
          },
          "execution_count": 83,
          "metadata": {},
          "output_type": "execute_result"
        }
      ],
      "source": [
        "df['Total IDV']"
      ]
    },
    {
      "cell_type": "code",
      "execution_count": 84,
      "metadata": {
        "id": "832f2qLykxGn"
      },
      "outputs": [],
      "source": [
        "df['Total IDV']=df['Total IDV'].str.replace(',','')"
      ]
    },
    {
      "cell_type": "code",
      "execution_count": 85,
      "metadata": {
        "colab": {
          "base_uri": "https://localhost:8080/"
        },
        "id": "qGQafdNLk3Ol",
        "outputId": "012b65eb-760d-41c7-eb66-82502291bf91"
      },
      "outputs": [
        {
          "data": {
            "text/plain": [
              "0        714966\n",
              "1        718209\n",
              "2        640333\n",
              "3        617561\n",
              "4        706606\n",
              "          ...  \n",
              "17253    650455\n",
              "17254    763506\n",
              "17255    697297\n",
              "17256    664094\n",
              "17257    792785\n",
              "Name: Total IDV, Length: 17258, dtype: object"
            ]
          },
          "execution_count": 85,
          "metadata": {},
          "output_type": "execute_result"
        }
      ],
      "source": [
        "df['Total IDV']"
      ]
    },
    {
      "cell_type": "code",
      "execution_count": 86,
      "metadata": {
        "id": "YNnXxRxIk4pX"
      },
      "outputs": [],
      "source": [
        "df['Total IDV']=pd.to_numeric(df['Total IDV'],errors='coerce')"
      ]
    },
    {
      "cell_type": "code",
      "execution_count": 87,
      "metadata": {
        "colab": {
          "base_uri": "https://localhost:8080/"
        },
        "id": "gtI0k7uHk-TI",
        "outputId": "c90539d2-622b-4e46-e9b7-8c7cf6ed8f2a"
      },
      "outputs": [
        {
          "data": {
            "text/plain": [
              "0        714966\n",
              "1        718209\n",
              "2        640333\n",
              "3        617561\n",
              "4        706606\n",
              "          ...  \n",
              "17253    650455\n",
              "17254    763506\n",
              "17255    697297\n",
              "17256    664094\n",
              "17257    792785\n",
              "Name: Total IDV, Length: 17258, dtype: int64"
            ]
          },
          "execution_count": 87,
          "metadata": {},
          "output_type": "execute_result"
        }
      ],
      "source": [
        "df['Total IDV']"
      ]
    },
    {
      "cell_type": "code",
      "execution_count": 88,
      "metadata": {
        "colab": {
          "base_uri": "https://localhost:8080/"
        },
        "id": "PEb68MnSlCV8",
        "outputId": "f8a78cb3-43c7-4c02-bf9a-3cabb469934a"
      },
      "outputs": [
        {
          "data": {
            "text/plain": [
              "CustID                      int64\n",
              "Premium                     int32\n",
              "Model_Year                  int64\n",
              "Owner_Type                  int64\n",
              "Road side addon             int64\n",
              "No Claim bonus discount    object\n",
              "Electric add on rate        int64\n",
              "Company                    object\n",
              "Car Type                   object\n",
              "RTO                        object\n",
              "CNGkit                      int64\n",
              "Paymentmode                object\n",
              "Total IDV                   int64\n",
              "Seats                       int64\n",
              "Acquisition Channel        object\n",
              "dtype: object"
            ]
          },
          "execution_count": 88,
          "metadata": {},
          "output_type": "execute_result"
        }
      ],
      "source": [
        "df.dtypes"
      ]
    },
    {
      "cell_type": "code",
      "execution_count": 89,
      "metadata": {
        "id": "4CbFqopOlPxF"
      },
      "outputs": [],
      "source": [
        "df5=df[(df.RTO=='Pen')&(df['Total IDV']>800000)]"
      ]
    },
    {
      "cell_type": "code",
      "execution_count": 90,
      "metadata": {
        "id": "-s1G3Lp5llwh"
      },
      "outputs": [],
      "source": [
        "t18=df5[df5['Model_Year']==2018].Premium.sum()\n",
        "t19=df5[df5['Model_Year']==2019].Premium.sum()"
      ]
    },
    {
      "cell_type": "code",
      "execution_count": 91,
      "metadata": {
        "colab": {
          "base_uri": "https://localhost:8080/"
        },
        "id": "sik0yeuRl3iy",
        "outputId": "62bbeb5a-380a-4c59-ac72-cdbfc6c04781"
      },
      "outputs": [
        {
          "data": {
            "text/plain": [
              "20.12"
            ]
          },
          "execution_count": 91,
          "metadata": {},
          "output_type": "execute_result"
        }
      ],
      "source": [
        "chng_per=round((t19-t18)/t18*100,2)\n",
        "chng_per"
      ]
    },
    {
      "cell_type": "code",
      "execution_count": 92,
      "metadata": {
        "id": "AFn71Z-xmJ3u"
      },
      "outputs": [],
      "source": [
        "# 7. Mumbai manager wants to approach their indirect customer to make them direct.\n",
        "# If manager achieve 25% of the total goal, then what is the total additional premium\n",
        "# they take directly?\n"
      ]
    },
    {
      "cell_type": "code",
      "execution_count": 93,
      "metadata": {
        "colab": {
          "base_uri": "https://localhost:8080/",
          "height": 285
        },
        "id": "XcjnkEFZmZCc",
        "outputId": "252789a5-d7d1-4453-8c2a-7109e7b2d4d3"
      },
      "outputs": [
        {
          "data": {
            "text/html": [
              "<div>\n",
              "<style scoped>\n",
              "    .dataframe tbody tr th:only-of-type {\n",
              "        vertical-align: middle;\n",
              "    }\n",
              "\n",
              "    .dataframe tbody tr th {\n",
              "        vertical-align: top;\n",
              "    }\n",
              "\n",
              "    .dataframe thead th {\n",
              "        text-align: right;\n",
              "    }\n",
              "</style>\n",
              "<table border=\"1\" class=\"dataframe\">\n",
              "  <thead>\n",
              "    <tr style=\"text-align: right;\">\n",
              "      <th></th>\n",
              "      <th>CustID</th>\n",
              "      <th>Premium</th>\n",
              "      <th>Model_Year</th>\n",
              "      <th>Owner_Type</th>\n",
              "      <th>Road side addon</th>\n",
              "      <th>No Claim bonus discount</th>\n",
              "      <th>Electric add on rate</th>\n",
              "      <th>Company</th>\n",
              "      <th>Car Type</th>\n",
              "      <th>RTO</th>\n",
              "      <th>CNGkit</th>\n",
              "      <th>Paymentmode</th>\n",
              "      <th>Total IDV</th>\n",
              "      <th>Seats</th>\n",
              "      <th>Acquisition Channel</th>\n",
              "    </tr>\n",
              "  </thead>\n",
              "  <tbody>\n",
              "    <tr>\n",
              "      <th>0</th>\n",
              "      <td>10000</td>\n",
              "      <td>33249</td>\n",
              "      <td>2011</td>\n",
              "      <td>1</td>\n",
              "      <td>1</td>\n",
              "      <td>1,523</td>\n",
              "      <td>384</td>\n",
              "      <td>Hyundai</td>\n",
              "      <td>Sedan</td>\n",
              "      <td>Pen</td>\n",
              "      <td>0</td>\n",
              "      <td>Digital Wallet</td>\n",
              "      <td>714966</td>\n",
              "      <td>8</td>\n",
              "      <td>Direct</td>\n",
              "    </tr>\n",
              "    <tr>\n",
              "      <th>1</th>\n",
              "      <td>10001</td>\n",
              "      <td>28102</td>\n",
              "      <td>2013</td>\n",
              "      <td>2</td>\n",
              "      <td>0</td>\n",
              "      <td>1,452</td>\n",
              "      <td>411</td>\n",
              "      <td>Hyundai</td>\n",
              "      <td>Sedan</td>\n",
              "      <td>Navi Mumbai</td>\n",
              "      <td>1</td>\n",
              "      <td>Digital Wallet</td>\n",
              "      <td>718209</td>\n",
              "      <td>6</td>\n",
              "      <td>Direct</td>\n",
              "    </tr>\n",
              "    <tr>\n",
              "      <th>2</th>\n",
              "      <td>10002</td>\n",
              "      <td>30271</td>\n",
              "      <td>2008</td>\n",
              "      <td>1</td>\n",
              "      <td>0</td>\n",
              "      <td>1,367</td>\n",
              "      <td>317</td>\n",
              "      <td>Hyundai</td>\n",
              "      <td>Sedan</td>\n",
              "      <td>Thane</td>\n",
              "      <td>1</td>\n",
              "      <td>Digital Wallet</td>\n",
              "      <td>640333</td>\n",
              "      <td>5</td>\n",
              "      <td>In Direct</td>\n",
              "    </tr>\n",
              "    <tr>\n",
              "      <th>3</th>\n",
              "      <td>10003</td>\n",
              "      <td>26247</td>\n",
              "      <td>2014</td>\n",
              "      <td>2</td>\n",
              "      <td>0</td>\n",
              "      <td>1,249</td>\n",
              "      <td>496</td>\n",
              "      <td>Honda</td>\n",
              "      <td>Sedan</td>\n",
              "      <td>Mumbai</td>\n",
              "      <td>1</td>\n",
              "      <td>Net Banking</td>\n",
              "      <td>617561</td>\n",
              "      <td>7</td>\n",
              "      <td>In Direct</td>\n",
              "    </tr>\n",
              "    <tr>\n",
              "      <th>4</th>\n",
              "      <td>10004</td>\n",
              "      <td>29665</td>\n",
              "      <td>2005</td>\n",
              "      <td>1</td>\n",
              "      <td>0</td>\n",
              "      <td>1,310</td>\n",
              "      <td>447</td>\n",
              "      <td>Hyundai</td>\n",
              "      <td>Sedan</td>\n",
              "      <td>Thane</td>\n",
              "      <td>1</td>\n",
              "      <td>Credit Card</td>\n",
              "      <td>706606</td>\n",
              "      <td>7</td>\n",
              "      <td>In Direct</td>\n",
              "    </tr>\n",
              "  </tbody>\n",
              "</table>\n",
              "</div>"
            ],
            "text/plain": [
              "   CustID  Premium  Model_Year  Owner_Type  Road side addon  \\\n",
              "0   10000    33249        2011           1                1   \n",
              "1   10001    28102        2013           2                0   \n",
              "2   10002    30271        2008           1                0   \n",
              "3   10003    26247        2014           2                0   \n",
              "4   10004    29665        2005           1                0   \n",
              "\n",
              "  No Claim bonus discount  Electric add on rate  Company Car Type  \\\n",
              "0                   1,523                   384  Hyundai    Sedan   \n",
              "1                   1,452                   411  Hyundai    Sedan   \n",
              "2                   1,367                   317  Hyundai    Sedan   \n",
              "3                   1,249                   496    Honda    Sedan   \n",
              "4                   1,310                   447  Hyundai    Sedan   \n",
              "\n",
              "           RTO  CNGkit     Paymentmode  Total IDV  Seats Acquisition Channel  \n",
              "0          Pen       0  Digital Wallet     714966      8              Direct  \n",
              "1  Navi Mumbai       1  Digital Wallet     718209      6              Direct  \n",
              "2        Thane       1  Digital Wallet     640333      5           In Direct  \n",
              "3       Mumbai       1     Net Banking     617561      7           In Direct  \n",
              "4        Thane       1     Credit Card     706606      7           In Direct  "
            ]
          },
          "execution_count": 93,
          "metadata": {},
          "output_type": "execute_result"
        }
      ],
      "source": [
        "df.head()"
      ]
    },
    {
      "cell_type": "code",
      "execution_count": 94,
      "metadata": {
        "colab": {
          "base_uri": "https://localhost:8080/",
          "height": 502
        },
        "id": "m4nOiuEpmuOg",
        "outputId": "6e104b8c-8d28-4bbc-894e-e39c2badeca0"
      },
      "outputs": [
        {
          "data": {
            "text/html": [
              "<div>\n",
              "<style scoped>\n",
              "    .dataframe tbody tr th:only-of-type {\n",
              "        vertical-align: middle;\n",
              "    }\n",
              "\n",
              "    .dataframe tbody tr th {\n",
              "        vertical-align: top;\n",
              "    }\n",
              "\n",
              "    .dataframe thead th {\n",
              "        text-align: right;\n",
              "    }\n",
              "</style>\n",
              "<table border=\"1\" class=\"dataframe\">\n",
              "  <thead>\n",
              "    <tr style=\"text-align: right;\">\n",
              "      <th></th>\n",
              "      <th>CustID</th>\n",
              "      <th>Premium</th>\n",
              "      <th>Model_Year</th>\n",
              "      <th>Owner_Type</th>\n",
              "      <th>Road side addon</th>\n",
              "      <th>No Claim bonus discount</th>\n",
              "      <th>Electric add on rate</th>\n",
              "      <th>Company</th>\n",
              "      <th>Car Type</th>\n",
              "      <th>RTO</th>\n",
              "      <th>CNGkit</th>\n",
              "      <th>Paymentmode</th>\n",
              "      <th>Total IDV</th>\n",
              "      <th>Seats</th>\n",
              "      <th>Acquisition Channel</th>\n",
              "    </tr>\n",
              "  </thead>\n",
              "  <tbody>\n",
              "    <tr>\n",
              "      <th>3</th>\n",
              "      <td>10003</td>\n",
              "      <td>26247</td>\n",
              "      <td>2014</td>\n",
              "      <td>2</td>\n",
              "      <td>0</td>\n",
              "      <td>1,249</td>\n",
              "      <td>496</td>\n",
              "      <td>Honda</td>\n",
              "      <td>Sedan</td>\n",
              "      <td>Mumbai</td>\n",
              "      <td>1</td>\n",
              "      <td>Net Banking</td>\n",
              "      <td>617561</td>\n",
              "      <td>7</td>\n",
              "      <td>In Direct</td>\n",
              "    </tr>\n",
              "    <tr>\n",
              "      <th>24</th>\n",
              "      <td>10024</td>\n",
              "      <td>25326</td>\n",
              "      <td>2008</td>\n",
              "      <td>2</td>\n",
              "      <td>0</td>\n",
              "      <td>1,410</td>\n",
              "      <td>490</td>\n",
              "      <td>Honda</td>\n",
              "      <td>HatchBack</td>\n",
              "      <td>Mumbai</td>\n",
              "      <td>1</td>\n",
              "      <td>UPI</td>\n",
              "      <td>557742</td>\n",
              "      <td>7</td>\n",
              "      <td>In Direct</td>\n",
              "    </tr>\n",
              "    <tr>\n",
              "      <th>27</th>\n",
              "      <td>10027</td>\n",
              "      <td>27570</td>\n",
              "      <td>2014</td>\n",
              "      <td>1</td>\n",
              "      <td>1</td>\n",
              "      <td>1,321</td>\n",
              "      <td>428</td>\n",
              "      <td>Honda</td>\n",
              "      <td>Sedan</td>\n",
              "      <td>Mumbai</td>\n",
              "      <td>1</td>\n",
              "      <td>Digital Wallet</td>\n",
              "      <td>711178</td>\n",
              "      <td>8</td>\n",
              "      <td>In Direct</td>\n",
              "    </tr>\n",
              "    <tr>\n",
              "      <th>29</th>\n",
              "      <td>10029</td>\n",
              "      <td>26778</td>\n",
              "      <td>2006</td>\n",
              "      <td>1</td>\n",
              "      <td>0</td>\n",
              "      <td>1,456</td>\n",
              "      <td>540</td>\n",
              "      <td>Maruti</td>\n",
              "      <td>HatchBack</td>\n",
              "      <td>Mumbai</td>\n",
              "      <td>0</td>\n",
              "      <td>Digital Wallet</td>\n",
              "      <td>636231</td>\n",
              "      <td>6</td>\n",
              "      <td>In Direct</td>\n",
              "    </tr>\n",
              "    <tr>\n",
              "      <th>47</th>\n",
              "      <td>10047</td>\n",
              "      <td>28318</td>\n",
              "      <td>2013</td>\n",
              "      <td>1</td>\n",
              "      <td>0</td>\n",
              "      <td>1,377</td>\n",
              "      <td>372</td>\n",
              "      <td>Maruti</td>\n",
              "      <td>HatchBack</td>\n",
              "      <td>Mumbai</td>\n",
              "      <td>0</td>\n",
              "      <td>Net Banking</td>\n",
              "      <td>792670</td>\n",
              "      <td>6</td>\n",
              "      <td>In Direct</td>\n",
              "    </tr>\n",
              "    <tr>\n",
              "      <th>...</th>\n",
              "      <td>...</td>\n",
              "      <td>...</td>\n",
              "      <td>...</td>\n",
              "      <td>...</td>\n",
              "      <td>...</td>\n",
              "      <td>...</td>\n",
              "      <td>...</td>\n",
              "      <td>...</td>\n",
              "      <td>...</td>\n",
              "      <td>...</td>\n",
              "      <td>...</td>\n",
              "      <td>...</td>\n",
              "      <td>...</td>\n",
              "      <td>...</td>\n",
              "      <td>...</td>\n",
              "    </tr>\n",
              "    <tr>\n",
              "      <th>17240</th>\n",
              "      <td>27240</td>\n",
              "      <td>26758</td>\n",
              "      <td>2010</td>\n",
              "      <td>2</td>\n",
              "      <td>1</td>\n",
              "      <td>1,379</td>\n",
              "      <td>565</td>\n",
              "      <td>Honda</td>\n",
              "      <td>Sedan</td>\n",
              "      <td>Mumbai</td>\n",
              "      <td>0</td>\n",
              "      <td>Net Banking</td>\n",
              "      <td>646525</td>\n",
              "      <td>7</td>\n",
              "      <td>In Direct</td>\n",
              "    </tr>\n",
              "    <tr>\n",
              "      <th>17247</th>\n",
              "      <td>27247</td>\n",
              "      <td>30517</td>\n",
              "      <td>2012</td>\n",
              "      <td>1</td>\n",
              "      <td>1</td>\n",
              "      <td>1,257</td>\n",
              "      <td>339</td>\n",
              "      <td>Hyundai</td>\n",
              "      <td>Sedan</td>\n",
              "      <td>Mumbai</td>\n",
              "      <td>1</td>\n",
              "      <td>Net Banking</td>\n",
              "      <td>598387</td>\n",
              "      <td>8</td>\n",
              "      <td>In Direct</td>\n",
              "    </tr>\n",
              "    <tr>\n",
              "      <th>17249</th>\n",
              "      <td>27249</td>\n",
              "      <td>32514</td>\n",
              "      <td>2015</td>\n",
              "      <td>1</td>\n",
              "      <td>0</td>\n",
              "      <td>1,201</td>\n",
              "      <td>541</td>\n",
              "      <td>Mahindra</td>\n",
              "      <td>Sedan</td>\n",
              "      <td>Mumbai</td>\n",
              "      <td>0</td>\n",
              "      <td>Digital Wallet</td>\n",
              "      <td>742570</td>\n",
              "      <td>5</td>\n",
              "      <td>In Direct</td>\n",
              "    </tr>\n",
              "    <tr>\n",
              "      <th>17253</th>\n",
              "      <td>27253</td>\n",
              "      <td>33305</td>\n",
              "      <td>2005</td>\n",
              "      <td>1</td>\n",
              "      <td>0</td>\n",
              "      <td>1,370</td>\n",
              "      <td>361</td>\n",
              "      <td>Hyundai</td>\n",
              "      <td>Sedan</td>\n",
              "      <td>Mumbai</td>\n",
              "      <td>1</td>\n",
              "      <td>Credit Card</td>\n",
              "      <td>650455</td>\n",
              "      <td>6</td>\n",
              "      <td>In Direct</td>\n",
              "    </tr>\n",
              "    <tr>\n",
              "      <th>17256</th>\n",
              "      <td>27256</td>\n",
              "      <td>32652</td>\n",
              "      <td>2011</td>\n",
              "      <td>2</td>\n",
              "      <td>1</td>\n",
              "      <td>1,386</td>\n",
              "      <td>492</td>\n",
              "      <td>Maruti</td>\n",
              "      <td>Sedan</td>\n",
              "      <td>Mumbai</td>\n",
              "      <td>0</td>\n",
              "      <td>Digital Wallet</td>\n",
              "      <td>664094</td>\n",
              "      <td>6</td>\n",
              "      <td>In Direct</td>\n",
              "    </tr>\n",
              "  </tbody>\n",
              "</table>\n",
              "<p>2131 rows × 15 columns</p>\n",
              "</div>"
            ],
            "text/plain": [
              "       CustID  Premium  Model_Year  Owner_Type  Road side addon  \\\n",
              "3       10003    26247        2014           2                0   \n",
              "24      10024    25326        2008           2                0   \n",
              "27      10027    27570        2014           1                1   \n",
              "29      10029    26778        2006           1                0   \n",
              "47      10047    28318        2013           1                0   \n",
              "...       ...      ...         ...         ...              ...   \n",
              "17240   27240    26758        2010           2                1   \n",
              "17247   27247    30517        2012           1                1   \n",
              "17249   27249    32514        2015           1                0   \n",
              "17253   27253    33305        2005           1                0   \n",
              "17256   27256    32652        2011           2                1   \n",
              "\n",
              "      No Claim bonus discount  Electric add on rate   Company   Car Type  \\\n",
              "3                       1,249                   496     Honda      Sedan   \n",
              "24                      1,410                   490     Honda  HatchBack   \n",
              "27                      1,321                   428     Honda      Sedan   \n",
              "29                      1,456                   540    Maruti  HatchBack   \n",
              "47                      1,377                   372    Maruti  HatchBack   \n",
              "...                       ...                   ...       ...        ...   \n",
              "17240                   1,379                   565     Honda      Sedan   \n",
              "17247                   1,257                   339   Hyundai      Sedan   \n",
              "17249                   1,201                   541  Mahindra      Sedan   \n",
              "17253                   1,370                   361   Hyundai      Sedan   \n",
              "17256                   1,386                   492    Maruti      Sedan   \n",
              "\n",
              "          RTO  CNGkit     Paymentmode  Total IDV  Seats Acquisition Channel  \n",
              "3      Mumbai       1     Net Banking     617561      7           In Direct  \n",
              "24     Mumbai       1             UPI     557742      7           In Direct  \n",
              "27     Mumbai       1  Digital Wallet     711178      8           In Direct  \n",
              "29     Mumbai       0  Digital Wallet     636231      6           In Direct  \n",
              "47     Mumbai       0     Net Banking     792670      6           In Direct  \n",
              "...       ...     ...             ...        ...    ...                 ...  \n",
              "17240  Mumbai       0     Net Banking     646525      7           In Direct  \n",
              "17247  Mumbai       1     Net Banking     598387      8           In Direct  \n",
              "17249  Mumbai       0  Digital Wallet     742570      5           In Direct  \n",
              "17253  Mumbai       1     Credit Card     650455      6           In Direct  \n",
              "17256  Mumbai       0  Digital Wallet     664094      6           In Direct  \n",
              "\n",
              "[2131 rows x 15 columns]"
            ]
          },
          "execution_count": 94,
          "metadata": {},
          "output_type": "execute_result"
        }
      ],
      "source": [
        "df6=df[(df['RTO']=='Mumbai')&(df['Acquisition Channel']=='In Direct')]\n",
        "df6"
      ]
    },
    {
      "cell_type": "code",
      "execution_count": 95,
      "metadata": {
        "colab": {
          "base_uri": "https://localhost:8080/",
          "height": 189
        },
        "id": "YmSNw9n0nFW1",
        "outputId": "fb866254-9d11-4ebb-cc73-e128f28b3241"
      },
      "outputs": [
        {
          "data": {
            "text/plain": [
              "2131"
            ]
          },
          "execution_count": 95,
          "metadata": {},
          "output_type": "execute_result"
        }
      ],
      "source": [
        "tot_goal=df6.shape[0]\n",
        "tot_goal"
      ]
    },
    {
      "cell_type": "code",
      "execution_count": 96,
      "metadata": {
        "id": "aT4kaXtenRo1"
      },
      "outputs": [],
      "source": [
        "tot_prem=df6['Premium'].sum()"
      ]
    },
    {
      "cell_type": "code",
      "execution_count": 97,
      "metadata": {
        "colab": {
          "base_uri": "https://localhost:8080/"
        },
        "id": "2E3iy4VOnavA",
        "outputId": "e0202b5a-26c4-467b-c1d9-d108e4af6d96"
      },
      "outputs": [
        {
          "data": {
            "text/plain": [
              "15954038.75"
            ]
          },
          "execution_count": 97,
          "metadata": {},
          "output_type": "execute_result"
        }
      ],
      "source": [
        "tot_prem*0.25"
      ]
    },
    {
      "cell_type": "code",
      "execution_count": 98,
      "metadata": {
        "colab": {
          "base_uri": "https://localhost:8080/",
          "height": 36
        },
        "id": "e6tV1nJOnk3g",
        "outputId": "7d820ffe-0fc0-4eff-d224-b590daff056f"
      },
      "outputs": [
        {
          "data": {
            "text/plain": [
              "'63,816,155'"
            ]
          },
          "execution_count": 98,
          "metadata": {},
          "output_type": "execute_result"
        }
      ],
      "source": [
        "'{:,}'.format(tot_prem)"
      ]
    },
    {
      "cell_type": "code",
      "execution_count": 99,
      "metadata": {
        "id": "igimF1IxoTO-"
      },
      "outputs": [],
      "source": [
        "# 8. What is the median difference of IDV in between sedan 2019 model and\n",
        "# hatchback 2018 model?\n"
      ]
    },
    {
      "cell_type": "code",
      "execution_count": 100,
      "metadata": {
        "id": "DwYFLkw-odu9"
      },
      "outputs": [],
      "source": [
        "sed=df[(df['Car Type']=='Sedan')&(df['Model_Year']==2019)]['Total IDV'].median()\n",
        "htch=df[(df['Car Type']=='HatchBack')&(df['Model_Year']==2018)]['Total IDV'].median()"
      ]
    },
    {
      "cell_type": "code",
      "execution_count": 101,
      "metadata": {
        "colab": {
          "base_uri": "https://localhost:8080/"
        },
        "id": "3BLSXCifqCG9",
        "outputId": "22b7c1bd-92d0-46e5-a6b2-fe016acc068e"
      },
      "outputs": [
        {
          "data": {
            "text/plain": [
              "694636.0"
            ]
          },
          "execution_count": 101,
          "metadata": {},
          "output_type": "execute_result"
        }
      ],
      "source": [
        "sed"
      ]
    },
    {
      "cell_type": "code",
      "execution_count": 102,
      "metadata": {
        "colab": {
          "base_uri": "https://localhost:8080/"
        },
        "id": "6W3L3C_tqK0u",
        "outputId": "b93a5c05-15fe-431f-e27f-aa8872a920fa"
      },
      "outputs": [
        {
          "data": {
            "text/plain": [
              "710339.0"
            ]
          },
          "execution_count": 102,
          "metadata": {},
          "output_type": "execute_result"
        }
      ],
      "source": [
        "htch"
      ]
    },
    {
      "cell_type": "code",
      "execution_count": 103,
      "metadata": {
        "colab": {
          "base_uri": "https://localhost:8080/"
        },
        "id": "aqN9hPF_pTZD",
        "outputId": "d51533d4-4458-43f6-b2d3-38cf7debebfc"
      },
      "outputs": [
        {
          "data": {
            "text/plain": [
              "15703.0"
            ]
          },
          "execution_count": 103,
          "metadata": {},
          "output_type": "execute_result"
        }
      ],
      "source": [
        "htch-sed"
      ]
    },
    {
      "cell_type": "code",
      "execution_count": 104,
      "metadata": {
        "id": "1Wg3u3CHqah9"
      },
      "outputs": [],
      "source": [
        "# 9. What is the correlation between IDV and premium for 5 seater sedan in Thane?"
      ]
    },
    {
      "cell_type": "code",
      "execution_count": 105,
      "metadata": {
        "id": "v27ZumxLqdlg"
      },
      "outputs": [],
      "source": [
        "df7=df[(df['Seats']==5)&(df['Car Type']=='Sedan')&(df['RTO']=='Thane')]"
      ]
    },
    {
      "cell_type": "code",
      "execution_count": 106,
      "metadata": {
        "colab": {
          "base_uri": "https://localhost:8080/"
        },
        "id": "Ji-HSDWnrq6z",
        "outputId": "f44bbc1d-29a1-4040-9efe-cb44674b38ca"
      },
      "outputs": [
        {
          "data": {
            "text/plain": [
              "0.10917836495050696"
            ]
          },
          "execution_count": 106,
          "metadata": {},
          "output_type": "execute_result"
        }
      ],
      "source": [
        "df7['Total IDV'].corr(df7['Premium'])"
      ]
    },
    {
      "cell_type": "code",
      "execution_count": 107,
      "metadata": {
        "id": "99oStsibrzXA"
      },
      "outputs": [],
      "source": [
        "# 10. What is the count of 2nd hand 2005 year model cars in Navi Mumbai, who has\n",
        "# taken road side assistance add-on?"
      ]
    },
    {
      "cell_type": "code",
      "execution_count": 108,
      "metadata": {
        "colab": {
          "base_uri": "https://localhost:8080/",
          "height": 285
        },
        "id": "sEGPHawMr3nE",
        "outputId": "250a877f-6bc8-4bd8-d9f0-1bc3854769b3"
      },
      "outputs": [
        {
          "data": {
            "text/html": [
              "<div>\n",
              "<style scoped>\n",
              "    .dataframe tbody tr th:only-of-type {\n",
              "        vertical-align: middle;\n",
              "    }\n",
              "\n",
              "    .dataframe tbody tr th {\n",
              "        vertical-align: top;\n",
              "    }\n",
              "\n",
              "    .dataframe thead th {\n",
              "        text-align: right;\n",
              "    }\n",
              "</style>\n",
              "<table border=\"1\" class=\"dataframe\">\n",
              "  <thead>\n",
              "    <tr style=\"text-align: right;\">\n",
              "      <th></th>\n",
              "      <th>CustID</th>\n",
              "      <th>Premium</th>\n",
              "      <th>Model_Year</th>\n",
              "      <th>Owner_Type</th>\n",
              "      <th>Road side addon</th>\n",
              "      <th>No Claim bonus discount</th>\n",
              "      <th>Electric add on rate</th>\n",
              "      <th>Company</th>\n",
              "      <th>Car Type</th>\n",
              "      <th>RTO</th>\n",
              "      <th>CNGkit</th>\n",
              "      <th>Paymentmode</th>\n",
              "      <th>Total IDV</th>\n",
              "      <th>Seats</th>\n",
              "      <th>Acquisition Channel</th>\n",
              "    </tr>\n",
              "  </thead>\n",
              "  <tbody>\n",
              "    <tr>\n",
              "      <th>0</th>\n",
              "      <td>10000</td>\n",
              "      <td>33249</td>\n",
              "      <td>2011</td>\n",
              "      <td>1</td>\n",
              "      <td>1</td>\n",
              "      <td>1,523</td>\n",
              "      <td>384</td>\n",
              "      <td>Hyundai</td>\n",
              "      <td>Sedan</td>\n",
              "      <td>Pen</td>\n",
              "      <td>0</td>\n",
              "      <td>Digital Wallet</td>\n",
              "      <td>714966</td>\n",
              "      <td>8</td>\n",
              "      <td>Direct</td>\n",
              "    </tr>\n",
              "    <tr>\n",
              "      <th>1</th>\n",
              "      <td>10001</td>\n",
              "      <td>28102</td>\n",
              "      <td>2013</td>\n",
              "      <td>2</td>\n",
              "      <td>0</td>\n",
              "      <td>1,452</td>\n",
              "      <td>411</td>\n",
              "      <td>Hyundai</td>\n",
              "      <td>Sedan</td>\n",
              "      <td>Navi Mumbai</td>\n",
              "      <td>1</td>\n",
              "      <td>Digital Wallet</td>\n",
              "      <td>718209</td>\n",
              "      <td>6</td>\n",
              "      <td>Direct</td>\n",
              "    </tr>\n",
              "    <tr>\n",
              "      <th>2</th>\n",
              "      <td>10002</td>\n",
              "      <td>30271</td>\n",
              "      <td>2008</td>\n",
              "      <td>1</td>\n",
              "      <td>0</td>\n",
              "      <td>1,367</td>\n",
              "      <td>317</td>\n",
              "      <td>Hyundai</td>\n",
              "      <td>Sedan</td>\n",
              "      <td>Thane</td>\n",
              "      <td>1</td>\n",
              "      <td>Digital Wallet</td>\n",
              "      <td>640333</td>\n",
              "      <td>5</td>\n",
              "      <td>In Direct</td>\n",
              "    </tr>\n",
              "    <tr>\n",
              "      <th>3</th>\n",
              "      <td>10003</td>\n",
              "      <td>26247</td>\n",
              "      <td>2014</td>\n",
              "      <td>2</td>\n",
              "      <td>0</td>\n",
              "      <td>1,249</td>\n",
              "      <td>496</td>\n",
              "      <td>Honda</td>\n",
              "      <td>Sedan</td>\n",
              "      <td>Mumbai</td>\n",
              "      <td>1</td>\n",
              "      <td>Net Banking</td>\n",
              "      <td>617561</td>\n",
              "      <td>7</td>\n",
              "      <td>In Direct</td>\n",
              "    </tr>\n",
              "    <tr>\n",
              "      <th>4</th>\n",
              "      <td>10004</td>\n",
              "      <td>29665</td>\n",
              "      <td>2005</td>\n",
              "      <td>1</td>\n",
              "      <td>0</td>\n",
              "      <td>1,310</td>\n",
              "      <td>447</td>\n",
              "      <td>Hyundai</td>\n",
              "      <td>Sedan</td>\n",
              "      <td>Thane</td>\n",
              "      <td>1</td>\n",
              "      <td>Credit Card</td>\n",
              "      <td>706606</td>\n",
              "      <td>7</td>\n",
              "      <td>In Direct</td>\n",
              "    </tr>\n",
              "  </tbody>\n",
              "</table>\n",
              "</div>"
            ],
            "text/plain": [
              "   CustID  Premium  Model_Year  Owner_Type  Road side addon  \\\n",
              "0   10000    33249        2011           1                1   \n",
              "1   10001    28102        2013           2                0   \n",
              "2   10002    30271        2008           1                0   \n",
              "3   10003    26247        2014           2                0   \n",
              "4   10004    29665        2005           1                0   \n",
              "\n",
              "  No Claim bonus discount  Electric add on rate  Company Car Type  \\\n",
              "0                   1,523                   384  Hyundai    Sedan   \n",
              "1                   1,452                   411  Hyundai    Sedan   \n",
              "2                   1,367                   317  Hyundai    Sedan   \n",
              "3                   1,249                   496    Honda    Sedan   \n",
              "4                   1,310                   447  Hyundai    Sedan   \n",
              "\n",
              "           RTO  CNGkit     Paymentmode  Total IDV  Seats Acquisition Channel  \n",
              "0          Pen       0  Digital Wallet     714966      8              Direct  \n",
              "1  Navi Mumbai       1  Digital Wallet     718209      6              Direct  \n",
              "2        Thane       1  Digital Wallet     640333      5           In Direct  \n",
              "3       Mumbai       1     Net Banking     617561      7           In Direct  \n",
              "4        Thane       1     Credit Card     706606      7           In Direct  "
            ]
          },
          "execution_count": 108,
          "metadata": {},
          "output_type": "execute_result"
        }
      ],
      "source": [
        "df.head()"
      ]
    },
    {
      "cell_type": "code",
      "execution_count": 109,
      "metadata": {
        "colab": {
          "base_uri": "https://localhost:8080/"
        },
        "id": "zrw-TqJdr-z3",
        "outputId": "26c33b0b-9158-4686-929c-aebc9b6b050d"
      },
      "outputs": [
        {
          "data": {
            "text/plain": [
              "CustID                      int64\n",
              "Premium                     int32\n",
              "Model_Year                  int64\n",
              "Owner_Type                  int64\n",
              "Road side addon             int64\n",
              "No Claim bonus discount    object\n",
              "Electric add on rate        int64\n",
              "Company                    object\n",
              "Car Type                   object\n",
              "RTO                        object\n",
              "CNGkit                      int64\n",
              "Paymentmode                object\n",
              "Total IDV                   int64\n",
              "Seats                       int64\n",
              "Acquisition Channel        object\n",
              "dtype: object"
            ]
          },
          "execution_count": 109,
          "metadata": {},
          "output_type": "execute_result"
        }
      ],
      "source": [
        "df.dtypes"
      ]
    },
    {
      "cell_type": "code",
      "execution_count": 110,
      "metadata": {
        "id": "vd3y9JNfsABY"
      },
      "outputs": [],
      "source": [
        "df8=df[(df['Model_Year']==2005)&(df['Owner_Type']==2)&(df['RTO']=='Navi Mumbai')&(df['Road side addon']==1)]"
      ]
    },
    {
      "cell_type": "code",
      "execution_count": 111,
      "metadata": {
        "colab": {
          "base_uri": "https://localhost:8080/"
        },
        "id": "go6i34SFsYoS",
        "outputId": "4916e39c-f372-4396-b47c-4f46d5f1ecfb"
      },
      "outputs": [
        {
          "data": {
            "text/plain": [
              "60"
            ]
          },
          "execution_count": 111,
          "metadata": {},
          "output_type": "execute_result"
        }
      ],
      "source": [
        "df8.shape[0]"
      ]
    },
    {
      "cell_type": "code",
      "execution_count": null,
      "metadata": {
        "id": "fQsUjoSWshE9"
      },
      "outputs": [],
      "source": []
    },
    {
      "cell_type": "code",
      "execution_count": null,
      "metadata": {},
      "outputs": [],
      "source": []
    },
    {
      "cell_type": "code",
      "execution_count": null,
      "metadata": {},
      "outputs": [],
      "source": []
    }
  ],
  "metadata": {
    "colab": {
      "provenance": []
    },
    "kernelspec": {
      "display_name": "Python 3",
      "name": "python3"
    },
    "language_info": {
      "codemirror_mode": {
        "name": "ipython",
        "version": 3
      },
      "file_extension": ".py",
      "mimetype": "text/x-python",
      "name": "python",
      "nbconvert_exporter": "python",
      "pygments_lexer": "ipython3",
      "version": "3.9.13"
    }
  },
  "nbformat": 4,
  "nbformat_minor": 0
}
