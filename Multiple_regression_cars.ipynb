{
  "nbformat": 4,
  "nbformat_minor": 0,
  "metadata": {
    "colab": {
      "provenance": [],
      "authorship_tag": "ABX9TyPHVx/IrHCKY57SQPkHSWgq"
    },
    "kernelspec": {
      "name": "python3",
      "display_name": "Python 3"
    },
    "language_info": {
      "name": "python"
    }
  },
  "cells": [
    {
      "cell_type": "code",
      "execution_count": 5,
      "metadata": {
        "id": "ZKjUGlLdhGwc"
      },
      "outputs": [],
      "source": [
        "import pandas"
      ]
    },
    {
      "cell_type": "code",
      "source": [
        "df = pandas.read_csv(\"cars1.csv\") \n",
        "#df.info()\n",
        "X = df[['Weight', 'Volume']]\n",
        "y = df['CO2'] \n"
      ],
      "metadata": {
        "id": "vpJzjUVkhPYl"
      },
      "execution_count": 6,
      "outputs": []
    },
    {
      "cell_type": "code",
      "source": [
        "from sklearn import linear_model \n",
        "regr = linear_model.LinearRegression()\n",
        "regr.fit(X, y) \n",
        "predictedCO2 = regr.predict([[2300, 1300]]) \n",
        "\n",
        "print(predictedCO2) "
      ],
      "metadata": {
        "colab": {
          "base_uri": "https://localhost:8080/"
        },
        "id": "Z7meqGsphR3F",
        "outputId": "673139bd-2811-4a00-f6d4-582840bd1bca"
      },
      "execution_count": 7,
      "outputs": [
        {
          "output_type": "stream",
          "name": "stdout",
          "text": [
            "[107.2087328]\n"
          ]
        },
        {
          "output_type": "stream",
          "name": "stderr",
          "text": [
            "/usr/local/lib/python3.7/dist-packages/sklearn/base.py:451: UserWarning: X does not have valid feature names, but LinearRegression was fitted with feature names\n",
            "  \"X does not have valid feature names, but\"\n"
          ]
        }
      ]
    }
  ]
}