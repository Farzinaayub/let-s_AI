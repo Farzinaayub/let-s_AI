{
 "cells": [
  {
   "cell_type": "markdown",
   "metadata": {},
   "source": [
    "For a simple linear regression model, the equation is given by y = b0 + b1*x. If the value of b0 is 4 and the value of b1 is 3, what is the predicted value of y for x=2?\n",
    "Consider a multiple linear regression model with three independent variables x1, x2, and x3. The coefficients for these variables are given by b1=2, b2=3, and b3=4, respectively. What is the equation of the regression model?"
   ]
  },
  {
   "cell_type": "markdown",
   "metadata": {},
   "source": [
    "10"
   ]
  },
  {
   "cell_type": "code",
   "execution_count": 753,
   "metadata": {},
   "outputs": [],
   "source": [
    "import numpy as np\n",
    "import pandas as pd\n",
    "import matplotlib.pyplot as plt\n",
    "import seaborn as sns\n",
    "from sklearn.linear_model import LinearRegression\n",
    "from sklearn.model_selection import train_test_split\n",
    "from sklearn.metrics import mean_squared_error,r2_score\n",
    "from scipy.stats import zscore\n",
    "from sklearn.preprocessing import StandardScaler"
   ]
  },
  {
   "cell_type": "code",
   "execution_count": 704,
   "metadata": {},
   "outputs": [
    {
     "data": {
      "text/html": [
       "<div>\n",
       "<style scoped>\n",
       "    .dataframe tbody tr th:only-of-type {\n",
       "        vertical-align: middle;\n",
       "    }\n",
       "\n",
       "    .dataframe tbody tr th {\n",
       "        vertical-align: top;\n",
       "    }\n",
       "\n",
       "    .dataframe thead th {\n",
       "        text-align: right;\n",
       "    }\n",
       "</style>\n",
       "<table border=\"1\" class=\"dataframe\">\n",
       "  <thead>\n",
       "    <tr style=\"text-align: right;\">\n",
       "      <th></th>\n",
       "      <th>0</th>\n",
       "      <th>1</th>\n",
       "      <th>2</th>\n",
       "      <th>3</th>\n",
       "      <th>4</th>\n",
       "    </tr>\n",
       "  </thead>\n",
       "  <tbody>\n",
       "    <tr>\n",
       "      <th>ID</th>\n",
       "      <td>1.0</td>\n",
       "      <td>2.0</td>\n",
       "      <td>3.0</td>\n",
       "      <td>4.0</td>\n",
       "      <td>5.0</td>\n",
       "    </tr>\n",
       "    <tr>\n",
       "      <th>symboling</th>\n",
       "      <td>3.0</td>\n",
       "      <td>3.0</td>\n",
       "      <td>1.0</td>\n",
       "      <td>2.0</td>\n",
       "      <td>2.0</td>\n",
       "    </tr>\n",
       "    <tr>\n",
       "      <th>name</th>\n",
       "      <td>alfa-romero giulia</td>\n",
       "      <td>alfa-romero stelvio</td>\n",
       "      <td>alfa-romero Quadrifoglio</td>\n",
       "      <td>audi 100 ls</td>\n",
       "      <td>audi 100ls</td>\n",
       "    </tr>\n",
       "    <tr>\n",
       "      <th>fueltypes</th>\n",
       "      <td>gas</td>\n",
       "      <td>gas</td>\n",
       "      <td>gas</td>\n",
       "      <td>gas</td>\n",
       "      <td>gas</td>\n",
       "    </tr>\n",
       "    <tr>\n",
       "      <th>aspiration</th>\n",
       "      <td>std</td>\n",
       "      <td>std</td>\n",
       "      <td>std</td>\n",
       "      <td>std</td>\n",
       "      <td>std</td>\n",
       "    </tr>\n",
       "    <tr>\n",
       "      <th>doornumbers</th>\n",
       "      <td>two</td>\n",
       "      <td>two</td>\n",
       "      <td>two</td>\n",
       "      <td>four</td>\n",
       "      <td>four</td>\n",
       "    </tr>\n",
       "    <tr>\n",
       "      <th>carbody</th>\n",
       "      <td>convertible</td>\n",
       "      <td>convertible</td>\n",
       "      <td>hatchback</td>\n",
       "      <td>sedan</td>\n",
       "      <td>sedan</td>\n",
       "    </tr>\n",
       "    <tr>\n",
       "      <th>drivewheels</th>\n",
       "      <td>rwd</td>\n",
       "      <td>rwd</td>\n",
       "      <td>rwd</td>\n",
       "      <td>fwd</td>\n",
       "      <td>4wd</td>\n",
       "    </tr>\n",
       "    <tr>\n",
       "      <th>enginelocation</th>\n",
       "      <td>front</td>\n",
       "      <td>front</td>\n",
       "      <td>front</td>\n",
       "      <td>front</td>\n",
       "      <td>front</td>\n",
       "    </tr>\n",
       "    <tr>\n",
       "      <th>wheelbase</th>\n",
       "      <td>88.6</td>\n",
       "      <td>88.6</td>\n",
       "      <td>94.5</td>\n",
       "      <td>99.8</td>\n",
       "      <td>99.4</td>\n",
       "    </tr>\n",
       "    <tr>\n",
       "      <th>carlength</th>\n",
       "      <td>168.8</td>\n",
       "      <td>168.8</td>\n",
       "      <td>171.2</td>\n",
       "      <td>176.6</td>\n",
       "      <td>176.6</td>\n",
       "    </tr>\n",
       "    <tr>\n",
       "      <th>carwidth</th>\n",
       "      <td>64.1</td>\n",
       "      <td>64.1</td>\n",
       "      <td>65.5</td>\n",
       "      <td>66.2</td>\n",
       "      <td>66.4</td>\n",
       "    </tr>\n",
       "    <tr>\n",
       "      <th>carheight</th>\n",
       "      <td>48.8</td>\n",
       "      <td>48.8</td>\n",
       "      <td>52.4</td>\n",
       "      <td>54.3</td>\n",
       "      <td>54.3</td>\n",
       "    </tr>\n",
       "    <tr>\n",
       "      <th>curbweight</th>\n",
       "      <td>2548</td>\n",
       "      <td>2548</td>\n",
       "      <td>2823</td>\n",
       "      <td>2337</td>\n",
       "      <td>2824</td>\n",
       "    </tr>\n",
       "    <tr>\n",
       "      <th>enginetype</th>\n",
       "      <td>dohc</td>\n",
       "      <td>dohc</td>\n",
       "      <td>ohcv</td>\n",
       "      <td>ohc</td>\n",
       "      <td>ohc</td>\n",
       "    </tr>\n",
       "    <tr>\n",
       "      <th>cylindernumber</th>\n",
       "      <td>four</td>\n",
       "      <td>four</td>\n",
       "      <td>six</td>\n",
       "      <td>four</td>\n",
       "      <td>five</td>\n",
       "    </tr>\n",
       "    <tr>\n",
       "      <th>enginesize</th>\n",
       "      <td>130</td>\n",
       "      <td>130</td>\n",
       "      <td>152</td>\n",
       "      <td>109</td>\n",
       "      <td>136</td>\n",
       "    </tr>\n",
       "    <tr>\n",
       "      <th>fuelsystem</th>\n",
       "      <td>mpfi</td>\n",
       "      <td>mpfi</td>\n",
       "      <td>mpfi</td>\n",
       "      <td>mpfi</td>\n",
       "      <td>mpfi</td>\n",
       "    </tr>\n",
       "    <tr>\n",
       "      <th>boreratio</th>\n",
       "      <td>3.47</td>\n",
       "      <td>3.47</td>\n",
       "      <td>2.68</td>\n",
       "      <td>3.19</td>\n",
       "      <td>3.19</td>\n",
       "    </tr>\n",
       "    <tr>\n",
       "      <th>stroke</th>\n",
       "      <td>2.68</td>\n",
       "      <td>2.68</td>\n",
       "      <td>3.47</td>\n",
       "      <td>3.4</td>\n",
       "      <td>3.4</td>\n",
       "    </tr>\n",
       "    <tr>\n",
       "      <th>compressionratio</th>\n",
       "      <td>9.0</td>\n",
       "      <td>9.0</td>\n",
       "      <td>9.0</td>\n",
       "      <td>10.0</td>\n",
       "      <td>8.0</td>\n",
       "    </tr>\n",
       "    <tr>\n",
       "      <th>horsepower</th>\n",
       "      <td>111.0</td>\n",
       "      <td>111.0</td>\n",
       "      <td>154.0</td>\n",
       "      <td>102.0</td>\n",
       "      <td>115.0</td>\n",
       "    </tr>\n",
       "    <tr>\n",
       "      <th>peakrpm</th>\n",
       "      <td>5000</td>\n",
       "      <td>5000</td>\n",
       "      <td>5000</td>\n",
       "      <td>5500</td>\n",
       "      <td>5500</td>\n",
       "    </tr>\n",
       "    <tr>\n",
       "      <th>citympg</th>\n",
       "      <td>21</td>\n",
       "      <td>21</td>\n",
       "      <td>19</td>\n",
       "      <td>24</td>\n",
       "      <td>18</td>\n",
       "    </tr>\n",
       "    <tr>\n",
       "      <th>highwaympg</th>\n",
       "      <td>27</td>\n",
       "      <td>27</td>\n",
       "      <td>26</td>\n",
       "      <td>30</td>\n",
       "      <td>22</td>\n",
       "    </tr>\n",
       "    <tr>\n",
       "      <th>price</th>\n",
       "      <td>13495.0</td>\n",
       "      <td>16500.0</td>\n",
       "      <td>16500.0</td>\n",
       "      <td>13950.0</td>\n",
       "      <td>17450.0</td>\n",
       "    </tr>\n",
       "    <tr>\n",
       "      <th>Unnamed: 26</th>\n",
       "      <td>NaN</td>\n",
       "      <td>NaN</td>\n",
       "      <td>NaN</td>\n",
       "      <td>NaN</td>\n",
       "      <td>NaN</td>\n",
       "    </tr>\n",
       "    <tr>\n",
       "      <th>Unnamed: 27</th>\n",
       "      <td>NaN</td>\n",
       "      <td>NaN</td>\n",
       "      <td>NaN</td>\n",
       "      <td>NaN</td>\n",
       "      <td>NaN</td>\n",
       "    </tr>\n",
       "  </tbody>\n",
       "</table>\n",
       "</div>"
      ],
      "text/plain": [
       "                                   0                    1  \\\n",
       "ID                               1.0                  2.0   \n",
       "symboling                        3.0                  3.0   \n",
       "name              alfa-romero giulia  alfa-romero stelvio   \n",
       "fueltypes                        gas                  gas   \n",
       "aspiration                       std                  std   \n",
       "doornumbers                      two                  two   \n",
       "carbody                  convertible          convertible   \n",
       "drivewheels                      rwd                  rwd   \n",
       "enginelocation                 front                front   \n",
       "wheelbase                       88.6                 88.6   \n",
       "carlength                      168.8                168.8   \n",
       "carwidth                        64.1                 64.1   \n",
       "carheight                       48.8                 48.8   \n",
       "curbweight                      2548                 2548   \n",
       "enginetype                      dohc                 dohc   \n",
       "cylindernumber                  four                 four   \n",
       "enginesize                       130                  130   \n",
       "fuelsystem                      mpfi                 mpfi   \n",
       "boreratio                       3.47                 3.47   \n",
       "stroke                          2.68                 2.68   \n",
       "compressionratio                 9.0                  9.0   \n",
       "horsepower                     111.0                111.0   \n",
       "peakrpm                         5000                 5000   \n",
       "citympg                           21                   21   \n",
       "highwaympg                        27                   27   \n",
       "price                        13495.0              16500.0   \n",
       "Unnamed: 26                      NaN                  NaN   \n",
       "Unnamed: 27                      NaN                  NaN   \n",
       "\n",
       "                                         2            3           4  \n",
       "ID                                     3.0          4.0         5.0  \n",
       "symboling                              1.0          2.0         2.0  \n",
       "name              alfa-romero Quadrifoglio  audi 100 ls  audi 100ls  \n",
       "fueltypes                              gas          gas         gas  \n",
       "aspiration                             std          std         std  \n",
       "doornumbers                            two         four        four  \n",
       "carbody                          hatchback        sedan       sedan  \n",
       "drivewheels                            rwd          fwd         4wd  \n",
       "enginelocation                       front        front       front  \n",
       "wheelbase                             94.5         99.8        99.4  \n",
       "carlength                            171.2        176.6       176.6  \n",
       "carwidth                              65.5         66.2        66.4  \n",
       "carheight                             52.4         54.3        54.3  \n",
       "curbweight                            2823         2337        2824  \n",
       "enginetype                            ohcv          ohc         ohc  \n",
       "cylindernumber                         six         four        five  \n",
       "enginesize                             152          109         136  \n",
       "fuelsystem                            mpfi         mpfi        mpfi  \n",
       "boreratio                             2.68         3.19        3.19  \n",
       "stroke                                3.47          3.4         3.4  \n",
       "compressionratio                       9.0         10.0         8.0  \n",
       "horsepower                           154.0        102.0       115.0  \n",
       "peakrpm                               5000         5500        5500  \n",
       "citympg                                 19           24          18  \n",
       "highwaympg                              26           30          22  \n",
       "price                              16500.0      13950.0     17450.0  \n",
       "Unnamed: 26                            NaN          NaN         NaN  \n",
       "Unnamed: 27                            NaN          NaN         NaN  "
      ]
     },
     "execution_count": 704,
     "metadata": {},
     "output_type": "execute_result"
    }
   ],
   "source": [
    "df = pd.read_csv('datasets\\scrap price.csv')\n",
    "df.head().T"
   ]
  },
  {
   "cell_type": "code",
   "execution_count": 705,
   "metadata": {},
   "outputs": [],
   "source": [
    "df=df.drop_duplicates()"
   ]
  },
  {
   "cell_type": "code",
   "execution_count": 706,
   "metadata": {},
   "outputs": [],
   "source": [
    "df.drop(['Unnamed: 26'],axis=1,inplace=True)\n",
    "df.drop(['Unnamed: 27'],axis=1,inplace=True)"
   ]
  },
  {
   "cell_type": "code",
   "execution_count": 707,
   "metadata": {},
   "outputs": [
    {
     "data": {
      "text/html": [
       "<div>\n",
       "<style scoped>\n",
       "    .dataframe tbody tr th:only-of-type {\n",
       "        vertical-align: middle;\n",
       "    }\n",
       "\n",
       "    .dataframe tbody tr th {\n",
       "        vertical-align: top;\n",
       "    }\n",
       "\n",
       "    .dataframe thead th {\n",
       "        text-align: right;\n",
       "    }\n",
       "</style>\n",
       "<table border=\"1\" class=\"dataframe\">\n",
       "  <thead>\n",
       "    <tr style=\"text-align: right;\">\n",
       "      <th></th>\n",
       "      <th>ID</th>\n",
       "      <th>symboling</th>\n",
       "      <th>name</th>\n",
       "      <th>fueltypes</th>\n",
       "      <th>aspiration</th>\n",
       "      <th>doornumbers</th>\n",
       "      <th>carbody</th>\n",
       "      <th>drivewheels</th>\n",
       "      <th>enginelocation</th>\n",
       "      <th>wheelbase</th>\n",
       "      <th>...</th>\n",
       "      <th>enginesize</th>\n",
       "      <th>fuelsystem</th>\n",
       "      <th>boreratio</th>\n",
       "      <th>stroke</th>\n",
       "      <th>compressionratio</th>\n",
       "      <th>horsepower</th>\n",
       "      <th>peakrpm</th>\n",
       "      <th>citympg</th>\n",
       "      <th>highwaympg</th>\n",
       "      <th>price</th>\n",
       "    </tr>\n",
       "  </thead>\n",
       "  <tbody>\n",
       "    <tr>\n",
       "      <th>191</th>\n",
       "      <td>NaN</td>\n",
       "      <td>NaN</td>\n",
       "      <td>NaN</td>\n",
       "      <td>NaN</td>\n",
       "      <td>NaN</td>\n",
       "      <td>NaN</td>\n",
       "      <td>NaN</td>\n",
       "      <td>NaN</td>\n",
       "      <td>NaN</td>\n",
       "      <td>NaN</td>\n",
       "      <td>...</td>\n",
       "      <td>NaN</td>\n",
       "      <td>NaN</td>\n",
       "      <td>NaN</td>\n",
       "      <td>NaN</td>\n",
       "      <td>NaN</td>\n",
       "      <td>NaN</td>\n",
       "      <td>NaN</td>\n",
       "      <td>NaN</td>\n",
       "      <td>NaN</td>\n",
       "      <td>NaN</td>\n",
       "    </tr>\n",
       "  </tbody>\n",
       "</table>\n",
       "<p>1 rows × 26 columns</p>\n",
       "</div>"
      ],
      "text/plain": [
       "     ID  symboling name fueltypes aspiration doornumbers carbody drivewheels  \\\n",
       "191 NaN        NaN  NaN       NaN        NaN         NaN     NaN         NaN   \n",
       "\n",
       "    enginelocation wheelbase  ...  enginesize fuelsystem  boreratio stroke  \\\n",
       "191            NaN       NaN  ...         NaN        NaN        NaN    NaN   \n",
       "\n",
       "    compressionratio horsepower peakrpm citympg  highwaympg price  \n",
       "191              NaN        NaN     NaN     NaN         NaN   NaN  \n",
       "\n",
       "[1 rows x 26 columns]"
      ]
     },
     "execution_count": 707,
     "metadata": {},
     "output_type": "execute_result"
    }
   ],
   "source": [
    "df[df.ID.isnull()]"
   ]
  },
  {
   "cell_type": "code",
   "execution_count": 708,
   "metadata": {},
   "outputs": [],
   "source": [
    "df=df.drop(191)"
   ]
  },
  {
   "cell_type": "code",
   "execution_count": 709,
   "metadata": {},
   "outputs": [
    {
     "data": {
      "text/plain": [
       "array(['88.6', '94.5', '99.8', '99.4', '105.8', '99.5', '101.2', '103.5',\n",
       "       '110', '88.4', '93.7', '103.3', '95.9', '86.6', '96.5', '94.3',\n",
       "       '96', '113', '102', '93.1', '95.3', '98.8', '104.9', '106.7',\n",
       "       '115.6', '96.6', '120.9', '112', '102.7', '93', '96.3', '#$%',\n",
       "       '95.1', '97.2', '100.4', '91.3', '99.2', '107.9', '114.2', '108',\n",
       "       '89.5', '#$', '98.4', '96.1', '99.1', '93.3', '97', '96.9', '95.7',\n",
       "       '\"69*/\"', '102.4', '102.9', '104.5', '97.3', '$%98', '104.3',\n",
       "       '109.1'], dtype=object)"
      ]
     },
     "execution_count": 709,
     "metadata": {},
     "output_type": "execute_result"
    }
   ],
   "source": [
    "df.wheelbase.unique()"
   ]
  },
  {
   "cell_type": "code",
   "execution_count": 710,
   "metadata": {},
   "outputs": [],
   "source": [
    "df['wheelbase']=df.wheelbase.str.replace(\"#\",\"\",regex=False)\n",
    "df['wheelbase']=df.wheelbase.str.replace(\"$\",\"\",regex=False)\n",
    "df['wheelbase']=df.wheelbase.str.replace(\"%\",\"\",regex=False)\n",
    "df['wheelbase']=df.wheelbase.str.replace(\"*\",\"\",regex=False)\n",
    "df['wheelbase']=df.wheelbase.str.replace('\"',\"\",regex=False)\n",
    "df['wheelbase']=df.wheelbase.str.replace('/',\"\",regex=False)\n",
    "df['wheelbase']=df.wheelbase.replace(\"\",np.nan,regex=False)"
   ]
  },
  {
   "cell_type": "code",
   "execution_count": 711,
   "metadata": {},
   "outputs": [],
   "source": [
    "noise=[]\n",
    "for i in df.wheelbase:\n",
    "    try:\n",
    "        float(i)\n",
    "    except:\n",
    "        noise.append(i)\n",
    "        print(df[df.wheelbase==i].T)"
   ]
  },
  {
   "cell_type": "code",
   "execution_count": 712,
   "metadata": {},
   "outputs": [
    {
     "data": {
      "text/plain": [
       "[]"
      ]
     },
     "execution_count": 712,
     "metadata": {},
     "output_type": "execute_result"
    }
   ],
   "source": [
    "noise"
   ]
  },
  {
   "cell_type": "code",
   "execution_count": 713,
   "metadata": {},
   "outputs": [
    {
     "data": {
      "text/plain": [
       "97.0"
      ]
     },
     "execution_count": 713,
     "metadata": {},
     "output_type": "execute_result"
    }
   ],
   "source": [
    "df.wheelbase.median()"
   ]
  },
  {
   "cell_type": "code",
   "execution_count": 714,
   "metadata": {},
   "outputs": [],
   "source": [
    "df.wheelbase.fillna(df.wheelbase.median(),inplace=True)"
   ]
  },
  {
   "cell_type": "code",
   "execution_count": 715,
   "metadata": {},
   "outputs": [
    {
     "name": "stdout",
     "output_type": "stream",
     "text": [
      "#$%\n"
     ]
    }
   ],
   "source": [
    "noise=[]\n",
    "for i in df.carwidth:\n",
    "    try:\n",
    "        float(i)\n",
    "    except:\n",
    "        noise.append(i)\n",
    "print(*noise)"
   ]
  },
  {
   "cell_type": "code",
   "execution_count": 716,
   "metadata": {},
   "outputs": [],
   "source": [
    "df.carwidth = pd.to_numeric(df['carwidth'],errors=\"coerce\")"
   ]
  },
  {
   "cell_type": "code",
   "execution_count": 717,
   "metadata": {},
   "outputs": [
    {
     "data": {
      "text/plain": [
       "0    63.8\n",
       "Name: carwidth, dtype: float64"
      ]
     },
     "execution_count": 717,
     "metadata": {},
     "output_type": "execute_result"
    }
   ],
   "source": [
    "df.carwidth.mode()"
   ]
  },
  {
   "cell_type": "code",
   "execution_count": 718,
   "metadata": {},
   "outputs": [],
   "source": [
    "df.carwidth.fillna(63.8,inplace=True)"
   ]
  },
  {
   "cell_type": "code",
   "execution_count": 719,
   "metadata": {},
   "outputs": [],
   "source": [
    "df.wheelbase = pd.to_numeric(df['wheelbase'],errors=\"coerce\")"
   ]
  },
  {
   "cell_type": "code",
   "execution_count": 720,
   "metadata": {},
   "outputs": [
    {
     "name": "stdout",
     "output_type": "stream",
     "text": [
      "(OP*/)\n"
     ]
    }
   ],
   "source": [
    "noise=[]\n",
    "for i in df.curbweight:\n",
    "    try:\n",
    "        float(i)\n",
    "    except:\n",
    "        noise.append(i)\n",
    "print(*noise)"
   ]
  },
  {
   "cell_type": "code",
   "execution_count": 721,
   "metadata": {},
   "outputs": [],
   "source": [
    "df.curbweight=pd.to_numeric(df['curbweight'],errors=\"coerce\")"
   ]
  },
  {
   "cell_type": "code",
   "execution_count": 722,
   "metadata": {},
   "outputs": [
    {
     "data": {
      "text/plain": [
       "0    2385.0\n",
       "Name: curbweight, dtype: float64"
      ]
     },
     "execution_count": 722,
     "metadata": {},
     "output_type": "execute_result"
    }
   ],
   "source": [
    "df.curbweight.mode()"
   ]
  },
  {
   "cell_type": "code",
   "execution_count": 723,
   "metadata": {},
   "outputs": [],
   "source": [
    "df.curbweight.fillna(2385.0,inplace=True)"
   ]
  },
  {
   "cell_type": "code",
   "execution_count": 724,
   "metadata": {},
   "outputs": [],
   "source": [
    "df.curbweight=df.curbweight.astype(int)"
   ]
  },
  {
   "cell_type": "code",
   "execution_count": 725,
   "metadata": {},
   "outputs": [
    {
     "data": {
      "text/plain": [
       "array(['130', '152', '109', '136', '131', '108', '164', '209', '61', '90',\n",
       "       '98', '122', '156', '92', '79', '110', '111', '119', '258', '326',\n",
       "       '91', '70', '80', 'po/*', '140', '134', '183', '234', '308', '304',\n",
       "       '97', '103', '120', '181', '$%98', '151', '194', '203', '132',\n",
       "       '121', '146', '171', '161', '141', '173', '145'], dtype=object)"
      ]
     },
     "execution_count": 725,
     "metadata": {},
     "output_type": "execute_result"
    }
   ],
   "source": [
    "df.enginesize.unique()"
   ]
  },
  {
   "cell_type": "code",
   "execution_count": 726,
   "metadata": {},
   "outputs": [
    {
     "name": "stdout",
     "output_type": "stream",
     "text": [
      "po/* $%98\n"
     ]
    }
   ],
   "source": [
    "noise=[]\n",
    "for i in df.enginesize:\n",
    "    try:\n",
    "        float(i)\n",
    "    except:\n",
    "        noise.append(i)\n",
    "print(*noise)"
   ]
  },
  {
   "cell_type": "code",
   "execution_count": 727,
   "metadata": {},
   "outputs": [
    {
     "data": {
      "text/plain": [
       "0    92\n",
       "Name: enginesize, dtype: object"
      ]
     },
     "execution_count": 727,
     "metadata": {},
     "output_type": "execute_result"
    }
   ],
   "source": [
    "df.enginesize.mode()"
   ]
  },
  {
   "cell_type": "code",
   "execution_count": 728,
   "metadata": {},
   "outputs": [],
   "source": [
    "df.carwidth = pd.to_numeric(df['carwidth'],errors=\"coerce\")"
   ]
  },
  {
   "cell_type": "code",
   "execution_count": 729,
   "metadata": {},
   "outputs": [],
   "source": [
    "df.enginesize=df.enginesize.replace(\"$%\",'',regex=False)\n",
    "df.enginesize=pd.to_numeric(df['enginesize'],errors=\"coerce\")\n",
    "df.enginesize.fillna(92.0,inplace=True)\n",
    "df.enginesize=df.enginesize.astype(int)"
   ]
  },
  {
   "cell_type": "code",
   "execution_count": 730,
   "metadata": {},
   "outputs": [
    {
     "data": {
      "text/plain": [
       "0    3.4\n",
       "Name: stroke, dtype: object"
      ]
     },
     "execution_count": 730,
     "metadata": {},
     "output_type": "execute_result"
    }
   ],
   "source": [
    "df.stroke.mode()"
   ]
  },
  {
   "cell_type": "code",
   "execution_count": 731,
   "metadata": {},
   "outputs": [
    {
     "name": "stdout",
     "output_type": "stream",
     "text": [
      "E#$\n"
     ]
    }
   ],
   "source": [
    "noise=[]\n",
    "for i in df.stroke:\n",
    "    try:\n",
    "        float(i)\n",
    "    except:\n",
    "        noise.append(i)\n",
    "print(*noise)"
   ]
  },
  {
   "cell_type": "code",
   "execution_count": 732,
   "metadata": {},
   "outputs": [],
   "source": [
    "df.stroke=pd.to_numeric(df['stroke'],errors=\"coerce\")\n",
    "df.stroke.fillna(3.4,inplace=True)"
   ]
  },
  {
   "cell_type": "code",
   "execution_count": 733,
   "metadata": {},
   "outputs": [
    {
     "data": {
      "text/plain": [
       "0    5500\n",
       "Name: peakrpm, dtype: object"
      ]
     },
     "execution_count": 733,
     "metadata": {},
     "output_type": "execute_result"
    }
   ],
   "source": [
    "df.peakrpm.mode()"
   ]
  },
  {
   "cell_type": "code",
   "execution_count": 734,
   "metadata": {},
   "outputs": [
    {
     "name": "stdout",
     "output_type": "stream",
     "text": [
      "(OP*/)\n"
     ]
    }
   ],
   "source": [
    "noise=[]\n",
    "for i in df.peakrpm:\n",
    "    try:\n",
    "        float(i)\n",
    "    except:\n",
    "        noise.append(i)\n",
    "print(*noise)"
   ]
  },
  {
   "cell_type": "code",
   "execution_count": 735,
   "metadata": {},
   "outputs": [],
   "source": [
    "df.peakrpm=pd.to_numeric(df['peakrpm'],errors=\"coerce\")\n",
    "df.peakrpm.fillna(5500,inplace=True)"
   ]
  },
  {
   "cell_type": "code",
   "execution_count": 736,
   "metadata": {},
   "outputs": [
    {
     "data": {
      "text/plain": [
       "array(['21', '19', '24', '18', '17', '16', '23', '20', '15', '47', '38',\n",
       "       '37', '31', '49', '30', '27', '25', '13', '26', '36', '22', '14',\n",
       "       'po/*', '45', '28', '32', '35', '34', '29', '#$', '33'],\n",
       "      dtype=object)"
      ]
     },
     "execution_count": 736,
     "metadata": {},
     "output_type": "execute_result"
    }
   ],
   "source": [
    "df.citympg.unique()"
   ]
  },
  {
   "cell_type": "code",
   "execution_count": 737,
   "metadata": {},
   "outputs": [
    {
     "name": "stdout",
     "output_type": "stream",
     "text": [
      "po/* #$\n"
     ]
    }
   ],
   "source": [
    "\n",
    "noise=[]\n",
    "for i in df.citympg:\n",
    "    try:\n",
    "        float(i)\n",
    "    except:\n",
    "        noise.append(i)\n",
    "print(*noise)"
   ]
  },
  {
   "cell_type": "code",
   "execution_count": 738,
   "metadata": {},
   "outputs": [],
   "source": [
    "df.citympg=pd.to_numeric(df['citympg'],errors=\"coerce\")\n",
    "df.citympg.fillna(method='ffill',inplace=True)"
   ]
  },
  {
   "cell_type": "code",
   "execution_count": 739,
   "metadata": {},
   "outputs": [
    {
     "data": {
      "text/plain": [
       "array(['27', '26', '30', '22', '25', '20', '29', '28', '53', '43', '41',\n",
       "       '38', '24', '54', '42', '34', '33', '31', '19', '17', '23', '32',\n",
       "       '39', '18', '16', '37', '50', '36', '$%98', '47', '46'],\n",
       "      dtype=object)"
      ]
     },
     "execution_count": 739,
     "metadata": {},
     "output_type": "execute_result"
    }
   ],
   "source": [
    "df.highwaympg.unique()"
   ]
  },
  {
   "cell_type": "code",
   "execution_count": 740,
   "metadata": {},
   "outputs": [
    {
     "name": "stdout",
     "output_type": "stream",
     "text": [
      "$%98\n"
     ]
    }
   ],
   "source": [
    "\n",
    "noise=[]\n",
    "for i in df.highwaympg:\n",
    "    try:\n",
    "        float(i)\n",
    "    except:\n",
    "        noise.append(i)\n",
    "print(*noise)"
   ]
  },
  {
   "cell_type": "code",
   "execution_count": 741,
   "metadata": {},
   "outputs": [],
   "source": [
    "df.highwaympg=df.highwaympg.replace(\"$%\",'',regex=False)\n",
    "df.highwaympg=pd.to_numeric(df['highwaympg'],errors=\"coerce\")\n",
    "df.highwaympg.fillna(method='ffill',inplace=True)"
   ]
  },
  {
   "cell_type": "code",
   "execution_count": 742,
   "metadata": {},
   "outputs": [
    {
     "data": {
      "text/plain": [
       "array(['alfa-romero giulia', 'alfa-romero stelvio',\n",
       "       'alfa-romero Quadrifoglio', 'audi 100 ls', 'audi 100ls',\n",
       "       'audi fox', 'audi 5000', 'audi 4000', 'audi 5000s (diesel)',\n",
       "       'bmw 320i', 'bmw x1', 'bmw x3', 'bmw z4', 'bmw x4', 'bmw x5',\n",
       "       'chevrolet impala', 'chevrolet monte carlo', 'chevrolet vega 2300',\n",
       "       'dodge rampage', 'dodge challenger se', 'dodge d200',\n",
       "       'dodge monaco (sw)', 'dodge colt hardtop', 'dodge colt (sw)',\n",
       "       'dodge coronet custom', 'dodge dart custom',\n",
       "       'dodge coronet custom (sw)', 'honda civic', 'honda civic cvcc',\n",
       "       'honda accord cvcc', 'honda accord lx', 'honda civic 1500 gl',\n",
       "       'honda accord', 'honda civic 1300', 'honda prelude',\n",
       "       'honda civic (auto)', 'isuzu MU-X', 'isuzu D-Max ',\n",
       "       'isuzu D-Max V-Cross', 'jaguar xj', 'jaguar xf', 'jaguar xk',\n",
       "       'maxda rx3', 'maxda glc deluxe', 'mazda rx2 coupe', 'mazda rx-4',\n",
       "       'mazda glc deluxe', 'mazda 626', 'mazda glc', 'mazda rx-7 gs',\n",
       "       'mazda glc 4', 'mazda glc custom l', 'mazda glc custom',\n",
       "       'buick electra 225 custom', 'buick century luxus (sw)',\n",
       "       'buick century', 'buick skyhawk', 'buick opel isuzu deluxe',\n",
       "       'buick skylark', 'buick century special',\n",
       "       'buick regal sport coupe (turbo)', 'mercury cougar',\n",
       "       'mitsubishi mirage', 'mitsubishi lancer', 'mitsubishi outlander',\n",
       "       'mitsubishi g4', 'mitsubishi mirage g4', 'mitsubishi montero',\n",
       "       'mitsubishi pajero', 'Nissan versa', 'nissan gt-r', 'nissan rogue',\n",
       "       'nissan latio', 'nissan titan', 'nissan leaf', 'nissan juke',\n",
       "       'nissan note', 'nissan clipper', 'nissan nv200', 'nissan dayz',\n",
       "       'nissan fuga', 'nissan otti', 'nissan teana', 'nissan kicks',\n",
       "       'peugeot 504', 'peugeot 304', 'peugeot 504 (sw)', 'peugeot 604sl',\n",
       "       'peugeot 505s turbo diesel', 'plymouth fury iii',\n",
       "       'plymouth cricket', 'plymouth satellite custom (sw)',\n",
       "       'plymouth fury gran sedan', 'plymouth valiant', 'plymouth duster',\n",
       "       'porsche macan', 'porcshce panamera', 'porsche cayenne',\n",
       "       'porsche boxter', 'renault 12tl', 'renault 5 gtl', 'saab 99e',\n",
       "       'saab 99le', 'saab 99gle', 'subaru', 'subaru dl', 'subaru brz',\n",
       "       'subaru baja', 'subaru r1', 'subaru r2', 'subaru trezia',\n",
       "       'subaru tribeca', 'toyota corona mark ii', 'toyota corona',\n",
       "       'toyota corolla 1200', 'toyota corona hardtop',\n",
       "       'toyota corolla 1600 (sw)', 'toyota carina', 'toyota mark ii',\n",
       "       'toyota corolla', 'toyota corolla liftback',\n",
       "       'toyota celica gt liftback', 'toyota corolla tercel',\n",
       "       'toyota corona liftback', 'toyota starlet', 'toyota tercel',\n",
       "       'toyota cressida', 'toyota celica gt', 'toyouta tercel',\n",
       "       'vokswagen rabbit', 'volkswagen 1131 deluxe sedan',\n",
       "       'volkswagen model 111', 'volkswagen type 3', 'volkswagen 411 (sw)',\n",
       "       'volkswagen super beetle', 'volkswagen dasher', 'vw dasher',\n",
       "       'vw rabbit', 'volkswagen rabbit', 'volkswagen rabbit custom',\n",
       "       'volvo 145e (sw)', 'volvo 144ea', 'volvo 244dl', 'volvo 245',\n",
       "       'volvo 264gl', 'volvo diesel', 'volvo 246'], dtype=object)"
      ]
     },
     "execution_count": 742,
     "metadata": {},
     "output_type": "execute_result"
    }
   ],
   "source": [
    "df.name.unique()"
   ]
  },
  {
   "cell_type": "code",
   "execution_count": 743,
   "metadata": {},
   "outputs": [],
   "source": [
    "df['Company_Name'] = df['name'].str.split(' ', n=1).str[0]"
   ]
  },
  {
   "cell_type": "code",
   "execution_count": 744,
   "metadata": {},
   "outputs": [
    {
     "data": {
      "text/plain": [
       "array(['alfa-romero', 'audi', 'bmw', 'chevrolet', 'dodge', 'honda',\n",
       "       'isuzu', 'jaguar', 'maxda', 'mazda', 'buick', 'mercury',\n",
       "       'mitsubishi', 'Nissan', 'nissan', 'peugeot', 'plymouth', 'porsche',\n",
       "       'porcshce', 'renault', 'saab', 'subaru', 'toyota', 'toyouta',\n",
       "       'vokswagen', 'volkswagen', 'vw', 'volvo'], dtype=object)"
      ]
     },
     "execution_count": 744,
     "metadata": {},
     "output_type": "execute_result"
    }
   ],
   "source": [
    "df.Company_Name.unique()"
   ]
  },
  {
   "cell_type": "code",
   "execution_count": 745,
   "metadata": {},
   "outputs": [
    {
     "data": {
      "text/html": [
       "<div>\n",
       "<style scoped>\n",
       "    .dataframe tbody tr th:only-of-type {\n",
       "        vertical-align: middle;\n",
       "    }\n",
       "\n",
       "    .dataframe tbody tr th {\n",
       "        vertical-align: top;\n",
       "    }\n",
       "\n",
       "    .dataframe thead th {\n",
       "        text-align: right;\n",
       "    }\n",
       "</style>\n",
       "<table border=\"1\" class=\"dataframe\">\n",
       "  <thead>\n",
       "    <tr style=\"text-align: right;\">\n",
       "      <th></th>\n",
       "      <th>count</th>\n",
       "      <th>null</th>\n",
       "      <th>dtype</th>\n",
       "      <th>unique</th>\n",
       "      <th>%unique</th>\n",
       "      <th>count</th>\n",
       "      <th>mean</th>\n",
       "      <th>std</th>\n",
       "      <th>min</th>\n",
       "      <th>25%</th>\n",
       "      <th>50%</th>\n",
       "      <th>75%</th>\n",
       "      <th>max</th>\n",
       "    </tr>\n",
       "  </thead>\n",
       "  <tbody>\n",
       "    <tr>\n",
       "      <th>ID</th>\n",
       "      <td>205</td>\n",
       "      <td>0</td>\n",
       "      <td>float64</td>\n",
       "      <td>205</td>\n",
       "      <td>1.000000</td>\n",
       "      <td>205.0</td>\n",
       "      <td>103.000000</td>\n",
       "      <td>59.322565</td>\n",
       "      <td>1.00</td>\n",
       "      <td>52.00</td>\n",
       "      <td>103.00</td>\n",
       "      <td>154.00</td>\n",
       "      <td>205.00</td>\n",
       "    </tr>\n",
       "    <tr>\n",
       "      <th>symboling</th>\n",
       "      <td>205</td>\n",
       "      <td>0</td>\n",
       "      <td>float64</td>\n",
       "      <td>6</td>\n",
       "      <td>0.029268</td>\n",
       "      <td>205.0</td>\n",
       "      <td>0.834146</td>\n",
       "      <td>1.245307</td>\n",
       "      <td>-2.00</td>\n",
       "      <td>0.00</td>\n",
       "      <td>1.00</td>\n",
       "      <td>2.00</td>\n",
       "      <td>3.00</td>\n",
       "    </tr>\n",
       "    <tr>\n",
       "      <th>name</th>\n",
       "      <td>205</td>\n",
       "      <td>0</td>\n",
       "      <td>object</td>\n",
       "      <td>147</td>\n",
       "      <td>0.717073</td>\n",
       "      <td>NaN</td>\n",
       "      <td>NaN</td>\n",
       "      <td>NaN</td>\n",
       "      <td>NaN</td>\n",
       "      <td>NaN</td>\n",
       "      <td>NaN</td>\n",
       "      <td>NaN</td>\n",
       "      <td>NaN</td>\n",
       "    </tr>\n",
       "    <tr>\n",
       "      <th>fueltypes</th>\n",
       "      <td>205</td>\n",
       "      <td>0</td>\n",
       "      <td>object</td>\n",
       "      <td>2</td>\n",
       "      <td>0.009756</td>\n",
       "      <td>NaN</td>\n",
       "      <td>NaN</td>\n",
       "      <td>NaN</td>\n",
       "      <td>NaN</td>\n",
       "      <td>NaN</td>\n",
       "      <td>NaN</td>\n",
       "      <td>NaN</td>\n",
       "      <td>NaN</td>\n",
       "    </tr>\n",
       "    <tr>\n",
       "      <th>aspiration</th>\n",
       "      <td>205</td>\n",
       "      <td>0</td>\n",
       "      <td>object</td>\n",
       "      <td>2</td>\n",
       "      <td>0.009756</td>\n",
       "      <td>NaN</td>\n",
       "      <td>NaN</td>\n",
       "      <td>NaN</td>\n",
       "      <td>NaN</td>\n",
       "      <td>NaN</td>\n",
       "      <td>NaN</td>\n",
       "      <td>NaN</td>\n",
       "      <td>NaN</td>\n",
       "    </tr>\n",
       "    <tr>\n",
       "      <th>doornumbers</th>\n",
       "      <td>205</td>\n",
       "      <td>0</td>\n",
       "      <td>object</td>\n",
       "      <td>2</td>\n",
       "      <td>0.009756</td>\n",
       "      <td>NaN</td>\n",
       "      <td>NaN</td>\n",
       "      <td>NaN</td>\n",
       "      <td>NaN</td>\n",
       "      <td>NaN</td>\n",
       "      <td>NaN</td>\n",
       "      <td>NaN</td>\n",
       "      <td>NaN</td>\n",
       "    </tr>\n",
       "    <tr>\n",
       "      <th>carbody</th>\n",
       "      <td>205</td>\n",
       "      <td>0</td>\n",
       "      <td>object</td>\n",
       "      <td>5</td>\n",
       "      <td>0.024390</td>\n",
       "      <td>NaN</td>\n",
       "      <td>NaN</td>\n",
       "      <td>NaN</td>\n",
       "      <td>NaN</td>\n",
       "      <td>NaN</td>\n",
       "      <td>NaN</td>\n",
       "      <td>NaN</td>\n",
       "      <td>NaN</td>\n",
       "    </tr>\n",
       "    <tr>\n",
       "      <th>drivewheels</th>\n",
       "      <td>205</td>\n",
       "      <td>0</td>\n",
       "      <td>object</td>\n",
       "      <td>3</td>\n",
       "      <td>0.014634</td>\n",
       "      <td>NaN</td>\n",
       "      <td>NaN</td>\n",
       "      <td>NaN</td>\n",
       "      <td>NaN</td>\n",
       "      <td>NaN</td>\n",
       "      <td>NaN</td>\n",
       "      <td>NaN</td>\n",
       "      <td>NaN</td>\n",
       "    </tr>\n",
       "    <tr>\n",
       "      <th>enginelocation</th>\n",
       "      <td>205</td>\n",
       "      <td>0</td>\n",
       "      <td>object</td>\n",
       "      <td>2</td>\n",
       "      <td>0.009756</td>\n",
       "      <td>NaN</td>\n",
       "      <td>NaN</td>\n",
       "      <td>NaN</td>\n",
       "      <td>NaN</td>\n",
       "      <td>NaN</td>\n",
       "      <td>NaN</td>\n",
       "      <td>NaN</td>\n",
       "      <td>NaN</td>\n",
       "    </tr>\n",
       "    <tr>\n",
       "      <th>wheelbase</th>\n",
       "      <td>205</td>\n",
       "      <td>0</td>\n",
       "      <td>float64</td>\n",
       "      <td>55</td>\n",
       "      <td>0.268293</td>\n",
       "      <td>205.0</td>\n",
       "      <td>98.678537</td>\n",
       "      <td>6.329624</td>\n",
       "      <td>69.00</td>\n",
       "      <td>94.50</td>\n",
       "      <td>97.00</td>\n",
       "      <td>102.40</td>\n",
       "      <td>120.90</td>\n",
       "    </tr>\n",
       "    <tr>\n",
       "      <th>carlength</th>\n",
       "      <td>205</td>\n",
       "      <td>0</td>\n",
       "      <td>float64</td>\n",
       "      <td>75</td>\n",
       "      <td>0.365854</td>\n",
       "      <td>205.0</td>\n",
       "      <td>174.049268</td>\n",
       "      <td>12.337289</td>\n",
       "      <td>141.10</td>\n",
       "      <td>166.30</td>\n",
       "      <td>173.20</td>\n",
       "      <td>183.10</td>\n",
       "      <td>208.10</td>\n",
       "    </tr>\n",
       "    <tr>\n",
       "      <th>carwidth</th>\n",
       "      <td>205</td>\n",
       "      <td>0</td>\n",
       "      <td>float64</td>\n",
       "      <td>44</td>\n",
       "      <td>0.214634</td>\n",
       "      <td>205.0</td>\n",
       "      <td>65.885366</td>\n",
       "      <td>2.143065</td>\n",
       "      <td>60.30</td>\n",
       "      <td>64.00</td>\n",
       "      <td>65.50</td>\n",
       "      <td>66.60</td>\n",
       "      <td>72.30</td>\n",
       "    </tr>\n",
       "    <tr>\n",
       "      <th>carheight</th>\n",
       "      <td>205</td>\n",
       "      <td>0</td>\n",
       "      <td>float64</td>\n",
       "      <td>49</td>\n",
       "      <td>0.239024</td>\n",
       "      <td>205.0</td>\n",
       "      <td>53.724878</td>\n",
       "      <td>2.443522</td>\n",
       "      <td>47.80</td>\n",
       "      <td>52.00</td>\n",
       "      <td>54.10</td>\n",
       "      <td>55.50</td>\n",
       "      <td>59.80</td>\n",
       "    </tr>\n",
       "    <tr>\n",
       "      <th>curbweight</th>\n",
       "      <td>205</td>\n",
       "      <td>0</td>\n",
       "      <td>int32</td>\n",
       "      <td>171</td>\n",
       "      <td>0.834146</td>\n",
       "      <td>205.0</td>\n",
       "      <td>2556.102439</td>\n",
       "      <td>520.446277</td>\n",
       "      <td>1488.00</td>\n",
       "      <td>2145.00</td>\n",
       "      <td>2414.00</td>\n",
       "      <td>2935.00</td>\n",
       "      <td>4066.00</td>\n",
       "    </tr>\n",
       "    <tr>\n",
       "      <th>enginetype</th>\n",
       "      <td>205</td>\n",
       "      <td>0</td>\n",
       "      <td>object</td>\n",
       "      <td>7</td>\n",
       "      <td>0.034146</td>\n",
       "      <td>NaN</td>\n",
       "      <td>NaN</td>\n",
       "      <td>NaN</td>\n",
       "      <td>NaN</td>\n",
       "      <td>NaN</td>\n",
       "      <td>NaN</td>\n",
       "      <td>NaN</td>\n",
       "      <td>NaN</td>\n",
       "    </tr>\n",
       "    <tr>\n",
       "      <th>cylindernumber</th>\n",
       "      <td>205</td>\n",
       "      <td>0</td>\n",
       "      <td>object</td>\n",
       "      <td>7</td>\n",
       "      <td>0.034146</td>\n",
       "      <td>NaN</td>\n",
       "      <td>NaN</td>\n",
       "      <td>NaN</td>\n",
       "      <td>NaN</td>\n",
       "      <td>NaN</td>\n",
       "      <td>NaN</td>\n",
       "      <td>NaN</td>\n",
       "      <td>NaN</td>\n",
       "    </tr>\n",
       "    <tr>\n",
       "      <th>enginesize</th>\n",
       "      <td>205</td>\n",
       "      <td>0</td>\n",
       "      <td>int32</td>\n",
       "      <td>44</td>\n",
       "      <td>0.214634</td>\n",
       "      <td>205.0</td>\n",
       "      <td>126.624390</td>\n",
       "      <td>41.780711</td>\n",
       "      <td>61.00</td>\n",
       "      <td>97.00</td>\n",
       "      <td>111.00</td>\n",
       "      <td>141.00</td>\n",
       "      <td>326.00</td>\n",
       "    </tr>\n",
       "    <tr>\n",
       "      <th>fuelsystem</th>\n",
       "      <td>205</td>\n",
       "      <td>0</td>\n",
       "      <td>object</td>\n",
       "      <td>8</td>\n",
       "      <td>0.039024</td>\n",
       "      <td>NaN</td>\n",
       "      <td>NaN</td>\n",
       "      <td>NaN</td>\n",
       "      <td>NaN</td>\n",
       "      <td>NaN</td>\n",
       "      <td>NaN</td>\n",
       "      <td>NaN</td>\n",
       "      <td>NaN</td>\n",
       "    </tr>\n",
       "    <tr>\n",
       "      <th>boreratio</th>\n",
       "      <td>205</td>\n",
       "      <td>0</td>\n",
       "      <td>float64</td>\n",
       "      <td>38</td>\n",
       "      <td>0.185366</td>\n",
       "      <td>205.0</td>\n",
       "      <td>3.329756</td>\n",
       "      <td>0.270844</td>\n",
       "      <td>2.54</td>\n",
       "      <td>3.15</td>\n",
       "      <td>3.31</td>\n",
       "      <td>3.58</td>\n",
       "      <td>3.94</td>\n",
       "    </tr>\n",
       "    <tr>\n",
       "      <th>stroke</th>\n",
       "      <td>205</td>\n",
       "      <td>0</td>\n",
       "      <td>float64</td>\n",
       "      <td>37</td>\n",
       "      <td>0.180488</td>\n",
       "      <td>205.0</td>\n",
       "      <td>3.254537</td>\n",
       "      <td>0.312935</td>\n",
       "      <td>2.07</td>\n",
       "      <td>3.11</td>\n",
       "      <td>3.29</td>\n",
       "      <td>3.41</td>\n",
       "      <td>4.17</td>\n",
       "    </tr>\n",
       "    <tr>\n",
       "      <th>compressionratio</th>\n",
       "      <td>205</td>\n",
       "      <td>0</td>\n",
       "      <td>float64</td>\n",
       "      <td>32</td>\n",
       "      <td>0.156098</td>\n",
       "      <td>205.0</td>\n",
       "      <td>10.142537</td>\n",
       "      <td>3.972040</td>\n",
       "      <td>7.00</td>\n",
       "      <td>8.60</td>\n",
       "      <td>9.00</td>\n",
       "      <td>9.40</td>\n",
       "      <td>23.00</td>\n",
       "    </tr>\n",
       "    <tr>\n",
       "      <th>horsepower</th>\n",
       "      <td>205</td>\n",
       "      <td>0</td>\n",
       "      <td>float64</td>\n",
       "      <td>59</td>\n",
       "      <td>0.287805</td>\n",
       "      <td>205.0</td>\n",
       "      <td>104.117073</td>\n",
       "      <td>39.544167</td>\n",
       "      <td>48.00</td>\n",
       "      <td>70.00</td>\n",
       "      <td>95.00</td>\n",
       "      <td>116.00</td>\n",
       "      <td>288.00</td>\n",
       "    </tr>\n",
       "    <tr>\n",
       "      <th>peakrpm</th>\n",
       "      <td>205</td>\n",
       "      <td>0</td>\n",
       "      <td>float64</td>\n",
       "      <td>23</td>\n",
       "      <td>0.112195</td>\n",
       "      <td>205.0</td>\n",
       "      <td>5128.536585</td>\n",
       "      <td>477.152301</td>\n",
       "      <td>4150.00</td>\n",
       "      <td>4800.00</td>\n",
       "      <td>5200.00</td>\n",
       "      <td>5500.00</td>\n",
       "      <td>6600.00</td>\n",
       "    </tr>\n",
       "    <tr>\n",
       "      <th>citympg</th>\n",
       "      <td>205</td>\n",
       "      <td>0</td>\n",
       "      <td>float64</td>\n",
       "      <td>29</td>\n",
       "      <td>0.141463</td>\n",
       "      <td>205.0</td>\n",
       "      <td>25.180488</td>\n",
       "      <td>6.531343</td>\n",
       "      <td>13.00</td>\n",
       "      <td>19.00</td>\n",
       "      <td>24.00</td>\n",
       "      <td>30.00</td>\n",
       "      <td>49.00</td>\n",
       "    </tr>\n",
       "    <tr>\n",
       "      <th>highwaympg</th>\n",
       "      <td>205</td>\n",
       "      <td>0</td>\n",
       "      <td>float64</td>\n",
       "      <td>30</td>\n",
       "      <td>0.146341</td>\n",
       "      <td>205.0</td>\n",
       "      <td>30.721951</td>\n",
       "      <td>6.872491</td>\n",
       "      <td>16.00</td>\n",
       "      <td>25.00</td>\n",
       "      <td>30.00</td>\n",
       "      <td>34.00</td>\n",
       "      <td>54.00</td>\n",
       "    </tr>\n",
       "    <tr>\n",
       "      <th>price</th>\n",
       "      <td>205</td>\n",
       "      <td>0</td>\n",
       "      <td>float64</td>\n",
       "      <td>189</td>\n",
       "      <td>0.921951</td>\n",
       "      <td>205.0</td>\n",
       "      <td>13276.710571</td>\n",
       "      <td>7988.852332</td>\n",
       "      <td>5118.00</td>\n",
       "      <td>7788.00</td>\n",
       "      <td>10295.00</td>\n",
       "      <td>16503.00</td>\n",
       "      <td>45400.00</td>\n",
       "    </tr>\n",
       "    <tr>\n",
       "      <th>Company_Name</th>\n",
       "      <td>205</td>\n",
       "      <td>0</td>\n",
       "      <td>object</td>\n",
       "      <td>28</td>\n",
       "      <td>0.136585</td>\n",
       "      <td>NaN</td>\n",
       "      <td>NaN</td>\n",
       "      <td>NaN</td>\n",
       "      <td>NaN</td>\n",
       "      <td>NaN</td>\n",
       "      <td>NaN</td>\n",
       "      <td>NaN</td>\n",
       "      <td>NaN</td>\n",
       "    </tr>\n",
       "  </tbody>\n",
       "</table>\n",
       "</div>"
      ],
      "text/plain": [
       "                  count  null    dtype  unique   %unique  count          mean  \\\n",
       "ID                  205     0  float64     205  1.000000  205.0    103.000000   \n",
       "symboling           205     0  float64       6  0.029268  205.0      0.834146   \n",
       "name                205     0   object     147  0.717073    NaN           NaN   \n",
       "fueltypes           205     0   object       2  0.009756    NaN           NaN   \n",
       "aspiration          205     0   object       2  0.009756    NaN           NaN   \n",
       "doornumbers         205     0   object       2  0.009756    NaN           NaN   \n",
       "carbody             205     0   object       5  0.024390    NaN           NaN   \n",
       "drivewheels         205     0   object       3  0.014634    NaN           NaN   \n",
       "enginelocation      205     0   object       2  0.009756    NaN           NaN   \n",
       "wheelbase           205     0  float64      55  0.268293  205.0     98.678537   \n",
       "carlength           205     0  float64      75  0.365854  205.0    174.049268   \n",
       "carwidth            205     0  float64      44  0.214634  205.0     65.885366   \n",
       "carheight           205     0  float64      49  0.239024  205.0     53.724878   \n",
       "curbweight          205     0    int32     171  0.834146  205.0   2556.102439   \n",
       "enginetype          205     0   object       7  0.034146    NaN           NaN   \n",
       "cylindernumber      205     0   object       7  0.034146    NaN           NaN   \n",
       "enginesize          205     0    int32      44  0.214634  205.0    126.624390   \n",
       "fuelsystem          205     0   object       8  0.039024    NaN           NaN   \n",
       "boreratio           205     0  float64      38  0.185366  205.0      3.329756   \n",
       "stroke              205     0  float64      37  0.180488  205.0      3.254537   \n",
       "compressionratio    205     0  float64      32  0.156098  205.0     10.142537   \n",
       "horsepower          205     0  float64      59  0.287805  205.0    104.117073   \n",
       "peakrpm             205     0  float64      23  0.112195  205.0   5128.536585   \n",
       "citympg             205     0  float64      29  0.141463  205.0     25.180488   \n",
       "highwaympg          205     0  float64      30  0.146341  205.0     30.721951   \n",
       "price               205     0  float64     189  0.921951  205.0  13276.710571   \n",
       "Company_Name        205     0   object      28  0.136585    NaN           NaN   \n",
       "\n",
       "                          std      min      25%       50%       75%       max  \n",
       "ID                  59.322565     1.00    52.00    103.00    154.00    205.00  \n",
       "symboling            1.245307    -2.00     0.00      1.00      2.00      3.00  \n",
       "name                      NaN      NaN      NaN       NaN       NaN       NaN  \n",
       "fueltypes                 NaN      NaN      NaN       NaN       NaN       NaN  \n",
       "aspiration                NaN      NaN      NaN       NaN       NaN       NaN  \n",
       "doornumbers               NaN      NaN      NaN       NaN       NaN       NaN  \n",
       "carbody                   NaN      NaN      NaN       NaN       NaN       NaN  \n",
       "drivewheels               NaN      NaN      NaN       NaN       NaN       NaN  \n",
       "enginelocation            NaN      NaN      NaN       NaN       NaN       NaN  \n",
       "wheelbase            6.329624    69.00    94.50     97.00    102.40    120.90  \n",
       "carlength           12.337289   141.10   166.30    173.20    183.10    208.10  \n",
       "carwidth             2.143065    60.30    64.00     65.50     66.60     72.30  \n",
       "carheight            2.443522    47.80    52.00     54.10     55.50     59.80  \n",
       "curbweight         520.446277  1488.00  2145.00   2414.00   2935.00   4066.00  \n",
       "enginetype                NaN      NaN      NaN       NaN       NaN       NaN  \n",
       "cylindernumber            NaN      NaN      NaN       NaN       NaN       NaN  \n",
       "enginesize          41.780711    61.00    97.00    111.00    141.00    326.00  \n",
       "fuelsystem                NaN      NaN      NaN       NaN       NaN       NaN  \n",
       "boreratio            0.270844     2.54     3.15      3.31      3.58      3.94  \n",
       "stroke               0.312935     2.07     3.11      3.29      3.41      4.17  \n",
       "compressionratio     3.972040     7.00     8.60      9.00      9.40     23.00  \n",
       "horsepower          39.544167    48.00    70.00     95.00    116.00    288.00  \n",
       "peakrpm            477.152301  4150.00  4800.00   5200.00   5500.00   6600.00  \n",
       "citympg              6.531343    13.00    19.00     24.00     30.00     49.00  \n",
       "highwaympg           6.872491    16.00    25.00     30.00     34.00     54.00  \n",
       "price             7988.852332  5118.00  7788.00  10295.00  16503.00  45400.00  \n",
       "Company_Name              NaN      NaN      NaN       NaN       NaN       NaN  "
      ]
     },
     "execution_count": 745,
     "metadata": {},
     "output_type": "execute_result"
    }
   ],
   "source": [
    "desc=pd.DataFrame(index=list(df))\n",
    "desc['count']=df.shape[0]\n",
    "desc['null']=df.isnull().sum()\n",
    "desc['dtype']=df.dtypes\n",
    "desc['unique']= df.nunique()\n",
    "desc['%unique'] = desc['unique']/len(df)\n",
    "desc=pd.concat([desc,df.describe().T],axis=1)\n",
    "desc"
   ]
  },
  {
   "cell_type": "code",
   "execution_count": 746,
   "metadata": {},
   "outputs": [
    {
     "name": "stderr",
     "output_type": "stream",
     "text": [
      "C:\\Users\\farzi\\AppData\\Local\\Temp\\ipykernel_18152\\1779996486.py:1: FutureWarning: The default value of numeric_only in DataFrame.corr is deprecated. In a future version, it will default to False. Select only valid columns or specify the value of numeric_only to silence this warning.\n",
      "  cormat=df.corr()\n"
     ]
    }
   ],
   "source": [
    "cormat=df.corr()"
   ]
  },
  {
   "cell_type": "code",
   "execution_count": 747,
   "metadata": {},
   "outputs": [
    {
     "data": {
      "image/png": "[encoded data removed]",
      "text/plain": [
       "<Figure size 1500x1500 with 2 Axes>"
      ]
     },
     "metadata": {},
     "output_type": "display_data"
    }
   ],
   "source": [
    "plt.figure(figsize=(15,15))\n",
    "sns.heatmap(cormat)\n",
    "plt.show()"
   ]
  },
  {
   "cell_type": "code",
   "execution_count": 748,
   "metadata": {},
   "outputs": [
    {
     "data": {
      "text/plain": [
       "<matplotlib.collections.PathCollection at 0x2741b647c10>"
      ]
     },
     "execution_count": 748,
     "metadata": {},
     "output_type": "execute_result"
    },
    {
     "data": {
      "image/png": "[encoded data removed]",
      "text/plain": [
       "<Figure size 640x480 with 1 Axes>"
      ]
     },
     "metadata": {},
     "output_type": "display_data"
    }
   ],
   "source": [
    "plt.scatter(x=df['enginesize'],y=df['price'])"
   ]
  },
  {
   "cell_type": "code",
   "execution_count": 749,
   "metadata": {},
   "outputs": [],
   "source": [
    "df=df[['wheelbase','carwidth','carlength','curbweight','enginesize','boreratio','stroke','compressionratio','peakrpm','horsepower','citympg','highwaympg','price']]\n",
    "# Calculate z-scores for each column\n",
    "z_scores = np.abs(zscore(df))\n",
    "\n",
    "# Set a z-score threshold for outlier detection\n",
    "z_score_threshold = 2.0\n",
    "\n",
    "# Identify outliers\n",
    "outliers = (z_scores > z_score_threshold).any(axis=1)\n",
    "\n",
    "# Remove rows with outliers\n",
    "df_no_outliers = df[~outliers]"
   ]
  },
  {
   "cell_type": "code",
   "execution_count": 751,
   "metadata": {},
   "outputs": [
    {
     "data": {
      "text/html": [
       "<div>\n",
       "<style scoped>\n",
       "    .dataframe tbody tr th:only-of-type {\n",
       "        vertical-align: middle;\n",
       "    }\n",
       "\n",
       "    .dataframe tbody tr th {\n",
       "        vertical-align: top;\n",
       "    }\n",
       "\n",
       "    .dataframe thead th {\n",
       "        text-align: right;\n",
       "    }\n",
       "</style>\n",
       "<table border=\"1\" class=\"dataframe\">\n",
       "  <thead>\n",
       "    <tr style=\"text-align: right;\">\n",
       "      <th></th>\n",
       "      <th>wheelbase</th>\n",
       "      <th>carwidth</th>\n",
       "      <th>carlength</th>\n",
       "      <th>curbweight</th>\n",
       "      <th>enginesize</th>\n",
       "      <th>boreratio</th>\n",
       "      <th>stroke</th>\n",
       "      <th>compressionratio</th>\n",
       "      <th>peakrpm</th>\n",
       "      <th>horsepower</th>\n",
       "      <th>citympg</th>\n",
       "      <th>highwaympg</th>\n",
       "      <th>price</th>\n",
       "    </tr>\n",
       "  </thead>\n",
       "  <tbody>\n",
       "    <tr>\n",
       "      <th>0</th>\n",
       "      <td>88.6</td>\n",
       "      <td>64.1</td>\n",
       "      <td>168.8</td>\n",
       "      <td>2548</td>\n",
       "      <td>130</td>\n",
       "      <td>3.47</td>\n",
       "      <td>2.68</td>\n",
       "      <td>9.0</td>\n",
       "      <td>5000.0</td>\n",
       "      <td>111.0</td>\n",
       "      <td>21.0</td>\n",
       "      <td>27.0</td>\n",
       "      <td>13495.0</td>\n",
       "    </tr>\n",
       "    <tr>\n",
       "      <th>1</th>\n",
       "      <td>88.6</td>\n",
       "      <td>64.1</td>\n",
       "      <td>168.8</td>\n",
       "      <td>2548</td>\n",
       "      <td>130</td>\n",
       "      <td>3.47</td>\n",
       "      <td>2.68</td>\n",
       "      <td>9.0</td>\n",
       "      <td>5000.0</td>\n",
       "      <td>111.0</td>\n",
       "      <td>21.0</td>\n",
       "      <td>27.0</td>\n",
       "      <td>16500.0</td>\n",
       "    </tr>\n",
       "    <tr>\n",
       "      <th>3</th>\n",
       "      <td>99.8</td>\n",
       "      <td>66.2</td>\n",
       "      <td>176.6</td>\n",
       "      <td>2337</td>\n",
       "      <td>109</td>\n",
       "      <td>3.19</td>\n",
       "      <td>3.40</td>\n",
       "      <td>10.0</td>\n",
       "      <td>5500.0</td>\n",
       "      <td>102.0</td>\n",
       "      <td>24.0</td>\n",
       "      <td>30.0</td>\n",
       "      <td>13950.0</td>\n",
       "    </tr>\n",
       "    <tr>\n",
       "      <th>4</th>\n",
       "      <td>99.4</td>\n",
       "      <td>66.4</td>\n",
       "      <td>176.6</td>\n",
       "      <td>2824</td>\n",
       "      <td>136</td>\n",
       "      <td>3.19</td>\n",
       "      <td>3.40</td>\n",
       "      <td>8.0</td>\n",
       "      <td>5500.0</td>\n",
       "      <td>115.0</td>\n",
       "      <td>18.0</td>\n",
       "      <td>22.0</td>\n",
       "      <td>17450.0</td>\n",
       "    </tr>\n",
       "    <tr>\n",
       "      <th>5</th>\n",
       "      <td>99.8</td>\n",
       "      <td>66.3</td>\n",
       "      <td>177.3</td>\n",
       "      <td>2507</td>\n",
       "      <td>136</td>\n",
       "      <td>3.19</td>\n",
       "      <td>3.40</td>\n",
       "      <td>8.5</td>\n",
       "      <td>5500.0</td>\n",
       "      <td>110.0</td>\n",
       "      <td>19.0</td>\n",
       "      <td>25.0</td>\n",
       "      <td>15250.0</td>\n",
       "    </tr>\n",
       "    <tr>\n",
       "      <th>...</th>\n",
       "      <td>...</td>\n",
       "      <td>...</td>\n",
       "      <td>...</td>\n",
       "      <td>...</td>\n",
       "      <td>...</td>\n",
       "      <td>...</td>\n",
       "      <td>...</td>\n",
       "      <td>...</td>\n",
       "      <td>...</td>\n",
       "      <td>...</td>\n",
       "      <td>...</td>\n",
       "      <td>...</td>\n",
       "      <td>...</td>\n",
       "    </tr>\n",
       "    <tr>\n",
       "      <th>203</th>\n",
       "      <td>104.3</td>\n",
       "      <td>67.2</td>\n",
       "      <td>188.8</td>\n",
       "      <td>3157</td>\n",
       "      <td>130</td>\n",
       "      <td>3.62</td>\n",
       "      <td>3.15</td>\n",
       "      <td>7.5</td>\n",
       "      <td>5100.0</td>\n",
       "      <td>162.0</td>\n",
       "      <td>17.0</td>\n",
       "      <td>22.0</td>\n",
       "      <td>18950.0</td>\n",
       "    </tr>\n",
       "    <tr>\n",
       "      <th>204</th>\n",
       "      <td>109.1</td>\n",
       "      <td>68.9</td>\n",
       "      <td>188.8</td>\n",
       "      <td>2952</td>\n",
       "      <td>141</td>\n",
       "      <td>3.78</td>\n",
       "      <td>3.15</td>\n",
       "      <td>9.5</td>\n",
       "      <td>5400.0</td>\n",
       "      <td>114.0</td>\n",
       "      <td>23.0</td>\n",
       "      <td>28.0</td>\n",
       "      <td>16845.0</td>\n",
       "    </tr>\n",
       "    <tr>\n",
       "      <th>205</th>\n",
       "      <td>109.1</td>\n",
       "      <td>68.8</td>\n",
       "      <td>188.8</td>\n",
       "      <td>3049</td>\n",
       "      <td>141</td>\n",
       "      <td>3.78</td>\n",
       "      <td>3.15</td>\n",
       "      <td>8.7</td>\n",
       "      <td>5300.0</td>\n",
       "      <td>160.0</td>\n",
       "      <td>19.0</td>\n",
       "      <td>25.0</td>\n",
       "      <td>19045.0</td>\n",
       "    </tr>\n",
       "    <tr>\n",
       "      <th>206</th>\n",
       "      <td>109.1</td>\n",
       "      <td>68.9</td>\n",
       "      <td>188.8</td>\n",
       "      <td>3012</td>\n",
       "      <td>173</td>\n",
       "      <td>3.58</td>\n",
       "      <td>2.87</td>\n",
       "      <td>8.8</td>\n",
       "      <td>5500.0</td>\n",
       "      <td>134.0</td>\n",
       "      <td>18.0</td>\n",
       "      <td>23.0</td>\n",
       "      <td>21485.0</td>\n",
       "    </tr>\n",
       "    <tr>\n",
       "      <th>208</th>\n",
       "      <td>109.1</td>\n",
       "      <td>68.9</td>\n",
       "      <td>188.8</td>\n",
       "      <td>3062</td>\n",
       "      <td>141</td>\n",
       "      <td>3.78</td>\n",
       "      <td>3.15</td>\n",
       "      <td>9.5</td>\n",
       "      <td>5400.0</td>\n",
       "      <td>114.0</td>\n",
       "      <td>19.0</td>\n",
       "      <td>25.0</td>\n",
       "      <td>22625.0</td>\n",
       "    </tr>\n",
       "  </tbody>\n",
       "</table>\n",
       "<p>150 rows × 13 columns</p>\n",
       "</div>"
      ],
      "text/plain": [
       "     wheelbase  carwidth  carlength  curbweight  enginesize  boreratio  \\\n",
       "0         88.6      64.1      168.8        2548         130       3.47   \n",
       "1         88.6      64.1      168.8        2548         130       3.47   \n",
       "3         99.8      66.2      176.6        2337         109       3.19   \n",
       "4         99.4      66.4      176.6        2824         136       3.19   \n",
       "5         99.8      66.3      177.3        2507         136       3.19   \n",
       "..         ...       ...        ...         ...         ...        ...   \n",
       "203      104.3      67.2      188.8        3157         130       3.62   \n",
       "204      109.1      68.9      188.8        2952         141       3.78   \n",
       "205      109.1      68.8      188.8        3049         141       3.78   \n",
       "206      109.1      68.9      188.8        3012         173       3.58   \n",
       "208      109.1      68.9      188.8        3062         141       3.78   \n",
       "\n",
       "     stroke  compressionratio  peakrpm  horsepower  citympg  highwaympg  \\\n",
       "0      2.68               9.0   5000.0       111.0     21.0        27.0   \n",
       "1      2.68               9.0   5000.0       111.0     21.0        27.0   \n",
       "3      3.40              10.0   5500.0       102.0     24.0        30.0   \n",
       "4      3.40               8.0   5500.0       115.0     18.0        22.0   \n",
       "5      3.40               8.5   5500.0       110.0     19.0        25.0   \n",
       "..      ...               ...      ...         ...      ...         ...   \n",
       "203    3.15               7.5   5100.0       162.0     17.0        22.0   \n",
       "204    3.15               9.5   5400.0       114.0     23.0        28.0   \n",
       "205    3.15               8.7   5300.0       160.0     19.0        25.0   \n",
       "206    2.87               8.8   5500.0       134.0     18.0        23.0   \n",
       "208    3.15               9.5   5400.0       114.0     19.0        25.0   \n",
       "\n",
       "       price  \n",
       "0    13495.0  \n",
       "1    16500.0  \n",
       "3    13950.0  \n",
       "4    17450.0  \n",
       "5    15250.0  \n",
       "..       ...  \n",
       "203  18950.0  \n",
       "204  16845.0  \n",
       "205  19045.0  \n",
       "206  21485.0  \n",
       "208  22625.0  \n",
       "\n",
       "[150 rows x 13 columns]"
      ]
     },
     "execution_count": 751,
     "metadata": {},
     "output_type": "execute_result"
    }
   ],
   "source": [
    "df_no_outliers"
   ]
  },
  {
   "cell_type": "code",
   "execution_count": 754,
   "metadata": {},
   "outputs": [],
   "source": [
    "scaler = StandardScaler()\n",
    "scaled_data = scaler.fit_transform(df_no_outliers)"
   ]
  },
  {
   "cell_type": "code",
   "execution_count": 758,
   "metadata": {},
   "outputs": [],
   "source": [
    "df2=pd.DataFrame(scaled_data)"
   ]
  },
  {
   "cell_type": "code",
   "execution_count": 759,
   "metadata": {},
   "outputs": [],
   "source": [
    "x=df2.iloc[:,:-1]\n",
    "y=df2.iloc[:,-1]"
   ]
  },
  {
   "cell_type": "code",
   "execution_count": 760,
   "metadata": {},
   "outputs": [],
   "source": [
    "x_train,x_test,y_train,y_test=train_test_split(x,y,test_size=0.3,random_state=42)"
   ]
  },
  {
   "cell_type": "code",
   "execution_count": 761,
   "metadata": {},
   "outputs": [
    {
     "data": {
      "text/html": [
       "<style>#sk-container-id-1 {color: black;}#sk-container-id-1 pre{padding: 0;}#sk-container-id-1 div.sk-toggleable {background-color: white;}#sk-container-id-1 label.sk-toggleable__label {cursor: pointer;display: block;width: 100%;margin-bottom: 0;padding: 0.3em;box-sizing: border-box;text-align: center;}#sk-container-id-1 label.sk-toggleable__label-arrow:before {content: \"▸\";float: left;margin-right: 0.25em;color: #696969;}#sk-container-id-1 label.sk-toggleable__label-arrow:hover:before {color: black;}#sk-container-id-1 div.sk-estimator:hover label.sk-toggleable__label-arrow:before {color: black;}#sk-container-id-1 div.sk-toggleable__content {max-height: 0;max-width: 0;overflow: hidden;text-align: left;background-color: #f0f8ff;}#sk-container-id-1 div.sk-toggleable__content pre {margin: 0.2em;color: black;border-radius: 0.25em;background-color: #f0f8ff;}#sk-container-id-1 input.sk-toggleable__control:checked~div.sk-toggleable__content {max-height: 200px;max-width: 100%;overflow: auto;}#sk-container-id-1 input.sk-toggleable__control:checked~label.sk-toggleable__label-arrow:before {content: \"▾\";}#sk-container-id-1 div.sk-estimator input.sk-toggleable__control:checked~label.sk-toggleable__label {background-color: #d4ebff;}#sk-container-id-1 div.sk-label input.sk-toggleable__control:checked~label.sk-toggleable__label {background-color: #d4ebff;}#sk-container-id-1 input.sk-hidden--visually {border: 0;clip: rect(1px 1px 1px 1px);clip: rect(1px, 1px, 1px, 1px);height: 1px;margin: -1px;overflow: hidden;padding: 0;position: absolute;width: 1px;}#sk-container-id-1 div.sk-estimator {font-family: monospace;background-color: #f0f8ff;border: 1px dotted black;border-radius: 0.25em;box-sizing: border-box;margin-bottom: 0.5em;}#sk-container-id-1 div.sk-estimator:hover {background-color: #d4ebff;}#sk-container-id-1 div.sk-parallel-item::after {content: \"\";width: 100%;border-bottom: 1px solid gray;flex-grow: 1;}#sk-container-id-1 div.sk-label:hover label.sk-toggleable__label {background-color: #d4ebff;}#sk-container-id-1 div.sk-serial::before {content: \"\";position: absolute;border-left: 1px solid gray;box-sizing: border-box;top: 0;bottom: 0;left: 50%;z-index: 0;}#sk-container-id-1 div.sk-serial {display: flex;flex-direction: column;align-items: center;background-color: white;padding-right: 0.2em;padding-left: 0.2em;position: relative;}#sk-container-id-1 div.sk-item {position: relative;z-index: 1;}#sk-container-id-1 div.sk-parallel {display: flex;align-items: stretch;justify-content: center;background-color: white;position: relative;}#sk-container-id-1 div.sk-item::before, #sk-container-id-1 div.sk-parallel-item::before {content: \"\";position: absolute;border-left: 1px solid gray;box-sizing: border-box;top: 0;bottom: 0;left: 50%;z-index: -1;}#sk-container-id-1 div.sk-parallel-item {display: flex;flex-direction: column;z-index: 1;position: relative;background-color: white;}#sk-container-id-1 div.sk-parallel-item:first-child::after {align-self: flex-end;width: 50%;}#sk-container-id-1 div.sk-parallel-item:last-child::after {align-self: flex-start;width: 50%;}#sk-container-id-1 div.sk-parallel-item:only-child::after {width: 0;}#sk-container-id-1 div.sk-dashed-wrapped {border: 1px dashed gray;margin: 0 0.4em 0.5em 0.4em;box-sizing: border-box;padding-bottom: 0.4em;background-color: white;}#sk-container-id-1 div.sk-label label {font-family: monospace;font-weight: bold;display: inline-block;line-height: 1.2em;}#sk-container-id-1 div.sk-label-container {text-align: center;}#sk-container-id-1 div.sk-container {/* jupyter's `normalize.less` sets `[hidden] { display: none; }` but bootstrap.min.css set `[hidden] { display: none !important; }` so we also need the `!important` here to be able to override the default hidden behavior on the sphinx rendered scikit-learn.org. See: https://github.com/scikit-learn/scikit-learn/issues/21755 */display: inline-block !important;position: relative;}#sk-container-id-1 div.sk-text-repr-fallback {display: none;}</style><div id=\"sk-container-id-1\" class=\"sk-top-container\"><div class=\"sk-text-repr-fallback\"><pre>LinearRegression()</pre><b>In a Jupyter environment, please rerun this cell to show the HTML representation or trust the notebook. <br />On GitHub, the HTML representation is unable to render, please try loading this page with nbviewer.org.</b></div><div class=\"sk-container\" hidden><div class=\"sk-item\"><div class=\"sk-estimator sk-toggleable\"><input class=\"sk-toggleable__control sk-hidden--visually\" id=\"sk-estimator-id-1\" type=\"checkbox\" checked><label for=\"sk-estimator-id-1\" class=\"sk-toggleable__label sk-toggleable__label-arrow\">LinearRegression</label><div class=\"sk-toggleable__content\"><pre>LinearRegression()</pre></div></div></div></div></div>"
      ],
      "text/plain": [
       "LinearRegression()"
      ]
     },
     "execution_count": 761,
     "metadata": {},
     "output_type": "execute_result"
    }
   ],
   "source": [
    "model=LinearRegression()\n",
    "model.fit(x_train,y_train)"
   ]
  },
  {
   "cell_type": "code",
   "execution_count": 762,
   "metadata": {},
   "outputs": [],
   "source": [
    "y_pred = model.predict(x_test)"
   ]
  },
  {
   "cell_type": "code",
   "execution_count": 763,
   "metadata": {},
   "outputs": [],
   "source": [
    "mse = mean_squared_error(y_test,y_pred)\n",
    "rmse=np.sqrt(mse)\n",
    "r2=r2_score(y_test,y_pred)\n",
    "adjusted_r_squared = 1 - (1-r2)*(len(y)-1)/(len(y)-x.shape[1]-1)"
   ]
  },
  {
   "cell_type": "code",
   "execution_count": 764,
   "metadata": {},
   "outputs": [],
   "source": [
    "training_accuracy=model.score(x_train,y_train)\n",
    "test_accuracy=model.score(x_test,y_test)"
   ]
  },
  {
   "cell_type": "code",
   "execution_count": 769,
   "metadata": {},
   "outputs": [
    {
     "name": "stdout",
     "output_type": "stream",
     "text": [
      "Training Accuracy:  0.8273537253327952 \n",
      "Test Accuracy:  0.6723764351665398 \n",
      " 0.36424749917303206 \n",
      " 0.6035292032478893 \n",
      " 0.6723764351665398 \n",
      " 0.6436794805825871\n"
     ]
    }
   ],
   "source": [
    "print(\"Training Accuracy: \",training_accuracy,\"\\nTest Accuracy: \",test_accuracy,\"\\n\",mse,\"\\n\",rmse,\"\\n\",r2,\"\\n\",adjusted_r_squared)"
   ]
  },
  {
   "cell_type": "markdown",
   "metadata": {},
   "source": [
    "\"The training accuracy is 0.827 and test accuracy is 0.67237. The model is overfitting.\""
   ]
  },
  {
   "cell_type": "code",
   "execution_count": null,
   "metadata": {},
   "outputs": [],
   "source": []
  }
 ],
 "metadata": {
  "kernelspec": {
   "display_name": "Python 3",
   "language": "python",
   "name": "python3"
  },
  "language_info": {
   "codemirror_mode": {
    "name": "ipython",
    "version": 3
   },
   "file_extension": ".py",
   "mimetype": "text/x-python",
   "name": "python",
   "nbconvert_exporter": "python",
   "pygments_lexer": "ipython3",
   "version": "3.9.13"
  },
  "orig_nbformat": 4
 },
 "nbformat": 4,
 "nbformat_minor": 2
}
