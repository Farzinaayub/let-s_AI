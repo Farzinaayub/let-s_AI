{
 "cells": [
  {
   "cell_type": "code",
   "execution_count": 55,
   "metadata": {},
   "outputs": [],
   "source": [
    "import numpy as np\n",
    "import pandas as pd\n",
    "import seaborn as sns\n",
    "from sklearn.linear_model import LogisticRegression\n",
    "from sklearn.preprocessing import StandardScaler,LabelEncoder,OneHotEncoder\n",
    "from sklearn.metrics import confusion_matrix,recall_score,precision_score,f1_score"
   ]
  },
  {
   "cell_type": "code",
   "execution_count": 56,
   "metadata": {},
   "outputs": [],
   "source": [
    "train_df = pd.read_csv('datasets\\\\train_220348_ass_9.csv')\n",
    "test_df = pd.read_csv('datasets\\\\test_with_label_791460_ass_9.csv')"
   ]
  },
  {
   "cell_type": "code",
   "execution_count": 57,
   "metadata": {},
   "outputs": [
    {
     "data": {
      "text/html": [
       "<div>\n",
       "<style scoped>\n",
       "    .dataframe tbody tr th:only-of-type {\n",
       "        vertical-align: middle;\n",
       "    }\n",
       "\n",
       "    .dataframe tbody tr th {\n",
       "        vertical-align: top;\n",
       "    }\n",
       "\n",
       "    .dataframe thead th {\n",
       "        text-align: right;\n",
       "    }\n",
       "</style>\n",
       "<table border=\"1\" class=\"dataframe\">\n",
       "  <thead>\n",
       "    <tr style=\"text-align: right;\">\n",
       "      <th></th>\n",
       "      <th>Name</th>\n",
       "      <th>Test Date</th>\n",
       "      <th>Symptoms_1</th>\n",
       "      <th>Symptoms_2</th>\n",
       "      <th>Symptoms_3</th>\n",
       "      <th>Country Name</th>\n",
       "      <th>Fever since</th>\n",
       "      <th>Headche</th>\n",
       "      <th>Covid_yes_no</th>\n",
       "    </tr>\n",
       "  </thead>\n",
       "  <tbody>\n",
       "    <tr>\n",
       "      <th>0</th>\n",
       "      <td>shivani</td>\n",
       "      <td>24/3/2020</td>\n",
       "      <td>Cough</td>\n",
       "      <td>Headache</td>\n",
       "      <td>Fever</td>\n",
       "      <td>Iran</td>\n",
       "      <td>4</td>\n",
       "      <td>2</td>\n",
       "      <td>0</td>\n",
       "    </tr>\n",
       "    <tr>\n",
       "      <th>1</th>\n",
       "      <td>isha</td>\n",
       "      <td>25/3/2020</td>\n",
       "      <td>Cough</td>\n",
       "      <td>Headache</td>\n",
       "      <td>Fever</td>\n",
       "      <td>Mauritius</td>\n",
       "      <td>7</td>\n",
       "      <td>4</td>\n",
       "      <td>1</td>\n",
       "    </tr>\n",
       "    <tr>\n",
       "      <th>2</th>\n",
       "      <td>smt shyani devi</td>\n",
       "      <td>26/3/2020</td>\n",
       "      <td>Cough</td>\n",
       "      <td>Headache</td>\n",
       "      <td>Fever</td>\n",
       "      <td>Mozambique</td>\n",
       "      <td>6</td>\n",
       "      <td>4</td>\n",
       "      <td>1</td>\n",
       "    </tr>\n",
       "    <tr>\n",
       "      <th>3</th>\n",
       "      <td>divya</td>\n",
       "      <td>27/3/2020</td>\n",
       "      <td>Cough</td>\n",
       "      <td>Headache</td>\n",
       "      <td>Fever</td>\n",
       "      <td>Cameroon</td>\n",
       "      <td>5</td>\n",
       "      <td>2</td>\n",
       "      <td>0</td>\n",
       "    </tr>\n",
       "    <tr>\n",
       "      <th>4</th>\n",
       "      <td>mansi</td>\n",
       "      <td>28/3/2020</td>\n",
       "      <td>Cough</td>\n",
       "      <td>Headache</td>\n",
       "      <td>Fever</td>\n",
       "      <td>South Sudan</td>\n",
       "      <td>6</td>\n",
       "      <td>3</td>\n",
       "      <td>1</td>\n",
       "    </tr>\n",
       "  </tbody>\n",
       "</table>\n",
       "</div>"
      ],
      "text/plain": [
       "             Name   Test Date Symptoms_1 Symptoms_2 Symptoms_3 Country Name  \\\n",
       "0          shivani  24/3/2020      Cough   Headache      Fever         Iran   \n",
       "1             isha  25/3/2020      Cough   Headache      Fever    Mauritius   \n",
       "2  smt shyani devi  26/3/2020      Cough   Headache      Fever   Mozambique   \n",
       "3            divya  27/3/2020      Cough   Headache      Fever     Cameroon   \n",
       "4            mansi  28/3/2020      Cough   Headache      Fever  South Sudan   \n",
       "\n",
       "   Fever since   Headche   Covid_yes_no  \n",
       "0             4         2             0  \n",
       "1             7         4             1  \n",
       "2             6         4             1  \n",
       "3             5         2             0  \n",
       "4             6         3             1  "
      ]
     },
     "execution_count": 57,
     "metadata": {},
     "output_type": "execute_result"
    }
   ],
   "source": [
    "train_df.head()"
   ]
  },
  {
   "cell_type": "code",
   "execution_count": 58,
   "metadata": {},
   "outputs": [
    {
     "data": {
      "text/html": [
       "<div>\n",
       "<style scoped>\n",
       "    .dataframe tbody tr th:only-of-type {\n",
       "        vertical-align: middle;\n",
       "    }\n",
       "\n",
       "    .dataframe tbody tr th {\n",
       "        vertical-align: top;\n",
       "    }\n",
       "\n",
       "    .dataframe thead th {\n",
       "        text-align: right;\n",
       "    }\n",
       "</style>\n",
       "<table border=\"1\" class=\"dataframe\">\n",
       "  <thead>\n",
       "    <tr style=\"text-align: right;\">\n",
       "      <th></th>\n",
       "      <th>Name</th>\n",
       "      <th>Test Date</th>\n",
       "      <th>Symptoms_1</th>\n",
       "      <th>Symptoms_2</th>\n",
       "      <th>Symptoms_3</th>\n",
       "      <th>Country Name</th>\n",
       "      <th>Fever since</th>\n",
       "      <th>Headche</th>\n",
       "      <th>Covid_yes_no</th>\n",
       "    </tr>\n",
       "  </thead>\n",
       "  <tbody>\n",
       "    <tr>\n",
       "      <th>71</th>\n",
       "      <td>sandhya</td>\n",
       "      <td>8/6/2020</td>\n",
       "      <td>Headache</td>\n",
       "      <td>NaN</td>\n",
       "      <td>Cough</td>\n",
       "      <td>Norfolk Island</td>\n",
       "      <td>8</td>\n",
       "      <td>3</td>\n",
       "      <td>1</td>\n",
       "    </tr>\n",
       "    <tr>\n",
       "      <th>92</th>\n",
       "      <td>jyoti</td>\n",
       "      <td>2/7/2020</td>\n",
       "      <td>Headache</td>\n",
       "      <td>NaN</td>\n",
       "      <td>Cough</td>\n",
       "      <td>South Sudan</td>\n",
       "      <td>5</td>\n",
       "      <td>3</td>\n",
       "      <td>0</td>\n",
       "    </tr>\n",
       "  </tbody>\n",
       "</table>\n",
       "</div>"
      ],
      "text/plain": [
       "      Name  Test Date Symptoms_1 Symptoms_2 Symptoms_3    Country Name  \\\n",
       "71  sandhya  8/6/2020   Headache        NaN      Cough  Norfolk Island   \n",
       "92    jyoti  2/7/2020   Headache        NaN      Cough     South Sudan   \n",
       "\n",
       "    Fever since   Headche   Covid_yes_no  \n",
       "71             8         3             1  \n",
       "92             5         3             0  "
      ]
     },
     "execution_count": 58,
     "metadata": {},
     "output_type": "execute_result"
    }
   ],
   "source": [
    "train_df[train_df.Symptoms_2.isnull()]"
   ]
  },
  {
   "cell_type": "code",
   "execution_count": 59,
   "metadata": {},
   "outputs": [
    {
     "data": {
      "text/plain": [
       "0    Fever\n",
       "Name: Symptoms_2, dtype: object"
      ]
     },
     "execution_count": 59,
     "metadata": {},
     "output_type": "execute_result"
    }
   ],
   "source": [
    "train_df[(train_df['Symptoms_1']=='Headache')&(train_df['Symptoms_3']=='Cough')&(train_df['Covid_yes_no']==1)]['Symptoms_2'].mode()"
   ]
  },
  {
   "cell_type": "code",
   "execution_count": 60,
   "metadata": {},
   "outputs": [
    {
     "data": {
      "text/plain": [
       "0    Fever\n",
       "Name: Symptoms_2, dtype: object"
      ]
     },
     "execution_count": 60,
     "metadata": {},
     "output_type": "execute_result"
    }
   ],
   "source": [
    "train_df[(train_df['Symptoms_1']=='Headache')&(train_df['Symptoms_3']=='Cough')&(train_df['Covid_yes_no']==0)]['Symptoms_2'].mode()"
   ]
  },
  {
   "cell_type": "code",
   "execution_count": 61,
   "metadata": {},
   "outputs": [],
   "source": [
    "train_df.Symptoms_2.fillna('Fever',inplace=True)"
   ]
  },
  {
   "cell_type": "code",
   "execution_count": 62,
   "metadata": {},
   "outputs": [
    {
     "data": {
      "text/html": [
       "<div>\n",
       "<style scoped>\n",
       "    .dataframe tbody tr th:only-of-type {\n",
       "        vertical-align: middle;\n",
       "    }\n",
       "\n",
       "    .dataframe tbody tr th {\n",
       "        vertical-align: top;\n",
       "    }\n",
       "\n",
       "    .dataframe thead th {\n",
       "        text-align: right;\n",
       "    }\n",
       "</style>\n",
       "<table border=\"1\" class=\"dataframe\">\n",
       "  <thead>\n",
       "    <tr style=\"text-align: right;\">\n",
       "      <th></th>\n",
       "      <th>Name</th>\n",
       "      <th>Test Date</th>\n",
       "      <th>Symptoms_1</th>\n",
       "      <th>Symptoms_2</th>\n",
       "      <th>Symptoms_3</th>\n",
       "      <th>Country Name</th>\n",
       "      <th>Fever since</th>\n",
       "      <th>Headche</th>\n",
       "      <th>Covid_yes_no</th>\n",
       "    </tr>\n",
       "  </thead>\n",
       "  <tbody>\n",
       "    <tr>\n",
       "      <th>69</th>\n",
       "      <td>priti</td>\n",
       "      <td>6/6/2020</td>\n",
       "      <td>NaN</td>\n",
       "      <td>Fever</td>\n",
       "      <td>Cough</td>\n",
       "      <td>Laos</td>\n",
       "      <td>7</td>\n",
       "      <td>5</td>\n",
       "      <td>1</td>\n",
       "    </tr>\n",
       "    <tr>\n",
       "      <th>149</th>\n",
       "      <td>santosh singal</td>\n",
       "      <td>5/9/2020</td>\n",
       "      <td>NaN</td>\n",
       "      <td>Fever</td>\n",
       "      <td>Cough</td>\n",
       "      <td>Japan</td>\n",
       "      <td>8</td>\n",
       "      <td>2</td>\n",
       "      <td>1</td>\n",
       "    </tr>\n",
       "  </tbody>\n",
       "</table>\n",
       "</div>"
      ],
      "text/plain": [
       "              Name  Test Date Symptoms_1 Symptoms_2 Symptoms_3 Country Name  \\\n",
       "69            priti  6/6/2020        NaN      Fever      Cough         Laos   \n",
       "149  santosh singal  5/9/2020        NaN      Fever      Cough        Japan   \n",
       "\n",
       "     Fever since   Headche   Covid_yes_no  \n",
       "69              7         5             1  \n",
       "149             8         2             1  "
      ]
     },
     "execution_count": 62,
     "metadata": {},
     "output_type": "execute_result"
    }
   ],
   "source": [
    "train_df[train_df.Symptoms_1.isnull()]"
   ]
  },
  {
   "cell_type": "code",
   "execution_count": 63,
   "metadata": {},
   "outputs": [
    {
     "data": {
      "text/plain": [
       "0    Headache\n",
       "Name: Symptoms_1, dtype: object"
      ]
     },
     "execution_count": 63,
     "metadata": {},
     "output_type": "execute_result"
    }
   ],
   "source": [
    "train_df[(train_df['Symptoms_2']=='Fever')&(train_df['Symptoms_3']=='Cough')&(train_df['Covid_yes_no']==1)]['Symptoms_1'].mode()"
   ]
  },
  {
   "cell_type": "code",
   "execution_count": 64,
   "metadata": {},
   "outputs": [],
   "source": [
    "train_df.Symptoms_1.fillna('Headache',inplace=True)"
   ]
  },
  {
   "cell_type": "code",
   "execution_count": 65,
   "metadata": {},
   "outputs": [
    {
     "data": {
      "text/plain": [
       "Index(['Name ', 'Test Date', 'Symptoms_1', 'Symptoms_2', 'Symptoms_3',\n",
       "       'Country Name', 'Fever since ', 'Headche ', 'Covid_yes_no'],\n",
       "      dtype='object')"
      ]
     },
     "execution_count": 65,
     "metadata": {},
     "output_type": "execute_result"
    }
   ],
   "source": [
    "train_df.columns"
   ]
  },
  {
   "cell_type": "code",
   "execution_count": 66,
   "metadata": {},
   "outputs": [],
   "source": [
    "train_df['duration'] = train_df['Fever since ']+train_df['Headche ']\n",
    "test_df['duration'] = test_df['Fever since ']+test_df['Headche ']"
   ]
  },
  {
   "cell_type": "code",
   "execution_count": 67,
   "metadata": {},
   "outputs": [
    {
     "data": {
      "text/html": [
       "<div>\n",
       "<style scoped>\n",
       "    .dataframe tbody tr th:only-of-type {\n",
       "        vertical-align: middle;\n",
       "    }\n",
       "\n",
       "    .dataframe tbody tr th {\n",
       "        vertical-align: top;\n",
       "    }\n",
       "\n",
       "    .dataframe thead th {\n",
       "        text-align: right;\n",
       "    }\n",
       "</style>\n",
       "<table border=\"1\" class=\"dataframe\">\n",
       "  <thead>\n",
       "    <tr style=\"text-align: right;\">\n",
       "      <th></th>\n",
       "      <th>count</th>\n",
       "      <th>unique</th>\n",
       "      <th>null</th>\n",
       "      <th>dtype</th>\n",
       "      <th>count</th>\n",
       "      <th>mean</th>\n",
       "      <th>std</th>\n",
       "      <th>min</th>\n",
       "      <th>25%</th>\n",
       "      <th>50%</th>\n",
       "      <th>75%</th>\n",
       "      <th>max</th>\n",
       "    </tr>\n",
       "  </thead>\n",
       "  <tbody>\n",
       "    <tr>\n",
       "      <th>Name</th>\n",
       "      <td>487</td>\n",
       "      <td>330</td>\n",
       "      <td>0</td>\n",
       "      <td>object</td>\n",
       "      <td>NaN</td>\n",
       "      <td>NaN</td>\n",
       "      <td>NaN</td>\n",
       "      <td>NaN</td>\n",
       "      <td>NaN</td>\n",
       "      <td>NaN</td>\n",
       "      <td>NaN</td>\n",
       "      <td>NaN</td>\n",
       "    </tr>\n",
       "    <tr>\n",
       "      <th>Test Date</th>\n",
       "      <td>487</td>\n",
       "      <td>217</td>\n",
       "      <td>0</td>\n",
       "      <td>object</td>\n",
       "      <td>NaN</td>\n",
       "      <td>NaN</td>\n",
       "      <td>NaN</td>\n",
       "      <td>NaN</td>\n",
       "      <td>NaN</td>\n",
       "      <td>NaN</td>\n",
       "      <td>NaN</td>\n",
       "      <td>NaN</td>\n",
       "    </tr>\n",
       "    <tr>\n",
       "      <th>Symptoms_1</th>\n",
       "      <td>487</td>\n",
       "      <td>2</td>\n",
       "      <td>0</td>\n",
       "      <td>object</td>\n",
       "      <td>NaN</td>\n",
       "      <td>NaN</td>\n",
       "      <td>NaN</td>\n",
       "      <td>NaN</td>\n",
       "      <td>NaN</td>\n",
       "      <td>NaN</td>\n",
       "      <td>NaN</td>\n",
       "      <td>NaN</td>\n",
       "    </tr>\n",
       "    <tr>\n",
       "      <th>Symptoms_2</th>\n",
       "      <td>487</td>\n",
       "      <td>2</td>\n",
       "      <td>0</td>\n",
       "      <td>object</td>\n",
       "      <td>NaN</td>\n",
       "      <td>NaN</td>\n",
       "      <td>NaN</td>\n",
       "      <td>NaN</td>\n",
       "      <td>NaN</td>\n",
       "      <td>NaN</td>\n",
       "      <td>NaN</td>\n",
       "      <td>NaN</td>\n",
       "    </tr>\n",
       "    <tr>\n",
       "      <th>Symptoms_3</th>\n",
       "      <td>487</td>\n",
       "      <td>2</td>\n",
       "      <td>0</td>\n",
       "      <td>object</td>\n",
       "      <td>NaN</td>\n",
       "      <td>NaN</td>\n",
       "      <td>NaN</td>\n",
       "      <td>NaN</td>\n",
       "      <td>NaN</td>\n",
       "      <td>NaN</td>\n",
       "      <td>NaN</td>\n",
       "      <td>NaN</td>\n",
       "    </tr>\n",
       "    <tr>\n",
       "      <th>Country Name</th>\n",
       "      <td>487</td>\n",
       "      <td>99</td>\n",
       "      <td>0</td>\n",
       "      <td>object</td>\n",
       "      <td>NaN</td>\n",
       "      <td>NaN</td>\n",
       "      <td>NaN</td>\n",
       "      <td>NaN</td>\n",
       "      <td>NaN</td>\n",
       "      <td>NaN</td>\n",
       "      <td>NaN</td>\n",
       "      <td>NaN</td>\n",
       "    </tr>\n",
       "    <tr>\n",
       "      <th>Fever since</th>\n",
       "      <td>487</td>\n",
       "      <td>5</td>\n",
       "      <td>0</td>\n",
       "      <td>int64</td>\n",
       "      <td>487.0</td>\n",
       "      <td>6.069815</td>\n",
       "      <td>1.434170</td>\n",
       "      <td>4.0</td>\n",
       "      <td>5.0</td>\n",
       "      <td>6.0</td>\n",
       "      <td>7.0</td>\n",
       "      <td>8.0</td>\n",
       "    </tr>\n",
       "    <tr>\n",
       "      <th>Headche</th>\n",
       "      <td>487</td>\n",
       "      <td>4</td>\n",
       "      <td>0</td>\n",
       "      <td>int64</td>\n",
       "      <td>487.0</td>\n",
       "      <td>3.468172</td>\n",
       "      <td>1.110423</td>\n",
       "      <td>2.0</td>\n",
       "      <td>2.5</td>\n",
       "      <td>3.0</td>\n",
       "      <td>4.0</td>\n",
       "      <td>5.0</td>\n",
       "    </tr>\n",
       "    <tr>\n",
       "      <th>Covid_yes_no</th>\n",
       "      <td>487</td>\n",
       "      <td>2</td>\n",
       "      <td>0</td>\n",
       "      <td>int64</td>\n",
       "      <td>487.0</td>\n",
       "      <td>0.455852</td>\n",
       "      <td>0.498559</td>\n",
       "      <td>0.0</td>\n",
       "      <td>0.0</td>\n",
       "      <td>0.0</td>\n",
       "      <td>1.0</td>\n",
       "      <td>1.0</td>\n",
       "    </tr>\n",
       "    <tr>\n",
       "      <th>duration</th>\n",
       "      <td>487</td>\n",
       "      <td>8</td>\n",
       "      <td>0</td>\n",
       "      <td>int64</td>\n",
       "      <td>487.0</td>\n",
       "      <td>9.537988</td>\n",
       "      <td>1.816164</td>\n",
       "      <td>6.0</td>\n",
       "      <td>8.0</td>\n",
       "      <td>10.0</td>\n",
       "      <td>11.0</td>\n",
       "      <td>13.0</td>\n",
       "    </tr>\n",
       "  </tbody>\n",
       "</table>\n",
       "</div>"
      ],
      "text/plain": [
       "              count  unique  null   dtype  count      mean       std  min  \\\n",
       "Name            487     330     0  object    NaN       NaN       NaN  NaN   \n",
       "Test Date       487     217     0  object    NaN       NaN       NaN  NaN   \n",
       "Symptoms_1      487       2     0  object    NaN       NaN       NaN  NaN   \n",
       "Symptoms_2      487       2     0  object    NaN       NaN       NaN  NaN   \n",
       "Symptoms_3      487       2     0  object    NaN       NaN       NaN  NaN   \n",
       "Country Name    487      99     0  object    NaN       NaN       NaN  NaN   \n",
       "Fever since     487       5     0   int64  487.0  6.069815  1.434170  4.0   \n",
       "Headche         487       4     0   int64  487.0  3.468172  1.110423  2.0   \n",
       "Covid_yes_no    487       2     0   int64  487.0  0.455852  0.498559  0.0   \n",
       "duration        487       8     0   int64  487.0  9.537988  1.816164  6.0   \n",
       "\n",
       "              25%   50%   75%   max  \n",
       "Name          NaN   NaN   NaN   NaN  \n",
       "Test Date     NaN   NaN   NaN   NaN  \n",
       "Symptoms_1    NaN   NaN   NaN   NaN  \n",
       "Symptoms_2    NaN   NaN   NaN   NaN  \n",
       "Symptoms_3    NaN   NaN   NaN   NaN  \n",
       "Country Name  NaN   NaN   NaN   NaN  \n",
       "Fever since   5.0   6.0   7.0   8.0  \n",
       "Headche       2.5   3.0   4.0   5.0  \n",
       "Covid_yes_no  0.0   0.0   1.0   1.0  \n",
       "duration      8.0  10.0  11.0  13.0  "
      ]
     },
     "execution_count": 67,
     "metadata": {},
     "output_type": "execute_result"
    }
   ],
   "source": [
    "desc=pd.DataFrame(index=list(train_df))\n",
    "desc['count']=train_df.shape[0]\n",
    "desc['unique']=train_df.nunique()\n",
    "desc['null']=train_df.isnull().sum()\n",
    "desc['dtype']=train_df.dtypes\n",
    "desc = pd.concat([desc,train_df.describe().T],axis=1)\n",
    "desc"
   ]
  },
  {
   "cell_type": "code",
   "execution_count": 68,
   "metadata": {},
   "outputs": [
    {
     "data": {
      "text/html": [
       "<div>\n",
       "<style scoped>\n",
       "    .dataframe tbody tr th:only-of-type {\n",
       "        vertical-align: middle;\n",
       "    }\n",
       "\n",
       "    .dataframe tbody tr th {\n",
       "        vertical-align: top;\n",
       "    }\n",
       "\n",
       "    .dataframe thead th {\n",
       "        text-align: right;\n",
       "    }\n",
       "</style>\n",
       "<table border=\"1\" class=\"dataframe\">\n",
       "  <thead>\n",
       "    <tr style=\"text-align: right;\">\n",
       "      <th></th>\n",
       "      <th>count</th>\n",
       "      <th>unique</th>\n",
       "      <th>null</th>\n",
       "      <th>dtype</th>\n",
       "      <th>count</th>\n",
       "      <th>mean</th>\n",
       "      <th>std</th>\n",
       "      <th>min</th>\n",
       "      <th>25%</th>\n",
       "      <th>50%</th>\n",
       "      <th>75%</th>\n",
       "      <th>max</th>\n",
       "    </tr>\n",
       "  </thead>\n",
       "  <tbody>\n",
       "    <tr>\n",
       "      <th>Name</th>\n",
       "      <td>54</td>\n",
       "      <td>50</td>\n",
       "      <td>0</td>\n",
       "      <td>object</td>\n",
       "      <td>NaN</td>\n",
       "      <td>NaN</td>\n",
       "      <td>NaN</td>\n",
       "      <td>NaN</td>\n",
       "      <td>NaN</td>\n",
       "      <td>NaN</td>\n",
       "      <td>NaN</td>\n",
       "      <td>NaN</td>\n",
       "    </tr>\n",
       "    <tr>\n",
       "      <th>Test Date</th>\n",
       "      <td>54</td>\n",
       "      <td>50</td>\n",
       "      <td>0</td>\n",
       "      <td>object</td>\n",
       "      <td>NaN</td>\n",
       "      <td>NaN</td>\n",
       "      <td>NaN</td>\n",
       "      <td>NaN</td>\n",
       "      <td>NaN</td>\n",
       "      <td>NaN</td>\n",
       "      <td>NaN</td>\n",
       "      <td>NaN</td>\n",
       "    </tr>\n",
       "    <tr>\n",
       "      <th>Symptoms_1</th>\n",
       "      <td>54</td>\n",
       "      <td>2</td>\n",
       "      <td>0</td>\n",
       "      <td>object</td>\n",
       "      <td>NaN</td>\n",
       "      <td>NaN</td>\n",
       "      <td>NaN</td>\n",
       "      <td>NaN</td>\n",
       "      <td>NaN</td>\n",
       "      <td>NaN</td>\n",
       "      <td>NaN</td>\n",
       "      <td>NaN</td>\n",
       "    </tr>\n",
       "    <tr>\n",
       "      <th>Symptoms_2</th>\n",
       "      <td>54</td>\n",
       "      <td>2</td>\n",
       "      <td>0</td>\n",
       "      <td>object</td>\n",
       "      <td>NaN</td>\n",
       "      <td>NaN</td>\n",
       "      <td>NaN</td>\n",
       "      <td>NaN</td>\n",
       "      <td>NaN</td>\n",
       "      <td>NaN</td>\n",
       "      <td>NaN</td>\n",
       "      <td>NaN</td>\n",
       "    </tr>\n",
       "    <tr>\n",
       "      <th>Symptoms_3</th>\n",
       "      <td>54</td>\n",
       "      <td>2</td>\n",
       "      <td>0</td>\n",
       "      <td>object</td>\n",
       "      <td>NaN</td>\n",
       "      <td>NaN</td>\n",
       "      <td>NaN</td>\n",
       "      <td>NaN</td>\n",
       "      <td>NaN</td>\n",
       "      <td>NaN</td>\n",
       "      <td>NaN</td>\n",
       "      <td>NaN</td>\n",
       "    </tr>\n",
       "    <tr>\n",
       "      <th>Country Name</th>\n",
       "      <td>54</td>\n",
       "      <td>42</td>\n",
       "      <td>0</td>\n",
       "      <td>object</td>\n",
       "      <td>NaN</td>\n",
       "      <td>NaN</td>\n",
       "      <td>NaN</td>\n",
       "      <td>NaN</td>\n",
       "      <td>NaN</td>\n",
       "      <td>NaN</td>\n",
       "      <td>NaN</td>\n",
       "      <td>NaN</td>\n",
       "    </tr>\n",
       "    <tr>\n",
       "      <th>Fever since</th>\n",
       "      <td>54</td>\n",
       "      <td>5</td>\n",
       "      <td>0</td>\n",
       "      <td>int64</td>\n",
       "      <td>54.0</td>\n",
       "      <td>5.981481</td>\n",
       "      <td>1.460043</td>\n",
       "      <td>4.0</td>\n",
       "      <td>5.0</td>\n",
       "      <td>6.0</td>\n",
       "      <td>7.0</td>\n",
       "      <td>8.0</td>\n",
       "    </tr>\n",
       "    <tr>\n",
       "      <th>Headche</th>\n",
       "      <td>54</td>\n",
       "      <td>4</td>\n",
       "      <td>0</td>\n",
       "      <td>int64</td>\n",
       "      <td>54.0</td>\n",
       "      <td>3.277778</td>\n",
       "      <td>1.122945</td>\n",
       "      <td>2.0</td>\n",
       "      <td>2.0</td>\n",
       "      <td>3.0</td>\n",
       "      <td>4.0</td>\n",
       "      <td>5.0</td>\n",
       "    </tr>\n",
       "    <tr>\n",
       "      <th>Covid_yes_no</th>\n",
       "      <td>54</td>\n",
       "      <td>2</td>\n",
       "      <td>0</td>\n",
       "      <td>int64</td>\n",
       "      <td>54.0</td>\n",
       "      <td>0.462963</td>\n",
       "      <td>0.503308</td>\n",
       "      <td>0.0</td>\n",
       "      <td>0.0</td>\n",
       "      <td>0.0</td>\n",
       "      <td>1.0</td>\n",
       "      <td>1.0</td>\n",
       "    </tr>\n",
       "    <tr>\n",
       "      <th>duration</th>\n",
       "      <td>54</td>\n",
       "      <td>7</td>\n",
       "      <td>0</td>\n",
       "      <td>int64</td>\n",
       "      <td>54.0</td>\n",
       "      <td>9.259259</td>\n",
       "      <td>1.717668</td>\n",
       "      <td>6.0</td>\n",
       "      <td>8.0</td>\n",
       "      <td>9.0</td>\n",
       "      <td>10.0</td>\n",
       "      <td>12.0</td>\n",
       "    </tr>\n",
       "  </tbody>\n",
       "</table>\n",
       "</div>"
      ],
      "text/plain": [
       "              count  unique  null   dtype  count      mean       std  min  \\\n",
       "Name             54      50     0  object    NaN       NaN       NaN  NaN   \n",
       "Test Date        54      50     0  object    NaN       NaN       NaN  NaN   \n",
       "Symptoms_1       54       2     0  object    NaN       NaN       NaN  NaN   \n",
       "Symptoms_2       54       2     0  object    NaN       NaN       NaN  NaN   \n",
       "Symptoms_3       54       2     0  object    NaN       NaN       NaN  NaN   \n",
       "Country Name     54      42     0  object    NaN       NaN       NaN  NaN   \n",
       "Fever since      54       5     0   int64   54.0  5.981481  1.460043  4.0   \n",
       "Headche          54       4     0   int64   54.0  3.277778  1.122945  2.0   \n",
       "Covid_yes_no     54       2     0   int64   54.0  0.462963  0.503308  0.0   \n",
       "duration         54       7     0   int64   54.0  9.259259  1.717668  6.0   \n",
       "\n",
       "              25%  50%   75%   max  \n",
       "Name          NaN  NaN   NaN   NaN  \n",
       "Test Date     NaN  NaN   NaN   NaN  \n",
       "Symptoms_1    NaN  NaN   NaN   NaN  \n",
       "Symptoms_2    NaN  NaN   NaN   NaN  \n",
       "Symptoms_3    NaN  NaN   NaN   NaN  \n",
       "Country Name  NaN  NaN   NaN   NaN  \n",
       "Fever since   5.0  6.0   7.0   8.0  \n",
       "Headche       2.0  3.0   4.0   5.0  \n",
       "Covid_yes_no  0.0  0.0   1.0   1.0  \n",
       "duration      8.0  9.0  10.0  12.0  "
      ]
     },
     "execution_count": 68,
     "metadata": {},
     "output_type": "execute_result"
    }
   ],
   "source": [
    "desct=pd.DataFrame(index=list(test_df))\n",
    "desct['count']=test_df.shape[0]\n",
    "desct['unique']=test_df.nunique()\n",
    "desct['null']=test_df.isnull().sum()\n",
    "desct['dtype']=test_df.dtypes\n",
    "desct = pd.concat([desct,test_df.describe().T],axis=1)\n",
    "desct"
   ]
  },
  {
   "cell_type": "code",
   "execution_count": 69,
   "metadata": {},
   "outputs": [
    {
     "name": "stderr",
     "output_type": "stream",
     "text": [
      "C:\\Users\\farzi\\AppData\\Local\\Temp\\ipykernel_17112\\2900008985.py:1: FutureWarning: The default value of numeric_only in DataFrame.corr is deprecated. In a future version, it will default to False. Select only valid columns or specify the value of numeric_only to silence this warning.\n",
      "  cor_mat = train_df.corr()\n"
     ]
    }
   ],
   "source": [
    "cor_mat = train_df.corr()"
   ]
  },
  {
   "cell_type": "code",
   "execution_count": 70,
   "metadata": {},
   "outputs": [
    {
     "data": {
      "text/plain": [
       "<Axes: >"
      ]
     },
     "execution_count": 70,
     "metadata": {},
     "output_type": "execute_result"
    },
    {
     "data": {
      "image/png": "[encoded data removed]",
      "text/plain": [
       "<Figure size 640x480 with 2 Axes>"
      ]
     },
     "metadata": {},
     "output_type": "display_data"
    }
   ],
   "source": [
    "sns.heatmap(cor_mat,annot=True,cmap='Blues')\n"
   ]
  },
  {
   "cell_type": "code",
   "execution_count": 72,
   "metadata": {},
   "outputs": [
    {
     "data": {
      "text/plain": [
       "<Axes: >"
      ]
     },
     "execution_count": 72,
     "metadata": {},
     "output_type": "execute_result"
    },
    {
     "data": {
      "image/png": "[encoded data removed]",
      "text/plain": [
       "<Figure size 640x480 with 1 Axes>"
      ]
     },
     "metadata": {},
     "output_type": "display_data"
    }
   ],
   "source": [
    "sns.boxplot(train_df['duration'])"
   ]
  },
  {
   "cell_type": "code",
   "execution_count": 76,
   "metadata": {},
   "outputs": [
    {
     "name": "stdout",
     "output_type": "stream",
     "text": [
      "Outliers in Fever since :\n",
      "Empty DataFrame\n",
      "Columns: [Name , Test Date, Symptoms_1, Symptoms_2, Symptoms_3, Country Name, Fever since , Headche , Covid_yes_no, duration]\n",
      "Index: []\n"
     ]
    },
    {
     "data": {
      "image/png": "[encoded data removed]",
      "text/plain": [
       "<Figure size 800x500 with 1 Axes>"
      ]
     },
     "metadata": {},
     "output_type": "display_data"
    },
    {
     "name": "stdout",
     "output_type": "stream",
     "text": [
      "Outliers in Headche :\n",
      "Empty DataFrame\n",
      "Columns: [Name , Test Date, Symptoms_1, Symptoms_2, Symptoms_3, Country Name, Fever since , Headche , Covid_yes_no, duration]\n",
      "Index: []\n"
     ]
    },
    {
     "data": {
      "image/png": "[encoded data removed]",
      "text/plain": [
       "<Figure size 800x500 with 1 Axes>"
      ]
     },
     "metadata": {},
     "output_type": "display_data"
    },
    {
     "name": "stdout",
     "output_type": "stream",
     "text": [
      "Outliers in Covid_yes_no:\n",
      "Empty DataFrame\n",
      "Columns: [Name , Test Date, Symptoms_1, Symptoms_2, Symptoms_3, Country Name, Fever since , Headche , Covid_yes_no, duration]\n",
      "Index: []\n"
     ]
    },
    {
     "data": {
      "image/png": "[encoded data removed]",
      "text/plain": [
       "<Figure size 800x500 with 1 Axes>"
      ]
     },
     "metadata": {},
     "output_type": "display_data"
    },
    {
     "name": "stdout",
     "output_type": "stream",
     "text": [
      "Outliers in duration:\n",
      "Empty DataFrame\n",
      "Columns: [Name , Test Date, Symptoms_1, Symptoms_2, Symptoms_3, Country Name, Fever since , Headche , Covid_yes_no, duration]\n",
      "Index: []\n"
     ]
    },
    {
     "data": {
      "image/png": "[encoded data removed]",
      "text/plain": [
       "<Figure size 800x500 with 1 Axes>"
      ]
     },
     "metadata": {},
     "output_type": "display_data"
    }
   ],
   "source": [
    "import pandas as pd\n",
    "import matplotlib.pyplot as plt\n",
    "\n",
    "# Assuming you have your data in a DataFrame called 'train_df'\n",
    "\n",
    "# List of numerical columns to analyze for outliers\n",
    "numerical_columns = ['Fever since ', 'Headche ', 'Covid_yes_no', 'duration']\n",
    "\n",
    "# Loop through each numerical column\n",
    "for col in numerical_columns:\n",
    "    # Calculate quartiles and IQR\n",
    "    Q1 = train_df[col].quantile(0.25)\n",
    "    Q3 = train_df[col].quantile(0.75)\n",
    "    IQR = Q3 - Q1\n",
    "    \n",
    "    # Define the lower and upper bounds for identifying outliers\n",
    "    lower_bound = Q1 - 1.5 * IQR\n",
    "    upper_bound = Q3 + 1.5 * IQR\n",
    "    \n",
    "    # Identify outliers\n",
    "    outliers = train_df[(train_df[col] < lower_bound) | (train_df[col] > upper_bound)]\n",
    "    \n",
    "    # Print or visualize outliers\n",
    "    print(f\"Outliers in {col}:\")\n",
    "    print(outliers)\n",
    "    \n",
    "    # Create a box plot with outliers highlighted\n",
    "    plt.figure(figsize=(8, 5))\n",
    "    plt.boxplot(train_df[col])\n",
    "    plt.title(f\"Box Plot of {col} (with Outliers)\")\n",
    "    plt.show()\n"
   ]
  },
  {
   "cell_type": "code",
   "execution_count": 80,
   "metadata": {},
   "outputs": [],
   "source": [
    "#remove outliers\n",
    "for col in numerical_columns:\n",
    "    train_df = outliers = train_df[(train_df[col] > lower_bound) | (train_df[col] < upper_bound)]"
   ]
  },
  {
   "cell_type": "code",
   "execution_count": 81,
   "metadata": {},
   "outputs": [
    {
     "data": {
      "text/plain": [
       "487"
      ]
     },
     "execution_count": 81,
     "metadata": {},
     "output_type": "execute_result"
    }
   ],
   "source": [
    "train_df.shape[0]"
   ]
  },
  {
   "cell_type": "markdown",
   "metadata": {},
   "source": [
    "- zero outliers"
   ]
  },
  {
   "cell_type": "code",
   "execution_count": 83,
   "metadata": {},
   "outputs": [],
   "source": [
    "numerical_columns = ['Fever since ', 'Headche ', 'duration']\n",
    "category_columns = ['Symptoms_1', 'Symptoms_2', 'Symptoms_3']"
   ]
  },
  {
   "cell_type": "code",
   "execution_count": 84,
   "metadata": {},
   "outputs": [],
   "source": [
    "scaler = StandardScaler()\n",
    "train_df[numerical_columns]=scaler.fit_transform(train_df[numerical_columns])\n",
    "test_df[numerical_columns]=scaler.transform(test_df[numerical_columns])"
   ]
  },
  {
   "cell_type": "code",
   "execution_count": 85,
   "metadata": {},
   "outputs": [],
   "source": [
    "train_df = pd.get_dummies(train_df,columns=category_columns,drop_first=True)\n",
    "test_df = pd.get_dummies(test_df,columns=category_columns,drop_first=True)"
   ]
  },
  {
   "cell_type": "code",
   "execution_count": 86,
   "metadata": {},
   "outputs": [
    {
     "data": {
      "text/html": [
       "<div>\n",
       "<style scoped>\n",
       "    .dataframe tbody tr th:only-of-type {\n",
       "        vertical-align: middle;\n",
       "    }\n",
       "\n",
       "    .dataframe tbody tr th {\n",
       "        vertical-align: top;\n",
       "    }\n",
       "\n",
       "    .dataframe thead th {\n",
       "        text-align: right;\n",
       "    }\n",
       "</style>\n",
       "<table border=\"1\" class=\"dataframe\">\n",
       "  <thead>\n",
       "    <tr style=\"text-align: right;\">\n",
       "      <th></th>\n",
       "      <th>Name</th>\n",
       "      <th>Test Date</th>\n",
       "      <th>Country Name</th>\n",
       "      <th>Fever since</th>\n",
       "      <th>Headche</th>\n",
       "      <th>Covid_yes_no</th>\n",
       "      <th>duration</th>\n",
       "      <th>Symptoms_1_Headache</th>\n",
       "      <th>Symptoms_2_Headache</th>\n",
       "      <th>Symptoms_3_Fever</th>\n",
       "    </tr>\n",
       "  </thead>\n",
       "  <tbody>\n",
       "    <tr>\n",
       "      <th>0</th>\n",
       "      <td>shivani</td>\n",
       "      <td>24/3/2020</td>\n",
       "      <td>Iran</td>\n",
       "      <td>-1.444698</td>\n",
       "      <td>-1.323534</td>\n",
       "      <td>0</td>\n",
       "      <td>-1.950058</td>\n",
       "      <td>0</td>\n",
       "      <td>1</td>\n",
       "      <td>1</td>\n",
       "    </tr>\n",
       "    <tr>\n",
       "      <th>1</th>\n",
       "      <td>isha</td>\n",
       "      <td>25/3/2020</td>\n",
       "      <td>Mauritius</td>\n",
       "      <td>0.649254</td>\n",
       "      <td>0.479434</td>\n",
       "      <td>1</td>\n",
       "      <td>0.805828</td>\n",
       "      <td>0</td>\n",
       "      <td>1</td>\n",
       "      <td>1</td>\n",
       "    </tr>\n",
       "    <tr>\n",
       "      <th>2</th>\n",
       "      <td>smt shyani devi</td>\n",
       "      <td>26/3/2020</td>\n",
       "      <td>Mozambique</td>\n",
       "      <td>-0.048730</td>\n",
       "      <td>0.479434</td>\n",
       "      <td>1</td>\n",
       "      <td>0.254651</td>\n",
       "      <td>0</td>\n",
       "      <td>1</td>\n",
       "      <td>1</td>\n",
       "    </tr>\n",
       "    <tr>\n",
       "      <th>3</th>\n",
       "      <td>divya</td>\n",
       "      <td>27/3/2020</td>\n",
       "      <td>Cameroon</td>\n",
       "      <td>-0.746714</td>\n",
       "      <td>-1.323534</td>\n",
       "      <td>0</td>\n",
       "      <td>-1.398881</td>\n",
       "      <td>0</td>\n",
       "      <td>1</td>\n",
       "      <td>1</td>\n",
       "    </tr>\n",
       "    <tr>\n",
       "      <th>4</th>\n",
       "      <td>mansi</td>\n",
       "      <td>28/3/2020</td>\n",
       "      <td>South Sudan</td>\n",
       "      <td>-0.048730</td>\n",
       "      <td>-0.422050</td>\n",
       "      <td>1</td>\n",
       "      <td>-0.296527</td>\n",
       "      <td>0</td>\n",
       "      <td>1</td>\n",
       "      <td>1</td>\n",
       "    </tr>\n",
       "    <tr>\n",
       "      <th>...</th>\n",
       "      <td>...</td>\n",
       "      <td>...</td>\n",
       "      <td>...</td>\n",
       "      <td>...</td>\n",
       "      <td>...</td>\n",
       "      <td>...</td>\n",
       "      <td>...</td>\n",
       "      <td>...</td>\n",
       "      <td>...</td>\n",
       "      <td>...</td>\n",
       "    </tr>\n",
       "    <tr>\n",
       "      <th>482</th>\n",
       "      <td>smt ladidavi</td>\n",
       "      <td>4/7/2020</td>\n",
       "      <td>Kiribati</td>\n",
       "      <td>1.347239</td>\n",
       "      <td>0.479434</td>\n",
       "      <td>1</td>\n",
       "      <td>1.357005</td>\n",
       "      <td>1</td>\n",
       "      <td>0</td>\n",
       "      <td>0</td>\n",
       "    </tr>\n",
       "    <tr>\n",
       "      <th>483</th>\n",
       "      <td>khushbu</td>\n",
       "      <td>5/7/2020</td>\n",
       "      <td>Malaysia</td>\n",
       "      <td>0.649254</td>\n",
       "      <td>-0.422050</td>\n",
       "      <td>0</td>\n",
       "      <td>0.254651</td>\n",
       "      <td>1</td>\n",
       "      <td>0</td>\n",
       "      <td>0</td>\n",
       "    </tr>\n",
       "    <tr>\n",
       "      <th>484</th>\n",
       "      <td>sunaina</td>\n",
       "      <td>6/7/2020</td>\n",
       "      <td>Israel</td>\n",
       "      <td>1.347239</td>\n",
       "      <td>1.380918</td>\n",
       "      <td>1</td>\n",
       "      <td>1.908183</td>\n",
       "      <td>1</td>\n",
       "      <td>0</td>\n",
       "      <td>0</td>\n",
       "    </tr>\n",
       "    <tr>\n",
       "      <th>485</th>\n",
       "      <td>gulista</td>\n",
       "      <td>7/7/2020</td>\n",
       "      <td>Gibraltar</td>\n",
       "      <td>-0.746714</td>\n",
       "      <td>1.380918</td>\n",
       "      <td>0</td>\n",
       "      <td>0.254651</td>\n",
       "      <td>1</td>\n",
       "      <td>0</td>\n",
       "      <td>0</td>\n",
       "    </tr>\n",
       "    <tr>\n",
       "      <th>486</th>\n",
       "      <td>kumari deepa</td>\n",
       "      <td>8/7/2020</td>\n",
       "      <td>Sri Lanka</td>\n",
       "      <td>-1.444698</td>\n",
       "      <td>-1.323534</td>\n",
       "      <td>0</td>\n",
       "      <td>-1.950058</td>\n",
       "      <td>1</td>\n",
       "      <td>0</td>\n",
       "      <td>0</td>\n",
       "    </tr>\n",
       "  </tbody>\n",
       "</table>\n",
       "<p>487 rows × 10 columns</p>\n",
       "</div>"
      ],
      "text/plain": [
       "               Name   Test Date Country Name  Fever since   Headche   \\\n",
       "0            shivani  24/3/2020         Iran     -1.444698 -1.323534   \n",
       "1               isha  25/3/2020    Mauritius      0.649254  0.479434   \n",
       "2    smt shyani devi  26/3/2020   Mozambique     -0.048730  0.479434   \n",
       "3              divya  27/3/2020     Cameroon     -0.746714 -1.323534   \n",
       "4              mansi  28/3/2020  South Sudan     -0.048730 -0.422050   \n",
       "..               ...        ...          ...           ...       ...   \n",
       "482     smt ladidavi   4/7/2020     Kiribati      1.347239  0.479434   \n",
       "483          khushbu   5/7/2020     Malaysia      0.649254 -0.422050   \n",
       "484          sunaina   6/7/2020       Israel      1.347239  1.380918   \n",
       "485          gulista   7/7/2020    Gibraltar     -0.746714  1.380918   \n",
       "486     kumari deepa   8/7/2020    Sri Lanka     -1.444698 -1.323534   \n",
       "\n",
       "     Covid_yes_no  duration  Symptoms_1_Headache  Symptoms_2_Headache  \\\n",
       "0               0 -1.950058                    0                    1   \n",
       "1               1  0.805828                    0                    1   \n",
       "2               1  0.254651                    0                    1   \n",
       "3               0 -1.398881                    0                    1   \n",
       "4               1 -0.296527                    0                    1   \n",
       "..            ...       ...                  ...                  ...   \n",
       "482             1  1.357005                    1                    0   \n",
       "483             0  0.254651                    1                    0   \n",
       "484             1  1.908183                    1                    0   \n",
       "485             0  0.254651                    1                    0   \n",
       "486             0 -1.950058                    1                    0   \n",
       "\n",
       "     Symptoms_3_Fever  \n",
       "0                   1  \n",
       "1                   1  \n",
       "2                   1  \n",
       "3                   1  \n",
       "4                   1  \n",
       "..                ...  \n",
       "482                 0  \n",
       "483                 0  \n",
       "484                 0  \n",
       "485                 0  \n",
       "486                 0  \n",
       "\n",
       "[487 rows x 10 columns]"
      ]
     },
     "execution_count": 86,
     "metadata": {},
     "output_type": "execute_result"
    }
   ],
   "source": [
    "train_df"
   ]
  },
  {
   "cell_type": "code",
   "execution_count": 90,
   "metadata": {},
   "outputs": [],
   "source": [
    "x_train = train_df.drop(['Covid_yes_no','Name ','Test Date','Country Name'],axis=1)\n",
    "y_train = train_df['Covid_yes_no']\n",
    "x_test = test_df.drop(['Covid_yes_no','Name ','Test Date','Country Name'],axis=1)\n",
    "y_test = test_df['Covid_yes_no']"
   ]
  },
  {
   "cell_type": "code",
   "execution_count": 91,
   "metadata": {},
   "outputs": [
    {
     "data": {
      "text/html": [
       "<style>#sk-container-id-1 {color: black;}#sk-container-id-1 pre{padding: 0;}#sk-container-id-1 div.sk-toggleable {background-color: white;}#sk-container-id-1 label.sk-toggleable__label {cursor: pointer;display: block;width: 100%;margin-bottom: 0;padding: 0.3em;box-sizing: border-box;text-align: center;}#sk-container-id-1 label.sk-toggleable__label-arrow:before {content: \"▸\";float: left;margin-right: 0.25em;color: #696969;}#sk-container-id-1 label.sk-toggleable__label-arrow:hover:before {color: black;}#sk-container-id-1 div.sk-estimator:hover label.sk-toggleable__label-arrow:before {color: black;}#sk-container-id-1 div.sk-toggleable__content {max-height: 0;max-width: 0;overflow: hidden;text-align: left;background-color: #f0f8ff;}#sk-container-id-1 div.sk-toggleable__content pre {margin: 0.2em;color: black;border-radius: 0.25em;background-color: #f0f8ff;}#sk-container-id-1 input.sk-toggleable__control:checked~div.sk-toggleable__content {max-height: 200px;max-width: 100%;overflow: auto;}#sk-container-id-1 input.sk-toggleable__control:checked~label.sk-toggleable__label-arrow:before {content: \"▾\";}#sk-container-id-1 div.sk-estimator input.sk-toggleable__control:checked~label.sk-toggleable__label {background-color: #d4ebff;}#sk-container-id-1 div.sk-label input.sk-toggleable__control:checked~label.sk-toggleable__label {background-color: #d4ebff;}#sk-container-id-1 input.sk-hidden--visually {border: 0;clip: rect(1px 1px 1px 1px);clip: rect(1px, 1px, 1px, 1px);height: 1px;margin: -1px;overflow: hidden;padding: 0;position: absolute;width: 1px;}#sk-container-id-1 div.sk-estimator {font-family: monospace;background-color: #f0f8ff;border: 1px dotted black;border-radius: 0.25em;box-sizing: border-box;margin-bottom: 0.5em;}#sk-container-id-1 div.sk-estimator:hover {background-color: #d4ebff;}#sk-container-id-1 div.sk-parallel-item::after {content: \"\";width: 100%;border-bottom: 1px solid gray;flex-grow: 1;}#sk-container-id-1 div.sk-label:hover label.sk-toggleable__label {background-color: #d4ebff;}#sk-container-id-1 div.sk-serial::before {content: \"\";position: absolute;border-left: 1px solid gray;box-sizing: border-box;top: 0;bottom: 0;left: 50%;z-index: 0;}#sk-container-id-1 div.sk-serial {display: flex;flex-direction: column;align-items: center;background-color: white;padding-right: 0.2em;padding-left: 0.2em;position: relative;}#sk-container-id-1 div.sk-item {position: relative;z-index: 1;}#sk-container-id-1 div.sk-parallel {display: flex;align-items: stretch;justify-content: center;background-color: white;position: relative;}#sk-container-id-1 div.sk-item::before, #sk-container-id-1 div.sk-parallel-item::before {content: \"\";position: absolute;border-left: 1px solid gray;box-sizing: border-box;top: 0;bottom: 0;left: 50%;z-index: -1;}#sk-container-id-1 div.sk-parallel-item {display: flex;flex-direction: column;z-index: 1;position: relative;background-color: white;}#sk-container-id-1 div.sk-parallel-item:first-child::after {align-self: flex-end;width: 50%;}#sk-container-id-1 div.sk-parallel-item:last-child::after {align-self: flex-start;width: 50%;}#sk-container-id-1 div.sk-parallel-item:only-child::after {width: 0;}#sk-container-id-1 div.sk-dashed-wrapped {border: 1px dashed gray;margin: 0 0.4em 0.5em 0.4em;box-sizing: border-box;padding-bottom: 0.4em;background-color: white;}#sk-container-id-1 div.sk-label label {font-family: monospace;font-weight: bold;display: inline-block;line-height: 1.2em;}#sk-container-id-1 div.sk-label-container {text-align: center;}#sk-container-id-1 div.sk-container {/* jupyter's `normalize.less` sets `[hidden] { display: none; }` but bootstrap.min.css set `[hidden] { display: none !important; }` so we also need the `!important` here to be able to override the default hidden behavior on the sphinx rendered scikit-learn.org. See: https://github.com/scikit-learn/scikit-learn/issues/21755 */display: inline-block !important;position: relative;}#sk-container-id-1 div.sk-text-repr-fallback {display: none;}</style><div id=\"sk-container-id-1\" class=\"sk-top-container\"><div class=\"sk-text-repr-fallback\"><pre>LogisticRegression()</pre><b>In a Jupyter environment, please rerun this cell to show the HTML representation or trust the notebook. <br />On GitHub, the HTML representation is unable to render, please try loading this page with nbviewer.org.</b></div><div class=\"sk-container\" hidden><div class=\"sk-item\"><div class=\"sk-estimator sk-toggleable\"><input class=\"sk-toggleable__control sk-hidden--visually\" id=\"sk-estimator-id-1\" type=\"checkbox\" checked><label for=\"sk-estimator-id-1\" class=\"sk-toggleable__label sk-toggleable__label-arrow\">LogisticRegression</label><div class=\"sk-toggleable__content\"><pre>LogisticRegression()</pre></div></div></div></div></div>"
      ],
      "text/plain": [
       "LogisticRegression()"
      ]
     },
     "execution_count": 91,
     "metadata": {},
     "output_type": "execute_result"
    }
   ],
   "source": [
    "model = LogisticRegression()\n",
    "model.fit(x_train,y_train)"
   ]
  },
  {
   "cell_type": "code",
   "execution_count": 92,
   "metadata": {},
   "outputs": [
    {
     "data": {
      "text/plain": [
       "array([0, 0, 0, 0, 0, 0, 0, 0, 0, 0, 0, 1, 0, 0, 0, 0, 0, 0, 0, 1, 0, 0,\n",
       "       0, 0, 0, 0, 0, 0, 0, 0, 0, 0, 0, 0, 0, 0, 0, 0, 0, 0, 0, 0, 0, 0,\n",
       "       0, 0, 0, 0, 0, 0, 0, 0, 0, 0], dtype=int64)"
      ]
     },
     "execution_count": 92,
     "metadata": {},
     "output_type": "execute_result"
    }
   ],
   "source": [
    "y_pred  =model.predict(x_test)\n",
    "y_pred"
   ]
  },
  {
   "cell_type": "code",
   "execution_count": 93,
   "metadata": {},
   "outputs": [],
   "source": [
    "cm = confusion_matrix(y_test,y_pred)"
   ]
  },
  {
   "cell_type": "code",
   "execution_count": 94,
   "metadata": {},
   "outputs": [
    {
     "data": {
      "text/plain": [
       "<Axes: >"
      ]
     },
     "execution_count": 94,
     "metadata": {},
     "output_type": "execute_result"
    },
    {
     "data": {
      "image/png": "[encoded data removed]",
      "text/plain": [
       "<Figure size 640x480 with 2 Axes>"
      ]
     },
     "metadata": {},
     "output_type": "display_data"
    }
   ],
   "source": [
    "sns.heatmap(cm,annot=True,cmap='Blues')"
   ]
  },
  {
   "cell_type": "code",
   "execution_count": 95,
   "metadata": {},
   "outputs": [
    {
     "data": {
      "text/plain": [
       "array([[28,  1],\n",
       "       [24,  1]], dtype=int64)"
      ]
     },
     "execution_count": 95,
     "metadata": {},
     "output_type": "execute_result"
    }
   ],
   "source": [
    "cm"
   ]
  },
  {
   "cell_type": "code",
   "execution_count": 97,
   "metadata": {},
   "outputs": [
    {
     "name": "stdout",
     "output_type": "stream",
     "text": [
      "28 1 24 1\n"
     ]
    }
   ],
   "source": [
    "TN=cm[0][0]\n",
    "TP=cm[1][1]\n",
    "FN=cm[1][0]\n",
    "FP=cm[0][1]\n",
    "print(TN,TP,FN,FP)"
   ]
  },
  {
   "cell_type": "code",
   "execution_count": 98,
   "metadata": {},
   "outputs": [
    {
     "data": {
      "text/plain": [
       "0.5"
      ]
     },
     "execution_count": 98,
     "metadata": {},
     "output_type": "execute_result"
    }
   ],
   "source": [
    "precision = precision_score(y_test,y_pred)\n",
    "precision"
   ]
  },
  {
   "cell_type": "code",
   "execution_count": 100,
   "metadata": {},
   "outputs": [
    {
     "data": {
      "text/plain": [
       "0.04"
      ]
     },
     "execution_count": 100,
     "metadata": {},
     "output_type": "execute_result"
    }
   ],
   "source": [
    "recall = recall_score(y_test,y_pred)\n",
    "recall"
   ]
  },
  {
   "cell_type": "code",
   "execution_count": 101,
   "metadata": {},
   "outputs": [
    {
     "name": "stdout",
     "output_type": "stream",
     "text": [
      "              precision    recall  f1-score   support\n",
      "\n",
      "           0       0.54      0.97      0.69        29\n",
      "           1       0.50      0.04      0.07        25\n",
      "\n",
      "    accuracy                           0.54        54\n",
      "   macro avg       0.52      0.50      0.38        54\n",
      "weighted avg       0.52      0.54      0.41        54\n",
      "\n"
     ]
    }
   ],
   "source": [
    "# classification report\n",
    "from sklearn.metrics import classification_report\n",
    "print(classification_report(y_test,y_pred))"
   ]
  },
  {
   "cell_type": "code",
   "execution_count": 102,
   "metadata": {},
   "outputs": [
    {
     "name": "stdout",
     "output_type": "stream",
     "text": [
      "Gini Impurity for the dataset: 0.5000\n"
     ]
    }
   ],
   "source": [
    "# Calculate the proportion of fraudulent and non-fraudulent transactions\n",
    "total_transactions = 6\n",
    "fraudulent_count = 3\n",
    "non_fraudulent_count =3\n",
    "\n",
    "p_fraudulent = fraudulent_count / total_transactions\n",
    "p_non_fraudulent = non_fraudulent_count / total_transactions\n",
    "\n",
    "# Calculate Gini Impurity for the dataset\n",
    "gini_impurity_dataset = 1 - (p_fraudulent ** 2 + p_non_fraudulent ** 2)\n",
    "\n",
    "print(f\"Gini Impurity for the dataset: {gini_impurity_dataset:.4f}\")"
   ]
  },
  {
   "cell_type": "code",
   "execution_count": null,
   "metadata": {},
   "outputs": [],
   "source": []
  }
 ],
 "metadata": {
  "kernelspec": {
   "display_name": "Python 3",
   "language": "python",
   "name": "python3"
  },
  "language_info": {
   "codemirror_mode": {
    "name": "ipython",
    "version": 3
   },
   "file_extension": ".py",
   "mimetype": "text/x-python",
   "name": "python",
   "nbconvert_exporter": "python",
   "pygments_lexer": "ipython3",
   "version": "3.9.13"
  },
  "orig_nbformat": 4
 },
 "nbformat": 4,
 "nbformat_minor": 2
}
