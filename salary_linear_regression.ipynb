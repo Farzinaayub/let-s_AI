{
  "nbformat": 4,
  "nbformat_minor": 0,
  "metadata": {
    "colab": {
      "provenance": [],
      "toc_visible": true,
      "authorship_tag": "ABX9TyNv8scHuCDLLsmAG2rPlFHE"
    },
    "kernelspec": {
      "name": "python3",
      "display_name": "Python 3"
    },
    "language_info": {
      "name": "python"
    }
  },
  "cells": [
    {
      "cell_type": "markdown",
      "source": [
        "# **Linear** **Regression**\n",
        "\n",
        "\n",
        "\n",
        "\n",
        "\n"
      ],
      "metadata": {
        "id": "4fcBdX32Yg1G"
      }
    },
    {
      "cell_type": "markdown",
      "source": [
        "Linear Regression is a machine learning algorithm based on supervised learning. It performs a regression task. Regression models a target prediction value based on independent variables. It is mostly used for finding out the relationship between variables and forecasting."
      ],
      "metadata": {
        "id": "lSNG7CN9ZJsC"
      }
    },
    {
      "cell_type": "markdown",
      "source": [
        "# Libraries"
      ],
      "metadata": {
        "id": "0bPN-ZIjcMDb"
      }
    },
    {
      "cell_type": "code",
      "source": [
        "import pandas as pd\n",
        "import numpy as np\n",
        "import matplotlib.pyplot as plt\n",
        "from sklearn.model_selection import train_test_split\n",
        "from sklearn import linear_model\n",
        "import sklearn.metrics as sm\n",
        "from sklearn.linear_model import LinearRegression"
      ],
      "metadata": {
        "id": "c_NOS7l3bggp"
      },
      "execution_count": 12,
      "outputs": []
    },
    {
      "cell_type": "markdown",
      "source": [
        "# splitting the dataset"
      ],
      "metadata": {
        "id": "ejss9oPMc7qW"
      }
    },
    {
      "cell_type": "code",
      "source": [
        "dataset=pd.read_csv('salary_data.csv')\n",
        "\n",
        "X = dataset['YearsExperience']\n",
        "y = dataset['Salary']\n",
        "X_train, X_test, y_train, y_test = train_test_split(X,y, test_size=0.3, random_state=42)"
      ],
      "metadata": {
        "id": "zak8wii7cKvo"
      },
      "execution_count": 13,
      "outputs": []
    },
    {
      "cell_type": "code",
      "source": [
        "#@markdown **Reshaping the array**\n",
        "X_train = np.array(X_train).reshape((len(X_train),1))\n",
        "y_train = np.array(y_train).reshape((len(y_train),1))\n",
        "\n",
        "X_test = np.array(X_test).reshape(len(X_test), 1)\n",
        "y_test = np.array(y_test).reshape(len(y_test), 1)"
      ],
      "metadata": {
        "id": "0IuwYv6sdEmZ"
      },
      "execution_count": 14,
      "outputs": []
    },
    {
      "cell_type": "code",
      "source": [
        "model = linear_model.LinearRegression()\n",
        "model.fit(X_train, y_train)"
      ],
      "metadata": {
        "colab": {
          "base_uri": "https://localhost:8080/"
        },
        "id": "6PxkMOYHdYUm",
        "outputId": "5c137443-a88f-4abb-d369-ceea6ba916c7"
      },
      "execution_count": 15,
      "outputs": [
        {
          "output_type": "execute_result",
          "data": {
            "text/plain": [
              "LinearRegression()"
            ]
          },
          "metadata": {},
          "execution_count": 15
        }
      ]
    },
    {
      "cell_type": "code",
      "source": [
        "y_train_pred = model.predict(X_train)\n",
        "\n",
        "plt.figure()\n",
        "plt.scatter(X_train, y_train, color='blue', label=\"True Value\")\n",
        "plt.plot(X_train, y_train_pred, color='black', linewidth=2, label=\"Prediction\")\n",
        "plt.xlabel(\"Years of Experiences\")\n",
        "plt.ylabel(\"Salary\")\n",
        "plt.title('Prediction Result of Training Data')\n",
        "plt.legend()\n",
        "plt.show()"
      ],
      "metadata": {
        "colab": {
          "base_uri": "https://localhost:8080/",
          "height": 295
        },
        "id": "801uHm-_dqyt",
        "outputId": "2bb26c8d-97d5-4fd7-d661-c782c08589b3"
      },
      "execution_count": 16,
      "outputs": [
        {
          "output_type": "display_data",
          "data": {
            "text/plain": [
              "<Figure size 432x288 with 1 Axes>"
            ],
            "image/png": "[encoded data removed]"
          },
          "metadata": {
            "needs_background": "light"
          }
        }
      ]
    }
  ]
}